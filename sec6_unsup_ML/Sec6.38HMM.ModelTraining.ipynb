{
 "cells": [
  {
   "cell_type": "markdown",
   "id": "f1db2597-9e28-4891-be37-314c4c23155f",
   "metadata": {},
   "source": [
    "### Imports"
   ]
  },
  {
   "cell_type": "code",
   "execution_count": 1,
   "id": "c1cee09f-1c24-4d3c-a883-8e99caba7ea3",
   "metadata": {},
   "outputs": [
    {
     "name": "stdout",
     "output_type": "stream",
     "text": [
      "Libraries imported successfully\n"
     ]
    }
   ],
   "source": [
    "# Import necessary libraries for data manipulation and visualization\n",
    "import pandas as pd\n",
    "import polars as pl\n",
    "import numpy as np\n",
    "\n",
    "from datetime import datetime\n",
    "\n",
    "from hmmlearn.hmm import GaussianHMM\n",
    "from pandas_datareader.data import DataReader\n",
    "\n",
    "import matplotlib.pyplot as plt\n",
    "\n",
    "# Verify all libraries are imported correctly\n",
    "print(\"Libraries imported successfully\")"
   ]
  },
  {
   "cell_type": "markdown",
   "id": "9fb7088e-86e1-4a04-8547-51ae22b8d291",
   "metadata": {},
   "source": [
    "### Data Management"
   ]
  },
  {
   "cell_type": "code",
   "execution_count": 2,
   "id": "e4fce823-6a92-4e2a-a74e-d41afb3abd10",
   "metadata": {},
   "outputs": [
    {
     "name": "stdout",
     "output_type": "stream",
     "text": [
      "[*********************100%%**********************]  1 of 1 completed\n"
     ]
    }
   ],
   "source": [
    "# Import necessary libraries\n",
    "import yfinance as yf\n",
    "\n",
    "# Set start and end dates for the data extraction\n",
    "start_date = \"2017-01-01\"\n",
    "end_date = \"2022-06-01\"\n",
    "symbol = \"SPY\"\n",
    "\n",
    "# Fetch data using yfinance\n",
    "data = yf.download(symbol, start=start_date, end=end_date)\n"
   ]
  },
  {
   "cell_type": "code",
   "execution_count": 3,
   "id": "15ce1200-69ae-454f-945f-7f3c54fcb126",
   "metadata": {},
   "outputs": [
    {
     "data": {
      "text/html": [
       "<div>\n",
       "<style scoped>\n",
       "    .dataframe tbody tr th:only-of-type {\n",
       "        vertical-align: middle;\n",
       "    }\n",
       "\n",
       "    .dataframe tbody tr th {\n",
       "        vertical-align: top;\n",
       "    }\n",
       "\n",
       "    .dataframe thead th {\n",
       "        text-align: right;\n",
       "    }\n",
       "</style>\n",
       "<table border=\"1\" class=\"dataframe\">\n",
       "  <thead>\n",
       "    <tr style=\"text-align: right;\">\n",
       "      <th></th>\n",
       "      <th>Open</th>\n",
       "      <th>High</th>\n",
       "      <th>Low</th>\n",
       "      <th>Close</th>\n",
       "      <th>Adj Close</th>\n",
       "      <th>Volume</th>\n",
       "    </tr>\n",
       "    <tr>\n",
       "      <th>Date</th>\n",
       "      <th></th>\n",
       "      <th></th>\n",
       "      <th></th>\n",
       "      <th></th>\n",
       "      <th></th>\n",
       "      <th></th>\n",
       "    </tr>\n",
       "  </thead>\n",
       "  <tbody>\n",
       "    <tr>\n",
       "      <th>2017-01-03</th>\n",
       "      <td>225.039993</td>\n",
       "      <td>225.830002</td>\n",
       "      <td>223.880005</td>\n",
       "      <td>225.240005</td>\n",
       "      <td>198.560043</td>\n",
       "      <td>91366500</td>\n",
       "    </tr>\n",
       "    <tr>\n",
       "      <th>2017-01-04</th>\n",
       "      <td>225.619995</td>\n",
       "      <td>226.750000</td>\n",
       "      <td>225.610001</td>\n",
       "      <td>226.580002</td>\n",
       "      <td>199.741318</td>\n",
       "      <td>78744400</td>\n",
       "    </tr>\n",
       "    <tr>\n",
       "      <th>2017-01-05</th>\n",
       "      <td>226.270004</td>\n",
       "      <td>226.580002</td>\n",
       "      <td>225.479996</td>\n",
       "      <td>226.399994</td>\n",
       "      <td>199.582642</td>\n",
       "      <td>78379000</td>\n",
       "    </tr>\n",
       "    <tr>\n",
       "      <th>2017-01-06</th>\n",
       "      <td>226.529999</td>\n",
       "      <td>227.750000</td>\n",
       "      <td>225.899994</td>\n",
       "      <td>227.210007</td>\n",
       "      <td>200.296707</td>\n",
       "      <td>71559900</td>\n",
       "    </tr>\n",
       "    <tr>\n",
       "      <th>2017-01-09</th>\n",
       "      <td>226.910004</td>\n",
       "      <td>227.070007</td>\n",
       "      <td>226.419998</td>\n",
       "      <td>226.460007</td>\n",
       "      <td>199.635590</td>\n",
       "      <td>46939700</td>\n",
       "    </tr>\n",
       "  </tbody>\n",
       "</table>\n",
       "</div>"
      ],
      "text/plain": [
       "                  Open        High         Low       Close   Adj Close  \\\n",
       "Date                                                                     \n",
       "2017-01-03  225.039993  225.830002  223.880005  225.240005  198.560043   \n",
       "2017-01-04  225.619995  226.750000  225.610001  226.580002  199.741318   \n",
       "2017-01-05  226.270004  226.580002  225.479996  226.399994  199.582642   \n",
       "2017-01-06  226.529999  227.750000  225.899994  227.210007  200.296707   \n",
       "2017-01-09  226.910004  227.070007  226.419998  226.460007  199.635590   \n",
       "\n",
       "              Volume  \n",
       "Date                  \n",
       "2017-01-03  91366500  \n",
       "2017-01-04  78744400  \n",
       "2017-01-05  78379000  \n",
       "2017-01-06  71559900  \n",
       "2017-01-09  46939700  "
      ]
     },
     "execution_count": 3,
     "metadata": {},
     "output_type": "execute_result"
    }
   ],
   "source": [
    "data.head()"
   ]
  },
  {
   "cell_type": "code",
   "execution_count": 4,
   "id": "7ed20e16-d9d4-424a-b4f4-4d95ea293e8f",
   "metadata": {},
   "outputs": [],
   "source": [
    "# Convert to Polars DataFrame and include dates\n",
    "import polars as pl\n",
    "\n",
    "data.reset_index(inplace=True) # need to add the date as index otherwise it will drop the date during conversion\n",
    "data = pl.DataFrame(data)\n",
    "\n",
    "# Select relevant columns: Date, Open, High, Low, Adj Close, and Volume\n",
    "data = data.select([\"Date\", \"Open\", \"High\", \"Low\", \"Adj Close\", \"Volume\"])"
   ]
  },
  {
   "cell_type": "code",
   "execution_count": 5,
   "id": "a166eab1-e73a-4d0e-b89b-d9b488dabf6d",
   "metadata": {},
   "outputs": [
    {
     "name": "stdout",
     "output_type": "stream",
     "text": [
      "['Date', 'Open', 'High', 'Low', 'Adj Close', 'Volume']\n",
      "OrderedDict({'Date': Datetime(time_unit='ns', time_zone=None), 'Open': Float64, 'High': Float64, 'Low': Float64, 'Adj Close': Float64, 'Volume': Int64})\n"
     ]
    }
   ],
   "source": [
    "\n",
    "print(data.columns)\n",
    "print(data.schema)"
   ]
  },
  {
   "cell_type": "code",
   "execution_count": 6,
   "id": "f585226d-3220-4c15-8e77-9ee55ed8a593",
   "metadata": {},
   "outputs": [
    {
     "data": {
      "text/html": [
       "<div><style>\n",
       ".dataframe > thead > tr,\n",
       ".dataframe > tbody > tr {\n",
       "  text-align: right;\n",
       "  white-space: pre-wrap;\n",
       "}\n",
       "</style>\n",
       "<small>shape: (3, 6)</small><table border=\"1\" class=\"dataframe\"><thead><tr><th>Date</th><th>Open</th><th>High</th><th>Low</th><th>Adj Close</th><th>Volume</th></tr><tr><td>datetime[ns]</td><td>f64</td><td>f64</td><td>f64</td><td>f64</td><td>i64</td></tr></thead><tbody><tr><td>2017-01-03 00:00:00</td><td>225.039993</td><td>225.830002</td><td>223.880005</td><td>198.560043</td><td>91366500</td></tr><tr><td>2017-01-04 00:00:00</td><td>225.619995</td><td>226.75</td><td>225.610001</td><td>199.741318</td><td>78744400</td></tr><tr><td>2017-01-05 00:00:00</td><td>226.270004</td><td>226.580002</td><td>225.479996</td><td>199.582642</td><td>78379000</td></tr></tbody></table></div>"
      ],
      "text/plain": [
       "shape: (3, 6)\n",
       "┌─────────────────────┬────────────┬────────────┬────────────┬────────────┬──────────┐\n",
       "│ Date                ┆ Open       ┆ High       ┆ Low        ┆ Adj Close  ┆ Volume   │\n",
       "│ ---                 ┆ ---        ┆ ---        ┆ ---        ┆ ---        ┆ ---      │\n",
       "│ datetime[ns]        ┆ f64        ┆ f64        ┆ f64        ┆ f64        ┆ i64      │\n",
       "╞═════════════════════╪════════════╪════════════╪════════════╪════════════╪══════════╡\n",
       "│ 2017-01-03 00:00:00 ┆ 225.039993 ┆ 225.830002 ┆ 223.880005 ┆ 198.560043 ┆ 91366500 │\n",
       "│ 2017-01-04 00:00:00 ┆ 225.619995 ┆ 226.75     ┆ 225.610001 ┆ 199.741318 ┆ 78744400 │\n",
       "│ 2017-01-05 00:00:00 ┆ 226.270004 ┆ 226.580002 ┆ 225.479996 ┆ 199.582642 ┆ 78379000 │\n",
       "└─────────────────────┴────────────┴────────────┴────────────┴────────────┴──────────┘"
      ]
     },
     "execution_count": 6,
     "metadata": {},
     "output_type": "execute_result"
    }
   ],
   "source": [
    "data.head(3)"
   ]
  },
  {
   "cell_type": "code",
   "execution_count": 7,
   "id": "ffbf5951-eadf-4142-8f01-31daa9a1a915",
   "metadata": {},
   "outputs": [
    {
     "data": {
      "text/html": [
       "<div><style>\n",
       ".dataframe > thead > tr,\n",
       ".dataframe > tbody > tr {\n",
       "  text-align: right;\n",
       "  white-space: pre-wrap;\n",
       "}\n",
       "</style>\n",
       "<small>shape: (5, 8)</small><table border=\"1\" class=\"dataframe\"><thead><tr><th>Date</th><th>Open</th><th>High</th><th>Low</th><th>Adj Close</th><th>Volume</th><th>Returns</th><th>Range</th></tr><tr><td>datetime[ns]</td><td>f64</td><td>f64</td><td>f64</td><td>f64</td><td>i64</td><td>f64</td><td>f64</td></tr></thead><tbody><tr><td>2017-01-04 00:00:00</td><td>225.619995</td><td>226.75</td><td>225.610001</td><td>199.741318</td><td>78744400</td><td>0.005949</td><td>0.005053</td></tr><tr><td>2017-01-05 00:00:00</td><td>226.270004</td><td>226.580002</td><td>225.479996</td><td>199.582642</td><td>78379000</td><td>-0.000794</td><td>0.004879</td></tr><tr><td>2017-01-06 00:00:00</td><td>226.529999</td><td>227.75</td><td>225.899994</td><td>200.296707</td><td>71559900</td><td>0.003578</td><td>0.008189</td></tr><tr><td>2017-01-09 00:00:00</td><td>226.910004</td><td>227.070007</td><td>226.419998</td><td>199.63559</td><td>46939700</td><td>-0.003301</td><td>0.002871</td></tr><tr><td>2017-01-10 00:00:00</td><td>226.479996</td><td>227.449997</td><td>226.009995</td><td>199.63559</td><td>63771900</td><td>0.0</td><td>0.006371</td></tr></tbody></table></div>"
      ],
      "text/plain": [
       "shape: (5, 8)\n",
       "┌────────────┬────────────┬────────────┬────────────┬────────────┬──────────┬───────────┬──────────┐\n",
       "│ Date       ┆ Open       ┆ High       ┆ Low        ┆ Adj Close  ┆ Volume   ┆ Returns   ┆ Range    │\n",
       "│ ---        ┆ ---        ┆ ---        ┆ ---        ┆ ---        ┆ ---      ┆ ---       ┆ ---      │\n",
       "│ datetime[n ┆ f64        ┆ f64        ┆ f64        ┆ f64        ┆ i64      ┆ f64       ┆ f64      │\n",
       "│ s]         ┆            ┆            ┆            ┆            ┆          ┆           ┆          │\n",
       "╞════════════╪════════════╪════════════╪════════════╪════════════╪══════════╪═══════════╪══════════╡\n",
       "│ 2017-01-04 ┆ 225.619995 ┆ 226.75     ┆ 225.610001 ┆ 199.741318 ┆ 78744400 ┆ 0.005949  ┆ 0.005053 │\n",
       "│ 00:00:00   ┆            ┆            ┆            ┆            ┆          ┆           ┆          │\n",
       "│ 2017-01-05 ┆ 226.270004 ┆ 226.580002 ┆ 225.479996 ┆ 199.582642 ┆ 78379000 ┆ -0.000794 ┆ 0.004879 │\n",
       "│ 00:00:00   ┆            ┆            ┆            ┆            ┆          ┆           ┆          │\n",
       "│ 2017-01-06 ┆ 226.529999 ┆ 227.75     ┆ 225.899994 ┆ 200.296707 ┆ 71559900 ┆ 0.003578  ┆ 0.008189 │\n",
       "│ 00:00:00   ┆            ┆            ┆            ┆            ┆          ┆           ┆          │\n",
       "│ 2017-01-09 ┆ 226.910004 ┆ 227.070007 ┆ 226.419998 ┆ 199.63559  ┆ 46939700 ┆ -0.003301 ┆ 0.002871 │\n",
       "│ 00:00:00   ┆            ┆            ┆            ┆            ┆          ┆           ┆          │\n",
       "│ 2017-01-10 ┆ 226.479996 ┆ 227.449997 ┆ 226.009995 ┆ 199.63559  ┆ 63771900 ┆ 0.0       ┆ 0.006371 │\n",
       "│ 00:00:00   ┆            ┆            ┆            ┆            ┆          ┆           ┆          │\n",
       "└────────────┴────────────┴────────────┴────────────┴────────────┴──────────┴───────────┴──────────┘"
      ]
     },
     "execution_count": 7,
     "metadata": {},
     "output_type": "execute_result"
    }
   ],
   "source": [
    "# Create a copy of the dataframe and add returns and range columns\n",
    "df = data.clone()\n",
    "\n",
    "# Calculate daily returns\n",
    "df = df.with_columns((pl.col(\"Adj Close\") / pl.col(\"Adj Close\").shift(1) - 1).alias(\"Returns\")) # the -1 returns the percent return in decimals\n",
    "\n",
    "# Calculate daily range (volatility)\n",
    "df = df.with_columns((pl.col(\"High\") / pl.col(\"Low\")-1).alias(\"Range\")) # the -1 returns the percent return in decimals\n",
    "\n",
    "# Drop NaN values created by the pct_change method\n",
    "# In Polars, the drop_nulls method does not require the inplace=True parameter as it returns a new DataFrame by default. \n",
    "df = df.drop_nulls()\n",
    "\n",
    "# Display the updated dataframe with new columns\n",
    "df.head()"
   ]
  },
  {
   "cell_type": "code",
   "execution_count": 8,
   "id": "70af2cfc-ee1d-489f-8db6-f3d7d7b2fa65",
   "metadata": {},
   "outputs": [
    {
     "data": {
      "text/html": [
       "<div><style>\n",
       ".dataframe > thead > tr,\n",
       ".dataframe > tbody > tr {\n",
       "  text-align: right;\n",
       "  white-space: pre-wrap;\n",
       "}\n",
       "</style>\n",
       "<small>shape: (5, 8)</small><table border=\"1\" class=\"dataframe\"><thead><tr><th>Date</th><th>Open</th><th>High</th><th>Low</th><th>Adj Close</th><th>Volume</th><th>Returns</th><th>Range</th></tr><tr><td>datetime[ns]</td><td>f64</td><td>f64</td><td>f64</td><td>f64</td><td>i64</td><td>f64</td><td>f64</td></tr></thead><tbody><tr><td>2022-05-24 00:00:00</td><td>392.559998</td><td>395.149994</td><td>386.959991</td><td>380.571075</td><td>91448800</td><td>-0.007634</td><td>0.021165</td></tr><tr><td>2022-05-25 00:00:00</td><td>392.309998</td><td>399.450012</td><td>391.890015</td><td>383.933441</td><td>91472900</td><td>0.008835</td><td>0.019291</td></tr><tr><td>2022-05-26 00:00:00</td><td>398.670013</td><td>407.040009</td><td>398.450012</td><td>391.60495</td><td>82168300</td><td>0.019981</td><td>0.021559</td></tr><tr><td>2022-05-27 00:00:00</td><td>407.910004</td><td>415.380005</td><td>407.700012</td><td>401.218506</td><td>84768700</td><td>0.024549</td><td>0.018837</td></tr><tr><td>2022-05-31 00:00:00</td><td>413.549988</td><td>416.459991</td><td>410.029999</td><td>398.967285</td><td>95937000</td><td>-0.005611</td><td>0.015682</td></tr></tbody></table></div>"
      ],
      "text/plain": [
       "shape: (5, 8)\n",
       "┌────────────┬────────────┬────────────┬────────────┬────────────┬──────────┬───────────┬──────────┐\n",
       "│ Date       ┆ Open       ┆ High       ┆ Low        ┆ Adj Close  ┆ Volume   ┆ Returns   ┆ Range    │\n",
       "│ ---        ┆ ---        ┆ ---        ┆ ---        ┆ ---        ┆ ---      ┆ ---       ┆ ---      │\n",
       "│ datetime[n ┆ f64        ┆ f64        ┆ f64        ┆ f64        ┆ i64      ┆ f64       ┆ f64      │\n",
       "│ s]         ┆            ┆            ┆            ┆            ┆          ┆           ┆          │\n",
       "╞════════════╪════════════╪════════════╪════════════╪════════════╪══════════╪═══════════╪══════════╡\n",
       "│ 2022-05-24 ┆ 392.559998 ┆ 395.149994 ┆ 386.959991 ┆ 380.571075 ┆ 91448800 ┆ -0.007634 ┆ 0.021165 │\n",
       "│ 00:00:00   ┆            ┆            ┆            ┆            ┆          ┆           ┆          │\n",
       "│ 2022-05-25 ┆ 392.309998 ┆ 399.450012 ┆ 391.890015 ┆ 383.933441 ┆ 91472900 ┆ 0.008835  ┆ 0.019291 │\n",
       "│ 00:00:00   ┆            ┆            ┆            ┆            ┆          ┆           ┆          │\n",
       "│ 2022-05-26 ┆ 398.670013 ┆ 407.040009 ┆ 398.450012 ┆ 391.60495  ┆ 82168300 ┆ 0.019981  ┆ 0.021559 │\n",
       "│ 00:00:00   ┆            ┆            ┆            ┆            ┆          ┆           ┆          │\n",
       "│ 2022-05-27 ┆ 407.910004 ┆ 415.380005 ┆ 407.700012 ┆ 401.218506 ┆ 84768700 ┆ 0.024549  ┆ 0.018837 │\n",
       "│ 00:00:00   ┆            ┆            ┆            ┆            ┆          ┆           ┆          │\n",
       "│ 2022-05-31 ┆ 413.549988 ┆ 416.459991 ┆ 410.029999 ┆ 398.967285 ┆ 95937000 ┆ -0.005611 ┆ 0.015682 │\n",
       "│ 00:00:00   ┆            ┆            ┆            ┆            ┆          ┆           ┆          │\n",
       "└────────────┴────────────┴────────────┴────────────┴────────────┴──────────┴───────────┴──────────┘"
      ]
     },
     "execution_count": 8,
     "metadata": {},
     "output_type": "execute_result"
    }
   ],
   "source": [
    "df.tail()"
   ]
  },
  {
   "cell_type": "markdown",
   "id": "28c24eba-075d-42fa-9331-89cd3729eaf5",
   "metadata": {},
   "source": [
    "## Structure Data"
   ]
  },
  {
   "cell_type": "code",
   "execution_count": 9,
   "id": "c3966bdd-362c-438c-8f3b-f0ce8c269608",
   "metadata": {},
   "outputs": [
    {
     "data": {
      "text/html": [
       "<div><style>\n",
       ".dataframe > thead > tr,\n",
       ".dataframe > tbody > tr {\n",
       "  text-align: right;\n",
       "  white-space: pre-wrap;\n",
       "}\n",
       "</style>\n",
       "<small>shape: (5, 2)</small><table border=\"1\" class=\"dataframe\"><thead><tr><th>Returns</th><th>Range</th></tr><tr><td>f64</td><td>f64</td></tr></thead><tbody><tr><td>0.005949</td><td>0.005053</td></tr><tr><td>-0.000794</td><td>0.004879</td></tr><tr><td>0.003578</td><td>0.008189</td></tr><tr><td>-0.003301</td><td>0.002871</td></tr><tr><td>0.0</td><td>0.006371</td></tr></tbody></table></div>"
      ],
      "text/plain": [
       "shape: (5, 2)\n",
       "┌───────────┬──────────┐\n",
       "│ Returns   ┆ Range    │\n",
       "│ ---       ┆ ---      │\n",
       "│ f64       ┆ f64      │\n",
       "╞═══════════╪══════════╡\n",
       "│ 0.005949  ┆ 0.005053 │\n",
       "│ -0.000794 ┆ 0.004879 │\n",
       "│ 0.003578  ┆ 0.008189 │\n",
       "│ -0.003301 ┆ 0.002871 │\n",
       "│ 0.0       ┆ 0.006371 │\n",
       "└───────────┴──────────┘"
      ]
     },
     "execution_count": 9,
     "metadata": {},
     "output_type": "execute_result"
    }
   ],
   "source": [
    "# Structure Data\n",
    "X_train = df.select(['Returns', 'Range']) # in polars we use .select\n",
    "\n",
    "# Display the first few rows of the structured data\n",
    "X_train.head()"
   ]
  },
  {
   "cell_type": "markdown",
   "id": "9719f22e-914a-4d4c-ba5a-e9a588a437fd",
   "metadata": {},
   "source": [
    "Hidden Markov Model (HMM) for Market Analysis\n",
    "Overview\n",
    "This notebook demonstrates how to use a Hidden Markov Model (HMM) to analyze market states using financial data.\n",
    "Data Preparation\n",
    "\n",
    "We're using SPI (S&P 500 Index) data from 2017 to 2022.\n",
    "The data includes features like returns and ranges.\n",
    "\n",
    "Training the HMM\n",
    "Import required libraries"
   ]
  },
  {
   "cell_type": "markdown",
   "id": "194de31a-acbd-40f1-87f2-94a1c319540d",
   "metadata": {},
   "source": [
    "Parameters:\n",
    "\n",
    "n_components=4: We're looking for 4 hidden states\n",
    "\n",
    "covariance_type=\"full\": Using full covariance matrix\n",
    "\n",
    "n_iter=100: Maximum number of iterations\n",
    "\n"
   ]
  },
  {
   "cell_type": "markdown",
   "id": "1a392e76-a186-4ae1-beb7-145b82616b63",
   "metadata": {},
   "source": [
    "## HMM Learning"
   ]
  },
  {
   "cell_type": "code",
   "execution_count": 18,
   "id": "055cf6b4-8035-4b77-8a2b-af1716348f07",
   "metadata": {},
   "outputs": [
    {
     "name": "stdout",
     "output_type": "stream",
     "text": [
      "Shape of X_train_np: (1361, 2)\n",
      "\n",
      "First few rows of X_train_np:\n",
      "[[ 0.00594921  0.00505296]\n",
      " [-0.00079441  0.00487851]\n",
      " [ 0.00357779  0.00818949]\n",
      " [-0.00330069  0.00287081]\n",
      " [ 0.          0.00637141]]\n",
      "\n",
      "Number of features detected: 2\n"
     ]
    }
   ],
   "source": [
    "#Data Preparation\n",
    "import polars as pl\n",
    "import numpy as np\n",
    "from hmmlearn.hmm import GaussianHMM\n",
    "\n",
    "# Convert Polars DataFrame to NumPy array\n",
    "X_train_np = X_train.to_numpy()\n",
    "print(\"Shape of X_train_np:\", X_train_np.shape)\n",
    "\n",
    "# Display first few rows of the data\n",
    "print(\"\\nFirst few rows of X_train_np:\")\n",
    "print(X_train_np[:5])\n",
    "\n",
    "# Determine the number of features\n",
    "n_features = X_train_np.shape[1]\n",
    "print(f\"\\nNumber of features detected: {n_features}\")\n",
    "\n",
    "# Comments:\n",
    "# - We convert the Polars DataFrame to a NumPy array because HMM requires this format.\n",
    "# - The shape of X_train_np tells us how many trading days (rows) and features (columns) we have.\n",
    "# - For trading, we typically use 2 features: returns and volatility (or range).\n",
    "# - Checking the first few rows helps us verify that our data looks correct (e.g., reasonable values for returns and volatility).\n",
    "# - The number of features is crucial for properly configuring our HMM to detect market regimes."
   ]
  },
  {
   "cell_type": "code",
   "execution_count": 22,
   "id": "baae9972-01d7-4347-82de-f15f9be3c335",
   "metadata": {},
   "outputs": [
    {
     "name": "stdout",
     "output_type": "stream",
     "text": [
      "Model Score: 9825.275877197631\n"
     ]
    }
   ],
   "source": [
    "# Fit Model\n",
    "hmm_model = GaussianHMM(n_components=4, covariance_type=\"full\", n_iter=100).fit(X_train)\n",
    "print(\"Model Score:\", hmm_model.score(X_train))\n",
    "\n",
    "# Comments:\n",
    "# - We use GaussianHMM instead of GMM (Gaussian Mixture Model) as it's better suited for time series data in trading.\n",
    "# - n_components=4: We assume 4 hidden market states (e.g., bull, bear, sideways, volatile).\n",
    "# - covariance_type=\"full\": Allows for complex relationships between features, capturing nuanced market dynamics.\n",
    "# - n_iter=100: Maximum number of iterations for the training algorithm. Adjust if needed for convergence.\n",
    "# - .fit(X_train): Trains the model on our historical market data in one step.\n",
    "# - The model score is the log-likelihood of the data given the model. Higher values indicate better fit.\n",
    "# - In trading, a well-fitted model can more accurately identify current market regimes and potentially predict transitions."
   ]
  },
  {
   "cell_type": "code",
   "execution_count": 25,
   "id": "085a984b-498b-47a8-a535-2fec5831fe39",
   "metadata": {},
   "outputs": [
    {
     "name": "stdout",
     "output_type": "stream",
     "text": [
      "First 20 hidden states: [3 3 3 3 3 3 3 3 3 3 3 3 3 3 3 3 3 3 3 3]\n",
      "\n",
      "Unique states: [0 1 2 3]\n",
      "\n",
      "State frequencies:\n",
      "State 0: 31.81%\n",
      "State 1: 1.91%\n",
      "State 2: 1.25%\n",
      "State 3: 65.03%\n"
     ]
    }
   ],
   "source": [
    "# Check Results\n",
    "hidden_states = hmm_model.predict(X_train)\n",
    "print(\"First 20 hidden states:\", hidden_states[:20])\n",
    "print(\"\\nUnique states:\", np.unique(hidden_states))\n",
    "print(\"\\nState frequencies:\")\n",
    "for i in range(hmm_model.n_components):\n",
    "    print(f\"State {i}: {np.sum(hidden_states == i) / len(hidden_states):.2%}\")\n",
    "\n",
    "# Comments:\n",
    "# - model.predict() assigns the most likely hidden state to each data point in our trading time series.\n",
    "# - In trading context, each state represents a different market regime (e.g., bullish, bearish, volatile, sideways).\n",
    "# - The first 20 states give us a quick look at how the model interprets the beginning of our data.\n",
    "# - Unique states confirm that all defined states (0 to 3) are being used.\n",
    "# - State frequencies show how often each market regime occurs in our data.\n",
    "# - This information can be used to:\n",
    "#   1. Identify current market conditions.\n",
    "#   2. Develop regime-specific trading strategies.\n",
    "#   3. Analyze how different regimes affect trading performance."
   ]
  },
  {
   "cell_type": "code",
   "execution_count": 28,
   "id": "b49bb723-3a65-4556-8c71-92cb2459efc2",
   "metadata": {},
   "outputs": [
    {
     "data": {
      "text/plain": [
       "array([[-0.00144613,  0.01793295],\n",
       "       [-0.03152274,  0.04738416],\n",
       "       [ 0.03835461,  0.04783927],\n",
       "       [ 0.00188421,  0.00677365]])"
      ]
     },
     "execution_count": 28,
     "metadata": {},
     "output_type": "execute_result"
    }
   ],
   "source": [
    "# Regime state means for each feature\n",
    "state_means = hmm_model.means_\n",
    "state_means"
   ]
  },
  {
   "cell_type": "code",
   "execution_count": 29,
   "id": "7e3d7e43-e87b-403f-9ec4-cefa38f2c783",
   "metadata": {},
   "outputs": [
    {
     "name": "stdout",
     "output_type": "stream",
     "text": [
      "Regime state means for each feature:\n",
      "State 0:\n",
      "  Returns: -0.001446\n",
      "  Volatility/Range: 0.017933\n",
      "\n",
      "State 1:\n",
      "  Returns: -0.031523\n",
      "  Volatility/Range: 0.047384\n",
      "\n",
      "State 2:\n",
      "  Returns: 0.038355\n",
      "  Volatility/Range: 0.047839\n",
      "\n",
      "State 3:\n",
      "  Returns: 0.001884\n",
      "  Volatility/Range: 0.006774\n",
      "\n"
     ]
    }
   ],
   "source": [
    "# Regime state means for each feature\n",
    "state_means = hmm_model.means_\n",
    "\n",
    "print(\"Regime state means for each feature:\")\n",
    "for i, mean in enumerate(state_means):\n",
    "    print(f\"State {i}:\")\n",
    "    print(f\"  Returns: {mean[0]:.6f}\")\n",
    "    print(f\"  Volatility/Range: {mean[1]:.6f}\")\n",
    "    print()\n",
    "\n",
    "# Comments:\n",
    "# - hmm_model.means_ gives us the average feature values for each hidden state.\n",
    "# - In trading context:\n",
    "#   - The first value (index 0) typically represents average returns.\n",
    "#   - The second value (index 1) typically represents average volatility or range.\n",
    "# - Interpreting the states:\n",
    "#   - High positive returns + low volatility might indicate a bullish trend.\n",
    "#   - Low or negative returns + high volatility might indicate a bearish or volatile market.\n",
    "#   - Returns close to zero + low volatility might indicate a sideways market.\n",
    "# - This information helps characterize each market regime, allowing for:\n",
    "#   1. Better understanding of current market conditions.\n",
    "#   2. Development of state-specific trading strategies.\n",
    "#   3. Risk assessment based on the identified market regime."
   ]
  },
  {
   "cell_type": "code",
   "execution_count": 30,
   "id": "6926eb8c-f493-45f4-8629-7493609f0656",
   "metadata": {},
   "outputs": [
    {
     "name": "stdout",
     "output_type": "stream",
     "text": [
      "Regime state covariances for each feature:\n",
      "State 0:\n",
      "  Covariance matrix:\n",
      "    [0.000218  -0.000004]\n",
      "    [-0.000004  0.000085]\n",
      "  Correlation between returns and volatility: -0.027007\n",
      "\n",
      "State 1:\n",
      "  Covariance matrix:\n",
      "    [0.001288  0.000152]\n",
      "    [0.000152  0.000662]\n",
      "  Correlation between returns and volatility: 0.164224\n",
      "\n",
      "State 2:\n",
      "  Covariance matrix:\n",
      "    [0.001395  0.000987]\n",
      "    [0.000987  0.000966]\n",
      "  Correlation between returns and volatility: 0.850243\n",
      "\n",
      "State 3:\n",
      "  Covariance matrix:\n",
      "    [0.000037  0.000014]\n",
      "    [0.000014  0.000020]\n",
      "  Correlation between returns and volatility: 0.512806\n",
      "\n"
     ]
    }
   ],
   "source": [
    "# Regime state covariances for each feature\n",
    "state_covars = hmm_model.covars_\n",
    "\n",
    "print(\"Regime state covariances for each feature:\")\n",
    "for i, covar in enumerate(state_covars):\n",
    "    print(f\"State {i}:\")\n",
    "    print(\"  Covariance matrix:\")\n",
    "    print(f\"    [{covar[0][0]:.6f}  {covar[0][1]:.6f}]\")\n",
    "    print(f\"    [{covar[1][0]:.6f}  {covar[1][1]:.6f}]\")\n",
    "    \n",
    "    # Calculate correlation\n",
    "    correlation = covar[0][1] / np.sqrt(covar[0][0] * covar[1][1])\n",
    "    print(f\"  Correlation between returns and volatility: {correlation:.6f}\")\n",
    "    print()\n",
    "\n",
    "# Comments:\n",
    "# - hmm_model.covars_ gives us the covariance matrices for each hidden state.\n",
    "# - In trading context:\n",
    "#   - Diagonal elements [0][0] and [1][1] represent variances of returns and volatility respectively.\n",
    "#   - Off-diagonal elements [0][1] and [1][0] represent covariance between returns and volatility.\n",
    "# - Interpreting the covariances:\n",
    "#   - Higher values on the diagonal indicate more variability in that feature for that state.\n",
    "#   - The correlation helps understand the relationship between returns and volatility in each state.\n",
    "# - Trading implications:\n",
    "#   1. Risk assessment: Higher variances indicate more unpredictable market behavior.\n",
    "#   2. Strategy development: Different strategies might be appropriate for high vs. low volatility states.\n",
    "#   3. Portfolio management: Correlation information can inform diversification decisions."
   ]
  },
  {
   "cell_type": "markdown",
   "id": "c9ab8494-6eba-4875-b4d2-cbf27b83ec6d",
   "metadata": {},
   "source": [
    "State 2 (Best for trading):\n",
    "- Highest positive mean returns (3.8355%)\n",
    "- High volatility/range (4.7839%)\n",
    "- Strongest positive correlation between returns and volatility (0.850243)\n",
    "- Occurs least frequently (1.25% of the time)\n",
    "\n",
    "Why it's favorable:\n",
    "1. High positive returns indicate a strong bullish trend.\n",
    "2. High volatility provides opportunities for larger price movements.\n",
    "3. Strong positive correlation between returns and volatility suggests that as volatility increases, returns tend to increase as well, which is ideal for trend-following strategies.\n",
    "4. Its rarity makes it a potentially high-reward opportunity when identified.\n",
    "\n",
    "Other states:\n",
    "\n",
    "State 0:\n",
    "- Slightly negative returns (-0.1446%)\n",
    "- Moderate volatility (1.7933%)\n",
    "- Very weak negative correlation (-0.027007)\n",
    "- Occurs 31.81% of the time\n",
    "Analysis: This could represent a mildly bearish or sideways market with some unpredictability.\n",
    "\n",
    "State 1:\n",
    "- Strongly negative returns (-3.1523%)\n",
    "- High volatility (4.7384%)\n",
    "- Weak positive correlation (0.164224)\n",
    "- Occurs 1.91% of the time\n",
    "Analysis: This likely represents a bearish, possibly crisis-like market state. High risk, but potential opportunities for short-selling or put options.\n",
    "\n",
    "State 3:\n",
    "- Slightly positive returns (0.1884%)\n",
    "- Low volatility (0.6774%)\n",
    "- Moderate positive correlation (0.512806)\n",
    "- Most common state (65.03% of the time)\n",
    "Analysis: This represents a calm, slightly bullish market. Low risk, but also limited opportunities for significant gains.\n",
    "\n",
    "Trading implications:\n",
    "1. State 2 is ideal for aggressive long positions or call options when identified.\n",
    "2. State 3, being the most common, could be used as a baseline for \"normal\" market conditions.\n",
    "3. State 0 might require more cautious, possibly range-bound trading strategies.\n",
    "4. State 1, while rare, might signal a need for defensive strategies or shorting opportunities.\n",
    "\n",
    "Strategy suggestions:\n",
    "1. Develop a system to quickly identify transitions into State 2 for optimal entry points.\n",
    "2. Use State 3 for accumulation or position building with lower risk.\n",
    "3. Be prepared with hedging strategies when State 1 is identified.\n",
    "4. Consider using options strategies that benefit from increased volatility when transitioning from State 3 to States 0, 1, or 2.\n",
    "\n",
    "Remember, while State 2 appears most favorable, its rarity (1.25% occurrence) means it's crucial to have strategies for all market conditions, especially the more common States 3 and 0."
   ]
  },
  {
   "cell_type": "code",
   "execution_count": null,
   "id": "20b34d51-aba8-4864-a97c-ca911ecbcfb7",
   "metadata": {},
   "outputs": [],
   "source": []
  }
 ],
 "metadata": {
  "kernelspec": {
   "display_name": "Python 3 (ipykernel)",
   "language": "python",
   "name": "python3"
  },
  "language_info": {
   "codemirror_mode": {
    "name": "ipython",
    "version": 3
   },
   "file_extension": ".py",
   "mimetype": "text/x-python",
   "name": "python",
   "nbconvert_exporter": "python",
   "pygments_lexer": "ipython3",
   "version": "3.12.0"
  }
 },
 "nbformat": 4,
 "nbformat_minor": 5
}
