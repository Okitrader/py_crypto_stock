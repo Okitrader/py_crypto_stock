{
 "cells": [
  {
   "cell_type": "markdown",
   "id": "f1db2597-9e28-4891-be37-314c4c23155f",
   "metadata": {},
   "source": [
    "### Imports"
   ]
  },
  {
   "cell_type": "code",
   "execution_count": 9,
   "id": "c1cee09f-1c24-4d3c-a883-8e99caba7ea3",
   "metadata": {},
   "outputs": [
    {
     "name": "stdout",
     "output_type": "stream",
     "text": [
      "Libraries imported successfully\n"
     ]
    }
   ],
   "source": [
    "# Import necessary libraries for data manipulation and visualization\n",
    "import pandas as pd\n",
    "import polars as pl\n",
    "import numpy as np\n",
    "\n",
    "from datetime import datetime\n",
    "\n",
    "from hmmlearn.hmm import GaussianHMM\n",
    "from pandas_datareader.data import DataReader\n",
    "\n",
    "import matplotlib.pyplot as plt\n",
    "\n",
    "# Verify all libraries are imported correctly\n",
    "print(\"Libraries imported successfully\")"
   ]
  },
  {
   "cell_type": "markdown",
   "id": "9fb7088e-86e1-4a04-8547-51ae22b8d291",
   "metadata": {},
   "source": [
    "### Data Management"
   ]
  },
  {
   "cell_type": "code",
   "execution_count": 10,
   "id": "e4fce823-6a92-4e2a-a74e-d41afb3abd10",
   "metadata": {},
   "outputs": [
    {
     "name": "stdout",
     "output_type": "stream",
     "text": [
      "[*********************100%%**********************]  1 of 1 completed\n"
     ]
    }
   ],
   "source": [
    "# Import necessary libraries\n",
    "import yfinance as yf\n",
    "\n",
    "# Set start and end dates for the data extraction\n",
    "start_date = \"2017-01-01\"\n",
    "end_date = \"2022-06-01\"\n",
    "symbol = \"SPY\"\n",
    "\n",
    "# Fetch data using yfinance\n",
    "data = yf.download(symbol, start=start_date, end=end_date)\n"
   ]
  },
  {
   "cell_type": "code",
   "execution_count": 11,
   "id": "15ce1200-69ae-454f-945f-7f3c54fcb126",
   "metadata": {},
   "outputs": [
    {
     "data": {
      "text/html": [
       "<div>\n",
       "<style scoped>\n",
       "    .dataframe tbody tr th:only-of-type {\n",
       "        vertical-align: middle;\n",
       "    }\n",
       "\n",
       "    .dataframe tbody tr th {\n",
       "        vertical-align: top;\n",
       "    }\n",
       "\n",
       "    .dataframe thead th {\n",
       "        text-align: right;\n",
       "    }\n",
       "</style>\n",
       "<table border=\"1\" class=\"dataframe\">\n",
       "  <thead>\n",
       "    <tr style=\"text-align: right;\">\n",
       "      <th></th>\n",
       "      <th>Open</th>\n",
       "      <th>High</th>\n",
       "      <th>Low</th>\n",
       "      <th>Close</th>\n",
       "      <th>Adj Close</th>\n",
       "      <th>Volume</th>\n",
       "    </tr>\n",
       "    <tr>\n",
       "      <th>Date</th>\n",
       "      <th></th>\n",
       "      <th></th>\n",
       "      <th></th>\n",
       "      <th></th>\n",
       "      <th></th>\n",
       "      <th></th>\n",
       "    </tr>\n",
       "  </thead>\n",
       "  <tbody>\n",
       "    <tr>\n",
       "      <th>2017-01-03</th>\n",
       "      <td>225.039993</td>\n",
       "      <td>225.830002</td>\n",
       "      <td>223.880005</td>\n",
       "      <td>225.240005</td>\n",
       "      <td>198.560059</td>\n",
       "      <td>91366500</td>\n",
       "    </tr>\n",
       "    <tr>\n",
       "      <th>2017-01-04</th>\n",
       "      <td>225.619995</td>\n",
       "      <td>226.750000</td>\n",
       "      <td>225.610001</td>\n",
       "      <td>226.580002</td>\n",
       "      <td>199.741287</td>\n",
       "      <td>78744400</td>\n",
       "    </tr>\n",
       "    <tr>\n",
       "      <th>2017-01-05</th>\n",
       "      <td>226.270004</td>\n",
       "      <td>226.580002</td>\n",
       "      <td>225.479996</td>\n",
       "      <td>226.399994</td>\n",
       "      <td>199.582626</td>\n",
       "      <td>78379000</td>\n",
       "    </tr>\n",
       "    <tr>\n",
       "      <th>2017-01-06</th>\n",
       "      <td>226.529999</td>\n",
       "      <td>227.750000</td>\n",
       "      <td>225.899994</td>\n",
       "      <td>227.210007</td>\n",
       "      <td>200.296707</td>\n",
       "      <td>71559900</td>\n",
       "    </tr>\n",
       "    <tr>\n",
       "      <th>2017-01-09</th>\n",
       "      <td>226.910004</td>\n",
       "      <td>227.070007</td>\n",
       "      <td>226.419998</td>\n",
       "      <td>226.460007</td>\n",
       "      <td>199.635513</td>\n",
       "      <td>46939700</td>\n",
       "    </tr>\n",
       "  </tbody>\n",
       "</table>\n",
       "</div>"
      ],
      "text/plain": [
       "                  Open        High         Low       Close   Adj Close  \\\n",
       "Date                                                                     \n",
       "2017-01-03  225.039993  225.830002  223.880005  225.240005  198.560059   \n",
       "2017-01-04  225.619995  226.750000  225.610001  226.580002  199.741287   \n",
       "2017-01-05  226.270004  226.580002  225.479996  226.399994  199.582626   \n",
       "2017-01-06  226.529999  227.750000  225.899994  227.210007  200.296707   \n",
       "2017-01-09  226.910004  227.070007  226.419998  226.460007  199.635513   \n",
       "\n",
       "              Volume  \n",
       "Date                  \n",
       "2017-01-03  91366500  \n",
       "2017-01-04  78744400  \n",
       "2017-01-05  78379000  \n",
       "2017-01-06  71559900  \n",
       "2017-01-09  46939700  "
      ]
     },
     "execution_count": 11,
     "metadata": {},
     "output_type": "execute_result"
    }
   ],
   "source": [
    "data.head()"
   ]
  },
  {
   "cell_type": "code",
   "execution_count": 12,
   "id": "7ed20e16-d9d4-424a-b4f4-4d95ea293e8f",
   "metadata": {},
   "outputs": [],
   "source": [
    "# Convert to Polars DataFrame and include dates\n",
    "import polars as pl\n",
    "\n",
    "data.reset_index(inplace=True) # need to add the date as index otherwise it will drop the date during conversion\n",
    "data = pl.DataFrame(data)\n",
    "\n",
    "# Select relevant columns: Date, Open, High, Low, Adj Close, and Volume\n",
    "data = data.select([\"Date\", \"Open\", \"High\", \"Low\", \"Adj Close\", \"Volume\"])"
   ]
  },
  {
   "cell_type": "code",
   "execution_count": 13,
   "id": "a166eab1-e73a-4d0e-b89b-d9b488dabf6d",
   "metadata": {},
   "outputs": [
    {
     "name": "stdout",
     "output_type": "stream",
     "text": [
      "['Date', 'Open', 'High', 'Low', 'Adj Close', 'Volume']\n",
      "OrderedDict({'Date': Datetime(time_unit='ns', time_zone=None), 'Open': Float64, 'High': Float64, 'Low': Float64, 'Adj Close': Float64, 'Volume': Int64})\n"
     ]
    }
   ],
   "source": [
    "\n",
    "print(data.columns)\n",
    "print(data.schema)"
   ]
  },
  {
   "cell_type": "code",
   "execution_count": 14,
   "id": "f585226d-3220-4c15-8e77-9ee55ed8a593",
   "metadata": {},
   "outputs": [
    {
     "data": {
      "text/html": [
       "<div><style>\n",
       ".dataframe > thead > tr,\n",
       ".dataframe > tbody > tr {\n",
       "  text-align: right;\n",
       "  white-space: pre-wrap;\n",
       "}\n",
       "</style>\n",
       "<small>shape: (3, 6)</small><table border=\"1\" class=\"dataframe\"><thead><tr><th>Date</th><th>Open</th><th>High</th><th>Low</th><th>Adj Close</th><th>Volume</th></tr><tr><td>datetime[ns]</td><td>f64</td><td>f64</td><td>f64</td><td>f64</td><td>i64</td></tr></thead><tbody><tr><td>2017-01-03 00:00:00</td><td>225.039993</td><td>225.830002</td><td>223.880005</td><td>198.560059</td><td>91366500</td></tr><tr><td>2017-01-04 00:00:00</td><td>225.619995</td><td>226.75</td><td>225.610001</td><td>199.741287</td><td>78744400</td></tr><tr><td>2017-01-05 00:00:00</td><td>226.270004</td><td>226.580002</td><td>225.479996</td><td>199.582626</td><td>78379000</td></tr></tbody></table></div>"
      ],
      "text/plain": [
       "shape: (3, 6)\n",
       "┌─────────────────────┬────────────┬────────────┬────────────┬────────────┬──────────┐\n",
       "│ Date                ┆ Open       ┆ High       ┆ Low        ┆ Adj Close  ┆ Volume   │\n",
       "│ ---                 ┆ ---        ┆ ---        ┆ ---        ┆ ---        ┆ ---      │\n",
       "│ datetime[ns]        ┆ f64        ┆ f64        ┆ f64        ┆ f64        ┆ i64      │\n",
       "╞═════════════════════╪════════════╪════════════╪════════════╪════════════╪══════════╡\n",
       "│ 2017-01-03 00:00:00 ┆ 225.039993 ┆ 225.830002 ┆ 223.880005 ┆ 198.560059 ┆ 91366500 │\n",
       "│ 2017-01-04 00:00:00 ┆ 225.619995 ┆ 226.75     ┆ 225.610001 ┆ 199.741287 ┆ 78744400 │\n",
       "│ 2017-01-05 00:00:00 ┆ 226.270004 ┆ 226.580002 ┆ 225.479996 ┆ 199.582626 ┆ 78379000 │\n",
       "└─────────────────────┴────────────┴────────────┴────────────┴────────────┴──────────┘"
      ]
     },
     "execution_count": 14,
     "metadata": {},
     "output_type": "execute_result"
    }
   ],
   "source": [
    "data.head(3)"
   ]
  },
  {
   "cell_type": "code",
   "execution_count": 16,
   "id": "ffbf5951-eadf-4142-8f01-31daa9a1a915",
   "metadata": {},
   "outputs": [
    {
     "data": {
      "text/html": [
       "<div><style>\n",
       ".dataframe > thead > tr,\n",
       ".dataframe > tbody > tr {\n",
       "  text-align: right;\n",
       "  white-space: pre-wrap;\n",
       "}\n",
       "</style>\n",
       "<small>shape: (5, 8)</small><table border=\"1\" class=\"dataframe\"><thead><tr><th>Date</th><th>Open</th><th>High</th><th>Low</th><th>Adj Close</th><th>Volume</th><th>Returns</th><th>Range</th></tr><tr><td>datetime[ns]</td><td>f64</td><td>f64</td><td>f64</td><td>f64</td><td>i64</td><td>f64</td><td>f64</td></tr></thead><tbody><tr><td>2017-01-04 00:00:00</td><td>225.619995</td><td>226.75</td><td>225.610001</td><td>199.741287</td><td>78744400</td><td>0.005949</td><td>0.005053</td></tr><tr><td>2017-01-05 00:00:00</td><td>226.270004</td><td>226.580002</td><td>225.479996</td><td>199.582626</td><td>78379000</td><td>-0.000794</td><td>0.004879</td></tr><tr><td>2017-01-06 00:00:00</td><td>226.529999</td><td>227.75</td><td>225.899994</td><td>200.296707</td><td>71559900</td><td>0.003578</td><td>0.008189</td></tr><tr><td>2017-01-09 00:00:00</td><td>226.910004</td><td>227.070007</td><td>226.419998</td><td>199.635513</td><td>46939700</td><td>-0.003301</td><td>0.002871</td></tr><tr><td>2017-01-10 00:00:00</td><td>226.479996</td><td>227.449997</td><td>226.009995</td><td>199.635513</td><td>63771900</td><td>0.0</td><td>0.006371</td></tr></tbody></table></div>"
      ],
      "text/plain": [
       "shape: (5, 8)\n",
       "┌────────────┬────────────┬────────────┬────────────┬────────────┬──────────┬───────────┬──────────┐\n",
       "│ Date       ┆ Open       ┆ High       ┆ Low        ┆ Adj Close  ┆ Volume   ┆ Returns   ┆ Range    │\n",
       "│ ---        ┆ ---        ┆ ---        ┆ ---        ┆ ---        ┆ ---      ┆ ---       ┆ ---      │\n",
       "│ datetime[n ┆ f64        ┆ f64        ┆ f64        ┆ f64        ┆ i64      ┆ f64       ┆ f64      │\n",
       "│ s]         ┆            ┆            ┆            ┆            ┆          ┆           ┆          │\n",
       "╞════════════╪════════════╪════════════╪════════════╪════════════╪══════════╪═══════════╪══════════╡\n",
       "│ 2017-01-04 ┆ 225.619995 ┆ 226.75     ┆ 225.610001 ┆ 199.741287 ┆ 78744400 ┆ 0.005949  ┆ 0.005053 │\n",
       "│ 00:00:00   ┆            ┆            ┆            ┆            ┆          ┆           ┆          │\n",
       "│ 2017-01-05 ┆ 226.270004 ┆ 226.580002 ┆ 225.479996 ┆ 199.582626 ┆ 78379000 ┆ -0.000794 ┆ 0.004879 │\n",
       "│ 00:00:00   ┆            ┆            ┆            ┆            ┆          ┆           ┆          │\n",
       "│ 2017-01-06 ┆ 226.529999 ┆ 227.75     ┆ 225.899994 ┆ 200.296707 ┆ 71559900 ┆ 0.003578  ┆ 0.008189 │\n",
       "│ 00:00:00   ┆            ┆            ┆            ┆            ┆          ┆           ┆          │\n",
       "│ 2017-01-09 ┆ 226.910004 ┆ 227.070007 ┆ 226.419998 ┆ 199.635513 ┆ 46939700 ┆ -0.003301 ┆ 0.002871 │\n",
       "│ 00:00:00   ┆            ┆            ┆            ┆            ┆          ┆           ┆          │\n",
       "│ 2017-01-10 ┆ 226.479996 ┆ 227.449997 ┆ 226.009995 ┆ 199.635513 ┆ 63771900 ┆ 0.0       ┆ 0.006371 │\n",
       "│ 00:00:00   ┆            ┆            ┆            ┆            ┆          ┆           ┆          │\n",
       "└────────────┴────────────┴────────────┴────────────┴────────────┴──────────┴───────────┴──────────┘"
      ]
     },
     "execution_count": 16,
     "metadata": {},
     "output_type": "execute_result"
    }
   ],
   "source": [
    "# Create a copy of the dataframe and add returns and range columns\n",
    "df = data.clone()\n",
    "\n",
    "# Calculate daily returns\n",
    "df = df.with_columns((pl.col(\"Adj Close\") / pl.col(\"Adj Close\").shift(1) - 1).alias(\"Returns\")) # the -1 returns the percent return in decimals\n",
    "\n",
    "# Calculate daily range (volatility)\n",
    "df = df.with_columns((pl.col(\"High\") / pl.col(\"Low\")-1).alias(\"Range\")) # the -1 returns the percent return in decimals\n",
    "\n",
    "# Drop NaN values created by the pct_change method\n",
    "# In Polars, the drop_nulls method does not require the inplace=True parameter as it returns a new DataFrame by default. \n",
    "df = df.drop_nulls()\n",
    "\n",
    "# Display the updated dataframe with new columns\n",
    "df.head()"
   ]
  },
  {
   "cell_type": "code",
   "execution_count": 17,
   "id": "70af2cfc-ee1d-489f-8db6-f3d7d7b2fa65",
   "metadata": {},
   "outputs": [
    {
     "data": {
      "text/html": [
       "<div><style>\n",
       ".dataframe > thead > tr,\n",
       ".dataframe > tbody > tr {\n",
       "  text-align: right;\n",
       "  white-space: pre-wrap;\n",
       "}\n",
       "</style>\n",
       "<small>shape: (5, 8)</small><table border=\"1\" class=\"dataframe\"><thead><tr><th>Date</th><th>Open</th><th>High</th><th>Low</th><th>Adj Close</th><th>Volume</th><th>Returns</th><th>Range</th></tr><tr><td>datetime[ns]</td><td>f64</td><td>f64</td><td>f64</td><td>f64</td><td>i64</td><td>f64</td><td>f64</td></tr></thead><tbody><tr><td>2022-05-24 00:00:00</td><td>392.559998</td><td>395.149994</td><td>386.959991</td><td>380.571136</td><td>91448800</td><td>-0.007634</td><td>0.021165</td></tr><tr><td>2022-05-25 00:00:00</td><td>392.309998</td><td>399.450012</td><td>391.890015</td><td>383.93335</td><td>91472900</td><td>0.008835</td><td>0.019291</td></tr><tr><td>2022-05-26 00:00:00</td><td>398.670013</td><td>407.040009</td><td>398.450012</td><td>391.604919</td><td>82168300</td><td>0.019982</td><td>0.021559</td></tr><tr><td>2022-05-27 00:00:00</td><td>407.910004</td><td>415.380005</td><td>407.700012</td><td>401.218506</td><td>84768700</td><td>0.024549</td><td>0.018837</td></tr><tr><td>2022-05-31 00:00:00</td><td>413.549988</td><td>416.459991</td><td>410.029999</td><td>398.967285</td><td>95937000</td><td>-0.005611</td><td>0.015682</td></tr></tbody></table></div>"
      ],
      "text/plain": [
       "shape: (5, 8)\n",
       "┌────────────┬────────────┬────────────┬────────────┬────────────┬──────────┬───────────┬──────────┐\n",
       "│ Date       ┆ Open       ┆ High       ┆ Low        ┆ Adj Close  ┆ Volume   ┆ Returns   ┆ Range    │\n",
       "│ ---        ┆ ---        ┆ ---        ┆ ---        ┆ ---        ┆ ---      ┆ ---       ┆ ---      │\n",
       "│ datetime[n ┆ f64        ┆ f64        ┆ f64        ┆ f64        ┆ i64      ┆ f64       ┆ f64      │\n",
       "│ s]         ┆            ┆            ┆            ┆            ┆          ┆           ┆          │\n",
       "╞════════════╪════════════╪════════════╪════════════╪════════════╪══════════╪═══════════╪══════════╡\n",
       "│ 2022-05-24 ┆ 392.559998 ┆ 395.149994 ┆ 386.959991 ┆ 380.571136 ┆ 91448800 ┆ -0.007634 ┆ 0.021165 │\n",
       "│ 00:00:00   ┆            ┆            ┆            ┆            ┆          ┆           ┆          │\n",
       "│ 2022-05-25 ┆ 392.309998 ┆ 399.450012 ┆ 391.890015 ┆ 383.93335  ┆ 91472900 ┆ 0.008835  ┆ 0.019291 │\n",
       "│ 00:00:00   ┆            ┆            ┆            ┆            ┆          ┆           ┆          │\n",
       "│ 2022-05-26 ┆ 398.670013 ┆ 407.040009 ┆ 398.450012 ┆ 391.604919 ┆ 82168300 ┆ 0.019982  ┆ 0.021559 │\n",
       "│ 00:00:00   ┆            ┆            ┆            ┆            ┆          ┆           ┆          │\n",
       "│ 2022-05-27 ┆ 407.910004 ┆ 415.380005 ┆ 407.700012 ┆ 401.218506 ┆ 84768700 ┆ 0.024549  ┆ 0.018837 │\n",
       "│ 00:00:00   ┆            ┆            ┆            ┆            ┆          ┆           ┆          │\n",
       "│ 2022-05-31 ┆ 413.549988 ┆ 416.459991 ┆ 410.029999 ┆ 398.967285 ┆ 95937000 ┆ -0.005611 ┆ 0.015682 │\n",
       "│ 00:00:00   ┆            ┆            ┆            ┆            ┆          ┆           ┆          │\n",
       "└────────────┴────────────┴────────────┴────────────┴────────────┴──────────┴───────────┴──────────┘"
      ]
     },
     "execution_count": 17,
     "metadata": {},
     "output_type": "execute_result"
    }
   ],
   "source": [
    "df.tail()"
   ]
  },
  {
   "cell_type": "markdown",
   "id": "28c24eba-075d-42fa-9331-89cd3729eaf5",
   "metadata": {},
   "source": [
    "## Structure Data"
   ]
  },
  {
   "cell_type": "code",
   "execution_count": 19,
   "id": "c3966bdd-362c-438c-8f3b-f0ce8c269608",
   "metadata": {},
   "outputs": [
    {
     "data": {
      "text/html": [
       "<div><style>\n",
       ".dataframe > thead > tr,\n",
       ".dataframe > tbody > tr {\n",
       "  text-align: right;\n",
       "  white-space: pre-wrap;\n",
       "}\n",
       "</style>\n",
       "<small>shape: (5, 2)</small><table border=\"1\" class=\"dataframe\"><thead><tr><th>Returns</th><th>Range</th></tr><tr><td>f64</td><td>f64</td></tr></thead><tbody><tr><td>0.005949</td><td>0.005053</td></tr><tr><td>-0.000794</td><td>0.004879</td></tr><tr><td>0.003578</td><td>0.008189</td></tr><tr><td>-0.003301</td><td>0.002871</td></tr><tr><td>0.0</td><td>0.006371</td></tr></tbody></table></div>"
      ],
      "text/plain": [
       "shape: (5, 2)\n",
       "┌───────────┬──────────┐\n",
       "│ Returns   ┆ Range    │\n",
       "│ ---       ┆ ---      │\n",
       "│ f64       ┆ f64      │\n",
       "╞═══════════╪══════════╡\n",
       "│ 0.005949  ┆ 0.005053 │\n",
       "│ -0.000794 ┆ 0.004879 │\n",
       "│ 0.003578  ┆ 0.008189 │\n",
       "│ -0.003301 ┆ 0.002871 │\n",
       "│ 0.0       ┆ 0.006371 │\n",
       "└───────────┴──────────┘"
      ]
     },
     "execution_count": 19,
     "metadata": {},
     "output_type": "execute_result"
    }
   ],
   "source": [
    "# Structure Data\n",
    "X_train = df.select(['Returns', 'Range']) # in polars we use .select\n",
    "\n",
    "# Display the first few rows of the structured data\n",
    "X_train.head()"
   ]
  },
  {
   "cell_type": "code",
   "execution_count": null,
   "id": "2d27ab75-a07f-467b-83be-b8dc533fc403",
   "metadata": {},
   "outputs": [],
   "source": []
  }
 ],
 "metadata": {
  "kernelspec": {
   "display_name": "Python 3 (ipykernel)",
   "language": "python",
   "name": "python3"
  },
  "language_info": {
   "codemirror_mode": {
    "name": "ipython",
    "version": 3
   },
   "file_extension": ".py",
   "mimetype": "text/x-python",
   "name": "python",
   "nbconvert_exporter": "python",
   "pygments_lexer": "ipython3",
   "version": "3.12.0"
  }
 },
 "nbformat": 4,
 "nbformat_minor": 5
}
