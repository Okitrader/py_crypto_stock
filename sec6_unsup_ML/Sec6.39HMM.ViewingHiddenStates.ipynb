{
 "cells": [
  {
   "cell_type": "markdown",
   "id": "f1db2597-9e28-4891-be37-314c4c23155f",
   "metadata": {},
   "source": [
    "### Imports"
   ]
  },
  {
   "cell_type": "code",
   "execution_count": 53,
   "id": "c1cee09f-1c24-4d3c-a883-8e99caba7ea3",
   "metadata": {},
   "outputs": [
    {
     "name": "stdout",
     "output_type": "stream",
     "text": [
      "Libraries imported successfully\n"
     ]
    }
   ],
   "source": [
    "# Import necessary libraries for data manipulation and visualization\n",
    "import pandas as pd\n",
    "import polars as pl\n",
    "import numpy as np\n",
    "\n",
    "from datetime import datetime\n",
    "\n",
    "from hmmlearn.hmm import GaussianHMM\n",
    "from pandas_datareader.data import DataReader\n",
    "\n",
    "import matplotlib.pyplot as plt\n",
    "\n",
    "# Verify all libraries are imported correctly\n",
    "print(\"Libraries imported successfully\")"
   ]
  },
  {
   "cell_type": "markdown",
   "id": "9fb7088e-86e1-4a04-8547-51ae22b8d291",
   "metadata": {},
   "source": [
    "### Data Management"
   ]
  },
  {
   "cell_type": "code",
   "execution_count": 54,
   "id": "e4fce823-6a92-4e2a-a74e-d41afb3abd10",
   "metadata": {},
   "outputs": [
    {
     "name": "stdout",
     "output_type": "stream",
     "text": [
      "[*********************100%%**********************]  1 of 1 completed\n"
     ]
    }
   ],
   "source": [
    "# Import necessary libraries\n",
    "import yfinance as yf\n",
    "\n",
    "# Set start and end dates for the data extraction\n",
    "start_date = \"2019-01-01\"\n",
    "end_date = \"2024-07-01\"\n",
    "symbol = \"XLV\"\n",
    "\n",
    "# Fetch data using yfinance\n",
    "data = yf.download(symbol, start=start_date, end=end_date)\n",
    "\n",
    "# USD_JPY = yf.Ticker(\"USDJPY=X\")\n",
    "# df_usd_jpy = USD_JPY.history(periods=\"max\")\n",
    "# df_usd_jpy.head()\n"
   ]
  },
  {
   "cell_type": "code",
   "execution_count": 55,
   "id": "15ce1200-69ae-454f-945f-7f3c54fcb126",
   "metadata": {},
   "outputs": [
    {
     "data": {
      "text/html": [
       "<div>\n",
       "<style scoped>\n",
       "    .dataframe tbody tr th:only-of-type {\n",
       "        vertical-align: middle;\n",
       "    }\n",
       "\n",
       "    .dataframe tbody tr th {\n",
       "        vertical-align: top;\n",
       "    }\n",
       "\n",
       "    .dataframe thead th {\n",
       "        text-align: right;\n",
       "    }\n",
       "</style>\n",
       "<table border=\"1\" class=\"dataframe\">\n",
       "  <thead>\n",
       "    <tr style=\"text-align: right;\">\n",
       "      <th></th>\n",
       "      <th>Open</th>\n",
       "      <th>High</th>\n",
       "      <th>Low</th>\n",
       "      <th>Close</th>\n",
       "      <th>Adj Close</th>\n",
       "      <th>Volume</th>\n",
       "    </tr>\n",
       "    <tr>\n",
       "      <th>Date</th>\n",
       "      <th></th>\n",
       "      <th></th>\n",
       "      <th></th>\n",
       "      <th></th>\n",
       "      <th></th>\n",
       "      <th></th>\n",
       "    </tr>\n",
       "  </thead>\n",
       "  <tbody>\n",
       "    <tr>\n",
       "      <th>2019-01-02</th>\n",
       "      <td>85.180000</td>\n",
       "      <td>85.830002</td>\n",
       "      <td>84.269997</td>\n",
       "      <td>85.199997</td>\n",
       "      <td>77.548515</td>\n",
       "      <td>14179900</td>\n",
       "    </tr>\n",
       "    <tr>\n",
       "      <th>2019-01-03</th>\n",
       "      <td>85.320000</td>\n",
       "      <td>85.500000</td>\n",
       "      <td>83.250000</td>\n",
       "      <td>83.470001</td>\n",
       "      <td>75.973915</td>\n",
       "      <td>17668000</td>\n",
       "    </tr>\n",
       "    <tr>\n",
       "      <th>2019-01-04</th>\n",
       "      <td>84.449997</td>\n",
       "      <td>86.430000</td>\n",
       "      <td>84.410004</td>\n",
       "      <td>85.959999</td>\n",
       "      <td>78.240295</td>\n",
       "      <td>16262600</td>\n",
       "    </tr>\n",
       "    <tr>\n",
       "      <th>2019-01-07</th>\n",
       "      <td>85.989998</td>\n",
       "      <td>87.099998</td>\n",
       "      <td>85.730003</td>\n",
       "      <td>86.290001</td>\n",
       "      <td>78.540649</td>\n",
       "      <td>12387200</td>\n",
       "    </tr>\n",
       "    <tr>\n",
       "      <th>2019-01-08</th>\n",
       "      <td>86.980003</td>\n",
       "      <td>87.250000</td>\n",
       "      <td>86.000000</td>\n",
       "      <td>86.959999</td>\n",
       "      <td>79.150482</td>\n",
       "      <td>13371000</td>\n",
       "    </tr>\n",
       "  </tbody>\n",
       "</table>\n",
       "</div>"
      ],
      "text/plain": [
       "                 Open       High        Low      Close  Adj Close    Volume\n",
       "Date                                                                       \n",
       "2019-01-02  85.180000  85.830002  84.269997  85.199997  77.548515  14179900\n",
       "2019-01-03  85.320000  85.500000  83.250000  83.470001  75.973915  17668000\n",
       "2019-01-04  84.449997  86.430000  84.410004  85.959999  78.240295  16262600\n",
       "2019-01-07  85.989998  87.099998  85.730003  86.290001  78.540649  12387200\n",
       "2019-01-08  86.980003  87.250000  86.000000  86.959999  79.150482  13371000"
      ]
     },
     "execution_count": 55,
     "metadata": {},
     "output_type": "execute_result"
    }
   ],
   "source": [
    "data.head()"
   ]
  },
  {
   "cell_type": "code",
   "execution_count": 56,
   "id": "7ed20e16-d9d4-424a-b4f4-4d95ea293e8f",
   "metadata": {},
   "outputs": [],
   "source": [
    "# Convert to Polars DataFrame and include dates\n",
    "import polars as pl\n",
    "\n",
    "data.reset_index(inplace=True) # need to add the date as index otherwise it will drop the date during conversion\n",
    "data = pl.DataFrame(data)\n",
    "\n",
    "# Select relevant columns: Date, Open, High, Low, Adj Close, and Volume\n",
    "data = data.select([\"Date\", \"Open\", \"High\", \"Low\", \"Adj Close\", \"Volume\"])"
   ]
  },
  {
   "cell_type": "code",
   "execution_count": 57,
   "id": "a166eab1-e73a-4d0e-b89b-d9b488dabf6d",
   "metadata": {},
   "outputs": [
    {
     "name": "stdout",
     "output_type": "stream",
     "text": [
      "['Date', 'Open', 'High', 'Low', 'Adj Close', 'Volume']\n",
      "OrderedDict({'Date': Datetime(time_unit='ns', time_zone=None), 'Open': Float64, 'High': Float64, 'Low': Float64, 'Adj Close': Float64, 'Volume': Int64})\n"
     ]
    }
   ],
   "source": [
    "\n",
    "print(data.columns)\n",
    "print(data.schema)"
   ]
  },
  {
   "cell_type": "code",
   "execution_count": 58,
   "id": "f585226d-3220-4c15-8e77-9ee55ed8a593",
   "metadata": {},
   "outputs": [
    {
     "data": {
      "text/html": [
       "<div><style>\n",
       ".dataframe > thead > tr,\n",
       ".dataframe > tbody > tr {\n",
       "  text-align: right;\n",
       "  white-space: pre-wrap;\n",
       "}\n",
       "</style>\n",
       "<small>shape: (3, 6)</small><table border=\"1\" class=\"dataframe\"><thead><tr><th>Date</th><th>Open</th><th>High</th><th>Low</th><th>Adj Close</th><th>Volume</th></tr><tr><td>datetime[ns]</td><td>f64</td><td>f64</td><td>f64</td><td>f64</td><td>i64</td></tr></thead><tbody><tr><td>2019-01-02 00:00:00</td><td>85.18</td><td>85.830002</td><td>84.269997</td><td>77.548515</td><td>14179900</td></tr><tr><td>2019-01-03 00:00:00</td><td>85.32</td><td>85.5</td><td>83.25</td><td>75.973915</td><td>17668000</td></tr><tr><td>2019-01-04 00:00:00</td><td>84.449997</td><td>86.43</td><td>84.410004</td><td>78.240295</td><td>16262600</td></tr></tbody></table></div>"
      ],
      "text/plain": [
       "shape: (3, 6)\n",
       "┌─────────────────────┬───────────┬───────────┬───────────┬───────────┬──────────┐\n",
       "│ Date                ┆ Open      ┆ High      ┆ Low       ┆ Adj Close ┆ Volume   │\n",
       "│ ---                 ┆ ---       ┆ ---       ┆ ---       ┆ ---       ┆ ---      │\n",
       "│ datetime[ns]        ┆ f64       ┆ f64       ┆ f64       ┆ f64       ┆ i64      │\n",
       "╞═════════════════════╪═══════════╪═══════════╪═══════════╪═══════════╪══════════╡\n",
       "│ 2019-01-02 00:00:00 ┆ 85.18     ┆ 85.830002 ┆ 84.269997 ┆ 77.548515 ┆ 14179900 │\n",
       "│ 2019-01-03 00:00:00 ┆ 85.32     ┆ 85.5      ┆ 83.25     ┆ 75.973915 ┆ 17668000 │\n",
       "│ 2019-01-04 00:00:00 ┆ 84.449997 ┆ 86.43     ┆ 84.410004 ┆ 78.240295 ┆ 16262600 │\n",
       "└─────────────────────┴───────────┴───────────┴───────────┴───────────┴──────────┘"
      ]
     },
     "execution_count": 58,
     "metadata": {},
     "output_type": "execute_result"
    }
   ],
   "source": [
    "data.head(3)"
   ]
  },
  {
   "cell_type": "code",
   "execution_count": 59,
   "id": "ffbf5951-eadf-4142-8f01-31daa9a1a915",
   "metadata": {},
   "outputs": [
    {
     "data": {
      "text/html": [
       "<div><style>\n",
       ".dataframe > thead > tr,\n",
       ".dataframe > tbody > tr {\n",
       "  text-align: right;\n",
       "  white-space: pre-wrap;\n",
       "}\n",
       "</style>\n",
       "<small>shape: (5, 8)</small><table border=\"1\" class=\"dataframe\"><thead><tr><th>Date</th><th>Open</th><th>High</th><th>Low</th><th>Adj Close</th><th>Volume</th><th>Returns</th><th>Range</th></tr><tr><td>datetime[ns]</td><td>f64</td><td>f64</td><td>f64</td><td>f64</td><td>i64</td><td>f64</td><td>f64</td></tr></thead><tbody><tr><td>2019-01-03 00:00:00</td><td>85.32</td><td>85.5</td><td>83.25</td><td>75.973915</td><td>17668000</td><td>-0.020305</td><td>0.027027</td></tr><tr><td>2019-01-04 00:00:00</td><td>84.449997</td><td>86.43</td><td>84.410004</td><td>78.240295</td><td>16262600</td><td>0.029831</td><td>0.023931</td></tr><tr><td>2019-01-07 00:00:00</td><td>85.989998</td><td>87.099998</td><td>85.730003</td><td>78.540649</td><td>12387200</td><td>0.003839</td><td>0.01598</td></tr><tr><td>2019-01-08 00:00:00</td><td>86.980003</td><td>87.25</td><td>86.0</td><td>79.150482</td><td>13371000</td><td>0.007765</td><td>0.014535</td></tr><tr><td>2019-01-09 00:00:00</td><td>87.339996</td><td>87.860001</td><td>87.089996</td><td>79.505463</td><td>11259700</td><td>0.004485</td><td>0.008841</td></tr></tbody></table></div>"
      ],
      "text/plain": [
       "shape: (5, 8)\n",
       "┌────────────────┬───────────┬───────────┬───────────┬───────────┬──────────┬───────────┬──────────┐\n",
       "│ Date           ┆ Open      ┆ High      ┆ Low       ┆ Adj Close ┆ Volume   ┆ Returns   ┆ Range    │\n",
       "│ ---            ┆ ---       ┆ ---       ┆ ---       ┆ ---       ┆ ---      ┆ ---       ┆ ---      │\n",
       "│ datetime[ns]   ┆ f64       ┆ f64       ┆ f64       ┆ f64       ┆ i64      ┆ f64       ┆ f64      │\n",
       "╞════════════════╪═══════════╪═══════════╪═══════════╪═══════════╪══════════╪═══════════╪══════════╡\n",
       "│ 2019-01-03     ┆ 85.32     ┆ 85.5      ┆ 83.25     ┆ 75.973915 ┆ 17668000 ┆ -0.020305 ┆ 0.027027 │\n",
       "│ 00:00:00       ┆           ┆           ┆           ┆           ┆          ┆           ┆          │\n",
       "│ 2019-01-04     ┆ 84.449997 ┆ 86.43     ┆ 84.410004 ┆ 78.240295 ┆ 16262600 ┆ 0.029831  ┆ 0.023931 │\n",
       "│ 00:00:00       ┆           ┆           ┆           ┆           ┆          ┆           ┆          │\n",
       "│ 2019-01-07     ┆ 85.989998 ┆ 87.099998 ┆ 85.730003 ┆ 78.540649 ┆ 12387200 ┆ 0.003839  ┆ 0.01598  │\n",
       "│ 00:00:00       ┆           ┆           ┆           ┆           ┆          ┆           ┆          │\n",
       "│ 2019-01-08     ┆ 86.980003 ┆ 87.25     ┆ 86.0      ┆ 79.150482 ┆ 13371000 ┆ 0.007765  ┆ 0.014535 │\n",
       "│ 00:00:00       ┆           ┆           ┆           ┆           ┆          ┆           ┆          │\n",
       "│ 2019-01-09     ┆ 87.339996 ┆ 87.860001 ┆ 87.089996 ┆ 79.505463 ┆ 11259700 ┆ 0.004485  ┆ 0.008841 │\n",
       "│ 00:00:00       ┆           ┆           ┆           ┆           ┆          ┆           ┆          │\n",
       "└────────────────┴───────────┴───────────┴───────────┴───────────┴──────────┴───────────┴──────────┘"
      ]
     },
     "execution_count": 59,
     "metadata": {},
     "output_type": "execute_result"
    }
   ],
   "source": [
    "# Create a copy of the dataframe and add returns and range columns\n",
    "df = data.clone()\n",
    "\n",
    "# Calculate daily returns\n",
    "df = df.with_columns((pl.col(\"Adj Close\") / pl.col(\"Adj Close\").shift(1) - 1).alias(\"Returns\")) # the -1 returns the percent return in decimals\n",
    "\n",
    "# Calculate daily range (volatility)\n",
    "df = df.with_columns((pl.col(\"High\") / pl.col(\"Low\")-1).alias(\"Range\")) # the -1 returns the percent return in decimals\n",
    "\n",
    "# Drop NaN values created by the pct_change method\n",
    "# In Polars, the drop_nulls method does not require the inplace=True parameter as it returns a new DataFrame by default. \n",
    "df = df.drop_nulls()\n",
    "\n",
    "# Display the updated dataframe with new columns\n",
    "df.head()"
   ]
  },
  {
   "cell_type": "code",
   "execution_count": 60,
   "id": "70af2cfc-ee1d-489f-8db6-f3d7d7b2fa65",
   "metadata": {},
   "outputs": [
    {
     "data": {
      "text/html": [
       "<div><style>\n",
       ".dataframe > thead > tr,\n",
       ".dataframe > tbody > tr {\n",
       "  text-align: right;\n",
       "  white-space: pre-wrap;\n",
       "}\n",
       "</style>\n",
       "<small>shape: (5, 8)</small><table border=\"1\" class=\"dataframe\"><thead><tr><th>Date</th><th>Open</th><th>High</th><th>Low</th><th>Adj Close</th><th>Volume</th><th>Returns</th><th>Range</th></tr><tr><td>datetime[ns]</td><td>f64</td><td>f64</td><td>f64</td><td>f64</td><td>i64</td><td>f64</td><td>f64</td></tr></thead><tbody><tr><td>2024-06-24 00:00:00</td><td>146.830002</td><td>147.610001</td><td>146.449997</td><td>147.089996</td><td>6446100</td><td>0.005833</td><td>0.007921</td></tr><tr><td>2024-06-25 00:00:00</td><td>147.259995</td><td>147.470001</td><td>146.279999</td><td>146.630005</td><td>5171600</td><td>-0.003127</td><td>0.008135</td></tr><tr><td>2024-06-26 00:00:00</td><td>146.369995</td><td>146.630005</td><td>145.770004</td><td>146.110001</td><td>4572700</td><td>-0.003546</td><td>0.0059</td></tr><tr><td>2024-06-27 00:00:00</td><td>146.220001</td><td>146.279999</td><td>145.029999</td><td>145.869995</td><td>4637900</td><td>-0.001643</td><td>0.008619</td></tr><tr><td>2024-06-28 00:00:00</td><td>146.410004</td><td>147.020004</td><td>145.100006</td><td>145.75</td><td>7656800</td><td>-0.000823</td><td>0.013232</td></tr></tbody></table></div>"
      ],
      "text/plain": [
       "shape: (5, 8)\n",
       "┌─────────────┬────────────┬────────────┬────────────┬────────────┬─────────┬───────────┬──────────┐\n",
       "│ Date        ┆ Open       ┆ High       ┆ Low        ┆ Adj Close  ┆ Volume  ┆ Returns   ┆ Range    │\n",
       "│ ---         ┆ ---        ┆ ---        ┆ ---        ┆ ---        ┆ ---     ┆ ---       ┆ ---      │\n",
       "│ datetime[ns ┆ f64        ┆ f64        ┆ f64        ┆ f64        ┆ i64     ┆ f64       ┆ f64      │\n",
       "│ ]           ┆            ┆            ┆            ┆            ┆         ┆           ┆          │\n",
       "╞═════════════╪════════════╪════════════╪════════════╪════════════╪═════════╪═══════════╪══════════╡\n",
       "│ 2024-06-24  ┆ 146.830002 ┆ 147.610001 ┆ 146.449997 ┆ 147.089996 ┆ 6446100 ┆ 0.005833  ┆ 0.007921 │\n",
       "│ 00:00:00    ┆            ┆            ┆            ┆            ┆         ┆           ┆          │\n",
       "│ 2024-06-25  ┆ 147.259995 ┆ 147.470001 ┆ 146.279999 ┆ 146.630005 ┆ 5171600 ┆ -0.003127 ┆ 0.008135 │\n",
       "│ 00:00:00    ┆            ┆            ┆            ┆            ┆         ┆           ┆          │\n",
       "│ 2024-06-26  ┆ 146.369995 ┆ 146.630005 ┆ 145.770004 ┆ 146.110001 ┆ 4572700 ┆ -0.003546 ┆ 0.0059   │\n",
       "│ 00:00:00    ┆            ┆            ┆            ┆            ┆         ┆           ┆          │\n",
       "│ 2024-06-27  ┆ 146.220001 ┆ 146.279999 ┆ 145.029999 ┆ 145.869995 ┆ 4637900 ┆ -0.001643 ┆ 0.008619 │\n",
       "│ 00:00:00    ┆            ┆            ┆            ┆            ┆         ┆           ┆          │\n",
       "│ 2024-06-28  ┆ 146.410004 ┆ 147.020004 ┆ 145.100006 ┆ 145.75     ┆ 7656800 ┆ -0.000823 ┆ 0.013232 │\n",
       "│ 00:00:00    ┆            ┆            ┆            ┆            ┆         ┆           ┆          │\n",
       "└─────────────┴────────────┴────────────┴────────────┴────────────┴─────────┴───────────┴──────────┘"
      ]
     },
     "execution_count": 60,
     "metadata": {},
     "output_type": "execute_result"
    }
   ],
   "source": [
    "df.tail()"
   ]
  },
  {
   "cell_type": "markdown",
   "id": "28c24eba-075d-42fa-9331-89cd3729eaf5",
   "metadata": {},
   "source": [
    "## Structure Data"
   ]
  },
  {
   "cell_type": "code",
   "execution_count": 61,
   "id": "c3966bdd-362c-438c-8f3b-f0ce8c269608",
   "metadata": {},
   "outputs": [
    {
     "data": {
      "text/html": [
       "<div><style>\n",
       ".dataframe > thead > tr,\n",
       ".dataframe > tbody > tr {\n",
       "  text-align: right;\n",
       "  white-space: pre-wrap;\n",
       "}\n",
       "</style>\n",
       "<small>shape: (5, 2)</small><table border=\"1\" class=\"dataframe\"><thead><tr><th>Returns</th><th>Range</th></tr><tr><td>f64</td><td>f64</td></tr></thead><tbody><tr><td>-0.020305</td><td>0.027027</td></tr><tr><td>0.029831</td><td>0.023931</td></tr><tr><td>0.003839</td><td>0.01598</td></tr><tr><td>0.007765</td><td>0.014535</td></tr><tr><td>0.004485</td><td>0.008841</td></tr></tbody></table></div>"
      ],
      "text/plain": [
       "shape: (5, 2)\n",
       "┌───────────┬──────────┐\n",
       "│ Returns   ┆ Range    │\n",
       "│ ---       ┆ ---      │\n",
       "│ f64       ┆ f64      │\n",
       "╞═══════════╪══════════╡\n",
       "│ -0.020305 ┆ 0.027027 │\n",
       "│ 0.029831  ┆ 0.023931 │\n",
       "│ 0.003839  ┆ 0.01598  │\n",
       "│ 0.007765  ┆ 0.014535 │\n",
       "│ 0.004485  ┆ 0.008841 │\n",
       "└───────────┴──────────┘"
      ]
     },
     "execution_count": 61,
     "metadata": {},
     "output_type": "execute_result"
    }
   ],
   "source": [
    "# Structure Data\n",
    "X_train = df.select(['Returns', 'Range']) # in polars we use .select\n",
    "\n",
    "# Display the first few rows of the structured data\n",
    "X_train.head()"
   ]
  },
  {
   "cell_type": "markdown",
   "id": "9719f22e-914a-4d4c-ba5a-e9a588a437fd",
   "metadata": {},
   "source": [
    "Hidden Markov Model (HMM) for Market Analysis\n",
    "Overview\n",
    "This notebook demonstrates how to use a Hidden Markov Model (HMM) to analyze market states using financial data.\n",
    "Data Preparation\n",
    "\n",
    "We're using SPI (S&P 500 Index) data from 2017 to 2022.\n",
    "The data includes features like returns and ranges.\n",
    "\n",
    "Training the HMM\n",
    "Import required libraries"
   ]
  },
  {
   "cell_type": "markdown",
   "id": "1a392e76-a186-4ae1-beb7-145b82616b63",
   "metadata": {},
   "source": [
    "## HMM Learning"
   ]
  },
  {
   "cell_type": "code",
   "execution_count": 62,
   "id": "055cf6b4-8035-4b77-8a2b-af1716348f07",
   "metadata": {},
   "outputs": [
    {
     "name": "stdout",
     "output_type": "stream",
     "text": [
      "Shape of X_train_np: (1381, 2)\n",
      "\n",
      "First few rows of X_train_np:\n",
      "[[-0.02030471  0.02702703]\n",
      " [ 0.02983103  0.02393077]\n",
      " [ 0.00383887  0.01598035]\n",
      " [ 0.00776455  0.01453488]\n",
      " [ 0.00448488  0.00884148]]\n",
      "\n",
      "Number of features detected: 2\n"
     ]
    }
   ],
   "source": [
    "#Data Preparation\n",
    "import polars as pl\n",
    "import numpy as np\n",
    "from hmmlearn.hmm import GaussianHMM\n",
    "\n",
    "# Convert Polars DataFrame to NumPy array\n",
    "X_train_np = X_train.to_numpy()\n",
    "print(\"Shape of X_train_np:\", X_train_np.shape)\n",
    "\n",
    "# Display first few rows of the data\n",
    "print(\"\\nFirst few rows of X_train_np:\")\n",
    "print(X_train_np[:5])\n",
    "\n",
    "# Determine the number of features\n",
    "n_features = X_train_np.shape[1]\n",
    "print(f\"\\nNumber of features detected: {n_features}\")\n",
    "\n",
    "# Comments:\n",
    "# - We convert the Polars DataFrame to a NumPy array because HMM requires this format.\n",
    "# - The shape of X_train_np tells us how many trading days (rows) and features (columns) we have.\n",
    "# - For trading, we typically use 2 features: returns and volatility (or range).\n",
    "# - Checking the first few rows helps us verify that our data looks correct (e.g., reasonable values for returns and volatility).\n",
    "# - The number of features is crucial for properly configuring our HMM to detect market regimes."
   ]
  },
  {
   "cell_type": "code",
   "execution_count": 63,
   "id": "baae9972-01d7-4347-82de-f15f9be3c335",
   "metadata": {},
   "outputs": [
    {
     "name": "stdout",
     "output_type": "stream",
     "text": [
      "Model Score: 9947.463449705585\n"
     ]
    }
   ],
   "source": [
    "# Fit Model\n",
    "hmm_model = GaussianHMM(n_components=4, covariance_type=\"full\", n_iter=100).fit(X_train)\n",
    "print(\"Model Score:\", hmm_model.score(X_train))\n",
    "\n",
    "# Comments:\n",
    "# - We use GaussianHMM instead of GMM (Gaussian Mixture Model) as it's better suited for time series data in trading.\n",
    "# - n_components=4: We assume 4 hidden market states (e.g., bull, bear, sideways, volatile).\n",
    "# - covariance_type=\"full\": Allows for complex relationships between features, capturing nuanced market dynamics.\n",
    "# - n_iter=100: Maximum number of iterations for the training algorithm. Adjust if needed for convergence.\n",
    "# - .fit(X_train): Trains the model on our historical market data in one step.\n",
    "# - The model score is the log-likelihood of the data given the model. Higher values indicate better fit.\n",
    "# - In trading, a well-fitted model can more accurately identify current market regimes and potentially predict transitions."
   ]
  },
  {
   "cell_type": "code",
   "execution_count": 64,
   "id": "085a984b-498b-47a8-a535-2fec5831fe39",
   "metadata": {},
   "outputs": [
    {
     "name": "stdout",
     "output_type": "stream",
     "text": [
      "First 20 hidden states: [0 0 1 1 1 1 1 1 1 1 1 1 1 1 1 1 1 1 1 1]\n",
      "\n",
      "Unique states: [0 1 2 3]\n",
      "\n",
      "State frequencies:\n",
      "State 0: 22.52%\n",
      "State 1: 75.02%\n",
      "State 2: 1.45%\n",
      "State 3: 1.01%\n"
     ]
    }
   ],
   "source": [
    "# Check Results\n",
    "hidden_states = hmm_model.predict(X_train)\n",
    "print(\"First 20 hidden states:\", hidden_states[:20])\n",
    "print(\"\\nUnique states:\", np.unique(hidden_states))\n",
    "print(\"\\nState frequencies:\")\n",
    "for i in range(hmm_model.n_components):\n",
    "    print(f\"State {i}: {np.sum(hidden_states == i) / len(hidden_states):.2%}\")\n",
    "\n",
    "# Comments:\n",
    "# - model.predict() assigns the most likely hidden state to each data point in our trading time series.\n",
    "# - In trading context, each state represents a different market regime (e.g., bullish, bearish, volatile, sideways).\n",
    "# - The first 20 states give us a quick look at how the model interprets the beginning of our data.\n",
    "# - Unique states confirm that all defined states (0 to 3) are being used.\n",
    "# - State frequencies show how often each market regime occurs in our data.\n",
    "# - This information can be used to:\n",
    "#   1. Identify current market conditions.\n",
    "#   2. Develop regime-specific trading strategies.\n",
    "#   3. Analyze how different regimes affect trading performance."
   ]
  },
  {
   "cell_type": "code",
   "execution_count": 65,
   "id": "b49bb723-3a65-4556-8c71-92cb2459efc2",
   "metadata": {},
   "outputs": [
    {
     "data": {
      "text/plain": [
       "array([[-0.00221249,  0.01841066],\n",
       "       [ 0.00149662,  0.01004091],\n",
       "       [-0.03215677,  0.04708853],\n",
       "       [ 0.03990416,  0.0442594 ]])"
      ]
     },
     "execution_count": 65,
     "metadata": {},
     "output_type": "execute_result"
    }
   ],
   "source": [
    "# Regime state means for each feature\n",
    "state_means = hmm_model.means_\n",
    "state_means"
   ]
  },
  {
   "cell_type": "code",
   "execution_count": 66,
   "id": "6926eb8c-f493-45f4-8629-7493609f0656",
   "metadata": {},
   "outputs": [
    {
     "data": {
      "text/plain": [
       "array([[[2.23699146e-04, 2.60495611e-05],\n",
       "        [2.60495611e-05, 6.75500768e-05]],\n",
       "\n",
       "       [[5.22563538e-05, 1.32174262e-05],\n",
       "        [1.32174262e-05, 2.13688653e-05]],\n",
       "\n",
       "       [[1.18797477e-03, 2.30751018e-04],\n",
       "        [2.30751018e-04, 8.53564327e-04]],\n",
       "\n",
       "       [[1.44980251e-03, 9.42420707e-04],\n",
       "        [9.42420707e-04, 9.61930044e-04]]])"
      ]
     },
     "execution_count": 66,
     "metadata": {},
     "output_type": "execute_result"
    }
   ],
   "source": [
    "# Regime state covariances for each feature\n",
    "state_covars = hmm_model.covars_\n",
    "\n",
    "state_covars"
   ]
  },
  {
   "cell_type": "markdown",
   "id": "1bbe1105-cc7a-4867-9864-3ed1e4d1a1ac",
   "metadata": {},
   "source": [
    "### Data Visualization"
   ]
  },
  {
   "cell_type": "code",
   "execution_count": 67,
   "id": "66b5d04e-906c-42b4-85c1-132fc9994dce",
   "metadata": {},
   "outputs": [
    {
     "name": "stdout",
     "output_type": "stream",
     "text": [
      "Correct number of rows:  True\n"
     ]
    }
   ],
   "source": [
    "# Structure the prices for plotting\n",
    "import polars as pl\n",
    "\n",
    "# Initialize labels for each state\n",
    "labels_0, labels_1, labels_2, labels_3 = [], [], [], []\n",
    "\n",
    "# Get prices from the dataframe\n",
    "prices = df[\"Adj Close\"].to_numpy().astype(float)\n",
    "\n",
    "# Verify that the number of prices matches the number of hidden states\n",
    "print(\"Correct number of rows: \", len(prices) == len(hidden_states))\n",
    "\n",
    "# Populate labels based on hidden states\n",
    "for s, price in zip(hidden_states, prices):\n",
    "    if s == 0:\n",
    "        labels_0.append(price)\n",
    "        labels_1.append(float('nan'))\n",
    "        labels_2.append(float('nan'))\n",
    "        labels_3.append(float('nan'))\n",
    "    elif s == 1:\n",
    "        labels_0.append(float('nan'))\n",
    "        labels_1.append(price)\n",
    "        labels_2.append(float('nan'))\n",
    "        labels_3.append(float('nan'))\n",
    "    elif s == 2:\n",
    "        labels_0.append(float('nan'))\n",
    "        labels_1.append(float('nan'))\n",
    "        labels_2.append(price)\n",
    "        labels_3.append(float('nan'))\n",
    "    elif s == 3:\n",
    "        labels_0.append(float('nan'))\n",
    "        labels_1.append(float('nan'))\n",
    "        labels_2.append(float('nan'))\n",
    "        labels_3.append(price)\n",
    "\n",
    "# Comments:\n",
    "# - This code prepares data for visualizing different market states.\n",
    "# - We create separate lists for each state (0-3) to store prices.\n",
    "# - The 'hidden_states' array contains the predicted market regime for each time point.\n",
    "# - We populate the labels based on the hidden state:\n",
    "#   - If state is 0, we put the price in labels_0 and NaN in others.\n",
    "#   - This allows us to plot each state separately with gaps where it's not active.\n",
    "# - In trading, this helps visualize:\n",
    "#   1. When different market regimes occur (e.g., trending up, trending down, volatile).\n",
    "#   2. How prices behave in each regime.\n",
    "#   3. The frequency and duration of different market states.\n",
    "# - This visualization can inform trading strategies, risk management, and market analysis."
   ]
  },
  {
   "cell_type": "code",
   "execution_count": 68,
   "id": "4977a59b-9d56-4c6a-9ece-6df722fac5b6",
   "metadata": {},
   "outputs": [
    {
     "data": {
      "image/png": "[encoded data removed]",
      "text/plain": [
       "<Figure size 1800x800 with 1 Axes>"
      ]
     },
     "metadata": {},
     "output_type": "display_data"
    }
   ],
   "source": [
    "# Plot Chart \n",
    "fig = plt.figure(figsize=(18, 8))\n",
    "plt.plot(labels_0, color='black')\n",
    "plt.plot(labels_1, color='green')\n",
    "plt.plot(labels_2, color='orange')\n",
    "plt.plot(labels_3, color='red')\n",
    "plt.show()"
   ]
  },
  {
   "cell_type": "code",
   "execution_count": null,
   "id": "f7f28d87-b21d-448c-8bba-e5e0a240cc8f",
   "metadata": {},
   "outputs": [],
   "source": []
  },
  {
   "cell_type": "code",
   "execution_count": null,
   "id": "8b2af06d-6720-43aa-b65c-04a6d5e58bb8",
   "metadata": {},
   "outputs": [],
   "source": []
  },
  {
   "cell_type": "code",
   "execution_count": null,
   "id": "df77be54-79c8-4b6d-b0f4-2a1986908ed4",
   "metadata": {},
   "outputs": [],
   "source": []
  },
  {
   "cell_type": "code",
   "execution_count": null,
   "id": "4d44877a-eb3a-486e-b019-ee296fd42f38",
   "metadata": {},
   "outputs": [],
   "source": []
  },
  {
   "cell_type": "code",
   "execution_count": null,
   "id": "86123fba-71b1-47b6-a7ac-b700f63e75b7",
   "metadata": {},
   "outputs": [],
   "source": []
  }
 ],
 "metadata": {
  "kernelspec": {
   "display_name": "Python 3 (ipykernel)",
   "language": "python",
   "name": "python3"
  },
  "language_info": {
   "codemirror_mode": {
    "name": "ipython",
    "version": 3
   },
   "file_extension": ".py",
   "mimetype": "text/x-python",
   "name": "python",
   "nbconvert_exporter": "python",
   "pygments_lexer": "ipython3",
   "version": "3.12.0"
  }
 },
 "nbformat": 4,
 "nbformat_minor": 5
}
