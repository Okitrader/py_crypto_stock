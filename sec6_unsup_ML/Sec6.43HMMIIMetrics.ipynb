{
 "cells": [
  {
   "cell_type": "markdown",
   "id": "f1db2597-9e28-4891-be37-314c4c23155f",
   "metadata": {},
   "source": [
    "### Imports"
   ]
  },
  {
   "cell_type": "code",
   "execution_count": 1,
   "id": "c1cee09f-1c24-4d3c-a883-8e99caba7ea3",
   "metadata": {},
   "outputs": [
    {
     "name": "stdout",
     "output_type": "stream",
     "text": [
      "Libraries imported successfully\n"
     ]
    }
   ],
   "source": [
    "# Import necessary libraries for data manipulation and visualization\n",
    "import pandas as pd\n",
    "import polars as pl\n",
    "import numpy as np\n",
    "\n",
    "from datetime import datetime\n",
    "\n",
    "from hmmlearn.hmm import GaussianHMM\n",
    "from pandas_datareader.data import DataReader\n",
    "\n",
    "import matplotlib.pyplot as plt\n",
    "\n",
    "# Verify all libraries are imported correctly\n",
    "print(\"Libraries imported successfully\")"
   ]
  },
  {
   "cell_type": "markdown",
   "id": "9fb7088e-86e1-4a04-8547-51ae22b8d291",
   "metadata": {},
   "source": [
    "### Structure Data"
   ]
  },
  {
   "cell_type": "code",
   "execution_count": 2,
   "id": "e4fce823-6a92-4e2a-a74e-d41afb3abd10",
   "metadata": {},
   "outputs": [
    {
     "name": "stdout",
     "output_type": "stream",
     "text": [
      "[*********************100%%**********************]  1 of 1 completed\n"
     ]
    },
    {
     "data": {
      "text/html": [
       "<div>\n",
       "<style scoped>\n",
       "    .dataframe tbody tr th:only-of-type {\n",
       "        vertical-align: middle;\n",
       "    }\n",
       "\n",
       "    .dataframe tbody tr th {\n",
       "        vertical-align: top;\n",
       "    }\n",
       "\n",
       "    .dataframe thead th {\n",
       "        text-align: right;\n",
       "    }\n",
       "</style>\n",
       "<table border=\"1\" class=\"dataframe\">\n",
       "  <thead>\n",
       "    <tr style=\"text-align: right;\">\n",
       "      <th></th>\n",
       "      <th>Open</th>\n",
       "      <th>High</th>\n",
       "      <th>Low</th>\n",
       "      <th>Close</th>\n",
       "      <th>Adj Close</th>\n",
       "      <th>Volume</th>\n",
       "    </tr>\n",
       "    <tr>\n",
       "      <th>Date</th>\n",
       "      <th></th>\n",
       "      <th></th>\n",
       "      <th></th>\n",
       "      <th></th>\n",
       "      <th></th>\n",
       "      <th></th>\n",
       "    </tr>\n",
       "  </thead>\n",
       "  <tbody>\n",
       "    <tr>\n",
       "      <th>2017-01-03</th>\n",
       "      <td>225.039993</td>\n",
       "      <td>225.830002</td>\n",
       "      <td>223.880005</td>\n",
       "      <td>225.240005</td>\n",
       "      <td>198.560028</td>\n",
       "      <td>91366500</td>\n",
       "    </tr>\n",
       "    <tr>\n",
       "      <th>2017-01-04</th>\n",
       "      <td>225.619995</td>\n",
       "      <td>226.750000</td>\n",
       "      <td>225.610001</td>\n",
       "      <td>226.580002</td>\n",
       "      <td>199.741287</td>\n",
       "      <td>78744400</td>\n",
       "    </tr>\n",
       "    <tr>\n",
       "      <th>2017-01-05</th>\n",
       "      <td>226.270004</td>\n",
       "      <td>226.580002</td>\n",
       "      <td>225.479996</td>\n",
       "      <td>226.399994</td>\n",
       "      <td>199.582642</td>\n",
       "      <td>78379000</td>\n",
       "    </tr>\n",
       "  </tbody>\n",
       "</table>\n",
       "</div>"
      ],
      "text/plain": [
       "                  Open        High         Low       Close   Adj Close  \\\n",
       "Date                                                                     \n",
       "2017-01-03  225.039993  225.830002  223.880005  225.240005  198.560028   \n",
       "2017-01-04  225.619995  226.750000  225.610001  226.580002  199.741287   \n",
       "2017-01-05  226.270004  226.580002  225.479996  226.399994  199.582642   \n",
       "\n",
       "              Volume  \n",
       "Date                  \n",
       "2017-01-03  91366500  \n",
       "2017-01-04  78744400  \n",
       "2017-01-05  78379000  "
      ]
     },
     "execution_count": 2,
     "metadata": {},
     "output_type": "execute_result"
    }
   ],
   "source": [
    "# Import necessary libraries\n",
    "import yfinance as yf\n",
    "\n",
    "# Set start and end dates for the data extraction\n",
    "start_date = \"2017-01-01\"\n",
    "end_date = \"2024-07-01\"\n",
    "symbol = \"SPY\"\n",
    "\n",
    "# Fetch data using yfinance\n",
    "data = yf.download(symbol, start=start_date, end=end_date)\n",
    "data.head(3)"
   ]
  },
  {
   "cell_type": "code",
   "execution_count": 3,
   "id": "7ed20e16-d9d4-424a-b4f4-4d95ea293e8f",
   "metadata": {},
   "outputs": [],
   "source": [
    "# Convert to Polars DataFrame and include dates\n",
    "import polars as pl\n",
    "\n",
    "data.reset_index(inplace=True) # need to add the date as index otherwise it will drop the date during conversion\n",
    "data = pl.DataFrame(data)\n",
    "\n",
    "# Select relevant columns: Date, Open, High, Low, Adj Close\n",
    "data = data.select([\"Date\", \"Open\", \"High\", \"Low\", \"Adj Close\"]) # date is not default added in polars"
   ]
  },
  {
   "cell_type": "code",
   "execution_count": 4,
   "id": "a166eab1-e73a-4d0e-b89b-d9b488dabf6d",
   "metadata": {},
   "outputs": [
    {
     "name": "stdout",
     "output_type": "stream",
     "text": [
      "['Date', 'Open', 'High', 'Low', 'Adj Close']\n",
      "OrderedDict({'Date': Datetime(time_unit='ns', time_zone=None), 'Open': Float64, 'High': Float64, 'Low': Float64, 'Adj Close': Float64})\n"
     ]
    }
   ],
   "source": [
    "\n",
    "print(data.columns)\n",
    "print(data.schema)"
   ]
  },
  {
   "cell_type": "code",
   "execution_count": 5,
   "id": "f585226d-3220-4c15-8e77-9ee55ed8a593",
   "metadata": {},
   "outputs": [
    {
     "data": {
      "text/html": [
       "<div><style>\n",
       ".dataframe > thead > tr,\n",
       ".dataframe > tbody > tr {\n",
       "  text-align: right;\n",
       "  white-space: pre-wrap;\n",
       "}\n",
       "</style>\n",
       "<small>shape: (3, 5)</small><table border=\"1\" class=\"dataframe\"><thead><tr><th>Date</th><th>Open</th><th>High</th><th>Low</th><th>Adj Close</th></tr><tr><td>datetime[ns]</td><td>f64</td><td>f64</td><td>f64</td><td>f64</td></tr></thead><tbody><tr><td>2017-01-03 00:00:00</td><td>225.039993</td><td>225.830002</td><td>223.880005</td><td>198.560028</td></tr><tr><td>2017-01-04 00:00:00</td><td>225.619995</td><td>226.75</td><td>225.610001</td><td>199.741287</td></tr><tr><td>2017-01-05 00:00:00</td><td>226.270004</td><td>226.580002</td><td>225.479996</td><td>199.582642</td></tr></tbody></table></div>"
      ],
      "text/plain": [
       "shape: (3, 5)\n",
       "┌─────────────────────┬────────────┬────────────┬────────────┬────────────┐\n",
       "│ Date                ┆ Open       ┆ High       ┆ Low        ┆ Adj Close  │\n",
       "│ ---                 ┆ ---        ┆ ---        ┆ ---        ┆ ---        │\n",
       "│ datetime[ns]        ┆ f64        ┆ f64        ┆ f64        ┆ f64        │\n",
       "╞═════════════════════╪════════════╪════════════╪════════════╪════════════╡\n",
       "│ 2017-01-03 00:00:00 ┆ 225.039993 ┆ 225.830002 ┆ 223.880005 ┆ 198.560028 │\n",
       "│ 2017-01-04 00:00:00 ┆ 225.619995 ┆ 226.75     ┆ 225.610001 ┆ 199.741287 │\n",
       "│ 2017-01-05 00:00:00 ┆ 226.270004 ┆ 226.580002 ┆ 225.479996 ┆ 199.582642 │\n",
       "└─────────────────────┴────────────┴────────────┴────────────┴────────────┘"
      ]
     },
     "execution_count": 5,
     "metadata": {},
     "output_type": "execute_result"
    }
   ],
   "source": [
    "data.head(3)"
   ]
  },
  {
   "cell_type": "code",
   "execution_count": 6,
   "id": "ffbf5951-eadf-4142-8f01-31daa9a1a915",
   "metadata": {},
   "outputs": [
    {
     "name": "stdout",
     "output_type": "stream",
     "text": [
      "Length of Dataframe:  1883\n"
     ]
    },
    {
     "data": {
      "text/html": [
       "<div><style>\n",
       ".dataframe > thead > tr,\n",
       ".dataframe > tbody > tr {\n",
       "  text-align: right;\n",
       "  white-space: pre-wrap;\n",
       "}\n",
       "</style>\n",
       "<small>shape: (5, 7)</small><table border=\"1\" class=\"dataframe\"><thead><tr><th>Date</th><th>Open</th><th>High</th><th>Low</th><th>Adj Close</th><th>Returns</th><th>Range</th></tr><tr><td>datetime[ns]</td><td>f64</td><td>f64</td><td>f64</td><td>f64</td><td>f64</td><td>f64</td></tr></thead><tbody><tr><td>2017-01-04 00:00:00</td><td>225.619995</td><td>226.75</td><td>225.610001</td><td>199.741287</td><td>0.005949</td><td>0.005053</td></tr><tr><td>2017-01-05 00:00:00</td><td>226.270004</td><td>226.580002</td><td>225.479996</td><td>199.582642</td><td>-0.000794</td><td>0.004879</td></tr><tr><td>2017-01-06 00:00:00</td><td>226.529999</td><td>227.75</td><td>225.899994</td><td>200.296692</td><td>0.003578</td><td>0.008189</td></tr><tr><td>2017-01-09 00:00:00</td><td>226.910004</td><td>227.070007</td><td>226.419998</td><td>199.635529</td><td>-0.003301</td><td>0.002871</td></tr><tr><td>2017-01-10 00:00:00</td><td>226.479996</td><td>227.449997</td><td>226.009995</td><td>199.635529</td><td>0.0</td><td>0.006371</td></tr></tbody></table></div>"
      ],
      "text/plain": [
       "shape: (5, 7)\n",
       "┌─────────────────────┬────────────┬────────────┬────────────┬────────────┬───────────┬──────────┐\n",
       "│ Date                ┆ Open       ┆ High       ┆ Low        ┆ Adj Close  ┆ Returns   ┆ Range    │\n",
       "│ ---                 ┆ ---        ┆ ---        ┆ ---        ┆ ---        ┆ ---       ┆ ---      │\n",
       "│ datetime[ns]        ┆ f64        ┆ f64        ┆ f64        ┆ f64        ┆ f64       ┆ f64      │\n",
       "╞═════════════════════╪════════════╪════════════╪════════════╪════════════╪═══════════╪══════════╡\n",
       "│ 2017-01-04 00:00:00 ┆ 225.619995 ┆ 226.75     ┆ 225.610001 ┆ 199.741287 ┆ 0.005949  ┆ 0.005053 │\n",
       "│ 2017-01-05 00:00:00 ┆ 226.270004 ┆ 226.580002 ┆ 225.479996 ┆ 199.582642 ┆ -0.000794 ┆ 0.004879 │\n",
       "│ 2017-01-06 00:00:00 ┆ 226.529999 ┆ 227.75     ┆ 225.899994 ┆ 200.296692 ┆ 0.003578  ┆ 0.008189 │\n",
       "│ 2017-01-09 00:00:00 ┆ 226.910004 ┆ 227.070007 ┆ 226.419998 ┆ 199.635529 ┆ -0.003301 ┆ 0.002871 │\n",
       "│ 2017-01-10 00:00:00 ┆ 226.479996 ┆ 227.449997 ┆ 226.009995 ┆ 199.635529 ┆ 0.0       ┆ 0.006371 │\n",
       "└─────────────────────┴────────────┴────────────┴────────────┴────────────┴───────────┴──────────┘"
      ]
     },
     "execution_count": 6,
     "metadata": {},
     "output_type": "execute_result"
    }
   ],
   "source": [
    "# Create a copy of the dataframe and add returns and range columns\n",
    "df = data.clone()\n",
    "\n",
    "# Calculate daily returns\n",
    "df = df.with_columns((pl.col(\"Adj Close\") / pl.col(\"Adj Close\").shift(1) - 1).alias(\"Returns\")) # the -1 returns the percent return in decimals\n",
    "\n",
    "# Calculate daily range (volatility)\n",
    "df = df.with_columns((pl.col(\"High\") / pl.col(\"Low\")-1).alias(\"Range\")) # the -1 returns the percent return in decimals\n",
    "\n",
    "# Drop NaN values created by the pct_change method\n",
    "# In Polars, the drop_nulls method does not require the inplace=True parameter as it returns a new DataFrame by default. \n",
    "df = df.drop_nulls()\n",
    "\n",
    "# Display the updated dataframe with new columns\n",
    "print(\"Length of Dataframe: \", len(df))\n",
    "df.head()"
   ]
  },
  {
   "cell_type": "code",
   "execution_count": 7,
   "id": "70af2cfc-ee1d-489f-8db6-f3d7d7b2fa65",
   "metadata": {},
   "outputs": [
    {
     "data": {
      "text/html": [
       "<div><style>\n",
       ".dataframe > thead > tr,\n",
       ".dataframe > tbody > tr {\n",
       "  text-align: right;\n",
       "  white-space: pre-wrap;\n",
       "}\n",
       "</style>\n",
       "<small>shape: (5, 7)</small><table border=\"1\" class=\"dataframe\"><thead><tr><th>Date</th><th>Open</th><th>High</th><th>Low</th><th>Adj Close</th><th>Returns</th><th>Range</th></tr><tr><td>datetime[ns]</td><td>f64</td><td>f64</td><td>f64</td><td>f64</td><td>f64</td><td>f64</td></tr></thead><tbody><tr><td>2024-06-24 00:00:00</td><td>544.330017</td><td>546.950012</td><td>542.619995</td><td>542.73999</td><td>-0.003251</td><td>0.00798</td></tr><tr><td>2024-06-25 00:00:00</td><td>543.98999</td><td>545.200012</td><td>542.440002</td><td>544.830017</td><td>0.003851</td><td>0.005088</td></tr><tr><td>2024-06-26 00:00:00</td><td>543.690002</td><td>546.23999</td><td>543.030029</td><td>545.51001</td><td>0.001248</td><td>0.005911</td></tr><tr><td>2024-06-27 00:00:00</td><td>545.369995</td><td>546.960022</td><td>544.609985</td><td>546.369995</td><td>0.001576</td><td>0.004315</td></tr><tr><td>2024-06-28 00:00:00</td><td>547.159973</td><td>550.280029</td><td>542.950012</td><td>544.219971</td><td>-0.003935</td><td>0.0135</td></tr></tbody></table></div>"
      ],
      "text/plain": [
       "shape: (5, 7)\n",
       "┌─────────────────────┬────────────┬────────────┬────────────┬────────────┬───────────┬──────────┐\n",
       "│ Date                ┆ Open       ┆ High       ┆ Low        ┆ Adj Close  ┆ Returns   ┆ Range    │\n",
       "│ ---                 ┆ ---        ┆ ---        ┆ ---        ┆ ---        ┆ ---       ┆ ---      │\n",
       "│ datetime[ns]        ┆ f64        ┆ f64        ┆ f64        ┆ f64        ┆ f64       ┆ f64      │\n",
       "╞═════════════════════╪════════════╪════════════╪════════════╪════════════╪═══════════╪══════════╡\n",
       "│ 2024-06-24 00:00:00 ┆ 544.330017 ┆ 546.950012 ┆ 542.619995 ┆ 542.73999  ┆ -0.003251 ┆ 0.00798  │\n",
       "│ 2024-06-25 00:00:00 ┆ 543.98999  ┆ 545.200012 ┆ 542.440002 ┆ 544.830017 ┆ 0.003851  ┆ 0.005088 │\n",
       "│ 2024-06-26 00:00:00 ┆ 543.690002 ┆ 546.23999  ┆ 543.030029 ┆ 545.51001  ┆ 0.001248  ┆ 0.005911 │\n",
       "│ 2024-06-27 00:00:00 ┆ 545.369995 ┆ 546.960022 ┆ 544.609985 ┆ 546.369995 ┆ 0.001576  ┆ 0.004315 │\n",
       "│ 2024-06-28 00:00:00 ┆ 547.159973 ┆ 550.280029 ┆ 542.950012 ┆ 544.219971 ┆ -0.003935 ┆ 0.0135   │\n",
       "└─────────────────────┴────────────┴────────────┴────────────┴────────────┴───────────┴──────────┘"
      ]
     },
     "execution_count": 7,
     "metadata": {},
     "output_type": "execute_result"
    }
   ],
   "source": [
    "df.tail()"
   ]
  },
  {
   "cell_type": "code",
   "execution_count": 8,
   "id": "8b2af06d-6720-43aa-b65c-04a6d5e58bb8",
   "metadata": {},
   "outputs": [
    {
     "data": {
      "text/html": [
       "<div><style>\n",
       ".dataframe > thead > tr,\n",
       ".dataframe > tbody > tr {\n",
       "  text-align: right;\n",
       "  white-space: pre-wrap;\n",
       "}\n",
       "</style>\n",
       "<small>shape: (2, 9)</small><table border=\"1\" class=\"dataframe\"><thead><tr><th>Date</th><th>Open</th><th>High</th><th>Low</th><th>Adj Close</th><th>Returns</th><th>Range</th><th>MA12</th><th>MA21</th></tr><tr><td>datetime[ns]</td><td>f64</td><td>f64</td><td>f64</td><td>f64</td><td>f64</td><td>f64</td><td>f64</td><td>f64</td></tr></thead><tbody><tr><td>2017-01-04 00:00:00</td><td>225.619995</td><td>226.75</td><td>225.610001</td><td>199.741287</td><td>0.005949</td><td>0.005053</td><td>null</td><td>null</td></tr><tr><td>2017-01-05 00:00:00</td><td>226.270004</td><td>226.580002</td><td>225.479996</td><td>199.582642</td><td>-0.000794</td><td>0.004879</td><td>null</td><td>null</td></tr></tbody></table></div>"
      ],
      "text/plain": [
       "shape: (2, 9)\n",
       "┌──────────────┬────────────┬────────────┬────────────┬───┬───────────┬──────────┬──────┬──────┐\n",
       "│ Date         ┆ Open       ┆ High       ┆ Low        ┆ … ┆ Returns   ┆ Range    ┆ MA12 ┆ MA21 │\n",
       "│ ---          ┆ ---        ┆ ---        ┆ ---        ┆   ┆ ---       ┆ ---      ┆ ---  ┆ ---  │\n",
       "│ datetime[ns] ┆ f64        ┆ f64        ┆ f64        ┆   ┆ f64       ┆ f64      ┆ f64  ┆ f64  │\n",
       "╞══════════════╪════════════╪════════════╪════════════╪═══╪═══════════╪══════════╪══════╪══════╡\n",
       "│ 2017-01-04   ┆ 225.619995 ┆ 226.75     ┆ 225.610001 ┆ … ┆ 0.005949  ┆ 0.005053 ┆ null ┆ null │\n",
       "│ 00:00:00     ┆            ┆            ┆            ┆   ┆           ┆          ┆      ┆      │\n",
       "│ 2017-01-05   ┆ 226.270004 ┆ 226.580002 ┆ 225.479996 ┆ … ┆ -0.000794 ┆ 0.004879 ┆ null ┆ null │\n",
       "│ 00:00:00     ┆            ┆            ┆            ┆   ┆           ┆          ┆      ┆      │\n",
       "└──────────────┴────────────┴────────────┴────────────┴───┴───────────┴──────────┴──────┴──────┘"
      ]
     },
     "execution_count": 8,
     "metadata": {},
     "output_type": "execute_result"
    }
   ],
   "source": [
    "# Calculate moving averages\n",
    "df = df.with_columns([\n",
    "    pl.col('Adj Close').rolling_mean(window_size=12).alias('MA12'),\n",
    "    pl.col('Adj Close').rolling_mean(window_size=21).alias('MA21')\n",
    "])\n",
    "df.head(2)\n"
   ]
  },
  {
   "cell_type": "code",
   "execution_count": 9,
   "id": "df77be54-79c8-4b6d-b0f4-2a1986908ed4",
   "metadata": {},
   "outputs": [
    {
     "data": {
      "text/html": [
       "<div><style>\n",
       ".dataframe > thead > tr,\n",
       ".dataframe > tbody > tr {\n",
       "  text-align: right;\n",
       "  white-space: pre-wrap;\n",
       "}\n",
       "</style>\n",
       "<small>shape: (2, 9)</small><table border=\"1\" class=\"dataframe\"><thead><tr><th>Date</th><th>Open</th><th>High</th><th>Low</th><th>Adj Close</th><th>Returns</th><th>Range</th><th>MA12</th><th>MA21</th></tr><tr><td>datetime[ns]</td><td>f64</td><td>f64</td><td>f64</td><td>f64</td><td>f64</td><td>f64</td><td>f64</td><td>f64</td></tr></thead><tbody><tr><td>2024-06-27 00:00:00</td><td>545.369995</td><td>546.960022</td><td>544.609985</td><td>546.369995</td><td>0.001576</td><td>0.004315</td><td>543.15421</td><td>536.84654</td></tr><tr><td>2024-06-28 00:00:00</td><td>547.159973</td><td>550.280029</td><td>542.950012</td><td>544.219971</td><td>-0.003935</td><td>0.0135</td><td>543.903931</td><td>537.789958</td></tr></tbody></table></div>"
      ],
      "text/plain": [
       "shape: (2, 9)\n",
       "┌───────────┬───────────┬───────────┬───────────┬───┬───────────┬──────────┬───────────┬───────────┐\n",
       "│ Date      ┆ Open      ┆ High      ┆ Low       ┆ … ┆ Returns   ┆ Range    ┆ MA12      ┆ MA21      │\n",
       "│ ---       ┆ ---       ┆ ---       ┆ ---       ┆   ┆ ---       ┆ ---      ┆ ---       ┆ ---       │\n",
       "│ datetime[ ┆ f64       ┆ f64       ┆ f64       ┆   ┆ f64       ┆ f64      ┆ f64       ┆ f64       │\n",
       "│ ns]       ┆           ┆           ┆           ┆   ┆           ┆          ┆           ┆           │\n",
       "╞═══════════╪═══════════╪═══════════╪═══════════╪═══╪═══════════╪══════════╪═══════════╪═══════════╡\n",
       "│ 2024-06-2 ┆ 545.36999 ┆ 546.96002 ┆ 544.60998 ┆ … ┆ 0.001576  ┆ 0.004315 ┆ 543.15421 ┆ 536.84654 │\n",
       "│ 7         ┆ 5         ┆ 2         ┆ 5         ┆   ┆           ┆          ┆           ┆           │\n",
       "│ 00:00:00  ┆           ┆           ┆           ┆   ┆           ┆          ┆           ┆           │\n",
       "│ 2024-06-2 ┆ 547.15997 ┆ 550.28002 ┆ 542.95001 ┆ … ┆ -0.003935 ┆ 0.0135   ┆ 543.90393 ┆ 537.78995 │\n",
       "│ 8         ┆ 3         ┆ 9         ┆ 2         ┆   ┆           ┆          ┆ 1         ┆ 8         │\n",
       "│ 00:00:00  ┆           ┆           ┆           ┆   ┆           ┆          ┆           ┆           │\n",
       "└───────────┴───────────┴───────────┴───────────┴───┴───────────┴──────────┴───────────┴───────────┘"
      ]
     },
     "execution_count": 9,
     "metadata": {},
     "output_type": "execute_result"
    }
   ],
   "source": [
    "df.tail(2)"
   ]
  },
  {
   "cell_type": "code",
   "execution_count": 10,
   "id": "4d44877a-eb3a-486e-b019-ee296fd42f38",
   "metadata": {},
   "outputs": [],
   "source": [
    "# Structure Data\n",
    "X_train = df.select(['Date','Returns', 'Range'])[:500] # in polars we use .select and we don't use iloc\n",
    "# remember to add date since in polars index is not defualt"
   ]
  },
  {
   "cell_type": "code",
   "execution_count": 11,
   "id": "86123fba-71b1-47b6-a7ac-b700f63e75b7",
   "metadata": {},
   "outputs": [
    {
     "data": {
      "text/html": [
       "<div><style>\n",
       ".dataframe > thead > tr,\n",
       ".dataframe > tbody > tr {\n",
       "  text-align: right;\n",
       "  white-space: pre-wrap;\n",
       "}\n",
       "</style>\n",
       "<small>shape: (3, 3)</small><table border=\"1\" class=\"dataframe\"><thead><tr><th>Date</th><th>Returns</th><th>Range</th></tr><tr><td>datetime[ns]</td><td>f64</td><td>f64</td></tr></thead><tbody><tr><td>2017-01-04 00:00:00</td><td>0.005949</td><td>0.005053</td></tr><tr><td>2017-01-05 00:00:00</td><td>-0.000794</td><td>0.004879</td></tr><tr><td>2017-01-06 00:00:00</td><td>0.003578</td><td>0.008189</td></tr></tbody></table></div>"
      ],
      "text/plain": [
       "shape: (3, 3)\n",
       "┌─────────────────────┬───────────┬──────────┐\n",
       "│ Date                ┆ Returns   ┆ Range    │\n",
       "│ ---                 ┆ ---       ┆ ---      │\n",
       "│ datetime[ns]        ┆ f64       ┆ f64      │\n",
       "╞═════════════════════╪═══════════╪══════════╡\n",
       "│ 2017-01-04 00:00:00 ┆ 0.005949  ┆ 0.005053 │\n",
       "│ 2017-01-05 00:00:00 ┆ -0.000794 ┆ 0.004879 │\n",
       "│ 2017-01-06 00:00:00 ┆ 0.003578  ┆ 0.008189 │\n",
       "└─────────────────────┴───────────┴──────────┘"
      ]
     },
     "execution_count": 11,
     "metadata": {},
     "output_type": "execute_result"
    }
   ],
   "source": [
    "X_train.head(3)"
   ]
  },
  {
   "cell_type": "code",
   "execution_count": 12,
   "id": "90562747-58af-49b5-908c-cd15d755e31f",
   "metadata": {},
   "outputs": [
    {
     "name": "stdout",
     "output_type": "stream",
     "text": [
      "Train Length:  500\n",
      "Test Length:  1383\n",
      "\n",
      "X_train From:  2017-01-05 00:00:00\n",
      "X_train To:  2018-12-28 00:00:00\n",
      "\n",
      "X_test From:  2019-01-02 00:00:00\n",
      "X_test To:  2024-06-28 00:00:00\n"
     ]
    }
   ],
   "source": [
    "X_test = df.select(['Date','Returns', 'Range'])[500:]\n",
    "save_df = df[500:]\n",
    "# also can use\n",
    "# X_train = df.select(['Returns', 'Range']).slice(0, 500)\n",
    "# X_test = df.select(['Returns', 'Range']).slice(500)\n",
    "# save_df = df.slice(500)\n",
    "\n",
    "\n",
    "print(\"Train Length: \", len(X_train))\n",
    "print(\"Test Length: \", len(X_test))\n",
    "\n",
    "# Print the first row's date\n",
    "\n",
    "print(\"\\nX_train From: \", X_train['Date'][1])\n",
    "print(\"X_train To: \", X_train['Date'][-1])\n",
    "print(\"\\nX_test From: \", X_test['Date'][1])\n",
    "print(\"X_test To: \", X_test['Date'][-1])"
   ]
  },
  {
   "cell_type": "markdown",
   "id": "c3d808d9-7d97-461e-9055-703e24796a1e",
   "metadata": {},
   "source": [
    "## Train HMM"
   ]
  },
  {
   "cell_type": "code",
   "execution_count": 13,
   "id": "7256e5b2-eb30-4fac-b0ba-123de7609b50",
   "metadata": {},
   "outputs": [
    {
     "name": "stdout",
     "output_type": "stream",
     "text": [
      "Shape of X_train_np: (500, 3)\n",
      "\n",
      "First few rows of X_train_np:\n",
      "[[ 1.48348800e+18  5.94912867e-03  5.05296479e-03]\n",
      " [ 1.48357440e+18 -7.94255570e-04  4.87850862e-03]\n",
      " [ 1.48366080e+18  3.57771742e-03  8.18949160e-03]\n",
      " [ 1.48392000e+18 -3.30091987e-03  2.87081159e-03]\n",
      " [ 1.48400640e+18  0.00000000e+00  6.37141045e-03]]\n",
      "\n",
      "Number of features detected: 3\n"
     ]
    }
   ],
   "source": [
    "#Data Preparation\n",
    "import polars as pl\n",
    "import numpy as np\n",
    "from hmmlearn.hmm import GaussianHMM\n",
    "\n",
    "# Convert Polars DataFrame to NumPy array\n",
    "X_train_np = X_train.to_numpy()\n",
    "print(\"Shape of X_train_np:\", X_train_np.shape)\n",
    "\n",
    "# Display first few rows of the data\n",
    "print(\"\\nFirst few rows of X_train_np:\")\n",
    "print(X_train_np[:5])\n",
    "\n",
    "# Determine the number of features\n",
    "n_features = X_train_np.shape[1]\n",
    "print(f\"\\nNumber of features detected: {n_features}\")"
   ]
  },
  {
   "cell_type": "code",
   "execution_count": 14,
   "id": "c457dec6-746b-49bf-9768-60500826d1e1",
   "metadata": {},
   "outputs": [
    {
     "name": "stderr",
     "output_type": "stream",
     "text": [
      "Model is not converging.  Current: -15484.213356307539 is not greater than -15464.502744268375. Delta is -19.710612039163607\n"
     ]
    },
    {
     "name": "stdout",
     "output_type": "stream",
     "text": [
      "Model Score: -15480.33534200232\n"
     ]
    }
   ],
   "source": [
    "hmm_model = GaussianHMM(n_components=4, covariance_type=\"full\", n_iter=100).fit(X_train)\n",
    "print(\"Model Score:\", hmm_model.score(X_train))"
   ]
  },
  {
   "cell_type": "code",
   "execution_count": 15,
   "id": "daec6d2b-8a5a-47af-a864-a191b1570f65",
   "metadata": {},
   "outputs": [
    {
     "name": "stdout",
     "output_type": "stream",
     "text": [
      "First 20 hidden states: [0 0 0 0 0 0 0 0 0 0 0 0 0 0 0 0 0 0 0 0]\n",
      "\n",
      "Unique states: [0 1 2 3]\n",
      "\n",
      "State frequencies:\n",
      "State 0: 51.80%\n",
      "State 1: 46.40%\n",
      "State 2: 1.40%\n",
      "State 3: 0.40%\n"
     ]
    }
   ],
   "source": [
    "# Check Results\n",
    "hidden_states = hmm_model.predict(X_train)\n",
    "print(\"First 20 hidden states:\", hidden_states[:20])\n",
    "print(\"\\nUnique states:\", np.unique(hidden_states))\n",
    "print(\"\\nState frequencies:\")\n",
    "for i in range(hmm_model.n_components):\n",
    "    print(f\"State {i}: {np.sum(hidden_states == i) / len(hidden_states):.2%}\")"
   ]
  },
  {
   "cell_type": "code",
   "execution_count": 16,
   "id": "ae0d5977-b8b9-46ed-b85a-a7426ad1ead4",
   "metadata": {},
   "outputs": [
    {
     "name": "stdout",
     "output_type": "stream",
     "text": [
      "shape: (1, 8)\n",
      "┌──────────────┬────────────┬────────────┬──────────┬──────────┬────────────┬────────────┬─────┐\n",
      "│ Date         ┆ Open       ┆ Adj Close  ┆ Returns  ┆ Range    ┆ MA12       ┆ MA21       ┆ HMM │\n",
      "│ ---          ┆ ---        ┆ ---        ┆ ---      ┆ ---      ┆ ---        ┆ ---        ┆ --- │\n",
      "│ datetime[ns] ┆ f64        ┆ f64        ┆ f64      ┆ f64      ┆ f64        ┆ f64        ┆ i64 │\n",
      "╞══════════════╪════════════╪════════════╪══════════╪══════════╪════════════╪════════════╪═════╡\n",
      "│ 2018-12-31   ┆ 249.559998 ┆ 228.866119 ┆ 0.008759 ┆ 0.010991 ┆ 228.386864 ┆ 235.695219 ┆ 0   │\n",
      "│ 00:00:00     ┆            ┆            ┆          ┆          ┆            ┆            ┆     │\n",
      "└──────────────┴────────────┴────────────┴──────────┴──────────┴────────────┴────────────┴─────┘\n"
     ]
    }
   ],
   "source": [
    "#Make Predictions on Test Data\n",
    "\n",
    "# Clone the DataFrame and drop specified columns\n",
    "df_main = save_df.clone()\n",
    "df_main = df_main.drop([\"High\", \"Low\"])\n",
    "\n",
    "# Predict using HMM model\n",
    "hmm_results = hmm_model.predict(X_test)\n",
    "\n",
    "# Convert hmm_results to a Polars Series\n",
    "hmm_series = pl.Series('HMM', hmm_results)\n",
    "\n",
    "# Add the HMM results to the DataFrame\n",
    "df_main = df_main.with_columns(hmm_series)\n",
    "\n",
    "# Display the first row\n",
    "print(df_main.head(1))"
   ]
  },
  {
   "cell_type": "code",
   "execution_count": 17,
   "id": "27c48016-8219-4cca-9e46-4c9aa5db9ac3",
   "metadata": {},
   "outputs": [
    {
     "data": {
      "text/html": [
       "<div><style>\n",
       ".dataframe > thead > tr,\n",
       ".dataframe > tbody > tr {\n",
       "  text-align: right;\n",
       "  white-space: pre-wrap;\n",
       "}\n",
       "</style>\n",
       "<small>shape: (5, 8)</small><table border=\"1\" class=\"dataframe\"><thead><tr><th>Date</th><th>Open</th><th>Adj Close</th><th>Returns</th><th>Range</th><th>MA12</th><th>MA21</th><th>HMM</th></tr><tr><td>datetime[ns]</td><td>f64</td><td>f64</td><td>f64</td><td>f64</td><td>f64</td><td>f64</td><td>i64</td></tr></thead><tbody><tr><td>2018-12-31 00:00:00</td><td>249.559998</td><td>228.866119</td><td>0.008759</td><td>0.010991</td><td>228.386864</td><td>235.695219</td><td>0</td></tr><tr><td>2019-01-02 00:00:00</td><td>245.979996</td><td>229.104233</td><td>0.00104</td><td>0.021387</td><td>227.345245</td><td>234.726725</td><td>2</td></tr><tr><td>2019-01-03 00:00:00</td><td>248.229996</td><td>223.637131</td><td>-0.023863</td><td>0.020109</td><td>226.219793</td><td>233.425491</td><td>1</td></tr><tr><td>2019-01-04 00:00:00</td><td>247.589996</td><td>231.128006</td><td>0.033496</td><td>0.024032</td><td>226.106277</td><td>232.322723</td><td>1</td></tr><tr><td>2019-01-07 00:00:00</td><td>252.690002</td><td>232.950424</td><td>0.007885</td><td>0.016926</td><td>226.165874</td><td>231.699092</td><td>1</td></tr></tbody></table></div>"
      ],
      "text/plain": [
       "shape: (5, 8)\n",
       "┌──────────────┬────────────┬────────────┬───────────┬──────────┬────────────┬────────────┬─────┐\n",
       "│ Date         ┆ Open       ┆ Adj Close  ┆ Returns   ┆ Range    ┆ MA12       ┆ MA21       ┆ HMM │\n",
       "│ ---          ┆ ---        ┆ ---        ┆ ---       ┆ ---      ┆ ---        ┆ ---        ┆ --- │\n",
       "│ datetime[ns] ┆ f64        ┆ f64        ┆ f64       ┆ f64      ┆ f64        ┆ f64        ┆ i64 │\n",
       "╞══════════════╪════════════╪════════════╪═══════════╪══════════╪════════════╪════════════╪═════╡\n",
       "│ 2018-12-31   ┆ 249.559998 ┆ 228.866119 ┆ 0.008759  ┆ 0.010991 ┆ 228.386864 ┆ 235.695219 ┆ 0   │\n",
       "│ 00:00:00     ┆            ┆            ┆           ┆          ┆            ┆            ┆     │\n",
       "│ 2019-01-02   ┆ 245.979996 ┆ 229.104233 ┆ 0.00104   ┆ 0.021387 ┆ 227.345245 ┆ 234.726725 ┆ 2   │\n",
       "│ 00:00:00     ┆            ┆            ┆           ┆          ┆            ┆            ┆     │\n",
       "│ 2019-01-03   ┆ 248.229996 ┆ 223.637131 ┆ -0.023863 ┆ 0.020109 ┆ 226.219793 ┆ 233.425491 ┆ 1   │\n",
       "│ 00:00:00     ┆            ┆            ┆           ┆          ┆            ┆            ┆     │\n",
       "│ 2019-01-04   ┆ 247.589996 ┆ 231.128006 ┆ 0.033496  ┆ 0.024032 ┆ 226.106277 ┆ 232.322723 ┆ 1   │\n",
       "│ 00:00:00     ┆            ┆            ┆           ┆          ┆            ┆            ┆     │\n",
       "│ 2019-01-07   ┆ 252.690002 ┆ 232.950424 ┆ 0.007885  ┆ 0.016926 ┆ 226.165874 ┆ 231.699092 ┆ 1   │\n",
       "│ 00:00:00     ┆            ┆            ┆           ┆          ┆            ┆            ┆     │\n",
       "└──────────────┴────────────┴────────────┴───────────┴──────────┴────────────┴────────────┴─────┘"
      ]
     },
     "execution_count": 17,
     "metadata": {},
     "output_type": "execute_result"
    }
   ],
   "source": [
    "df_main.head()"
   ]
  },
  {
   "cell_type": "markdown",
   "id": "e8832dfc-dd87-4481-824a-e2d5313b5304",
   "metadata": {},
   "source": [
    "## Run Backtest"
   ]
  },
  {
   "cell_type": "markdown",
   "id": "2bb331b8-d5eb-4542-82ae-59a1658a3eab",
   "metadata": {},
   "source": [
    "#### Add Signals MA and Combined"
   ]
  },
  {
   "cell_type": "code",
   "execution_count": 18,
   "id": "980a0b09-b6fd-4daa-aef5-3ca3aee8f722",
   "metadata": {},
   "outputs": [
    {
     "data": {
      "text/html": [
       "<div><style>\n",
       ".dataframe > thead > tr,\n",
       ".dataframe > tbody > tr {\n",
       "  text-align: right;\n",
       "  white-space: pre-wrap;\n",
       "}\n",
       "</style>\n",
       "<small>shape: (5, 9)</small><table border=\"1\" class=\"dataframe\"><thead><tr><th>Date</th><th>Open</th><th>Adj Close</th><th>Returns</th><th>Range</th><th>MA12</th><th>MA21</th><th>HMM</th><th>MA_Signal</th></tr><tr><td>datetime[ns]</td><td>f64</td><td>f64</td><td>f64</td><td>f64</td><td>f64</td><td>f64</td><td>i64</td><td>i32</td></tr></thead><tbody><tr><td>2018-12-31 00:00:00</td><td>249.559998</td><td>228.866119</td><td>0.008759</td><td>0.010991</td><td>228.386864</td><td>235.695219</td><td>0</td><td>0</td></tr><tr><td>2019-01-02 00:00:00</td><td>245.979996</td><td>229.104233</td><td>0.00104</td><td>0.021387</td><td>227.345245</td><td>234.726725</td><td>2</td><td>0</td></tr><tr><td>2019-01-03 00:00:00</td><td>248.229996</td><td>223.637131</td><td>-0.023863</td><td>0.020109</td><td>226.219793</td><td>233.425491</td><td>1</td><td>0</td></tr><tr><td>2019-01-04 00:00:00</td><td>247.589996</td><td>231.128006</td><td>0.033496</td><td>0.024032</td><td>226.106277</td><td>232.322723</td><td>1</td><td>0</td></tr><tr><td>2019-01-07 00:00:00</td><td>252.690002</td><td>232.950424</td><td>0.007885</td><td>0.016926</td><td>226.165874</td><td>231.699092</td><td>1</td><td>0</td></tr></tbody></table></div>"
      ],
      "text/plain": [
       "shape: (5, 9)\n",
       "┌────────────┬────────────┬────────────┬───────────┬───┬────────────┬────────────┬─────┬───────────┐\n",
       "│ Date       ┆ Open       ┆ Adj Close  ┆ Returns   ┆ … ┆ MA12       ┆ MA21       ┆ HMM ┆ MA_Signal │\n",
       "│ ---        ┆ ---        ┆ ---        ┆ ---       ┆   ┆ ---        ┆ ---        ┆ --- ┆ ---       │\n",
       "│ datetime[n ┆ f64        ┆ f64        ┆ f64       ┆   ┆ f64        ┆ f64        ┆ i64 ┆ i32       │\n",
       "│ s]         ┆            ┆            ┆           ┆   ┆            ┆            ┆     ┆           │\n",
       "╞════════════╪════════════╪════════════╪═══════════╪═══╪════════════╪════════════╪═════╪═══════════╡\n",
       "│ 2018-12-31 ┆ 249.559998 ┆ 228.866119 ┆ 0.008759  ┆ … ┆ 228.386864 ┆ 235.695219 ┆ 0   ┆ 0         │\n",
       "│ 00:00:00   ┆            ┆            ┆           ┆   ┆            ┆            ┆     ┆           │\n",
       "│ 2019-01-02 ┆ 245.979996 ┆ 229.104233 ┆ 0.00104   ┆ … ┆ 227.345245 ┆ 234.726725 ┆ 2   ┆ 0         │\n",
       "│ 00:00:00   ┆            ┆            ┆           ┆   ┆            ┆            ┆     ┆           │\n",
       "│ 2019-01-03 ┆ 248.229996 ┆ 223.637131 ┆ -0.023863 ┆ … ┆ 226.219793 ┆ 233.425491 ┆ 1   ┆ 0         │\n",
       "│ 00:00:00   ┆            ┆            ┆           ┆   ┆            ┆            ┆     ┆           │\n",
       "│ 2019-01-04 ┆ 247.589996 ┆ 231.128006 ┆ 0.033496  ┆ … ┆ 226.106277 ┆ 232.322723 ┆ 1   ┆ 0         │\n",
       "│ 00:00:00   ┆            ┆            ┆           ┆   ┆            ┆            ┆     ┆           │\n",
       "│ 2019-01-07 ┆ 252.690002 ┆ 232.950424 ┆ 0.007885  ┆ … ┆ 226.165874 ┆ 231.699092 ┆ 1   ┆ 0         │\n",
       "│ 00:00:00   ┆            ┆            ┆           ┆   ┆            ┆            ┆     ┆           │\n",
       "└────────────┴────────────┴────────────┴───────────┴───┴────────────┴────────────┴─────┴───────────┘"
      ]
     },
     "execution_count": 18,
     "metadata": {},
     "output_type": "execute_result"
    }
   ],
   "source": [
    "# Calculate MA Signals\n",
    "df_main = df_main.with_columns(\n",
    "    pl.when(pl.col(\"MA12\") > pl.col(\"MA21\")).then(1).otherwise(0).alias(\"MA_Signal\")\n",
    ")\n",
    "df_main.head()"
   ]
  },
  {
   "cell_type": "code",
   "execution_count": 19,
   "id": "1b947bcc-e990-4e47-b707-a3923dd03ec2",
   "metadata": {},
   "outputs": [
    {
     "data": {
      "text/html": [
       "<div><style>\n",
       ".dataframe > thead > tr,\n",
       ".dataframe > tbody > tr {\n",
       "  text-align: right;\n",
       "  white-space: pre-wrap;\n",
       "}\n",
       "</style>\n",
       "<small>shape: (5, 9)</small><table border=\"1\" class=\"dataframe\"><thead><tr><th>Date</th><th>Open</th><th>Adj Close</th><th>Returns</th><th>Range</th><th>MA12</th><th>MA21</th><th>HMM</th><th>MA_Signal</th></tr><tr><td>datetime[ns]</td><td>f64</td><td>f64</td><td>f64</td><td>f64</td><td>f64</td><td>f64</td><td>i64</td><td>i32</td></tr></thead><tbody><tr><td>2018-12-31 00:00:00</td><td>249.559998</td><td>228.866119</td><td>0.008759</td><td>0.010991</td><td>228.386864</td><td>235.695219</td><td>0</td><td>0</td></tr><tr><td>2019-01-02 00:00:00</td><td>245.979996</td><td>229.104233</td><td>0.00104</td><td>0.021387</td><td>227.345245</td><td>234.726725</td><td>2</td><td>0</td></tr><tr><td>2019-01-03 00:00:00</td><td>248.229996</td><td>223.637131</td><td>-0.023863</td><td>0.020109</td><td>226.219793</td><td>233.425491</td><td>1</td><td>0</td></tr><tr><td>2019-01-04 00:00:00</td><td>247.589996</td><td>231.128006</td><td>0.033496</td><td>0.024032</td><td>226.106277</td><td>232.322723</td><td>1</td><td>0</td></tr><tr><td>2019-01-07 00:00:00</td><td>252.690002</td><td>232.950424</td><td>0.007885</td><td>0.016926</td><td>226.165874</td><td>231.699092</td><td>1</td><td>0</td></tr></tbody></table></div>"
      ],
      "text/plain": [
       "shape: (5, 9)\n",
       "┌────────────┬────────────┬────────────┬───────────┬───┬────────────┬────────────┬─────┬───────────┐\n",
       "│ Date       ┆ Open       ┆ Adj Close  ┆ Returns   ┆ … ┆ MA12       ┆ MA21       ┆ HMM ┆ MA_Signal │\n",
       "│ ---        ┆ ---        ┆ ---        ┆ ---       ┆   ┆ ---        ┆ ---        ┆ --- ┆ ---       │\n",
       "│ datetime[n ┆ f64        ┆ f64        ┆ f64       ┆   ┆ f64        ┆ f64        ┆ i64 ┆ i32       │\n",
       "│ s]         ┆            ┆            ┆           ┆   ┆            ┆            ┆     ┆           │\n",
       "╞════════════╪════════════╪════════════╪═══════════╪═══╪════════════╪════════════╪═════╪═══════════╡\n",
       "│ 2018-12-31 ┆ 249.559998 ┆ 228.866119 ┆ 0.008759  ┆ … ┆ 228.386864 ┆ 235.695219 ┆ 0   ┆ 0         │\n",
       "│ 00:00:00   ┆            ┆            ┆           ┆   ┆            ┆            ┆     ┆           │\n",
       "│ 2019-01-02 ┆ 245.979996 ┆ 229.104233 ┆ 0.00104   ┆ … ┆ 227.345245 ┆ 234.726725 ┆ 2   ┆ 0         │\n",
       "│ 00:00:00   ┆            ┆            ┆           ┆   ┆            ┆            ┆     ┆           │\n",
       "│ 2019-01-03 ┆ 248.229996 ┆ 223.637131 ┆ -0.023863 ┆ … ┆ 226.219793 ┆ 233.425491 ┆ 1   ┆ 0         │\n",
       "│ 00:00:00   ┆            ┆            ┆           ┆   ┆            ┆            ┆     ┆           │\n",
       "│ 2019-01-04 ┆ 247.589996 ┆ 231.128006 ┆ 0.033496  ┆ … ┆ 226.106277 ┆ 232.322723 ┆ 1   ┆ 0         │\n",
       "│ 00:00:00   ┆            ┆            ┆           ┆   ┆            ┆            ┆     ┆           │\n",
       "│ 2019-01-07 ┆ 252.690002 ┆ 232.950424 ┆ 0.007885  ┆ … ┆ 226.165874 ┆ 231.699092 ┆ 1   ┆ 0         │\n",
       "│ 00:00:00   ┆            ┆            ┆           ┆   ┆            ┆            ┆     ┆           │\n",
       "└────────────┴────────────┴────────────┴───────────┴───┴────────────┴────────────┴─────┴───────────┘"
      ]
     },
     "execution_count": 19,
     "metadata": {},
     "output_type": "execute_result"
    }
   ],
   "source": [
    "df_main.columns\n",
    "df_main.head()"
   ]
  },
  {
   "cell_type": "code",
   "execution_count": 20,
   "id": "1ff6c67e-d2ae-4398-b9f0-696bd35cecbb",
   "metadata": {},
   "outputs": [
    {
     "data": {
      "text/plain": [
       "['Date',\n",
       " 'Open',\n",
       " 'Adj Close',\n",
       " 'Returns',\n",
       " 'Range',\n",
       " 'MA12',\n",
       " 'MA21',\n",
       " 'HMM',\n",
       " 'MA_Signal']"
      ]
     },
     "execution_count": 20,
     "metadata": {},
     "output_type": "execute_result"
    }
   ],
   "source": [
    "df_main.columns"
   ]
  },
  {
   "cell_type": "code",
   "execution_count": null,
   "id": "ac507c3f-03b3-4d4c-af3f-e01fb469f2e7",
   "metadata": {},
   "outputs": [],
   "source": []
  },
  {
   "cell_type": "code",
   "execution_count": 21,
   "id": "949614d0-9cf9-4869-a558-3080a9fac9df",
   "metadata": {},
   "outputs": [
    {
     "data": {
      "text/html": [
       "<div><style>\n",
       ".dataframe > thead > tr,\n",
       ".dataframe > tbody > tr {\n",
       "  text-align: right;\n",
       "  white-space: pre-wrap;\n",
       "}\n",
       "</style>\n",
       "<small>shape: (5, 10)</small><table border=\"1\" class=\"dataframe\"><thead><tr><th>Date</th><th>Open</th><th>Adj Close</th><th>Returns</th><th>Range</th><th>MA12</th><th>MA21</th><th>HMM</th><th>MA_Signal</th><th>HMM_Signal</th></tr><tr><td>datetime[ns]</td><td>f64</td><td>f64</td><td>f64</td><td>f64</td><td>f64</td><td>f64</td><td>i64</td><td>i32</td><td>i32</td></tr></thead><tbody><tr><td>2018-12-31 00:00:00</td><td>249.559998</td><td>228.866119</td><td>0.008759</td><td>0.010991</td><td>228.386864</td><td>235.695219</td><td>0</td><td>0</td><td>1</td></tr><tr><td>2019-01-02 00:00:00</td><td>245.979996</td><td>229.104233</td><td>0.00104</td><td>0.021387</td><td>227.345245</td><td>234.726725</td><td>2</td><td>0</td><td>1</td></tr><tr><td>2019-01-03 00:00:00</td><td>248.229996</td><td>223.637131</td><td>-0.023863</td><td>0.020109</td><td>226.219793</td><td>233.425491</td><td>1</td><td>0</td><td>1</td></tr><tr><td>2019-01-04 00:00:00</td><td>247.589996</td><td>231.128006</td><td>0.033496</td><td>0.024032</td><td>226.106277</td><td>232.322723</td><td>1</td><td>0</td><td>1</td></tr><tr><td>2019-01-07 00:00:00</td><td>252.690002</td><td>232.950424</td><td>0.007885</td><td>0.016926</td><td>226.165874</td><td>231.699092</td><td>1</td><td>0</td><td>1</td></tr></tbody></table></div>"
      ],
      "text/plain": [
       "shape: (5, 10)\n",
       "┌────────────┬────────────┬────────────┬───────────┬───┬────────────┬─────┬───────────┬────────────┐\n",
       "│ Date       ┆ Open       ┆ Adj Close  ┆ Returns   ┆ … ┆ MA21       ┆ HMM ┆ MA_Signal ┆ HMM_Signal │\n",
       "│ ---        ┆ ---        ┆ ---        ┆ ---       ┆   ┆ ---        ┆ --- ┆ ---       ┆ ---        │\n",
       "│ datetime[n ┆ f64        ┆ f64        ┆ f64       ┆   ┆ f64        ┆ i64 ┆ i32       ┆ i32        │\n",
       "│ s]         ┆            ┆            ┆           ┆   ┆            ┆     ┆           ┆            │\n",
       "╞════════════╪════════════╪════════════╪═══════════╪═══╪════════════╪═════╪═══════════╪════════════╡\n",
       "│ 2018-12-31 ┆ 249.559998 ┆ 228.866119 ┆ 0.008759  ┆ … ┆ 235.695219 ┆ 0   ┆ 0         ┆ 1          │\n",
       "│ 00:00:00   ┆            ┆            ┆           ┆   ┆            ┆     ┆           ┆            │\n",
       "│ 2019-01-02 ┆ 245.979996 ┆ 229.104233 ┆ 0.00104   ┆ … ┆ 234.726725 ┆ 2   ┆ 0         ┆ 1          │\n",
       "│ 00:00:00   ┆            ┆            ┆           ┆   ┆            ┆     ┆           ┆            │\n",
       "│ 2019-01-03 ┆ 248.229996 ┆ 223.637131 ┆ -0.023863 ┆ … ┆ 233.425491 ┆ 1   ┆ 0         ┆ 1          │\n",
       "│ 00:00:00   ┆            ┆            ┆           ┆   ┆            ┆     ┆           ┆            │\n",
       "│ 2019-01-04 ┆ 247.589996 ┆ 231.128006 ┆ 0.033496  ┆ … ┆ 232.322723 ┆ 1   ┆ 0         ┆ 1          │\n",
       "│ 00:00:00   ┆            ┆            ┆           ┆   ┆            ┆     ┆           ┆            │\n",
       "│ 2019-01-07 ┆ 252.690002 ┆ 232.950424 ┆ 0.007885  ┆ … ┆ 231.699092 ┆ 1   ┆ 0         ┆ 1          │\n",
       "│ 00:00:00   ┆            ┆            ┆           ┆   ┆            ┆     ┆           ┆            │\n",
       "└────────────┴────────────┴────────────┴───────────┴───┴────────────┴─────┴───────────┴────────────┘"
      ]
     },
     "execution_count": 21,
     "metadata": {},
     "output_type": "execute_result"
    }
   ],
   "source": [
    "# HMM Signals\n",
    "favourable_states = [0, 1, 2, 3]\n",
    "\n",
    "# Add HMM_Signal column to df_main\n",
    "# This sets all states to 1 (favorable) to start\n",
    "df_main = df_main.with_columns(\n",
    "    pl.when(pl.col(\"HMM\").is_in(favourable_states))\n",
    "    .then(1)\n",
    "    .otherwise(0)\n",
    "    .alias(\"HMM_Signal\")\n",
    ")\n",
    "\n",
    "df_main.head()\n",
    "\n",
    "# The next step (not shown here) would involve analyzing the performance\n",
    "# of each state and removing states that result in losses from the\n",
    "# favourable_states list. This process helps refine our strategy by\n",
    "# identifying which HMM states are truly profitable."
   ]
  },
  {
   "cell_type": "code",
   "execution_count": 22,
   "id": "569f0ecb-1f37-4dae-b55b-4ae5f669d353",
   "metadata": {},
   "outputs": [],
   "source": [
    "# Add Combined Signal\n",
    "# For trading purposes, we're creating a combined signal based on both MA and HMM signals\n",
    "\n",
    "# Initialize the Main_Signal column with 0 (no trade signal)\n",
    "df_main = df_main.with_columns(pl.lit(0).alias(\"Main_Signal\"))\n",
    "\n",
    "# Create a combined signal:\n",
    "# If MA_Signal is 1 (bullish) and HMM_Signal is 1 (favorable state), set Main_Signal to 1 (buy/long signal)\n",
    "df_main = df_main.with_columns(\n",
    "    pl.when((pl.col(\"MA_Signal\") == 1) & (pl.col(\"HMM_Signal\") == 1))\n",
    "    .then(1)\n",
    "    .otherwise(pl.col(\"Main_Signal\"))\n",
    "    .alias(\"Main_Signal\")\n",
    ")\n",
    "\n",
    "# Shift the Main_Signal by 1 day\n",
    "# This is done to avoid look-ahead bias, ensuring we're using yesterday's signal for today's trade\n",
    "df_main = df_main.with_columns(\n",
    "    pl.col(\"Main_Signal\").shift(1).alias(\"Main_Signal\")\n",
    ")\n",
    "\n",
    "# Note: The first row will have a null value for Main_Signal due to the shift\n",
    "# You might want to handle this null value depending on your trading strategy\n"
   ]
  },
  {
   "cell_type": "code",
   "execution_count": 23,
   "id": "e450a2d2-c9be-42c0-a882-59284a37dcef",
   "metadata": {},
   "outputs": [
    {
     "data": {
      "text/html": [
       "<div><style>\n",
       ".dataframe > thead > tr,\n",
       ".dataframe > tbody > tr {\n",
       "  text-align: right;\n",
       "  white-space: pre-wrap;\n",
       "}\n",
       "</style>\n",
       "<small>shape: (3, 11)</small><table border=\"1\" class=\"dataframe\"><thead><tr><th>Date</th><th>Open</th><th>Adj Close</th><th>Returns</th><th>Range</th><th>MA12</th><th>MA21</th><th>HMM</th><th>MA_Signal</th><th>HMM_Signal</th><th>Main_Signal</th></tr><tr><td>datetime[ns]</td><td>f64</td><td>f64</td><td>f64</td><td>f64</td><td>f64</td><td>f64</td><td>i64</td><td>i32</td><td>i32</td><td>i32</td></tr></thead><tbody><tr><td>2018-12-31 00:00:00</td><td>249.559998</td><td>228.866119</td><td>0.008759</td><td>0.010991</td><td>228.386864</td><td>235.695219</td><td>0</td><td>0</td><td>1</td><td>null</td></tr><tr><td>2019-01-02 00:00:00</td><td>245.979996</td><td>229.104233</td><td>0.00104</td><td>0.021387</td><td>227.345245</td><td>234.726725</td><td>2</td><td>0</td><td>1</td><td>0</td></tr><tr><td>2019-01-03 00:00:00</td><td>248.229996</td><td>223.637131</td><td>-0.023863</td><td>0.020109</td><td>226.219793</td><td>233.425491</td><td>1</td><td>0</td><td>1</td><td>0</td></tr></tbody></table></div>"
      ],
      "text/plain": [
       "shape: (3, 11)\n",
       "┌────────────┬────────────┬────────────┬───────────┬───┬─────┬───────────┬────────────┬────────────┐\n",
       "│ Date       ┆ Open       ┆ Adj Close  ┆ Returns   ┆ … ┆ HMM ┆ MA_Signal ┆ HMM_Signal ┆ Main_Signa │\n",
       "│ ---        ┆ ---        ┆ ---        ┆ ---       ┆   ┆ --- ┆ ---       ┆ ---        ┆ l          │\n",
       "│ datetime[n ┆ f64        ┆ f64        ┆ f64       ┆   ┆ i64 ┆ i32       ┆ i32        ┆ ---        │\n",
       "│ s]         ┆            ┆            ┆           ┆   ┆     ┆           ┆            ┆ i32        │\n",
       "╞════════════╪════════════╪════════════╪═══════════╪═══╪═════╪═══════════╪════════════╪════════════╡\n",
       "│ 2018-12-31 ┆ 249.559998 ┆ 228.866119 ┆ 0.008759  ┆ … ┆ 0   ┆ 0         ┆ 1          ┆ null       │\n",
       "│ 00:00:00   ┆            ┆            ┆           ┆   ┆     ┆           ┆            ┆            │\n",
       "│ 2019-01-02 ┆ 245.979996 ┆ 229.104233 ┆ 0.00104   ┆ … ┆ 2   ┆ 0         ┆ 1          ┆ 0          │\n",
       "│ 00:00:00   ┆            ┆            ┆           ┆   ┆     ┆           ┆            ┆            │\n",
       "│ 2019-01-03 ┆ 248.229996 ┆ 223.637131 ┆ -0.023863 ┆ … ┆ 1   ┆ 0         ┆ 1          ┆ 0          │\n",
       "│ 00:00:00   ┆            ┆            ┆           ┆   ┆     ┆           ┆            ┆            │\n",
       "└────────────┴────────────┴────────────┴───────────┴───┴─────┴───────────┴────────────┴────────────┘"
      ]
     },
     "execution_count": 23,
     "metadata": {},
     "output_type": "execute_result"
    }
   ],
   "source": [
    "df_main.head(3)"
   ]
  },
  {
   "cell_type": "markdown",
   "id": "7afb220d-a43e-4093-a607-20528a9a76bc",
   "metadata": {},
   "source": [
    "### Add Returns Benchmark and Strategy"
   ]
  },
  {
   "cell_type": "code",
   "execution_count": 24,
   "id": "1cc69fe5-64ce-4df3-87f0-c019f6787960",
   "metadata": {},
   "outputs": [
    {
     "name": "stderr",
     "output_type": "stream",
     "text": [
      "/var/folders/4w/6x3yk1r13xvcwchd72ftlnsc0000gn/T/ipykernel_27898/1078449500.py:15: DeprecationWarning: `cumsum` is deprecated. It has been renamed to `cum_sum`.\n",
      "  pl.col('lrets_bench').cumsum().alias('bench_prod')\n"
     ]
    }
   ],
   "source": [
    "# Benchmark Returns \n",
    "import polars as pl\n",
    "\n",
    "# Step 1: Calculate log returns\n",
    "# Log returns are used because they are time additive. This means that the log return over multiple periods\n",
    "# is the sum of the log returns of each individual period. This is useful for performance analysis and risk management.\n",
    "df_main = df_main.with_columns([\n",
    "    (pl.col('Adj Close') / pl.col('Adj Close').shift(1)).log().alias('lrets_bench')\n",
    "])\n",
    "\n",
    "# Step 2: Calculate cumulative returns\n",
    "# Cumulative returns help in understanding the total return of an asset over a period of time. It helps traders to see \n",
    "# the compounded effect of returns over time, which is crucial for long-term investment strategies.\n",
    "df_main = df_main.with_columns([\n",
    "    pl.col('lrets_bench').cumsum().alias('bench_prod')\n",
    "])\n",
    "\n",
    "# Step 3: Calculate normalized log returns with exponent\n",
    "# Exponentiating the cumulative log returns gives us the actual cumulative returns in percentage form.\n",
    "# This is useful for traders as it converts the log returns back into a more interpretable form of normal returns.\n",
    "df_main = df_main.with_columns([\n",
    "    (pl.col('bench_prod').exp() - 1).alias('bench_prod_exp')\n",
    "])\n",
    "\n"
   ]
  },
  {
   "cell_type": "code",
   "execution_count": 25,
   "id": "ffa40c29-96cb-4c92-94dd-997ac3f98833",
   "metadata": {},
   "outputs": [
    {
     "data": {
      "text/plain": [
       "['Date',\n",
       " 'Open',\n",
       " 'Adj Close',\n",
       " 'Returns',\n",
       " 'Range',\n",
       " 'MA12',\n",
       " 'MA21',\n",
       " 'HMM',\n",
       " 'MA_Signal',\n",
       " 'HMM_Signal',\n",
       " 'Main_Signal',\n",
       " 'lrets_bench',\n",
       " 'bench_prod',\n",
       " 'bench_prod_exp']"
      ]
     },
     "execution_count": 25,
     "metadata": {},
     "output_type": "execute_result"
    }
   ],
   "source": [
    "df_main.columns\n"
   ]
  },
  {
   "cell_type": "code",
   "execution_count": 26,
   "id": "cc34f206-ce1c-435e-9d9f-488d82bad2b1",
   "metadata": {},
   "outputs": [
    {
     "name": "stderr",
     "output_type": "stream",
     "text": [
      "/var/folders/4w/6x3yk1r13xvcwchd72ftlnsc0000gn/T/ipykernel_27898/3750535998.py:17: DeprecationWarning: `cumsum` is deprecated. It has been renamed to `cum_sum`.\n",
      "  pl.col('lrets_strat').cumsum().alias('lrets_prod')\n"
     ]
    }
   ],
   "source": [
    "#Add Strategy Returns\n",
    "\n",
    "import polars as pl\n",
    "\n",
    "# Step 1: Calculate log returns for strategy using Open prices to avoid look-ahead bias\n",
    "# Using Open prices ensures that we do not use future information when calculating returns.\n",
    "# This helps in getting the worst execution price and making the backtest results more realistic.\n",
    "# Multiplying by Main_Signal ensures that the returns are conditional on the trading signals generated by the strategy.\n",
    "df_main = df_main.with_columns([\n",
    "    ((pl.col('Open').shift(-1) / pl.col('Open')).log() * pl.col('Main_Signal')).alias('lrets_strat')\n",
    "])\n",
    "\n",
    "# Step 2: Calculate cumulative strategy returns\n",
    "# Cumulative returns help in understanding the overall performance of the strategy over the entire period.\n",
    "# It gives a continuous view of how the strategy performs over time.\n",
    "df_main = df_main.with_columns([\n",
    "    pl.col('lrets_strat').cumsum().alias('lrets_prod')\n",
    "])\n",
    "\n",
    "# Step 3: Calculate normalized strategy returns with exponent\n",
    "# Exponentiating the cumulative log returns converts them back into a more interpretable form of normal returns.\n",
    "# This helps traders see the actual return on investment over the period.\n",
    "df_main = df_main.with_columns([\n",
    "    (pl.col('lrets_prod').exp() - 1).alias('strat_prod_exp')\n",
    "])\n",
    "\n"
   ]
  },
  {
   "cell_type": "code",
   "execution_count": 27,
   "id": "e4778770-166f-42d7-a340-57515e146dec",
   "metadata": {},
   "outputs": [],
   "source": [
    "# Review Results Table\n",
    "# Drop rows with any NaN values\n",
    "df_main = df_main.drop_nulls()"
   ]
  },
  {
   "cell_type": "code",
   "execution_count": 28,
   "id": "30950592-5a4b-4799-916a-a45b95078abb",
   "metadata": {},
   "outputs": [
    {
     "data": {
      "text/html": [
       "<div><style>\n",
       ".dataframe > thead > tr,\n",
       ".dataframe > tbody > tr {\n",
       "  text-align: right;\n",
       "  white-space: pre-wrap;\n",
       "}\n",
       "</style>\n",
       "<small>shape: (3, 17)</small><table border=\"1\" class=\"dataframe\"><thead><tr><th>Date</th><th>Open</th><th>Adj Close</th><th>Returns</th><th>Range</th><th>MA12</th><th>MA21</th><th>HMM</th><th>MA_Signal</th><th>HMM_Signal</th><th>Main_Signal</th><th>lrets_bench</th><th>bench_prod</th><th>bench_prod_exp</th><th>lrets_strat</th><th>lrets_prod</th><th>strat_prod_exp</th></tr><tr><td>datetime[ns]</td><td>f64</td><td>f64</td><td>f64</td><td>f64</td><td>f64</td><td>f64</td><td>i64</td><td>i32</td><td>i32</td><td>i32</td><td>f64</td><td>f64</td><td>f64</td><td>f64</td><td>f64</td><td>f64</td></tr></thead><tbody><tr><td>2024-06-25 00:00:00</td><td>543.98999</td><td>544.830017</td><td>0.003851</td><td>0.005088</td><td>541.016729</td><td>535.130528</td><td>1</td><td>1</td><td>1</td><td>1</td><td>0.003843</td><td>0.867337</td><td>1.380562</td><td>-0.000552</td><td>0.261985</td><td>0.299507</td></tr><tr><td>2024-06-26 00:00:00</td><td>543.690002</td><td>545.51001</td><td>0.001248</td><td>0.005911</td><td>542.118164</td><td>535.976839</td><td>1</td><td>1</td><td>1</td><td>1</td><td>0.001247</td><td>0.868584</td><td>1.383533</td><td>0.003085</td><td>0.26507</td><td>0.303522</td></tr><tr><td>2024-06-27 00:00:00</td><td>545.369995</td><td>546.369995</td><td>0.001576</td><td>0.004315</td><td>543.15421</td><td>536.84654</td><td>1</td><td>1</td><td>1</td><td>1</td><td>0.001575</td><td>0.870159</td><td>1.387291</td><td>0.003277</td><td>0.268347</td><td>0.3078</td></tr></tbody></table></div>"
      ],
      "text/plain": [
       "shape: (3, 17)\n",
       "┌───────────┬───────────┬───────────┬──────────┬───┬───────────┬───────────┬───────────┬───────────┐\n",
       "│ Date      ┆ Open      ┆ Adj Close ┆ Returns  ┆ … ┆ bench_pro ┆ lrets_str ┆ lrets_pro ┆ strat_pro │\n",
       "│ ---       ┆ ---       ┆ ---       ┆ ---      ┆   ┆ d_exp     ┆ at        ┆ d         ┆ d_exp     │\n",
       "│ datetime[ ┆ f64       ┆ f64       ┆ f64      ┆   ┆ ---       ┆ ---       ┆ ---       ┆ ---       │\n",
       "│ ns]       ┆           ┆           ┆          ┆   ┆ f64       ┆ f64       ┆ f64       ┆ f64       │\n",
       "╞═══════════╪═══════════╪═══════════╪══════════╪═══╪═══════════╪═══════════╪═══════════╪═══════════╡\n",
       "│ 2024-06-2 ┆ 543.98999 ┆ 544.83001 ┆ 0.003851 ┆ … ┆ 1.380562  ┆ -0.000552 ┆ 0.261985  ┆ 0.299507  │\n",
       "│ 5         ┆           ┆ 7         ┆          ┆   ┆           ┆           ┆           ┆           │\n",
       "│ 00:00:00  ┆           ┆           ┆          ┆   ┆           ┆           ┆           ┆           │\n",
       "│ 2024-06-2 ┆ 543.69000 ┆ 545.51001 ┆ 0.001248 ┆ … ┆ 1.383533  ┆ 0.003085  ┆ 0.26507   ┆ 0.303522  │\n",
       "│ 6         ┆ 2         ┆           ┆          ┆   ┆           ┆           ┆           ┆           │\n",
       "│ 00:00:00  ┆           ┆           ┆          ┆   ┆           ┆           ┆           ┆           │\n",
       "│ 2024-06-2 ┆ 545.36999 ┆ 546.36999 ┆ 0.001576 ┆ … ┆ 1.387291  ┆ 0.003277  ┆ 0.268347  ┆ 0.3078    │\n",
       "│ 7         ┆ 5         ┆ 5         ┆          ┆   ┆           ┆           ┆           ┆           │\n",
       "│ 00:00:00  ┆           ┆           ┆          ┆   ┆           ┆           ┆           ┆           │\n",
       "└───────────┴───────────┴───────────┴──────────┴───┴───────────┴───────────┴───────────┴───────────┘"
      ]
     },
     "execution_count": 28,
     "metadata": {},
     "output_type": "execute_result"
    }
   ],
   "source": [
    "df_main.tail(3)"
   ]
  },
  {
   "cell_type": "markdown",
   "id": "84e993dc-269e-42e9-92f4-cc7feebf56ad",
   "metadata": {},
   "source": [
    "## Calculate Metrics"
   ]
  },
  {
   "cell_type": "code",
   "execution_count": 29,
   "id": "e5cfb767-5783-4a18-89c1-68deb43894a1",
   "metadata": {},
   "outputs": [
    {
     "name": "stdout",
     "output_type": "stream",
     "text": [
      "Calculated Sharpe Ratio: 0.84\n"
     ]
    }
   ],
   "source": [
    "import polars as pl\n",
    "\n",
    "def sharpe_ratio(df, returns_col, trading_days=255, risk_free_rate=0.01):\n",
    "    \"\"\"\n",
    "    Calculate the Sharpe Ratio for a given series of returns in a Polars DataFrame.\n",
    "    :param df: Polars DataFrame containing the returns column\n",
    "    :param returns_col: Name of the returns column in the DataFrame\n",
    "    :param trading_days: Number of trading days in a year (255 for stocks, 365 for crypto)\n",
    "    :param risk_free_rate: Risk-free rate, default is 0.01 (1%)\n",
    "    :return: Sharpe Ratio rounded to two decimal places\n",
    "    \"\"\"\n",
    "    N = trading_days\n",
    "    NSQRT = N ** 0.5  # Square root of the number of trading days\n",
    "    \n",
    "    # Calculate mean return and annualize it\n",
    "    mean_return = df.select(pl.col(returns_col).mean())[0, 0] * N\n",
    "    \n",
    "    # Calculate standard deviation and annualize it\n",
    "    std_dev = df.select(pl.col(returns_col).std())[0, 0] * NSQRT\n",
    "    \n",
    "    # Calculate Sharpe Ratio\n",
    "    sharpe_ratio = round((mean_return - risk_free_rate) / std_dev, 2)\n",
    "    return sharpe_ratio\n",
    "\n",
    "# Test the sharpe_ratio function using the 'Returns' column from df_main\n",
    "test_sharpe_ratio = sharpe_ratio(df_main, \"Returns\")\n",
    "\n",
    "# Print the calculated Sharpe Ratio\n",
    "print(f\"Calculated Sharpe Ratio: {test_sharpe_ratio}\")\n"
   ]
  },
  {
   "cell_type": "code",
   "execution_count": 30,
   "id": "140801df-3a3e-4dba-b8c5-b9f5e93e26c4",
   "metadata": {},
   "outputs": [
    {
     "name": "stdout",
     "output_type": "stream",
     "text": [
      "Returns Benchmark: 138.7%\n"
     ]
    }
   ],
   "source": [
    "# Calculate the benchmark returns\n",
    "# This assumes df_main is already defined and contains the necessary columns\n",
    "\n",
    "# Extract the last value of the 'bench_prod_exp' column to calculate the cumulative return\n",
    "bench_rets = round(df_main.select(pl.col('bench_prod_exp').last() * 100)[0, 0], 1)\n",
    "\n",
    "# Print the benchmark returns\n",
    "print(f\"Returns Benchmark: {bench_rets}%\")\n"
   ]
  },
  {
   "cell_type": "code",
   "execution_count": 31,
   "id": "38299443-c784-4171-91d4-4db240743c7b",
   "metadata": {},
   "outputs": [
    {
     "name": "stdout",
     "output_type": "stream",
     "text": [
      "Returns Strategy: 30.8%\n"
     ]
    }
   ],
   "source": [
    "# Calculate the strategy returns\n",
    "# Extract the last value of the 'strat_prod_exp' column to calculate the cumulative return\n",
    "strat_rets = round(df_main.select(pl.col('strat_prod_exp').last() * 100)[0, 0], 1)\n",
    "\n",
    "# Print the strategy returns\n",
    "print(f\"Returns Strategy: {strat_rets}%\")\n"
   ]
  },
  {
   "cell_type": "code",
   "execution_count": 32,
   "id": "da08c535-dbe7-44f3-aab6-3d5d6fc09be1",
   "metadata": {},
   "outputs": [
    {
     "name": "stdout",
     "output_type": "stream",
     "text": [
      "Sharpe Ratio Benchmark: 0.74\n",
      "Sharpe Ratio Strategy: 0.3\n"
     ]
    }
   ],
   "source": [
    "# Calculate Sharpe Ratio for the benchmark\n",
    "bench_sharpe = sharpe_ratio(df_main, 'lrets_bench', trading_days=255)\n",
    "\n",
    "# Calculate Sharpe Ratio for the strategy\n",
    "strat_sharpe = sharpe_ratio(df_main, 'lrets_strat', trading_days=255)\n",
    "\n",
    "# Print the Sharpe Ratios\n",
    "print(f\"Sharpe Ratio Benchmark: {bench_sharpe}\")\n",
    "print(f\"Sharpe Ratio Strategy: {strat_sharpe}\")\n"
   ]
  },
  {
   "cell_type": "code",
   "execution_count": 33,
   "id": "23700dfd-a461-4d59-800c-4fc7512ffb6c",
   "metadata": {},
   "outputs": [
    {
     "name": "stdout",
     "output_type": "stream",
     "text": [
      "Returns Benchmark: 138.7%\n",
      "Returns Strategy: 30.8%\n",
      "----- ----- ----- ----- -----\n",
      "Sharpe Benchmark: 0.74\n",
      "Sharpe Strategy: 0.3\n"
     ]
    }
   ],
   "source": [
    "# Print Metrics\n",
    "print(f\"Returns Benchmark: {bench_rets}%\")\n",
    "print(f\"Returns Strategy: {strat_rets}%\")\n",
    "print(\"----- ----- ----- ----- -----\")\n",
    "print(f\"Sharpe Benchmark: {bench_sharpe}\")\n",
    "print(f\"Sharpe Strategy: {strat_sharpe}\")\n"
   ]
  },
  {
   "cell_type": "code",
   "execution_count": 34,
   "id": "f76eb28f-d6c8-4462-a92e-e06e220fa246",
   "metadata": {},
   "outputs": [
    {
     "ename": "AttributeError",
     "evalue": "'DatetimeIndex' object has no attribute 'dt'",
     "output_type": "error",
     "traceback": [
      "\u001b[0;31m---------------------------------------------------------------------------\u001b[0m",
      "\u001b[0;31mAttributeError\u001b[0m                            Traceback (most recent call last)",
      "Cell \u001b[0;32mIn[34], line 26\u001b[0m\n\u001b[1;32m     23\u001b[0m plt\u001b[38;5;241m.\u001b[39mgrid(\u001b[38;5;28;01mTrue\u001b[39;00m)\n\u001b[1;32m     25\u001b[0m \u001b[38;5;66;03m# Add vertical lines for each year\u001b[39;00m\n\u001b[0;32m---> 26\u001b[0m unique_years \u001b[38;5;241m=\u001b[39m \u001b[43mpd\u001b[49m\u001b[38;5;241;43m.\u001b[39;49m\u001b[43mto_datetime\u001b[49m\u001b[43m(\u001b[49m\u001b[43mdf_main\u001b[49m\u001b[43m[\u001b[49m\u001b[38;5;124;43m'\u001b[39;49m\u001b[38;5;124;43mDate\u001b[39;49m\u001b[38;5;124;43m'\u001b[39;49m\u001b[43m]\u001b[49m\u001b[43m)\u001b[49m\u001b[38;5;241;43m.\u001b[39;49m\u001b[43mdt\u001b[49m\u001b[38;5;241m.\u001b[39myear\u001b[38;5;241m.\u001b[39munique()\n\u001b[1;32m     27\u001b[0m \u001b[38;5;28;01mfor\u001b[39;00m year \u001b[38;5;129;01min\u001b[39;00m unique_years:\n\u001b[1;32m     28\u001b[0m     plt\u001b[38;5;241m.\u001b[39maxvline(pd\u001b[38;5;241m.\u001b[39mTimestamp(\u001b[38;5;124mf\u001b[39m\u001b[38;5;124m'\u001b[39m\u001b[38;5;132;01m{\u001b[39;00myear\u001b[38;5;132;01m}\u001b[39;00m\u001b[38;5;124m-01-01\u001b[39m\u001b[38;5;124m'\u001b[39m), color\u001b[38;5;241m=\u001b[39m\u001b[38;5;124m'\u001b[39m\u001b[38;5;124mgrey\u001b[39m\u001b[38;5;124m'\u001b[39m, linestyle\u001b[38;5;241m=\u001b[39m\u001b[38;5;124m'\u001b[39m\u001b[38;5;124m-\u001b[39m\u001b[38;5;124m'\u001b[39m, linewidth\u001b[38;5;241m=\u001b[39m\u001b[38;5;241m1\u001b[39m)\n",
      "\u001b[0;31mAttributeError\u001b[0m: 'DatetimeIndex' object has no attribute 'dt'"
     ]
    },
    {
     "data": {
      "image/png": "[encoded data removed]",
      "text/plain": [
       "<Figure size 1800x1000 with 1 Axes>"
      ]
     },
     "metadata": {},
     "output_type": "display_data"
    }
   ],
   "source": [
    "import matplotlib.pyplot as plt\n",
    "import matplotlib.dates as mdates\n",
    "import pandas as pd\n",
    "\n",
    "# Plot equity curves for both the benchmark and the strategy\n",
    "plt.figure(figsize=(18, 10))\n",
    "\n",
    "# Plot the benchmark cumulative returns\n",
    "plt.plot(df_main['Date'], df_main['bench_prod_exp'], label='Benchmark', linestyle='solid', linewidth=2, color='blue')\n",
    "\n",
    "# Plot the strategy cumulative returns\n",
    "plt.plot(df_main['Date'], df_main['strat_prod_exp'], label='Strategy', linestyle='dashed', linewidth=2, color='orange')\n",
    "\n",
    "# Add vertical lines for each year\n",
    "years = mdates.YearLocator()  # every year\n",
    "plt.gca().xaxis.set_major_locator(years)\n",
    "\n",
    "# Add plot details\n",
    "plt.legend()\n",
    "plt.title('Equity Curves')\n",
    "plt.xlabel('Date')\n",
    "plt.ylabel('Cumulative Returns')\n",
    "plt.grid(True)\n",
    "\n",
    "# Add vertical lines for each year\n",
    "unique_years = pd.to_datetime(df_main['Date']).dt.year.unique()\n",
    "for year in unique_years:\n",
    "    plt.axvline(pd.Timestamp(f'{year}-01-01'), color='grey', linestyle='-', linewidth=1)\n",
    "\n",
    "plt.show()\n"
   ]
  },
  {
   "cell_type": "code",
   "execution_count": null,
   "id": "185f1a7a-47bb-49f8-8808-492a28e9c649",
   "metadata": {},
   "outputs": [],
   "source": []
  }
 ],
 "metadata": {
  "kernelspec": {
   "display_name": "Python 3 (ipykernel)",
   "language": "python",
   "name": "python3"
  },
  "language_info": {
   "codemirror_mode": {
    "name": "ipython",
    "version": 3
   },
   "file_extension": ".py",
   "mimetype": "text/x-python",
   "name": "python",
   "nbconvert_exporter": "python",
   "pygments_lexer": "ipython3",
   "version": "3.12.0"
  }
 },
 "nbformat": 4,
 "nbformat_minor": 5
}
