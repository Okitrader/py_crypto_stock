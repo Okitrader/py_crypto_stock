{
 "cells": [
  {
   "cell_type": "markdown",
   "id": "38acac95-d742-44fa-ae5b-71fc7d28b886",
   "metadata": {},
   "source": [
    "### Imports "
   ]
  },
  {
   "cell_type": "code",
   "execution_count": 1,
   "id": "41e41454-5376-43a4-8934-24ad48e9d03d",
   "metadata": {},
   "outputs": [],
   "source": [
    "# Data Management\n",
    "import numpy as np\n",
    "import pandas as pd\n",
    "import polars as pl  # Using Polars for data management\n",
    "\n",
    "# Data Preprocessing\n",
    "from sklearn.preprocessing import MinMaxScaler\n",
    "\n",
    "# Deep Learning\n",
    "import torch\n",
    "from torch.utils.data import Dataset, DataLoader\n",
    "\n",
    "# Visualization\n",
    "import matplotlib.pyplot as plt"
   ]
  },
  {
   "cell_type": "markdown",
   "id": "a132b625-221a-447b-822d-1c805a512370",
   "metadata": {},
   "source": [
    "### Data Extraction"
   ]
  },
  {
   "cell_type": "code",
   "execution_count": 2,
   "id": "29ea91a6-5739-46ad-a1a9-68267cdae6a2",
   "metadata": {},
   "outputs": [
    {
     "name": "stdout",
     "output_type": "stream",
     "text": [
      "Length: 852\n"
     ]
    },
    {
     "data": {
      "text/plain": [
       "['Date',\n",
       " 'Open',\n",
       " 'Adj Close',\n",
       " 'Returns',\n",
       " 'Range',\n",
       " 'MA_12',\n",
       " 'MA_21',\n",
       " 'HMM',\n",
       " 'MA_Signal',\n",
       " 'HMM_Signal',\n",
       " 'Main_Signal',\n",
       " 'lrets_bench',\n",
       " 'bench_prod',\n",
       " 'bench_prod_exp',\n",
       " 'lrets_strat',\n",
       " 'lrets_prod',\n",
       " 'strat_prod_exp']"
      ]
     },
     "execution_count": 2,
     "metadata": {},
     "output_type": "execute_result"
    }
   ],
   "source": [
    "# Load data from saved file using Polars\n",
    "df = pl.read_csv(\"data/HMM-SPY.csv\")\n",
    "\n",
    "print(f\"Length: {len(df)}\")\n",
    "\n",
    "df.columns"
   ]
  },
  {
   "cell_type": "code",
   "execution_count": 3,
   "id": "8d29b9cf-4e67-4401-90ff-7880fab69a01",
   "metadata": {},
   "outputs": [
    {
     "data": {
      "text/html": [
       "<div><style>\n",
       ".dataframe > thead > tr,\n",
       ".dataframe > tbody > tr {\n",
       "  text-align: right;\n",
       "  white-space: pre-wrap;\n",
       "}\n",
       "</style>\n",
       "<small>shape: (2, 7)</small><table border=\"1\" class=\"dataframe\"><thead><tr><th>Open</th><th>Adj Close</th><th>MA_12</th><th>MA_21</th><th>HMM</th><th>lrets_bench</th><th>lrets_strat</th></tr><tr><td>f64</td><td>f64</td><td>f64</td><td>f64</td><td>i64</td><td>f64</td><td>f64</td></tr></thead><tbody><tr><td>256.820007</td><td>242.321487</td><td>233.62229</td><td>238.259514</td><td>2</td><td>0.009351</td><td>0.0</td></tr><tr><td>257.559998</td><td>243.454041</td><td>234.584504</td><td>238.076622</td><td>3</td><td>0.004663</td><td>-0.0</td></tr></tbody></table></div>"
      ],
      "text/plain": [
       "shape: (2, 7)\n",
       "┌────────────┬────────────┬────────────┬────────────┬─────┬─────────────┬─────────────┐\n",
       "│ Open       ┆ Adj Close  ┆ MA_12      ┆ MA_21      ┆ HMM ┆ lrets_bench ┆ lrets_strat │\n",
       "│ ---        ┆ ---        ┆ ---        ┆ ---        ┆ --- ┆ ---         ┆ ---         │\n",
       "│ f64        ┆ f64        ┆ f64        ┆ f64        ┆ i64 ┆ f64         ┆ f64         │\n",
       "╞════════════╪════════════╪════════════╪════════════╪═════╪═════════════╪═════════════╡\n",
       "│ 256.820007 ┆ 242.321487 ┆ 233.62229  ┆ 238.259514 ┆ 2   ┆ 0.009351    ┆ 0.0         │\n",
       "│ 257.559998 ┆ 243.454041 ┆ 234.584504 ┆ 238.076622 ┆ 3   ┆ 0.004663    ┆ -0.0        │\n",
       "└────────────┴────────────┴────────────┴────────────┴─────┴─────────────┴─────────────┘"
      ]
     },
     "execution_count": 3,
     "metadata": {},
     "output_type": "execute_result"
    }
   ],
   "source": [
    "df_uf = df.clone()\n",
    "useful_features = [\"Open\", \"Adj Close\", \"MA_12\", \"MA_21\", \"HMM\", \"lrets_bench\", \"lrets_strat\"]\n",
    "df_uf = df.select(useful_features)\n",
    "\n",
    "df_uf.head(2)"
   ]
  },
  {
   "cell_type": "code",
   "execution_count": 5,
   "id": "a0be4984-ec61-4c7b-85d0-ac8a77e824e1",
   "metadata": {},
   "outputs": [
    {
     "data": {
      "text/plain": [
       "[Float64, Float64, Float64, Float64, Int64, Float64, Float64]"
      ]
     },
     "execution_count": 5,
     "metadata": {},
     "output_type": "execute_result"
    }
   ],
   "source": [
    "df_uf.dtypes"
   ]
  },
  {
   "cell_type": "code",
   "execution_count": null,
   "id": "edd6ad52-9a24-48ab-af88-1af820fbbbba",
   "metadata": {},
   "outputs": [],
   "source": []
  }
 ],
 "metadata": {
  "kernelspec": {
   "display_name": "Python 3 (ipykernel)",
   "language": "python",
   "name": "python3"
  },
  "language_info": {
   "codemirror_mode": {
    "name": "ipython",
    "version": 3
   },
   "file_extension": ".py",
   "mimetype": "text/x-python",
   "name": "python",
   "nbconvert_exporter": "python",
   "pygments_lexer": "ipython3",
   "version": "3.12.0"
  }
 },
 "nbformat": 4,
 "nbformat_minor": 5
}
