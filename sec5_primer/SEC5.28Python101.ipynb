{
 "cells": [
  {
   "cell_type": "code",
   "execution_count": 1,
   "id": "d2792e0b-f13c-41af-9151-cbc64d7796bc",
   "metadata": {},
   "outputs": [],
   "source": [
    "# Imports\n",
    "import polars as pl\n",
    "import numpy as np\n",
    "import matplotlib.pyplot as plt\n",
    "import yfinance as yf\n"
   ]
  },
  {
   "cell_type": "code",
   "execution_count": 2,
   "id": "a32148cf-d2e9-4027-886a-fc2333df8931",
   "metadata": {},
   "outputs": [
    {
     "name": "stdout",
     "output_type": "stream",
     "text": [
      "[*********************100%%**********************]  1 of 1 completed\n"
     ]
    },
    {
     "data": {
      "text/html": [
       "<div><style>\n",
       ".dataframe > thead > tr,\n",
       ".dataframe > tbody > tr {\n",
       "  text-align: right;\n",
       "  white-space: pre-wrap;\n",
       "}\n",
       "</style>\n",
       "<small>shape: (5, 7)</small><table border=\"1\" class=\"dataframe\"><thead><tr><th>Date</th><th>Open</th><th>High</th><th>Low</th><th>Close</th><th>Adj Close</th><th>Volume</th></tr><tr><td>datetime[ns]</td><td>f64</td><td>f64</td><td>f64</td><td>f64</td><td>f64</td><td>i64</td></tr></thead><tbody><tr><td>2023-01-01 00:00:00</td><td>0.000008</td><td>0.000008</td><td>0.000008</td><td>0.000008</td><td>0.000008</td><td>54630954</td></tr><tr><td>2023-01-02 00:00:00</td><td>0.000008</td><td>0.000008</td><td>0.000008</td><td>0.000008</td><td>0.000008</td><td>87586024</td></tr><tr><td>2023-01-03 00:00:00</td><td>0.000008</td><td>0.000008</td><td>0.000008</td><td>0.000008</td><td>0.000008</td><td>80033128</td></tr><tr><td>2023-01-04 00:00:00</td><td>0.000008</td><td>0.000008</td><td>0.000008</td><td>0.000008</td><td>0.000008</td><td>143577598</td></tr><tr><td>2023-01-05 00:00:00</td><td>0.000008</td><td>0.000009</td><td>0.000008</td><td>0.000008</td><td>0.000008</td><td>262459409</td></tr></tbody></table></div>"
      ],
      "text/plain": [
       "shape: (5, 7)\n",
       "┌─────────────────────┬──────────┬──────────┬──────────┬──────────┬───────────┬───────────┐\n",
       "│ Date                ┆ Open     ┆ High     ┆ Low      ┆ Close    ┆ Adj Close ┆ Volume    │\n",
       "│ ---                 ┆ ---      ┆ ---      ┆ ---      ┆ ---      ┆ ---       ┆ ---       │\n",
       "│ datetime[ns]        ┆ f64      ┆ f64      ┆ f64      ┆ f64      ┆ f64       ┆ i64       │\n",
       "╞═════════════════════╪══════════╪══════════╪══════════╪══════════╪═══════════╪═══════════╡\n",
       "│ 2023-01-01 00:00:00 ┆ 0.000008 ┆ 0.000008 ┆ 0.000008 ┆ 0.000008 ┆ 0.000008  ┆ 54630954  │\n",
       "│ 2023-01-02 00:00:00 ┆ 0.000008 ┆ 0.000008 ┆ 0.000008 ┆ 0.000008 ┆ 0.000008  ┆ 87586024  │\n",
       "│ 2023-01-03 00:00:00 ┆ 0.000008 ┆ 0.000008 ┆ 0.000008 ┆ 0.000008 ┆ 0.000008  ┆ 80033128  │\n",
       "│ 2023-01-04 00:00:00 ┆ 0.000008 ┆ 0.000008 ┆ 0.000008 ┆ 0.000008 ┆ 0.000008  ┆ 143577598 │\n",
       "│ 2023-01-05 00:00:00 ┆ 0.000008 ┆ 0.000009 ┆ 0.000008 ┆ 0.000008 ┆ 0.000008  ┆ 262459409 │\n",
       "└─────────────────────┴──────────┴──────────┴──────────┴──────────┴───────────┴───────────┘"
      ]
     },
     "execution_count": 2,
     "metadata": {},
     "output_type": "execute_result"
    }
   ],
   "source": [
    "# Extract and view data\n",
    "start_date = \"2023-01-01\"\n",
    "end_date = \"2024-06-01\"\n",
    "symbol = \"SHIB-USD\"\n",
    "\n",
    "# Fetch data using yfinance\n",
    "df_yf = yf.download(symbol, start=start_date, end=end_date)\n",
    "\n",
    "# Convert to Polars DataFrame\n",
    "df = pl.from_pandas(df_yf.reset_index())\n",
    "df.head(5)"
   ]
  },
  {
   "cell_type": "code",
   "execution_count": 3,
   "id": "5e74340d-c429-4b36-8916-3203f6c41648",
   "metadata": {},
   "outputs": [
    {
     "name": "stdout",
     "output_type": "stream",
     "text": [
      "shape: (3, 8)\n",
      "┌─────────────────────┬──────────┬──────────┬──────────┬──────────┬───────────┬──────────┬─────────┐\n",
      "│ Date                ┆ Open     ┆ High     ┆ Low      ┆ Close    ┆ Adj Close ┆ Volume   ┆ Returns │\n",
      "│ ---                 ┆ ---      ┆ ---      ┆ ---      ┆ ---      ┆ ---       ┆ ---      ┆ ---     │\n",
      "│ datetime[ns]        ┆ f64      ┆ f64      ┆ f64      ┆ f64      ┆ f64       ┆ i64      ┆ f64     │\n",
      "╞═════════════════════╪══════════╪══════════╪══════════╪══════════╪═══════════╪══════════╪═════════╡\n",
      "│ 2023-01-01 00:00:00 ┆ 0.000008 ┆ 0.000008 ┆ 0.000008 ┆ 0.000008 ┆ 0.000008  ┆ 54630954 ┆ null    │\n",
      "│ 2023-01-02 00:00:00 ┆ 0.000008 ┆ 0.000008 ┆ 0.000008 ┆ 0.000008 ┆ 0.000008  ┆ 87586024 ┆ 0.0     │\n",
      "│ 2023-01-03 00:00:00 ┆ 0.000008 ┆ 0.000008 ┆ 0.000008 ┆ 0.000008 ┆ 0.000008  ┆ 80033128 ┆ 0.0     │\n",
      "└─────────────────────┴──────────┴──────────┴──────────┴──────────┴───────────┴──────────┴─────────┘\n"
     ]
    }
   ],
   "source": [
    "# Add a column for returns\n",
    "df = df.with_columns(\n",
    "    pl.col(\"Close\").pct_change().alias(\"Returns\")\n",
    ")\n",
    "print(df.head(3))"
   ]
  },
  {
   "cell_type": "code",
   "execution_count": 4,
   "id": "c921db1e-38b5-46a6-9f41-102cd486726f",
   "metadata": {},
   "outputs": [
    {
     "name": "stdout",
     "output_type": "stream",
     "text": [
      "shape: (3, 9)\n",
      "┌──────────────┬──────────┬──────────┬──────────┬───┬───────────┬──────────┬─────────┬─────────────┐\n",
      "│ Date         ┆ Open     ┆ High     ┆ Low      ┆ … ┆ Adj Close ┆ Volume   ┆ Returns ┆ Log Returns │\n",
      "│ ---          ┆ ---      ┆ ---      ┆ ---      ┆   ┆ ---       ┆ ---      ┆ ---     ┆ ---         │\n",
      "│ datetime[ns] ┆ f64      ┆ f64      ┆ f64      ┆   ┆ f64       ┆ i64      ┆ f64     ┆ f64         │\n",
      "╞══════════════╪══════════╪══════════╪══════════╪═══╪═══════════╪══════════╪═════════╪═════════════╡\n",
      "│ 2023-01-01   ┆ 0.000008 ┆ 0.000008 ┆ 0.000008 ┆ … ┆ 0.000008  ┆ 54630954 ┆ null    ┆ null        │\n",
      "│ 00:00:00     ┆          ┆          ┆          ┆   ┆           ┆          ┆         ┆             │\n",
      "│ 2023-01-02   ┆ 0.000008 ┆ 0.000008 ┆ 0.000008 ┆ … ┆ 0.000008  ┆ 87586024 ┆ 0.0     ┆ 0.0         │\n",
      "│ 00:00:00     ┆          ┆          ┆          ┆   ┆           ┆          ┆         ┆             │\n",
      "│ 2023-01-03   ┆ 0.000008 ┆ 0.000008 ┆ 0.000008 ┆ … ┆ 0.000008  ┆ 80033128 ┆ 0.0     ┆ 0.0         │\n",
      "│ 00:00:00     ┆          ┆          ┆          ┆   ┆           ┆          ┆         ┆             │\n",
      "└──────────────┴──────────┴──────────┴──────────┴───┴───────────┴──────────┴─────────┴─────────────┘\n"
     ]
    }
   ],
   "source": [
    "import numpy as np\n",
    "\n",
    "# Calculate log returns\n",
    "df = df.with_columns(\n",
    "    (pl.col(\"Close\") / pl.col(\"Close\").shift(1)).map_batches(np.log).alias(\"Log Returns\")\n",
    ")\n",
    "print(df.head(3))"
   ]
  },
  {
   "cell_type": "code",
   "execution_count": 5,
   "id": "2463d780-70c8-487f-8ec4-4ee73f68bf8b",
   "metadata": {},
   "outputs": [
    {
     "name": "stdout",
     "output_type": "stream",
     "text": [
      "shape: (5, 10)\n",
      "┌────────────────┬──────────┬──────────┬──────────┬───┬───────────┬─────────┬─────────────┬────────┐\n",
      "│ Date           ┆ Open     ┆ High     ┆ Low      ┆ … ┆ Volume    ┆ Returns ┆ Log Returns ┆ CumSum │\n",
      "│ ---            ┆ ---      ┆ ---      ┆ ---      ┆   ┆ ---       ┆ ---     ┆ ---         ┆ ---    │\n",
      "│ datetime[ns]   ┆ f64      ┆ f64      ┆ f64      ┆   ┆ i64       ┆ f64     ┆ f64         ┆ f64    │\n",
      "╞════════════════╪══════════╪══════════╪══════════╪═══╪═══════════╪═════════╪═════════════╪════════╡\n",
      "│ 2023-01-01     ┆ 0.000008 ┆ 0.000008 ┆ 0.000008 ┆ … ┆ 54630954  ┆ null    ┆ null        ┆ null   │\n",
      "│ 00:00:00       ┆          ┆          ┆          ┆   ┆           ┆         ┆             ┆        │\n",
      "│ 2023-01-02     ┆ 0.000008 ┆ 0.000008 ┆ 0.000008 ┆ … ┆ 87586024  ┆ 0.0     ┆ 0.0         ┆ 0.0    │\n",
      "│ 00:00:00       ┆          ┆          ┆          ┆   ┆           ┆         ┆             ┆        │\n",
      "│ 2023-01-03     ┆ 0.000008 ┆ 0.000008 ┆ 0.000008 ┆ … ┆ 80033128  ┆ 0.0     ┆ 0.0         ┆ 0.0    │\n",
      "│ 00:00:00       ┆          ┆          ┆          ┆   ┆           ┆         ┆             ┆        │\n",
      "│ 2023-01-04     ┆ 0.000008 ┆ 0.000008 ┆ 0.000008 ┆ … ┆ 143577598 ┆ 0.0     ┆ 0.0         ┆ 0.0    │\n",
      "│ 00:00:00       ┆          ┆          ┆          ┆   ┆           ┆         ┆             ┆        │\n",
      "│ 2023-01-05     ┆ 0.000008 ┆ 0.000009 ┆ 0.000008 ┆ … ┆ 262459409 ┆ 0.0     ┆ 0.0         ┆ 0.0    │\n",
      "│ 00:00:00       ┆          ┆          ┆          ┆   ┆           ┆         ┆             ┆        │\n",
      "└────────────────┴──────────┴──────────┴──────────┴───┴───────────┴─────────┴─────────────┴────────┘\n"
     ]
    }
   ],
   "source": [
    "# Cumulative sum of log returns\n",
    "df = df.with_columns(\n",
    "    pl.col(\"Log Returns\").cum_sum().alias(\"CumSum\")\n",
    ")\n",
    "print(df.head())\n"
   ]
  },
  {
   "cell_type": "code",
   "execution_count": 6,
   "id": "7734c818-e130-4194-8dbb-4f65e509d0f2",
   "metadata": {},
   "outputs": [],
   "source": [
    "df_new = df.clone()"
   ]
  },
  {
   "cell_type": "markdown",
   "id": "cc25f0d7-a2bc-4a1e-a19a-3a13dc23cb64",
   "metadata": {},
   "source": [
    "# Extract Arrays and Values from DF"
   ]
  },
  {
   "cell_type": "code",
   "execution_count": 7,
   "id": "079060c9-714f-432c-9283-b9ba8b83c940",
   "metadata": {},
   "outputs": [],
   "source": [
    "import polars as pl\n",
    "import numpy as np\n",
    "\n",
    "# Assuming df_new is your original Polars DataFrame\n",
    "\n",
    "# Create a copy of the DataFrame\n",
    "df_x = df_new.clone()"
   ]
  },
  {
   "cell_type": "code",
   "execution_count": 12,
   "id": "baa2d634-babe-4d4d-b320-abfbfded22e2",
   "metadata": {},
   "outputs": [
    {
     "name": "stdout",
     "output_type": "stream",
     "text": [
      "[7.99999998e-06 7.99999998e-06 7.99999998e-06 7.99999998e-06]\n"
     ]
    }
   ],
   "source": [
    "close_prices = df_x['Close'].to_numpy() # in pandas it would be .values\n",
    "print(close_prices[:4])"
   ]
  },
  {
   "cell_type": "code",
   "execution_count": 13,
   "id": "5be44ded-9e3b-4757-843c-18f09c7de731",
   "metadata": {},
   "outputs": [
    {
     "name": "stdout",
     "output_type": "stream",
     "text": [
      "[7.999999979801942e-06, 7.999999979801942e-06, 7.999999979801942e-06, 7.999999979801942e-06]\n"
     ]
    }
   ],
   "source": [
    "# Convert to list if needed\n",
    "close_prices_list = close_prices.tolist()\n",
    "print(close_prices_list[:4])\n"
   ]
  },
  {
   "cell_type": "code",
   "execution_count": 14,
   "id": "485fffcd-4574-41b8-ae62-87caf0131694",
   "metadata": {},
   "outputs": [
    {
     "name": "stdout",
     "output_type": "stream",
     "text": [
      "[3.99999999e-06 3.99999999e-06 3.99999999e-06 3.99999999e-06]\n"
     ]
    }
   ],
   "source": [
    "# Modify close prices\n",
    "mod_close_prices = close_prices / 2\n",
    "print(mod_close_prices[:4])"
   ]
  },
  {
   "cell_type": "code",
   "execution_count": 18,
   "id": "44e6b600-b89d-4e8d-84f5-1992a44525dd",
   "metadata": {},
   "outputs": [
    {
     "name": "stdout",
     "output_type": "stream",
     "text": [
      "shape: (5, 11)\n",
      "┌────────────────┬──────────┬──────────┬──────────┬───┬─────────┬─────────────┬────────┬───────────┐\n",
      "│ Date           ┆ Open     ┆ High     ┆ Low      ┆ … ┆ Returns ┆ Log Returns ┆ CumSum ┆ mod_close │\n",
      "│ ---            ┆ ---      ┆ ---      ┆ ---      ┆   ┆ ---     ┆ ---         ┆ ---    ┆ ---       │\n",
      "│ datetime[ns]   ┆ f64      ┆ f64      ┆ f64      ┆   ┆ f64     ┆ f64         ┆ f64    ┆ f64       │\n",
      "╞════════════════╪══════════╪══════════╪══════════╪═══╪═════════╪═════════════╪════════╪═══════════╡\n",
      "│ 2023-01-01     ┆ 0.000008 ┆ 0.000008 ┆ 0.000008 ┆ … ┆ null    ┆ null        ┆ null   ┆ 0.000004  │\n",
      "│ 00:00:00       ┆          ┆          ┆          ┆   ┆         ┆             ┆        ┆           │\n",
      "│ 2023-01-02     ┆ 0.000008 ┆ 0.000008 ┆ 0.000008 ┆ … ┆ 0.0     ┆ 0.0         ┆ 0.0    ┆ 0.000004  │\n",
      "│ 00:00:00       ┆          ┆          ┆          ┆   ┆         ┆             ┆        ┆           │\n",
      "│ 2023-01-03     ┆ 0.000008 ┆ 0.000008 ┆ 0.000008 ┆ … ┆ 0.0     ┆ 0.0         ┆ 0.0    ┆ 0.000004  │\n",
      "│ 00:00:00       ┆          ┆          ┆          ┆   ┆         ┆             ┆        ┆           │\n",
      "│ 2023-01-04     ┆ 0.000008 ┆ 0.000008 ┆ 0.000008 ┆ … ┆ 0.0     ┆ 0.0         ┆ 0.0    ┆ 0.000004  │\n",
      "│ 00:00:00       ┆          ┆          ┆          ┆   ┆         ┆             ┆        ┆           │\n",
      "│ 2023-01-05     ┆ 0.000008 ┆ 0.000009 ┆ 0.000008 ┆ … ┆ 0.0     ┆ 0.0         ┆ 0.0    ┆ 0.000004  │\n",
      "│ 00:00:00       ┆          ┆          ┆          ┆   ┆         ┆             ┆        ┆           │\n",
      "└────────────────┴──────────┴──────────┴──────────┴───┴─────────┴─────────────┴────────┴───────────┘\n"
     ]
    },
    {
     "data": {
      "text/plain": [
       "\"\\n1. `with_columns()`: \\n   - This is a Polars method used to add new columns or modify existing ones in a DataFrame.\\n   - It returns a new DataFrame with the changes applied.\\n\\n2. `pl.Series('mod_close', mod_close_prices)`:\\n   - This creates a new Polars Series.\\n   - 'mod_close' is the name of the new column.\\n   - `mod_close_prices` is the NumPy array containing the data for this column.\\n\\n\""
      ]
     },
     "execution_count": 18,
     "metadata": {},
     "output_type": "execute_result"
    }
   ],
   "source": [
    "# Add modified prices back to DataFrame\n",
    "df_x = df_x.with_columns(pl.Series('mod_close', mod_close_prices))\n",
    "print(df_x.head())\n",
    "'''\n",
    "1. `with_columns()`: \n",
    "   - This is a Polars method used to add new columns or modify existing ones in a DataFrame.\n",
    "   - It returns a new DataFrame with the changes applied.\n",
    "\n",
    "2. `pl.Series('mod_close', mod_close_prices)`:\n",
    "   - This creates a new Polars Series.\n",
    "   - 'mod_close' is the name of the new column.\n",
    "   - `mod_close_prices` is the NumPy array containing the data for this column.\n",
    "\n",
    "'''"
   ]
  },
  {
   "cell_type": "code",
   "execution_count": 21,
   "id": "73750690-5c40-490e-8389-e5730b27a1c6",
   "metadata": {},
   "outputs": [
    {
     "name": "stdout",
     "output_type": "stream",
     "text": [
      "shape: (4,)\n",
      "Series: 'Close' [f64]\n",
      "[\n",
      "\t0.000008\n",
      "\t0.000008\n",
      "\t0.000008\n",
      "\t0.000008\n",
      "]\n"
     ]
    }
   ],
   "source": [
    "# Get a single item\n",
    "price = df_x['Close'][0:4]\n",
    "print(price)"
   ]
  },
  {
   "cell_type": "code",
   "execution_count": 22,
   "id": "4ab8ab17-89cc-4dce-b62c-994ee5f4db2b",
   "metadata": {},
   "outputs": [
    {
     "name": "stdout",
     "output_type": "stream",
     "text": [
      "shape: (5, 11)\n",
      "┌─────────────┬──────────┬──────────┬──────────┬───┬───────────┬────────────┬──────────┬───────────┐\n",
      "│ Date        ┆ Open     ┆ High     ┆ Low      ┆ … ┆ Returns   ┆ Log        ┆ CumSum   ┆ mod_close │\n",
      "│ ---         ┆ ---      ┆ ---      ┆ ---      ┆   ┆ ---       ┆ Returns    ┆ ---      ┆ ---       │\n",
      "│ datetime[ns ┆ f64      ┆ f64      ┆ f64      ┆   ┆ f64       ┆ ---        ┆ f64      ┆ f64       │\n",
      "│ ]           ┆          ┆          ┆          ┆   ┆           ┆ f64        ┆          ┆           │\n",
      "╞═════════════╪══════════╪══════════╪══════════╪═══╪═══════════╪════════════╪══════════╪═══════════╡\n",
      "│ 2024-05-27  ┆ 0.666667 ┆ 0.000026 ┆ 0.000024 ┆ … ┆ 0.083333  ┆ 0.080043   ┆ 1.178655 ┆ 0.000013  │\n",
      "│ 00:00:00    ┆          ┆          ┆          ┆   ┆           ┆            ┆          ┆           │\n",
      "│ 2024-05-28  ┆ 0.722222 ┆ 0.000027 ┆ 0.000025 ┆ … ┆ 0.038462  ┆ 0.03774    ┆ 1.216395 ┆ 0.000014  │\n",
      "│ 00:00:00    ┆          ┆          ┆          ┆   ┆           ┆            ┆          ┆           │\n",
      "│ 2024-05-29  ┆ 0.75     ┆ 0.000029 ┆ 0.000027 ┆ … ┆ 0.037037  ┆ 0.036368   ┆ 1.252763 ┆ 0.000014  │\n",
      "│ 00:00:00    ┆          ┆          ┆          ┆   ┆           ┆            ┆          ┆           │\n",
      "│ 2024-05-30  ┆ 0.777778 ┆ 0.000028 ┆ 0.000026 ┆ … ┆ -0.071429 ┆ -0.074108  ┆ 1.178655 ┆ 0.000013  │\n",
      "│ 00:00:00    ┆          ┆          ┆          ┆   ┆           ┆            ┆          ┆           │\n",
      "│ 2024-05-31  ┆ 0.722222 ┆ 0.000026 ┆ 0.000025 ┆ … ┆ -0.038462 ┆ -0.039221  ┆ 1.139434 ┆ 0.000012  │\n",
      "│ 00:00:00    ┆          ┆          ┆          ┆   ┆           ┆            ┆          ┆           │\n",
      "└─────────────┴──────────┴──────────┴──────────┴───┴───────────┴────────────┴──────────┴───────────┘\n"
     ]
    }
   ],
   "source": [
    "# Multiple adjustments\n",
    "df_x = df_x.with_columns([\n",
    "    pl.col(['Open', 'Close', 'Volume']) / pl.col(['Open', 'Close', 'Volume']).max()\n",
    "])\n",
    "print(df_x.tail())"
   ]
  },
  {
   "cell_type": "code",
   "execution_count": 23,
   "id": "451935cf-045c-45e6-a583-6135bf9fae0a",
   "metadata": {},
   "outputs": [
    {
     "name": "stdout",
     "output_type": "stream",
     "text": [
      "shape: (5,)\n",
      "Series: 'series' [i64]\n",
      "[\n",
      "\t1\n",
      "\t3\n",
      "\t8\n",
      "\t4\n",
      "\t3\n",
      "]\n"
     ]
    }
   ],
   "source": [
    "# Create a series (in Polars, this is just a Series)\n",
    "series_1_list = [1, 3, 8, 4, 3]\n",
    "series_1 = pl.Series('series', series_1_list)\n",
    "print(series_1)\n"
   ]
  },
  {
   "cell_type": "code",
   "execution_count": 24,
   "id": "79c81791-8d52-41cc-8f06-f6837d27d248",
   "metadata": {},
   "outputs": [
    {
     "name": "stdout",
     "output_type": "stream",
     "text": [
      "shape: (5, 1)\n",
      "┌────────┐\n",
      "│ series │\n",
      "│ ---    │\n",
      "│ i64    │\n",
      "╞════════╡\n",
      "│ 1      │\n",
      "│ 3      │\n",
      "│ 8      │\n",
      "│ 4      │\n",
      "│ 3      │\n",
      "└────────┘\n"
     ]
    }
   ],
   "source": [
    "# Create DataFrame from series\n",
    "df_created = pl.DataFrame({'series': series_1})\n",
    "print(df_created)"
   ]
  },
  {
   "cell_type": "code",
   "execution_count": 30,
   "id": "098477bb-4857-40a1-ac6c-7c7d4324c7c2",
   "metadata": {},
   "outputs": [],
   "source": [
    "# Save DataFrame to CSV\n",
    "df_created.write_csv('polars_testv2.csv')"
   ]
  },
  {
   "cell_type": "code",
   "execution_count": 31,
   "id": "f25ec1fd-c868-4b5e-9bf4-f9c0df3461d9",
   "metadata": {},
   "outputs": [
    {
     "name": "stdout",
     "output_type": "stream",
     "text": [
      "shape: (5, 1)\n",
      "┌────────┐\n",
      "│ series │\n",
      "│ ---    │\n",
      "│ i64    │\n",
      "╞════════╡\n",
      "│ 1      │\n",
      "│ 3      │\n",
      "│ 8      │\n",
      "│ 4      │\n",
      "│ 3      │\n",
      "└────────┘\n"
     ]
    }
   ],
   "source": [
    "print(df_created)"
   ]
  },
  {
   "cell_type": "code",
   "execution_count": 32,
   "id": "57b7155d-af02-4639-bdae-e48eafafe951",
   "metadata": {},
   "outputs": [
    {
     "name": "stdout",
     "output_type": "stream",
     "text": [
      "shape: (5, 1)\n",
      "┌────────┐\n",
      "│ series │\n",
      "│ ---    │\n",
      "│ i64    │\n",
      "╞════════╡\n",
      "│ 1      │\n",
      "│ 3      │\n",
      "│ 8      │\n",
      "│ 4      │\n",
      "│ 3      │\n",
      "└────────┘\n"
     ]
    }
   ],
   "source": [
    "#load dataframe\n",
    "my_df = pl.read_csv('polars_testv2.csv')\n",
    "print(my_df)"
   ]
  },
  {
   "cell_type": "code",
   "execution_count": null,
   "id": "47e0ca88-2204-41d8-a678-73e9c7c57504",
   "metadata": {},
   "outputs": [],
   "source": []
  }
 ],
 "metadata": {
  "kernelspec": {
   "display_name": "Python 3 (ipykernel)",
   "language": "python",
   "name": "python3"
  },
  "language_info": {
   "codemirror_mode": {
    "name": "ipython",
    "version": 3
   },
   "file_extension": ".py",
   "mimetype": "text/x-python",
   "name": "python",
   "nbconvert_exporter": "python",
   "pygments_lexer": "ipython3",
   "version": "3.12.0"
  }
 },
 "nbformat": 4,
 "nbformat_minor": 5
}
