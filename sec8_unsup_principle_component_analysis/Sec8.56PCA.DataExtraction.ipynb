{
 "cells": [
  {
   "cell_type": "markdown",
   "id": "1c8f6ba6-4f38-4fa2-b83f-f5437b2ec130",
   "metadata": {},
   "source": [
    "### Imports"
   ]
  },
  {
   "cell_type": "code",
   "execution_count": 1,
   "id": "a8dcd801-441d-44f5-afa1-2b317fc1aff8",
   "metadata": {},
   "outputs": [],
   "source": [
    "# Remove unwanted warnings\n",
    "import warnings\n",
    "warnings.simplefilter(action='ignore', category=FutureWarning)\n",
    "warnings.simplefilter(action='ignore', category=RuntimeWarning)\n",
    "\n",
    "# Data Management\n",
    "import polars as pl\n",
    "import pandas as pd\n",
    "from pandas_datareader.data import DataReader\n",
    "from ta import add_all_ta_features\n",
    "import yfinance as yf\n",
    "\n",
    "\n",
    "# Statistics \n",
    "from statsmodels.tsa.stattools import adfuller\n",
    "\n",
    "# Unsupervised Machine Learning\n",
    "from sklearn.decomposition import PCA # Principle Component Analysis\n",
    "\n",
    "# Supervised Machine Learning\n",
    "from sklearn.preprocessing import StandardScaler\n",
    "from sklearn.model_selection import train_test_split\n",
    "from sklearn.ensemble import RandomForestClassifier\n",
    "from sklearn.metrics import precision_score\n",
    "\n",
    "# Reporting\n",
    "import matplotlib.pyplot as plt\n",
    "\n"
   ]
  },
  {
   "cell_type": "markdown",
   "id": "59da0cd7-038f-4669-908e-fb99f564a87f",
   "metadata": {},
   "source": [
    "### Initial Data Extraction"
   ]
  },
  {
   "cell_type": "code",
   "execution_count": 2,
   "id": "6028967c-857a-4da0-bcc8-39f8c5eb4c67",
   "metadata": {},
   "outputs": [
    {
     "name": "stdout",
     "output_type": "stream",
     "text": [
      "[*********************100%%**********************]  1 of 1 completed\n"
     ]
    },
    {
     "data": {
      "text/html": [
       "<div>\n",
       "<style scoped>\n",
       "    .dataframe tbody tr th:only-of-type {\n",
       "        vertical-align: middle;\n",
       "    }\n",
       "\n",
       "    .dataframe tbody tr th {\n",
       "        vertical-align: top;\n",
       "    }\n",
       "\n",
       "    .dataframe thead th {\n",
       "        text-align: right;\n",
       "    }\n",
       "</style>\n",
       "<table border=\"1\" class=\"dataframe\">\n",
       "  <thead>\n",
       "    <tr style=\"text-align: right;\">\n",
       "      <th></th>\n",
       "      <th>Open</th>\n",
       "      <th>High</th>\n",
       "      <th>Low</th>\n",
       "      <th>Close</th>\n",
       "      <th>Adj Close</th>\n",
       "      <th>Volume</th>\n",
       "    </tr>\n",
       "    <tr>\n",
       "      <th>Date</th>\n",
       "      <th></th>\n",
       "      <th></th>\n",
       "      <th></th>\n",
       "      <th></th>\n",
       "      <th></th>\n",
       "      <th></th>\n",
       "    </tr>\n",
       "  </thead>\n",
       "  <tbody>\n",
       "    <tr>\n",
       "      <th>2017-01-03</th>\n",
       "      <td>14.07</td>\n",
       "      <td>14.07</td>\n",
       "      <td>12.85</td>\n",
       "      <td>12.85</td>\n",
       "      <td>12.85</td>\n",
       "      <td>0</td>\n",
       "    </tr>\n",
       "    <tr>\n",
       "      <th>2017-01-04</th>\n",
       "      <td>12.78</td>\n",
       "      <td>12.80</td>\n",
       "      <td>11.63</td>\n",
       "      <td>11.85</td>\n",
       "      <td>11.85</td>\n",
       "      <td>0</td>\n",
       "    </tr>\n",
       "    <tr>\n",
       "      <th>2017-01-05</th>\n",
       "      <td>11.96</td>\n",
       "      <td>12.09</td>\n",
       "      <td>11.40</td>\n",
       "      <td>11.67</td>\n",
       "      <td>11.67</td>\n",
       "      <td>0</td>\n",
       "    </tr>\n",
       "    <tr>\n",
       "      <th>2017-01-06</th>\n",
       "      <td>11.70</td>\n",
       "      <td>11.74</td>\n",
       "      <td>10.98</td>\n",
       "      <td>11.32</td>\n",
       "      <td>11.32</td>\n",
       "      <td>0</td>\n",
       "    </tr>\n",
       "    <tr>\n",
       "      <th>2017-01-09</th>\n",
       "      <td>11.71</td>\n",
       "      <td>12.08</td>\n",
       "      <td>11.46</td>\n",
       "      <td>11.56</td>\n",
       "      <td>11.56</td>\n",
       "      <td>0</td>\n",
       "    </tr>\n",
       "  </tbody>\n",
       "</table>\n",
       "</div>"
      ],
      "text/plain": [
       "             Open   High    Low  Close  Adj Close  Volume\n",
       "Date                                                     \n",
       "2017-01-03  14.07  14.07  12.85  12.85      12.85       0\n",
       "2017-01-04  12.78  12.80  11.63  11.85      11.85       0\n",
       "2017-01-05  11.96  12.09  11.40  11.67      11.67       0\n",
       "2017-01-06  11.70  11.74  10.98  11.32      11.32       0\n",
       "2017-01-09  11.71  12.08  11.46  11.56      11.56       0"
      ]
     },
     "execution_count": 2,
     "metadata": {},
     "output_type": "execute_result"
    }
   ],
   "source": [
    "# Data Extraction\n",
    "import yfinance as yf\n",
    "\n",
    "start_date = '2017-01-01'\n",
    "end_date = '2022-06-01'\n",
    "symbol = '^VIX'\n",
    "df_pd = yf.download(symbol, start=start_date, end=end_date)\n",
    "df_pd.head()\n"
   ]
  },
  {
   "cell_type": "code",
   "execution_count": 3,
   "id": "c113547f-c7f6-4f4f-aa33-8461b26648d0",
   "metadata": {},
   "outputs": [
    {
     "name": "stdout",
     "output_type": "stream",
     "text": [
      "<bound method DataFrame.head of shape: (1_362, 7)\n",
      "┌─────────────────────┬───────────┬───────────┬───────────┬───────────┬───────────┬────────┐\n",
      "│ Date                ┆ Open      ┆ High      ┆ Low       ┆ Close     ┆ Adj Close ┆ Volume │\n",
      "│ ---                 ┆ ---       ┆ ---       ┆ ---       ┆ ---       ┆ ---       ┆ ---    │\n",
      "│ datetime[ns]        ┆ f64       ┆ f64       ┆ f64       ┆ f64       ┆ f64       ┆ i64    │\n",
      "╞═════════════════════╪═══════════╪═══════════╪═══════════╪═══════════╪═══════════╪════════╡\n",
      "│ 2017-01-03 00:00:00 ┆ 14.07     ┆ 14.07     ┆ 12.85     ┆ 12.85     ┆ 12.85     ┆ 0      │\n",
      "│ 2017-01-04 00:00:00 ┆ 12.78     ┆ 12.8      ┆ 11.63     ┆ 11.85     ┆ 11.85     ┆ 0      │\n",
      "│ 2017-01-05 00:00:00 ┆ 11.96     ┆ 12.09     ┆ 11.4      ┆ 11.67     ┆ 11.67     ┆ 0      │\n",
      "│ 2017-01-06 00:00:00 ┆ 11.7      ┆ 11.74     ┆ 10.98     ┆ 11.32     ┆ 11.32     ┆ 0      │\n",
      "│ 2017-01-09 00:00:00 ┆ 11.71     ┆ 12.08     ┆ 11.46     ┆ 11.56     ┆ 11.56     ┆ 0      │\n",
      "│ …                   ┆ …         ┆ …         ┆ …         ┆ …         ┆ …         ┆ …      │\n",
      "│ 2022-05-24 00:00:00 ┆ 29.43     ┆ 31.07     ┆ 29.040001 ┆ 29.450001 ┆ 29.450001 ┆ 0      │\n",
      "│ 2022-05-25 00:00:00 ┆ 29.33     ┆ 30.23     ┆ 28.16     ┆ 28.370001 ┆ 28.370001 ┆ 0      │\n",
      "│ 2022-05-26 00:00:00 ┆ 28.42     ┆ 28.459999 ┆ 27.110001 ┆ 27.5      ┆ 27.5      ┆ 0      │\n",
      "│ 2022-05-27 00:00:00 ┆ 27.5      ┆ 27.540001 ┆ 25.57     ┆ 25.719999 ┆ 25.719999 ┆ 0      │\n",
      "│ 2022-05-31 00:00:00 ┆ 27.469999 ┆ 28.35     ┆ 25.940001 ┆ 26.190001 ┆ 26.190001 ┆ 0      │\n",
      "└─────────────────────┴───────────┴───────────┴───────────┴───────────┴───────────┴────────┘>\n"
     ]
    }
   ],
   "source": [
    "# Convert to Polars DataFrame\n",
    "\n",
    "# Reset the index to make the date a column\n",
    "df_pd.reset_index(inplace=True)\n",
    "\n",
    "df = pl.from_pandas(df_pd)\n",
    "print(df.head)"
   ]
  },
  {
   "cell_type": "code",
   "execution_count": 4,
   "id": "1dedd8f7-f971-4acf-bca9-6ef38b32ce21",
   "metadata": {},
   "outputs": [
    {
     "data": {
      "text/plain": [
       "OrderedDict([('Date', Datetime(time_unit='ns', time_zone=None)),\n",
       "             ('Open', Float64),\n",
       "             ('High', Float64),\n",
       "             ('Low', Float64),\n",
       "             ('Close', Float64),\n",
       "             ('Adj Close', Float64),\n",
       "             ('Volume', Int64)])"
      ]
     },
     "execution_count": 4,
     "metadata": {},
     "output_type": "execute_result"
    }
   ],
   "source": [
    "df.schema\n"
   ]
  },
  {
   "cell_type": "code",
   "execution_count": 5,
   "id": "2a95b77a-c8e5-47a0-91b6-eb4d1960d8fa",
   "metadata": {},
   "outputs": [
    {
     "name": "stdout",
     "output_type": "stream",
     "text": [
      "shape: (5, 7)\n",
      "┌────────────────────────────────┬───────┬───────┬───────┬───────┬───────────┬────────┐\n",
      "│ Date                           ┆ Open  ┆ High  ┆ Low   ┆ Close ┆ Adj Close ┆ Volume │\n",
      "│ ---                            ┆ ---   ┆ ---   ┆ ---   ┆ ---   ┆ ---       ┆ ---    │\n",
      "│ datetime[ns, America/New_York] ┆ f64   ┆ f64   ┆ f64   ┆ f64   ┆ f64       ┆ i64    │\n",
      "╞════════════════════════════════╪═══════╪═══════╪═══════╪═══════╪═══════════╪════════╡\n",
      "│ 2017-01-03 00:00:00 EST        ┆ 14.07 ┆ 14.07 ┆ 12.85 ┆ 12.85 ┆ 12.85     ┆ 0      │\n",
      "│ 2017-01-04 00:00:00 EST        ┆ 12.78 ┆ 12.8  ┆ 11.63 ┆ 11.85 ┆ 11.85     ┆ 0      │\n",
      "│ 2017-01-05 00:00:00 EST        ┆ 11.96 ┆ 12.09 ┆ 11.4  ┆ 11.67 ┆ 11.67     ┆ 0      │\n",
      "│ 2017-01-06 00:00:00 EST        ┆ 11.7  ┆ 11.74 ┆ 10.98 ┆ 11.32 ┆ 11.32     ┆ 0      │\n",
      "│ 2017-01-09 00:00:00 EST        ┆ 11.71 ┆ 12.08 ┆ 11.46 ┆ 11.56 ┆ 11.56     ┆ 0      │\n",
      "└────────────────────────────────┴───────┴───────┴───────┴───────┴───────────┴────────┘\n"
     ]
    }
   ],
   "source": [
    "# Convert the 'Date' column to the desired timezone (New York)\n",
    "df = df.with_columns(\n",
    "    pl.col('Date').dt.replace_time_zone('America/New_York')\n",
    ")\n",
    "\n",
    "print(df.head())"
   ]
  },
  {
   "cell_type": "code",
   "execution_count": 6,
   "id": "a2fdb360-2f76-404f-8b71-cdab4d44ba68",
   "metadata": {},
   "outputs": [],
   "source": [
    "# Add TA\n",
    "# Convert back to Pandas DataFrame\n",
    "df_pd = df.to_pandas()\n",
    "\n",
    "# Add technical analysis features\n",
    "df_pd = add_all_ta_features(df_pd, open='Open', high='High', low='Low', close='Adj Close', volume='Volume', fillna=True)\n",
    "\n",
    "# Convert back to Polars Dataframe, remember need to have the pyarrow module installed\n",
    "df = pl.from_pandas(df_pd)"
   ]
  },
  {
   "cell_type": "code",
   "execution_count": 7,
   "id": "6d7b5a85-b067-4723-b41f-5779bb13ad39",
   "metadata": {},
   "outputs": [
    {
     "data": {
      "text/html": [
       "<div><style>\n",
       ".dataframe > thead > tr,\n",
       ".dataframe > tbody > tr {\n",
       "  text-align: right;\n",
       "  white-space: pre-wrap;\n",
       "}\n",
       "</style>\n",
       "<small>shape: (1_362, 93)</small><table border=\"1\" class=\"dataframe\"><thead><tr><th>Date</th><th>Open</th><th>High</th><th>Low</th><th>Close</th><th>Adj Close</th><th>Volume</th><th>volume_adi</th><th>volume_obv</th><th>volume_cmf</th><th>volume_fi</th><th>volume_em</th><th>volume_sma_em</th><th>volume_vpt</th><th>volume_vwap</th><th>volume_mfi</th><th>volume_nvi</th><th>volatility_bbm</th><th>volatility_bbh</th><th>volatility_bbl</th><th>volatility_bbw</th><th>volatility_bbp</th><th>volatility_bbhi</th><th>volatility_bbli</th><th>volatility_kcc</th><th>volatility_kch</th><th>volatility_kcl</th><th>volatility_kcw</th><th>volatility_kcp</th><th>volatility_kchi</th><th>volatility_kcli</th><th>volatility_dcl</th><th>volatility_dch</th><th>volatility_dcm</th><th>volatility_dcw</th><th>volatility_dcp</th><th>volatility_atr</th><th>&hellip;</th><th>trend_ichimoku_a</th><th>trend_ichimoku_b</th><th>trend_stc</th><th>trend_adx</th><th>trend_adx_pos</th><th>trend_adx_neg</th><th>trend_cci</th><th>trend_visual_ichimoku_a</th><th>trend_visual_ichimoku_b</th><th>trend_aroon_up</th><th>trend_aroon_down</th><th>trend_aroon_ind</th><th>trend_psar_up</th><th>trend_psar_down</th><th>trend_psar_up_indicator</th><th>trend_psar_down_indicator</th><th>momentum_rsi</th><th>momentum_stoch_rsi</th><th>momentum_stoch_rsi_k</th><th>momentum_stoch_rsi_d</th><th>momentum_tsi</th><th>momentum_uo</th><th>momentum_stoch</th><th>momentum_stoch_signal</th><th>momentum_wr</th><th>momentum_ao</th><th>momentum_roc</th><th>momentum_ppo</th><th>momentum_ppo_signal</th><th>momentum_ppo_hist</th><th>momentum_pvo</th><th>momentum_pvo_signal</th><th>momentum_pvo_hist</th><th>momentum_kama</th><th>others_dr</th><th>others_dlr</th><th>others_cr</th></tr><tr><td>datetime[ns, America/New_York]</td><td>f64</td><td>f64</td><td>f64</td><td>f64</td><td>f64</td><td>i64</td><td>f64</td><td>i64</td><td>f64</td><td>f64</td><td>f64</td><td>f64</td><td>f64</td><td>f64</td><td>f64</td><td>f64</td><td>f64</td><td>f64</td><td>f64</td><td>f64</td><td>f64</td><td>f64</td><td>f64</td><td>f64</td><td>f64</td><td>f64</td><td>f64</td><td>f64</td><td>f64</td><td>f64</td><td>f64</td><td>f64</td><td>f64</td><td>f64</td><td>f64</td><td>f64</td><td>&hellip;</td><td>f64</td><td>f64</td><td>f64</td><td>f64</td><td>f64</td><td>f64</td><td>f64</td><td>f64</td><td>f64</td><td>f64</td><td>f64</td><td>f64</td><td>f64</td><td>f64</td><td>f64</td><td>f64</td><td>f64</td><td>f64</td><td>f64</td><td>f64</td><td>f64</td><td>f64</td><td>f64</td><td>f64</td><td>f64</td><td>f64</td><td>f64</td><td>f64</td><td>f64</td><td>f64</td><td>f64</td><td>f64</td><td>f64</td><td>f64</td><td>f64</td><td>f64</td><td>f64</td></tr></thead><tbody><tr><td>2017-01-03 00:00:00 EST</td><td>14.07</td><td>14.07</td><td>12.85</td><td>12.85</td><td>12.85</td><td>0</td><td>-0.0</td><td>0</td><td>0.0</td><td>0.0</td><td>0.0</td><td>0.0</td><td>0.0</td><td>0.0</td><td>50.0</td><td>1000.0</td><td>12.85</td><td>12.85</td><td>12.85</td><td>0.0</td><td>0.0</td><td>0.0</td><td>0.0</td><td>13.256667</td><td>14.476666</td><td>12.036668</td><td>18.405823</td><td>0.333333</td><td>0.0</td><td>0.0</td><td>12.85</td><td>14.07</td><td>13.46</td><td>9.494158</td><td>0.0</td><td>0.0</td><td>&hellip;</td><td>13.46</td><td>13.46</td><td>0.0</td><td>0.0</td><td>0.0</td><td>0.0</td><td>0.0</td><td>20.47047</td><td>22.23312</td><td>0.0</td><td>0.0</td><td>0.0</td><td>10.94</td><td>14.07</td><td>0.0</td><td>0.0</td><td>100.0</td><td>0.0</td><td>0.0</td><td>0.0</td><td>0.0</td><td>0.0</td><td>0.0</td><td>0.0</td><td>-100.0</td><td>0.0</td><td>0.0</td><td>0.0</td><td>0.0</td><td>0.0</td><td>0.0</td><td>0.0</td><td>0.0</td><td>12.85</td><td>0.0</td><td>0.0</td><td>0.0</td></tr><tr><td>2017-01-04 00:00:00 EST</td><td>12.78</td><td>12.8</td><td>11.63</td><td>11.85</td><td>11.85</td><td>0</td><td>-0.0</td><td>0</td><td>0.0</td><td>-0.0</td><td>0.0</td><td>0.0</td><td>0.0</td><td>0.0</td><td>50.0</td><td>1000.0</td><td>12.35</td><td>13.35</td><td>11.35</td><td>16.194331</td><td>0.25</td><td>0.0</td><td>0.0</td><td>12.675</td><td>13.87</td><td>11.48</td><td>18.856011</td><td>0.154812</td><td>0.0</td><td>0.0</td><td>11.63</td><td>14.07</td><td>12.85</td><td>19.757081</td><td>0.090164</td><td>0.0</td><td>&hellip;</td><td>12.85</td><td>12.85</td><td>0.0</td><td>0.0</td><td>0.0</td><td>0.0</td><td>-66.666667</td><td>20.47047</td><td>22.23312</td><td>0.0</td><td>4.0</td><td>-4.0</td><td>10.94</td><td>14.07</td><td>0.0</td><td>0.0</td><td>0.0</td><td>0.0</td><td>0.0</td><td>0.0</td><td>-100.0</td><td>9.016406</td><td>9.016406</td><td>4.508203</td><td>-90.983594</td><td>0.0</td><td>0.0</td><td>-0.624394</td><td>-0.124879</td><td>-0.499515</td><td>0.0</td><td>0.0</td><td>0.0</td><td>12.098375</td><td>-7.782101</td><td>-8.101594</td><td>-7.782101</td></tr><tr><td>2017-01-05 00:00:00 EST</td><td>11.96</td><td>12.09</td><td>11.4</td><td>11.67</td><td>11.67</td><td>0</td><td>-0.0</td><td>0</td><td>0.0</td><td>-0.0</td><td>0.0</td><td>0.0</td><td>0.0</td><td>0.0</td><td>50.0</td><td>1000.0</td><td>12.123334</td><td>13.161452</td><td>11.085215</td><td>17.125952</td><td>0.281656</td><td>0.0</td><td>0.0</td><td>12.356667</td><td>13.383333</td><td>11.33</td><td>16.61721</td><td>0.165584</td><td>0.0</td><td>0.0</td><td>11.4</td><td>14.07</td><td>12.735</td><td>22.023646</td><td>0.101124</td><td>0.0</td><td>&hellip;</td><td>12.735</td><td>12.735</td><td>0.0</td><td>0.0</td><td>0.0</td><td>0.0</td><td>-70.740755</td><td>20.47047</td><td>22.23312</td><td>0.0</td><td>8.0</td><td>-8.0</td><td>10.94</td><td>14.07</td><td>0.0</td><td>1.0</td><td>0.0</td><td>0.0</td><td>0.0</td><td>0.0</td><td>-100.0</td><td>15.654975</td><td>10.112376</td><td>6.376261</td><td>-89.887624</td><td>0.0</td><td>0.0</td><td>-1.226732</td><td>-0.345249</td><td>-0.881483</td><td>0.0</td><td>0.0</td><td>0.0</td><td>11.82578</td><td>-1.51899</td><td>-1.530645</td><td>-9.182881</td></tr><tr><td>2017-01-06 00:00:00 EST</td><td>11.7</td><td>11.74</td><td>10.98</td><td>11.32</td><td>11.32</td><td>0</td><td>-0.0</td><td>0</td><td>0.0</td><td>-0.0</td><td>0.0</td><td>0.0</td><td>0.0</td><td>0.0</td><td>50.0</td><td>1000.0</td><td>11.9225</td><td>13.059283</td><td>10.785717</td><td>19.069543</td><td>0.234998</td><td>0.0</td><td>0.0</td><td>12.104167</td><td>13.064167</td><td>11.144167</td><td>15.862307</td><td>0.09158</td><td>0.0</td><td>0.0</td><td>10.98</td><td>14.07</td><td>12.525</td><td>25.917384</td><td>0.110032</td><td>0.0</td><td>&hellip;</td><td>12.525</td><td>12.525</td><td>0.0</td><td>0.0</td><td>0.0</td><td>0.0</td><td>-87.635601</td><td>20.47047</td><td>22.23312</td><td>0.0</td><td>12.0</td><td>-12.0</td><td>10.94</td><td>14.0166</td><td>0.0</td><td>0.0</td><td>0.0</td><td>0.0</td><td>0.0</td><td>0.0</td><td>-100.0</td><td>21.336782</td><td>11.003241</td><td>10.044008</td><td>-88.996759</td><td>0.0</td><td>0.0</td><td>-1.916831</td><td>-0.659566</td><td>-1.257265</td><td>0.0</td><td>0.0</td><td>0.0</td><td>11.503803</td><td>-2.999146</td><td>-3.045041</td><td>-11.90662</td></tr><tr><td>2017-01-09 00:00:00 EST</td><td>11.71</td><td>12.08</td><td>11.46</td><td>11.56</td><td>11.56</td><td>0</td><td>-0.0</td><td>0</td><td>0.0</td><td>-0.0</td><td>0.0</td><td>0.0</td><td>0.0</td><td>0.0</td><td>50.0</td><td>1000.0</td><td>11.85</td><td>12.907318</td><td>10.792683</td><td>17.845024</td><td>0.362861</td><td>0.0</td><td>0.0</td><td>12.023333</td><td>12.915333</td><td>11.131333</td><td>14.837815</td><td>0.240284</td><td>0.0</td><td>0.0</td><td>10.98</td><td>14.07</td><td>12.525</td><td>26.07595</td><td>0.187703</td><td>0.0</td><td>&hellip;</td><td>12.525</td><td>12.525</td><td>0.0</td><td>0.0</td><td>0.0</td><td>0.0</td><td>-41.34695</td><td>20.47047</td><td>22.23312</td><td>0.0</td><td>12.0</td><td>-12.0</td><td>10.94</td><td>13.895136</td><td>0.0</td><td>0.0</td><td>15.780578</td><td>0.0</td><td>0.0</td><td>0.0</td><td>-99.449116</td><td>23.010784</td><td>18.770254</td><td>13.29529</td><td>-81.229746</td><td>0.0</td><td>0.0</td><td>-2.289756</td><td>-0.985604</td><td>-1.304152</td><td>0.0</td><td>0.0</td><td>0.0</td><td>11.534477</td><td>2.120148</td><td>2.097985</td><td>-10.03891</td></tr><tr><td>&hellip;</td><td>&hellip;</td><td>&hellip;</td><td>&hellip;</td><td>&hellip;</td><td>&hellip;</td><td>&hellip;</td><td>&hellip;</td><td>&hellip;</td><td>&hellip;</td><td>&hellip;</td><td>&hellip;</td><td>&hellip;</td><td>&hellip;</td><td>&hellip;</td><td>&hellip;</td><td>&hellip;</td><td>&hellip;</td><td>&hellip;</td><td>&hellip;</td><td>&hellip;</td><td>&hellip;</td><td>&hellip;</td><td>&hellip;</td><td>&hellip;</td><td>&hellip;</td><td>&hellip;</td><td>&hellip;</td><td>&hellip;</td><td>&hellip;</td><td>&hellip;</td><td>&hellip;</td><td>&hellip;</td><td>&hellip;</td><td>&hellip;</td><td>&hellip;</td><td>&hellip;</td><td>&hellip;</td><td>&hellip;</td><td>&hellip;</td><td>&hellip;</td><td>&hellip;</td><td>&hellip;</td><td>&hellip;</td><td>&hellip;</td><td>&hellip;</td><td>&hellip;</td><td>&hellip;</td><td>&hellip;</td><td>&hellip;</td><td>&hellip;</td><td>&hellip;</td><td>&hellip;</td><td>&hellip;</td><td>&hellip;</td><td>&hellip;</td><td>&hellip;</td><td>&hellip;</td><td>&hellip;</td><td>&hellip;</td><td>&hellip;</td><td>&hellip;</td><td>&hellip;</td><td>&hellip;</td><td>&hellip;</td><td>&hellip;</td><td>&hellip;</td><td>&hellip;</td><td>&hellip;</td><td>&hellip;</td><td>&hellip;</td><td>&hellip;</td><td>&hellip;</td><td>&hellip;</td><td>&hellip;</td></tr><tr><td>2022-05-24 00:00:00 EDT</td><td>29.43</td><td>31.07</td><td>29.040001</td><td>29.450001</td><td>29.450001</td><td>0</td><td>0.0</td><td>0</td><td>0.0</td><td>-0.0</td><td>0.0</td><td>0.0</td><td>0.0</td><td>0.0</td><td>50.0</td><td>1000.0</td><td>30.2785</td><td>34.956497</td><td>25.600503</td><td>30.899793</td><td>0.411447</td><td>0.0</td><td>0.0</td><td>29.862</td><td>33.064</td><td>26.660001</td><td>21.445312</td><td>0.435665</td><td>0.0</td><td>0.0</td><td>24.940001</td><td>36.639999</td><td>30.79</td><td>38.641276</td><td>0.38547</td><td>3.689493</td><td>&hellip;</td><td>29.164999</td><td>27.545</td><td>0.387715</td><td>19.594083</td><td>25.358799</td><td>18.759503</td><td>-29.457321</td><td>24.0525</td><td>28.120001</td><td>36.0</td><td>4.0</td><td>32.0</td><td>24.82736</td><td>33.75761</td><td>0.0</td><td>0.0</td><td>51.582605</td><td>0.365315</td><td>0.324785</td><td>0.339286</td><td>4.913171</td><td>38.043738</td><td>39.518564</td><td>38.568173</td><td>-60.481436</td><td>2.148147</td><td>-2.451142</td><td>2.457774</td><td>3.929137</td><td>-1.471363</td><td>0.0</td><td>0.0</td><td>0.0</td><td>27.349282</td><td>3.405903</td><td>3.349187</td><td>129.182879</td></tr><tr><td>2022-05-25 00:00:00 EDT</td><td>29.33</td><td>30.23</td><td>28.16</td><td>28.370001</td><td>28.370001</td><td>0</td><td>0.0</td><td>0</td><td>0.0</td><td>-0.0</td><td>0.0</td><td>0.0</td><td>0.0</td><td>0.0</td><td>50.0</td><td>1000.0</td><td>30.117</td><td>34.824285</td><td>25.409716</td><td>31.259983</td><td>0.314437</td><td>0.0</td><td>0.0</td><td>29.499333</td><td>32.538333</td><td>26.460334</td><td>20.603852</td><td>0.314193</td><td>0.0</td><td>0.0</td><td>24.940001</td><td>36.639999</td><td>30.79</td><td>38.848487</td><td>0.293162</td><td>3.527544</td><td>&hellip;</td><td>28.7525</td><td>27.545</td><td>0.193858</td><td>18.93692</td><td>24.315459</td><td>19.73676</td><td>-61.248668</td><td>24.485001</td><td>28.120001</td><td>32.0</td><td>0.0</td><td>32.0</td><td>24.82736</td><td>33.581258</td><td>0.0</td><td>0.0</td><td>49.473719</td><td>0.226121</td><td>0.279651</td><td>0.306363</td><td>4.076534</td><td>36.850185</td><td>28.686066</td><td>33.930321</td><td>-71.313934</td><td>2.035235</td><td>-18.35971</td><td>1.98724</td><td>3.540757</td><td>-1.553518</td><td>0.0</td><td>0.0</td><td>0.0</td><td>27.399636</td><td>-3.667232</td><td>-3.736166</td><td>120.77821</td></tr><tr><td>2022-05-26 00:00:00 EDT</td><td>28.42</td><td>28.459999</td><td>27.110001</td><td>27.5</td><td>27.5</td><td>0</td><td>0.0</td><td>0</td><td>0.0</td><td>-0.0</td><td>0.0</td><td>0.0</td><td>0.0</td><td>0.0</td><td>50.0</td><td>1000.0</td><td>29.9925</td><td>34.836367</td><td>25.148634</td><td>32.300516</td><td>0.242716</td><td>0.0</td><td>0.0</td><td>28.994</td><td>31.862</td><td>26.126</td><td>19.783401</td><td>0.23954</td><td>0.0</td><td>0.0</td><td>24.940001</td><td>36.639999</td><td>30.79</td><td>39.009748</td><td>0.218803</td><td>3.309789</td><td>&hellip;</td><td>28.7675</td><td>27.545</td><td>0.096929</td><td>17.943926</td><td>23.632561</td><td>21.366839</td><td>-99.693957</td><td>24.3525</td><td>28.120001</td><td>28.0</td><td>0.0</td><td>28.0</td><td>24.82736</td><td>33.408433</td><td>0.0</td><td>0.0</td><td>47.779114</td><td>0.114271</td><td>0.235236</td><td>0.279891</td><td>2.9048</td><td>37.911631</td><td>19.959879</td><td>29.38817</td><td>-80.040121</td><td>1.218912</td><td>-16.641411</td><td>1.356447</td><td>3.103895</td><td>-1.747448</td><td>0.0</td><td>0.0</td><td>0.0</td><td>27.404686</td><td>-3.066623</td><td>-3.114627</td><td>114.007776</td></tr><tr><td>2022-05-27 00:00:00 EDT</td><td>27.5</td><td>27.540001</td><td>25.57</td><td>25.719999</td><td>25.719999</td><td>0</td><td>0.0</td><td>0</td><td>0.0</td><td>-0.0</td><td>0.0</td><td>0.0</td><td>0.0</td><td>0.0</td><td>50.0</td><td>1000.0</td><td>29.6085</td><td>34.528038</td><td>24.688962</td><td>33.23058</td><td>0.10479</td><td>0.0</td><td>0.0</td><td>28.66</td><td>31.483</td><td>25.837</td><td>19.699929</td><td>-0.020723</td><td>0.0</td><td>1.0</td><td>24.940001</td><td>36.639999</td><td>30.79</td><td>39.515675</td><td>0.066667</td><td>3.17581</td><td>&hellip;</td><td>29.47</td><td>27.545</td><td>0.048464</td><td>16.836844</td><td>22.633608</td><td>23.768028</td><td>-136.634842</td><td>23.345</td><td>28.120001</td><td>24.0</td><td>0.0</td><td>24.0</td><td>24.82736</td><td>33.239064</td><td>0.0</td><td>0.0</td><td>44.426229</td><td>0.0</td><td>0.113464</td><td>0.20945</td><td>0.944023</td><td>25.257187</td><td>2.250794</td><td>16.96558</td><td>-97.749206</td><td>0.278647</td><td>-21.007376</td><td>0.348046</td><td>2.552725</td><td>-2.20468</td><td>0.0</td><td>0.0</td><td>0.0</td><td>27.343084</td><td>-6.47273</td><td>-6.691713</td><td>100.155631</td></tr><tr><td>2022-05-31 00:00:00 EDT</td><td>27.469999</td><td>28.35</td><td>25.940001</td><td>26.190001</td><td>26.190001</td><td>0</td><td>0.0</td><td>0</td><td>0.0</td><td>-0.0</td><td>0.0</td><td>0.0</td><td>0.0</td><td>0.0</td><td>50.0</td><td>1000.0</td><td>29.301</td><td>34.267754</td><td>24.334247</td><td>33.901597</td><td>0.186818</td><td>0.0</td><td>0.0</td><td>28.507333</td><td>31.284333</td><td>25.730334</td><td>19.482705</td><td>0.082763</td><td>0.0</td><td>0.0</td><td>24.940001</td><td>35.48</td><td>30.21</td><td>35.971465</td><td>0.118596</td><td>3.121229</td><td>&hellip;</td><td>30.065</td><td>27.545</td><td>0.024232</td><td>15.743306</td><td>23.10138</td><td>22.406336</td><td>-106.658071</td><td>23.685</td><td>28.120001</td><td>20.0</td><td>28.0</td><td>-8.0</td><td>24.82736</td><td>33.073083</td><td>0.0</td><td>0.0</td><td>45.513488</td><td>0.08473</td><td>0.066334</td><td>0.138345</td><td>-0.413654</td><td>26.442845</td><td>7.351356</td><td>9.85401</td><td>-92.648644</td><td>-0.274765</td><td>-17.563739</td><td>-0.323712</td><td>1.977438</td><td>-2.30115</td><td>0.0</td><td>0.0</td><td>0.0</td><td>27.326642</td><td>1.827376</td><td>1.810881</td><td>103.813228</td></tr></tbody></table></div>"
      ],
      "text/plain": [
       "shape: (1_362, 93)\n",
       "┌───────────┬───────────┬───────────┬───────────┬───┬───────────┬───────────┬───────────┬──────────┐\n",
       "│ Date      ┆ Open      ┆ High      ┆ Low       ┆ … ┆ momentum_ ┆ others_dr ┆ others_dl ┆ others_c │\n",
       "│ ---       ┆ ---       ┆ ---       ┆ ---       ┆   ┆ kama      ┆ ---       ┆ r         ┆ r        │\n",
       "│ datetime[ ┆ f64       ┆ f64       ┆ f64       ┆   ┆ ---       ┆ f64       ┆ ---       ┆ ---      │\n",
       "│ ns, Ameri ┆           ┆           ┆           ┆   ┆ f64       ┆           ┆ f64       ┆ f64      │\n",
       "│ ca/New_Yo ┆           ┆           ┆           ┆   ┆           ┆           ┆           ┆          │\n",
       "│ rk]       ┆           ┆           ┆           ┆   ┆           ┆           ┆           ┆          │\n",
       "╞═══════════╪═══════════╪═══════════╪═══════════╪═══╪═══════════╪═══════════╪═══════════╪══════════╡\n",
       "│ 2017-01-0 ┆ 14.07     ┆ 14.07     ┆ 12.85     ┆ … ┆ 12.85     ┆ 0.0       ┆ 0.0       ┆ 0.0      │\n",
       "│ 3         ┆           ┆           ┆           ┆   ┆           ┆           ┆           ┆          │\n",
       "│ 00:00:00  ┆           ┆           ┆           ┆   ┆           ┆           ┆           ┆          │\n",
       "│ EST       ┆           ┆           ┆           ┆   ┆           ┆           ┆           ┆          │\n",
       "│ 2017-01-0 ┆ 12.78     ┆ 12.8      ┆ 11.63     ┆ … ┆ 12.098375 ┆ -7.782101 ┆ -8.101594 ┆ -7.78210 │\n",
       "│ 4         ┆           ┆           ┆           ┆   ┆           ┆           ┆           ┆ 1        │\n",
       "│ 00:00:00  ┆           ┆           ┆           ┆   ┆           ┆           ┆           ┆          │\n",
       "│ EST       ┆           ┆           ┆           ┆   ┆           ┆           ┆           ┆          │\n",
       "│ 2017-01-0 ┆ 11.96     ┆ 12.09     ┆ 11.4      ┆ … ┆ 11.82578  ┆ -1.51899  ┆ -1.530645 ┆ -9.18288 │\n",
       "│ 5         ┆           ┆           ┆           ┆   ┆           ┆           ┆           ┆ 1        │\n",
       "│ 00:00:00  ┆           ┆           ┆           ┆   ┆           ┆           ┆           ┆          │\n",
       "│ EST       ┆           ┆           ┆           ┆   ┆           ┆           ┆           ┆          │\n",
       "│ 2017-01-0 ┆ 11.7      ┆ 11.74     ┆ 10.98     ┆ … ┆ 11.503803 ┆ -2.999146 ┆ -3.045041 ┆ -11.9066 │\n",
       "│ 6         ┆           ┆           ┆           ┆   ┆           ┆           ┆           ┆ 2        │\n",
       "│ 00:00:00  ┆           ┆           ┆           ┆   ┆           ┆           ┆           ┆          │\n",
       "│ EST       ┆           ┆           ┆           ┆   ┆           ┆           ┆           ┆          │\n",
       "│ 2017-01-0 ┆ 11.71     ┆ 12.08     ┆ 11.46     ┆ … ┆ 11.534477 ┆ 2.120148  ┆ 2.097985  ┆ -10.0389 │\n",
       "│ 9         ┆           ┆           ┆           ┆   ┆           ┆           ┆           ┆ 1        │\n",
       "│ 00:00:00  ┆           ┆           ┆           ┆   ┆           ┆           ┆           ┆          │\n",
       "│ EST       ┆           ┆           ┆           ┆   ┆           ┆           ┆           ┆          │\n",
       "│ …         ┆ …         ┆ …         ┆ …         ┆ … ┆ …         ┆ …         ┆ …         ┆ …        │\n",
       "│ 2022-05-2 ┆ 29.43     ┆ 31.07     ┆ 29.040001 ┆ … ┆ 27.349282 ┆ 3.405903  ┆ 3.349187  ┆ 129.1828 │\n",
       "│ 4         ┆           ┆           ┆           ┆   ┆           ┆           ┆           ┆ 79       │\n",
       "│ 00:00:00  ┆           ┆           ┆           ┆   ┆           ┆           ┆           ┆          │\n",
       "│ EDT       ┆           ┆           ┆           ┆   ┆           ┆           ┆           ┆          │\n",
       "│ 2022-05-2 ┆ 29.33     ┆ 30.23     ┆ 28.16     ┆ … ┆ 27.399636 ┆ -3.667232 ┆ -3.736166 ┆ 120.7782 │\n",
       "│ 5         ┆           ┆           ┆           ┆   ┆           ┆           ┆           ┆ 1        │\n",
       "│ 00:00:00  ┆           ┆           ┆           ┆   ┆           ┆           ┆           ┆          │\n",
       "│ EDT       ┆           ┆           ┆           ┆   ┆           ┆           ┆           ┆          │\n",
       "│ 2022-05-2 ┆ 28.42     ┆ 28.459999 ┆ 27.110001 ┆ … ┆ 27.404686 ┆ -3.066623 ┆ -3.114627 ┆ 114.0077 │\n",
       "│ 6         ┆           ┆           ┆           ┆   ┆           ┆           ┆           ┆ 76       │\n",
       "│ 00:00:00  ┆           ┆           ┆           ┆   ┆           ┆           ┆           ┆          │\n",
       "│ EDT       ┆           ┆           ┆           ┆   ┆           ┆           ┆           ┆          │\n",
       "│ 2022-05-2 ┆ 27.5      ┆ 27.540001 ┆ 25.57     ┆ … ┆ 27.343084 ┆ -6.47273  ┆ -6.691713 ┆ 100.1556 │\n",
       "│ 7         ┆           ┆           ┆           ┆   ┆           ┆           ┆           ┆ 31       │\n",
       "│ 00:00:00  ┆           ┆           ┆           ┆   ┆           ┆           ┆           ┆          │\n",
       "│ EDT       ┆           ┆           ┆           ┆   ┆           ┆           ┆           ┆          │\n",
       "│ 2022-05-3 ┆ 27.469999 ┆ 28.35     ┆ 25.940001 ┆ … ┆ 27.326642 ┆ 1.827376  ┆ 1.810881  ┆ 103.8132 │\n",
       "│ 1         ┆           ┆           ┆           ┆   ┆           ┆           ┆           ┆ 28       │\n",
       "│ 00:00:00  ┆           ┆           ┆           ┆   ┆           ┆           ┆           ┆          │\n",
       "│ EDT       ┆           ┆           ┆           ┆   ┆           ┆           ┆           ┆          │\n",
       "└───────────┴───────────┴───────────┴───────────┴───┴───────────┴───────────┴───────────┴──────────┘"
      ]
     },
     "execution_count": 7,
     "metadata": {},
     "output_type": "execute_result"
    }
   ],
   "source": [
    "df"
   ]
  },
  {
   "cell_type": "code",
   "execution_count": null,
   "id": "cc3d5cc8-0325-44b1-b936-01f36eacc7d0",
   "metadata": {},
   "outputs": [],
   "source": []
  }
 ],
 "metadata": {
  "kernelspec": {
   "display_name": "Python 3 (ipykernel)",
   "language": "python",
   "name": "python3"
  },
  "language_info": {
   "codemirror_mode": {
    "name": "ipython",
    "version": 3
   },
   "file_extension": ".py",
   "mimetype": "text/x-python",
   "name": "python",
   "nbconvert_exporter": "python",
   "pygments_lexer": "ipython3",
   "version": "3.12.0"
  }
 },
 "nbformat": 4,
 "nbformat_minor": 5
}
