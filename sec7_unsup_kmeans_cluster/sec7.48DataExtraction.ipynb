{
 "cells": [
  {
   "cell_type": "markdown",
   "id": "5c787478-5455-4a98-9079-fcba162be367",
   "metadata": {},
   "source": [
    "### Imports"
   ]
  },
  {
   "cell_type": "code",
   "execution_count": 1,
   "id": "ee6925d3-d6b5-46d2-b213-4977f0ca2630",
   "metadata": {},
   "outputs": [],
   "source": [
    "# Remove unwanted warnings\n",
    "import warnings\n",
    "warnings.simplefilter(action='ignore', category=FutureWarning)\n",
    "\n",
    "# Data extraction and management\n",
    "import polars as pl\n",
    "import numpy as np\n",
    "import yfinance as yf\n",
    "\n",
    "# Feature Engineering\n",
    "from sklearn.preprocessing import StandardScaler\n",
    "\n",
    "# Machine Learning\n",
    "from sklearn.cluster import KMeans\n",
    "from sklearn import metrics\n",
    "from kneed import KneeLocator\n",
    "\n",
    "# Cointegration and Statistics\n",
    "from statsmodels.tsa.stattools import coint\n",
    "import statsmodels.api as sm\n",
    "\n",
    "# Reporting visualization\n",
    "from sklearn.manifold import TSNE\n",
    "import matplotlib.pyplot as plt\n",
    "import matplotlib.cm as cm\n",
    "%matplotlib inline"
   ]
  },
  {
   "cell_type": "markdown",
   "id": "bfc243ec-4df7-4d5f-b39a-1ace6924e1b1",
   "metadata": {},
   "source": [
    "## Data Extraction "
   ]
  },
  {
   "cell_type": "code",
   "execution_count": 2,
   "id": "0954ce35-8f5d-4807-aa71-aa6ca0ba0300",
   "metadata": {},
   "outputs": [],
   "source": [
    "# Set Data Extraction parameters for trading with Polars\n",
    "start_date = \"2019-01-01\"  # Start date for historical data\n",
    "end_date = \"2024-06-01\"    # End date for historical data (adjust as needed)\n",
    "\n",
    "# File paths for storing and retrieving data\n",
    "file_name = \"data/raw_data_etf.csv\"  # Path for ETF data\n",
    "file_name_coint = \"data/raw_data_coint_pairs.csv\"  # Path for cointegrated pairs data\n",
    "\n",
    "# Flags for data loading\n",
    "load_existing = True     # Set to True to load existing ETF data from file\n",
    "load_coint_pairs = False   # Set to True to load existing cointegrated pairs data\n",
    "\n",
    "# Note: When using Polars for trading:\n",
    "# - Ensure date parsing is handled correctly when reading/writing CSV files\n",
    "# - Consider using Polars' memory-efficient data types for large datasets\n",
    "# - Leverage Polars' fast I/O operations for reading/writing data\n",
    "# - Utilize Polars' vectorized operations for quick data manipulations"
   ]
  },
  {
   "cell_type": "markdown",
   "id": "84d55303-2077-40b6-b011-9a227e52e2c3",
   "metadata": {},
   "source": [
    "### Get Symbols"
   ]
  },
  {
   "cell_type": "code",
   "execution_count": 3,
   "id": "75f5b7de-f312-454c-841f-403a7aa313e5",
   "metadata": {},
   "outputs": [
    {
     "name": "stdout",
     "output_type": "stream",
     "text": [
      "Symbols saved.\n",
      "['AADR', 'AAPB', 'AAPD', 'AAPU', 'AAXJ', 'ABCS', 'ACWI', 'ACWX', 'AGMI', 'AGNG', 'AGZD', 'AIA', 'AIPI', 'AIQ', 'AIRL', 'AIRR', 'ALTY', 'AMDL', 'AMDS', 'AMID', 'AMZD', 'AMZU', 'AMZZ', 'ANGL', 'AOTG', 'AQWA', 'ARVR', 'ASET', 'AUMI', 'AVXC', 'BABX', 'BBH', 'BDGS', 'BEEZ', 'BELT', 'BGRN', 'BGRO', 'BIB', 'BIS', 'BITS', 'BJK', 'BKCH', 'BKIV', 'BKWO', 'BLCN', 'BLCR', 'BLLD', 'BMDL', 'BND', 'BNDW', 'BNDX', 'BOTT', 'BOTZ', 'BRHY', 'BRNY', 'BRRR', 'BRTR', 'BSCO', 'BSCP', 'BSCQ', 'BSCR', 'BSCS', 'BSCT', 'BSCU', 'BSCV', 'BSCW', 'BSCX', 'BSCY', 'BSJO', 'BSJP', 'BSJQ', 'BSJR', 'BSJS', 'BSJT', 'BSJU', 'BSJV', 'BSJW', 'BSMO', 'BSMP', 'BSMQ', 'BSMR', 'BSMS', 'BSMT', 'BSMU', 'BSMV', 'BSMW', 'BSSX', 'BSVO', 'BTEC', 'BTF', 'BTFX', 'BUFC', 'BUG', 'BULD', 'CA', 'CAFG', 'CALY', 'CANC', 'CANQ', 'CARZ', 'CATH', 'CCSB', 'CCSO', 'CDC', 'CDL', 'CEFA', 'CFA', 'CFO', 'CHPS', 'CIBR', 'CID', 'CIL', 'CIZ', 'CLOA', 'CLOD', 'CLOU', 'CLSM', 'CNCR', 'COMT', 'CONL', 'COPJ', 'COPP', 'COWG', 'COWS', 'CPLS', 'CSA', 'CSB', 'CSF', 'CTEC', 'CXSE', 'CZAR', 'DALI', 'DAPP', 'DAX', 'DDIV', 'DEMZ', 'DFGP', 'DFGX', 'DGCB', 'DGRE', 'DGRS', 'DGRW', 'DIVD', 'DMAT', 'DMXF', 'DRIV', 'DTCR', 'DVAL', 'DVLU', 'DVOL', 'DVY', 'DWAS', 'DWAW', 'DWSH', 'DWUS', 'DXJS', 'DYFI', 'DYNI', 'DYTA', 'EBIZ', 'ECOW', 'EDOC', 'EEMA', 'EFAS', 'EFRA', 'EHLS', 'EKG', 'EMB', 'EMCB', 'EMIF', 'EMXC', 'EMXF', 'ENTR', 'ENZL', 'EQRR', 'ERET', 'ERNZ', 'ESGD', 'ESGE', 'ESGU', 'ESMV', 'ESPO', 'ETEC', 'EUFN', 'EVMT', 'EVSD', 'EWJV', 'EWZS', 'EYEG', 'FAAR', 'FAB', 'FAD', 'FALN', 'FBL', 'FBOT', 'FBZ', 'FCA', 'FCAL', 'FCEF', 'FCTE', 'FCVT', 'FDCF', 'FDFF', 'FDIF', 'FDIG', 'FDIV', 'FDNI', 'FDT', 'FDTS', 'FDTX', 'FEM', 'FEMB', 'FEMS', 'FEP', 'FEPI', 'FEUZ', 'FEX', 'FGM', 'FICS', 'FID', 'FINE', 'FINX', 'FIXD', 'FIXT', 'FJP', 'FKU', 'FLDB', 'FLN', 'FMB', 'FMED', 'FMET', 'FMHI', 'FNK', 'FNX', 'FNY', 'FPA', 'FPXE', 'FPXI', 'FSCS', 'FSZ', 'FTA', 'FTAG', 'FTC', 'FTCS', 'FTDS', 'FTGC', 'FTGS', 'FTHI', 'FTQI', 'FTRI', 'FTSL', 'FTSM', 'FTXG', 'FTXH', 'FTXL', 'FTXN', 'FTXO', 'FTXR', 'FV', 'FVC', 'FYC', 'FYT', 'FYX', 'GFGF', 'GGLL', 'GGLS', 'GINX', 'GLOW', 'GNMA', 'GNOM', 'GOVI', 'GPIQ', 'GPIX', 'GRID', 'GSIB', 'GTR', 'GXTG', 'HCOW', 'HERD', 'HERO', 'HEWG', 'HIDE', 'HISF', 'HLAL', 'HNDL', 'HQGO', 'HRTS', 'HYDR', 'HYLS', 'HYXF', 'HYZD', 'IBAT', 'IBB', 'IBBQ', 'IBGA', 'IBGK', 'IBIT', 'IBOT', 'IBTE', 'IBTF', 'IBTG', 'IBTH', 'IBTI', 'IBTJ', 'IBTK', 'IBTL', 'IBTM', 'IBTO', 'IBTP', 'ICLN', 'ICOP', 'IEF', 'IEI', 'IEUS', 'IFGL', 'IFV', 'IGF', 'IGIB', 'IGOV', 'IGSB', 'IHYF', 'IJT', 'ILIT', 'IMCV', 'IMOM', 'INDH', 'INDY', 'INFR', 'INRO', 'IPKW', 'IQQQ', 'ISHG', 'ISHP', 'ISTB', 'IUS', 'IUSB', 'IUSG', 'IUSV', 'IVAL', 'IVEG', 'IWTR', 'IXUS', 'JDOC', 'JEPQ', 'JGLO', 'JIVE', 'JPEF', 'JSMD', 'JSML', 'JTEK', 'KBWB', 'KBWD', 'KBWP', 'KBWR', 'KBWY', 'KEAT', 'KNGZ', 'KRMA', 'KROP', 'LDEM', 'LDSF', 'LEGR', 'LGRO', 'LITP', 'LMBS', 'LRGE', 'LRND', 'LVHD', 'MAGQ', 'MAGS', 'MAGX', 'MAXI', 'MBB', 'MCHI', 'MCHS', 'MCSE', 'MDCP', 'MDIV', 'MEDX', 'MEMS', 'METD', 'METU', 'MFLX', 'MILN', 'MKAM', 'MNTL', 'MODL', 'MOOD', 'MSFD', 'MSFL', 'MSFU', 'NCPB', 'NERD', 'NEWZ', 'NFTY', 'NIKL', 'NPFI', 'NRES', 'NSCR', 'NSI', 'NTZG', 'NUSB', 'NVD', 'NVDD', 'NVDL', 'NVDS', 'NVDU', 'NXTG', 'NZAC', 'NZUS', 'OBIL', 'ODDS', 'ONEQ', 'OPTZ', 'OZEM', 'PABD', 'PABU', 'PDBA', 'PDBC', 'PDP', 'PEY', 'PEZ', 'PFF', 'PFI', 'PFM', 'PGJ', 'PHO', 'PID', 'PIE', 'PIO', 'PIZ', 'PKW', 'PNQI', 'PPH', 'PRFZ', 'PRN', 'PSC', 'PSCC', 'PSCD', 'PSCE', 'PSCF', 'PSCH', 'PSCI', 'PSCM', 'PSCT', 'PSCU', 'PSET', 'PSL', 'PSTR', 'PSWD', 'PTEC', 'PTF', 'PTH', 'PTNQ', 'PUI', 'PXI', 'PY', 'PYZ', 'QABA', 'QAT', 'QBUF', 'QCLN', 'QCLR', 'QMID', 'QMOM', 'QOWZ', 'QQEW', 'QQJG', 'QQMG', 'QQQ', 'QQQA', 'QQQE', 'QQQI', 'QQQJ', 'QQQM', 'QQQN', 'QQQS', 'QQQT', 'QQQY', 'QQXT', 'QRMI', 'QSML', 'QTEC', 'QTR', 'QVAL', 'QXQ', 'QYLD', 'QYLE', 'QYLG', 'RAYS', 'RDVY', 'REAI', 'REIT', 'RFDI', 'RFEM', 'RFEU', 'RING', 'RNEM', 'RNEW', 'RNRG', 'RNSC', 'ROBT', 'ROE', 'RTH', 'RUNN', 'SARK', 'SCZ', 'SDG', 'SDSI', 'SDVY', 'SETM', 'SFLO', 'SHRY', 'SHV', 'SHY', 'SKOR', 'SKRE', 'SKYU', 'SKYY', 'SLQD', 'SMCF', 'SMCO', 'SMCP', 'SMH', 'SMRI', 'SNSR', 'SOCL', 'SOXQ', 'SOXX', 'SPAM', 'SPAQ', 'SPBC', 'SPC', 'SPCX', 'SPRX', 'SQLV', 'SQQQ', 'SRET', 'SUSB', 'SUSC', 'SUSL', 'TARK', 'TBIL', 'TCHI', 'TDI', 'TDIV', 'TDSB', 'TDSC', 'TLT', 'TMET', 'TQQQ', 'TRES', 'TSDD', 'TSL', 'TSLL', 'TSLQ', 'TSLR', 'TSLS', 'TSLT', 'TSLZ', 'TUG', 'TUGN', 'TUR', 'TXSS', 'UAE', 'UBND', 'UCRD', 'UCYB', 'UEVM', 'UFIV', 'UFO', 'UITB', 'UIVM', 'ULVM', 'UMMA', 'UNIY', 'UPGR', 'URNJ', 'USBF', 'USCF', 'USCL', 'USDX', 'USFI', 'USIG', 'USIN', 'USMC', 'USOY', 'USRD', 'USSH', 'USTB', 'USVM', 'USVN', 'USXF', 'UTEN', 'UTHY', 'UTRE', 'UTWO', 'UTWY', 'VCIT', 'VCLT', 'VCRB', 'VCSH', 'VFLO', 'VGIT', 'VGLT', 'VGSH', 'VGSR', 'VIGI', 'VMBS', 'VMOT', 'VNQI', 'VONE', 'VONG', 'VONV', 'VPLS', 'VRIG', 'VSDA', 'VSMV', 'VTC', 'VTHR', 'VTIP', 'VTWG', 'VTWO', 'VTWV', 'VWOB', 'VXUS', 'VYMI', 'WABF', 'WBND', 'WCBR', 'WCLD', 'WEEI', 'WGMI', 'WINC', 'WISE', 'WNDY', 'WOOD', 'WRND', 'WTBN', 'XBIL', 'XFIX', 'XT', 'YLDE', 'ZZZ']\n"
     ]
    }
   ],
   "source": [
    "import yfinance as yf  # Import the yfinance library for financial data\n",
    "import polars as pl    # Import the Polars library for DataFrame operations\n",
    "import pandas as pd    # Import the pandas library for data manipulation\n",
    "\n",
    "# Variable to determine whether to load existing data or fetch new data\n",
    "load_existing = True\n",
    "\n",
    "# Function to fetch NASDAQ symbols\n",
    "def get_nasdaq_symbols():\n",
    "    # URL of the NASDAQ listed symbols file\n",
    "    url = 'ftp://ftp.nasdaqtrader.com/SymbolDirectory/nasdaqlisted.txt'\n",
    "    # Read the symbols data from the URL using pandas\n",
    "    symbols = pd.read_csv(url, sep='|')\n",
    "    # Drop rows with any missing values\n",
    "    symbols = symbols.dropna()\n",
    "    # Set the 'Symbol' column as the index of the DataFrame\n",
    "    symbols.set_index('Symbol', inplace=True)\n",
    "    # Return the DataFrame containing the symbols\n",
    "    return symbols\n",
    "\n",
    "# Function to load existing symbols from a file\n",
    "def load_existing_symbols(file_path):\n",
    "    # Read the symbols from a CSV file\n",
    "    existing_symbols = pd.read_csv(file_path)\n",
    "    # Set the 'Symbol' column as the index of the DataFrame\n",
    "    existing_symbols.set_index('Symbol', inplace=True)\n",
    "    # Return the DataFrame containing the existing symbols\n",
    "    return existing_symbols\n",
    "\n",
    "# Path to the file where existing symbols are stored\n",
    "existing_symbols_file = 'data/existing_symbols.csv'\n",
    "\n",
    "# Check if we should load existing data or fetch new data\n",
    "if load_existing:\n",
    "    # Load existing symbols from the file\n",
    "    existing_symbols = load_existing_symbols(existing_symbols_file)\n",
    "else:\n",
    "    # Fetch the NASDAQ symbols using the defined function\n",
    "    symbols = get_nasdaq_symbols()\n",
    "    # Filter the symbols to include only those that are ETFs (ETF == 'Y') and belong to the NASDAQ Global Market (Market Category == 'G')\n",
    "    symbols = symbols[(symbols['ETF'] == 'Y') & (symbols['Market Category'] == 'G')]\n",
    "    # Convert the filtered symbols DataFrame index to a list of symbol strings\n",
    "    new_symbols = list(symbols.index.values)\n",
    "\n",
    "    # Compare new symbols with existing symbols (if they exist)\n",
    "    try:\n",
    "        existing_symbols = load_existing_symbols(existing_symbols_file)\n",
    "        existing_symbols_list = list(existing_symbols.index.values)\n",
    "\n",
    "        if new_symbols != existing_symbols_list:\n",
    "            # If there are new or updated symbols, replace the existing symbols\n",
    "            symbols.to_csv(existing_symbols_file)\n",
    "            print(\"Symbols updated.\")\n",
    "        else:\n",
    "            print(\"No new symbols.\")\n",
    "    except FileNotFoundError:\n",
    "        # If the existing symbols file does not exist, save the new symbols\n",
    "        symbols.to_csv(existing_symbols_file)\n",
    "        print(\"Symbols saved.\")\n",
    "\n",
    "    # Print the list of new symbols\n",
    "    print(new_symbols)\n"
   ]
  },
  {
   "cell_type": "code",
   "execution_count": 4,
   "id": "0fb56131-84a3-458a-8b4f-dc8c0e1cc5ce",
   "metadata": {},
   "outputs": [
    {
     "name": "stdout",
     "output_type": "stream",
     "text": [
      "644\n"
     ]
    }
   ],
   "source": [
    "print(len(symbols))"
   ]
  },
  {
   "cell_type": "code",
   "execution_count": 5,
   "id": "623c62b0-7980-4627-981b-3aac9911e787",
   "metadata": {},
   "outputs": [
    {
     "name": "stdout",
     "output_type": "stream",
     "text": [
      "[*********************100%%**********************]  644 of 644 completed"
     ]
    },
    {
     "name": "stderr",
     "output_type": "stream",
     "text": [
      "\n",
      "19 Failed downloads:\n",
      "['AIPI', 'TMET', 'BSCY', 'QBUF', 'BRHY', 'BGRO', 'METU', 'METD', 'BELT', 'BSJW', 'FCTE', 'IBTP', 'BMDL', 'EVSD', 'QXQ', 'IBGK', 'IBGA', 'GLOW', 'QQQT']: Exception(\"%ticker%: Data doesn't exist for startDate = 1546318800, endDate = 1717214400\")\n"
     ]
    },
    {
     "name": "stdout",
     "output_type": "stream",
     "text": [
      "\n",
      "Data saved to data/raw_data_etf.csv\n"
     ]
    }
   ],
   "source": [
    "import yfinance as yf  \n",
    "import pandas as pd   \n",
    "\n",
    "# Ensure symbols is a list of strings, somehow errored because it was not in string format\n",
    "if isinstance(symbols, pd.DataFrame):\n",
    "    symbols = symbols.index.tolist()\n",
    "\n",
    "# Fetch adjusted close prices for the symbols from Yahoo Finance\n",
    "data = yf.download(symbols, start=start_date, end=end_date)['Adj Close']\n",
    "\n",
    "# Save the data to a CSV file\n",
    "data.to_csv(file_name)\n",
    "\n",
    "print(f\"Data saved to {file_name}\")\n"
   ]
  },
  {
   "cell_type": "code",
   "execution_count": 31,
   "id": "8794ad46-1501-44a9-ba41-53ff0d60f39f",
   "metadata": {},
   "outputs": [
    {
     "name": "stdout",
     "output_type": "stream",
     "text": [
      "Shape: (1363, 645)\n",
      "Null Values: False\n",
      "shape: (50, 645)\n",
      "┌─────────────────────┬───────────┬──────┬──────┬───┬──────┬───────────┬───────────┬─────┐\n",
      "│ Date                ┆ AADR      ┆ AAPB ┆ AAPD ┆ … ┆ XFIX ┆ XT        ┆ YLDE      ┆ ZZZ │\n",
      "│ ---                 ┆ ---       ┆ ---  ┆ ---  ┆   ┆ ---  ┆ ---       ┆ ---       ┆ --- │\n",
      "│ str                 ┆ f64       ┆ str  ┆ str  ┆   ┆ str  ┆ f64       ┆ f64       ┆ str │\n",
      "╞═════════════════════╪═══════════╪══════╪══════╪═══╪══════╪═══════════╪═══════════╪═════╡\n",
      "│ 2019-01-02 00:00:00 ┆ 37.611729 ┆ 0    ┆ 0    ┆ … ┆ 0    ┆ 31.699692 ┆ 23.761585 ┆ 0   │\n",
      "│ 2019-01-03 00:00:00 ┆ 37.192055 ┆ 0    ┆ 0    ┆ … ┆ 0    ┆ 30.861727 ┆ 23.422525 ┆ 0   │\n",
      "│ 2019-01-04 00:00:00 ┆ 38.637589 ┆ 0    ┆ 0    ┆ … ┆ 0    ┆ 31.918703 ┆ 23.999844 ┆ 0   │\n",
      "│ 2019-01-07 00:00:00 ┆ 39.094551 ┆ 0    ┆ 0    ┆ … ┆ 0    ┆ 32.404335 ┆ 24.228937 ┆ 0   │\n",
      "│ 2019-01-08 00:00:00 ┆ 39.364998 ┆ 0    ┆ 0    ┆ … ┆ 0    ┆ 32.58527  ┆ 24.250925 ┆ 0   │\n",
      "│ …                   ┆ …         ┆ …    ┆ …    ┆ … ┆ …    ┆ …         ┆ …         ┆ …   │\n",
      "│ 2019-03-08 00:00:00 ┆ 41.500652 ┆ 0    ┆ 0    ┆ … ┆ 0    ┆ 34.877277 ┆ 26.098339 ┆ 0   │\n",
      "│ 2019-03-11 00:00:00 ┆ 41.966953 ┆ 0    ┆ 0    ┆ … ┆ 0    ┆ 35.422909 ┆ 26.098339 ┆ 0   │\n",
      "│ 2019-03-12 00:00:00 ┆ 42.116161 ┆ 0    ┆ 0    ┆ … ┆ 0    ┆ 35.556221 ┆ 26.464891 ┆ 0   │\n",
      "│ 2019-03-13 00:00:00 ┆ 42.386627 ┆ 0    ┆ 0    ┆ … ┆ 0    ┆ 35.8895   ┆ 26.556528 ┆ 0   │\n",
      "│ 2019-03-14 00:00:00 ┆ 42.293365 ┆ 0    ┆ 0    ┆ … ┆ 0    ┆ 35.832371 ┆ 26.556528 ┆ 0   │\n",
      "└─────────────────────┴───────────┴──────┴──────┴───┴──────┴───────────┴───────────┴─────┘\n"
     ]
    }
   ],
   "source": [
    "import polars as pl\n",
    "\n",
    "# Load (or re-load for consistency) Data and remove features with NaN's\n",
    "data = pl.read_csv(file_name)\n",
    "\n",
    "# Filter columns that have all null values\n",
    "data = data.filter(~pl.all_horizontal(pl.all().is_null()))\n",
    "\n",
    "# Replace null values with zero for each column explicitly\n",
    "data = data.with_columns(\n",
    "    [pl.col(column).fill_null(0) for column in data.columns]\n",
    ")\n",
    "\n",
    "# Print the shape of the dataset\n",
    "print(\"Shape:\", data.shape)\n",
    "\n",
    "# Check for any null values and print a boolean\n",
    "has_null_values = data.null_count().sum_horizontal().sum() > 0\n",
    "print(\"Null Values:\", has_null_values)\n",
    "\n",
    "# Display the first 50 rows to verify\n",
    "print(data.head(50))\n"
   ]
  },
  {
   "cell_type": "code",
   "execution_count": null,
   "id": "b04a5621-2e4d-48dc-96c7-dbc7a72f151f",
   "metadata": {},
   "outputs": [],
   "source": []
  },
  {
   "cell_type": "code",
   "execution_count": null,
   "id": "ce408167-59fb-4d10-a7bf-33226f0ce520",
   "metadata": {},
   "outputs": [],
   "source": []
  },
  {
   "cell_type": "code",
   "execution_count": null,
   "id": "45a32da9-da79-475b-8294-50e18fa977a9",
   "metadata": {},
   "outputs": [],
   "source": []
  }
 ],
 "metadata": {
  "kernelspec": {
   "display_name": "Python 3 (ipykernel)",
   "language": "python",
   "name": "python3"
  },
  "language_info": {
   "codemirror_mode": {
    "name": "ipython",
    "version": 3
   },
   "file_extension": ".py",
   "mimetype": "text/x-python",
   "name": "python",
   "nbconvert_exporter": "python",
   "pygments_lexer": "ipython3",
   "version": "3.12.0"
  }
 },
 "nbformat": 4,
 "nbformat_minor": 5
}
