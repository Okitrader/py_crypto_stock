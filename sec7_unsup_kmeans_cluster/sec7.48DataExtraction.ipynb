{
 "cells": [
  {
   "cell_type": "markdown",
   "id": "5c787478-5455-4a98-9079-fcba162be367",
   "metadata": {},
   "source": [
    "### Imports"
   ]
  },
  {
   "cell_type": "code",
   "execution_count": 1,
   "id": "ee6925d3-d6b5-46d2-b213-4977f0ca2630",
   "metadata": {},
   "outputs": [],
   "source": [
    "# Remove unwanted warnings\n",
    "import warnings\n",
    "warnings.simplefilter(action='ignore', category=FutureWarning)\n",
    "\n",
    "# Data extraction and management\n",
    "import polars as pl\n",
    "import numpy as np\n",
    "import yfinance as yf\n",
    "\n",
    "# Feature Engineering\n",
    "from sklearn.preprocessing import StandardScaler\n",
    "\n",
    "# Machine Learning\n",
    "from sklearn.cluster import KMeans\n",
    "from sklearn import metrics\n",
    "from kneed import KneeLocator\n",
    "\n",
    "# Cointegration and Statistics\n",
    "from statsmodels.tsa.stattools import coint\n",
    "import statsmodels.api as sm\n",
    "\n",
    "# Reporting visualization\n",
    "from sklearn.manifold import TSNE\n",
    "import matplotlib.pyplot as plt\n",
    "import matplotlib.cm as cm\n",
    "%matplotlib inline"
   ]
  },
  {
   "cell_type": "markdown",
   "id": "bfc243ec-4df7-4d5f-b39a-1ace6924e1b1",
   "metadata": {},
   "source": [
    "## Data Extraction "
   ]
  },
  {
   "cell_type": "code",
   "execution_count": 2,
   "id": "0954ce35-8f5d-4807-aa71-aa6ca0ba0300",
   "metadata": {},
   "outputs": [],
   "source": [
    "# Set Data Extraction parameters for trading with Polars\n",
    "start_date = \"2019-01-01\"  # Start date for historical data\n",
    "end_date = \"2024-06-01\"    # End date for historical data (adjust as needed)\n",
    "\n",
    "# File paths for storing and retrieving data\n",
    "file_name = \"data/raw_data_etf.csv\"  # Path for ETF data\n",
    "file_name_coint = \"data/raw_data_coint_pairs.csv\"  # Path for cointegrated pairs data\n",
    "\n",
    "# Flags for data loading\n",
    "load_existing = True     # Set to True to load existing ETF data from file\n",
    "load_coint_pairs = False   # Set to True to load existing cointegrated pairs data\n",
    "\n",
    "# Note: When using Polars for trading:\n",
    "# - Ensure date parsing is handled correctly when reading/writing CSV files\n",
    "# - Consider using Polars' memory-efficient data types for large datasets\n",
    "# - Leverage Polars' fast I/O operations for reading/writing data\n",
    "# - Utilize Polars' vectorized operations for quick data manipulations"
   ]
  },
  {
   "cell_type": "markdown",
   "id": "84d55303-2077-40b6-b011-9a227e52e2c3",
   "metadata": {},
   "source": [
    "### Get Symbols"
   ]
  },
  {
   "cell_type": "code",
   "execution_count": 3,
   "id": "75f5b7de-f312-454c-841f-403a7aa313e5",
   "metadata": {},
   "outputs": [
    {
     "name": "stdout",
     "output_type": "stream",
     "text": [
      "Symbols saved.\n",
      "['AADR', 'AAPB', 'AAPD', 'AAPU', 'AAXJ', 'ABCS', 'ACWI', 'ACWX', 'AGMI', 'AGNG', 'AGZD', 'AIA', 'AIPI', 'AIQ', 'AIRL', 'AIRR', 'ALTY', 'AMDL', 'AMDS', 'AMID', 'AMZD', 'AMZU', 'AMZZ', 'ANGL', 'AOTG', 'AQWA', 'ARVR', 'ASET', 'AUMI', 'AVXC', 'BABX', 'BBH', 'BDGS', 'BEEZ', 'BELT', 'BGRN', 'BGRO', 'BIB', 'BIS', 'BITS', 'BJK', 'BKCH', 'BKIV', 'BKWO', 'BLCN', 'BLCR', 'BLLD', 'BMDL', 'BND', 'BNDW', 'BNDX', 'BOTT', 'BOTZ', 'BRHY', 'BRNY', 'BRRR', 'BRTR', 'BSCO', 'BSCP', 'BSCQ', 'BSCR', 'BSCS', 'BSCT', 'BSCU', 'BSCV', 'BSCW', 'BSCX', 'BSCY', 'BSJO', 'BSJP', 'BSJQ', 'BSJR', 'BSJS', 'BSJT', 'BSJU', 'BSJV', 'BSJW', 'BSMO', 'BSMP', 'BSMQ', 'BSMR', 'BSMS', 'BSMT', 'BSMU', 'BSMV', 'BSMW', 'BSSX', 'BSVO', 'BTEC', 'BTF', 'BTFX', 'BUFC', 'BUG', 'BULD', 'CA', 'CAFG', 'CALY', 'CANC', 'CANQ', 'CARZ', 'CATH', 'CCSB', 'CCSO', 'CDC', 'CDL', 'CEFA', 'CFA', 'CFO', 'CHPS', 'CIBR', 'CID', 'CIL', 'CIZ', 'CLOA', 'CLOD', 'CLOU', 'CLSM', 'CNCR', 'COMT', 'CONL', 'COPJ', 'COPP', 'COWG', 'COWS', 'CPLS', 'CSA', 'CSB', 'CSF', 'CTEC', 'CXSE', 'CZAR', 'DALI', 'DAPP', 'DAX', 'DDIV', 'DEMZ', 'DFGP', 'DFGX', 'DGCB', 'DGRE', 'DGRS', 'DGRW', 'DIVD', 'DMAT', 'DMXF', 'DRIV', 'DTCR', 'DVAL', 'DVLU', 'DVOL', 'DVY', 'DWAS', 'DWAW', 'DWSH', 'DWUS', 'DXJS', 'DYFI', 'DYNI', 'DYTA', 'EBIZ', 'ECOW', 'EDOC', 'EEMA', 'EFAS', 'EFRA', 'EHLS', 'EKG', 'EMB', 'EMCB', 'EMIF', 'EMXC', 'EMXF', 'ENTR', 'ENZL', 'EQRR', 'ERET', 'ERNZ', 'ESGD', 'ESGE', 'ESGU', 'ESMV', 'ESPO', 'ETEC', 'EUFN', 'EVMT', 'EVSD', 'EWJV', 'EWZS', 'EYEG', 'FAAR', 'FAB', 'FAD', 'FALN', 'FBL', 'FBOT', 'FBZ', 'FCA', 'FCAL', 'FCEF', 'FCTE', 'FCVT', 'FDCF', 'FDFF', 'FDIF', 'FDIG', 'FDIV', 'FDNI', 'FDT', 'FDTS', 'FDTX', 'FEM', 'FEMB', 'FEMS', 'FEP', 'FEPI', 'FEUZ', 'FEX', 'FGM', 'FICS', 'FID', 'FINE', 'FINX', 'FIXD', 'FIXT', 'FJP', 'FKU', 'FLDB', 'FLN', 'FMB', 'FMED', 'FMET', 'FMHI', 'FNK', 'FNX', 'FNY', 'FPA', 'FPXE', 'FPXI', 'FSCS', 'FSZ', 'FTA', 'FTAG', 'FTC', 'FTCS', 'FTDS', 'FTGC', 'FTGS', 'FTHI', 'FTQI', 'FTRI', 'FTSL', 'FTSM', 'FTXG', 'FTXH', 'FTXL', 'FTXN', 'FTXO', 'FTXR', 'FV', 'FVC', 'FYC', 'FYT', 'FYX', 'GFGF', 'GGLL', 'GGLS', 'GINX', 'GLOW', 'GNMA', 'GNOM', 'GOVI', 'GPIQ', 'GPIX', 'GRID', 'GSIB', 'GTR', 'GXTG', 'HCOW', 'HERD', 'HERO', 'HEWG', 'HIDE', 'HISF', 'HLAL', 'HNDL', 'HQGO', 'HRTS', 'HYDR', 'HYLS', 'HYXF', 'HYZD', 'IBAT', 'IBB', 'IBBQ', 'IBGA', 'IBGK', 'IBIT', 'IBOT', 'IBTE', 'IBTF', 'IBTG', 'IBTH', 'IBTI', 'IBTJ', 'IBTK', 'IBTL', 'IBTM', 'IBTO', 'IBTP', 'ICLN', 'ICOP', 'IEF', 'IEI', 'IEUS', 'IFGL', 'IFV', 'IGF', 'IGIB', 'IGOV', 'IGSB', 'IHYF', 'IJT', 'ILIT', 'IMCV', 'IMOM', 'INDH', 'INDY', 'INFR', 'INRO', 'IPKW', 'IQQQ', 'ISHG', 'ISHP', 'ISTB', 'IUS', 'IUSB', 'IUSG', 'IUSV', 'IVAL', 'IVEG', 'IWTR', 'IXUS', 'JDOC', 'JEPQ', 'JGLO', 'JIVE', 'JPEF', 'JSMD', 'JSML', 'JTEK', 'KBWB', 'KBWD', 'KBWP', 'KBWR', 'KBWY', 'KEAT', 'KNGZ', 'KRMA', 'KROP', 'LDEM', 'LDSF', 'LEGR', 'LGRO', 'LITP', 'LMBS', 'LRGE', 'LRND', 'LVHD', 'MAGQ', 'MAGS', 'MAGX', 'MAXI', 'MBB', 'MCHI', 'MCHS', 'MCSE', 'MDCP', 'MDIV', 'MEDX', 'MEMS', 'METD', 'METU', 'MFLX', 'MILN', 'MKAM', 'MNTL', 'MODL', 'MOOD', 'MSFD', 'MSFL', 'MSFU', 'NCPB', 'NERD', 'NEWZ', 'NFTY', 'NIKL', 'NPFI', 'NRES', 'NSCR', 'NSI', 'NTZG', 'NUSB', 'NVD', 'NVDD', 'NVDL', 'NVDS', 'NVDU', 'NXTG', 'NZAC', 'NZUS', 'OBIL', 'ODDS', 'ONEQ', 'OPTZ', 'OZEM', 'PABD', 'PABU', 'PDBA', 'PDBC', 'PDP', 'PEY', 'PEZ', 'PFF', 'PFI', 'PFM', 'PGJ', 'PHO', 'PID', 'PIE', 'PIO', 'PIZ', 'PKW', 'PNQI', 'PPH', 'PRFZ', 'PRN', 'PSC', 'PSCC', 'PSCD', 'PSCE', 'PSCF', 'PSCH', 'PSCI', 'PSCM', 'PSCT', 'PSCU', 'PSET', 'PSL', 'PSTR', 'PSWD', 'PTEC', 'PTF', 'PTH', 'PTNQ', 'PUI', 'PXI', 'PY', 'PYZ', 'QABA', 'QAT', 'QBUF', 'QCLN', 'QCLR', 'QMID', 'QMOM', 'QOWZ', 'QQEW', 'QQJG', 'QQMG', 'QQQ', 'QQQA', 'QQQE', 'QQQI', 'QQQJ', 'QQQM', 'QQQN', 'QQQS', 'QQQT', 'QQQY', 'QQXT', 'QRMI', 'QSML', 'QTEC', 'QTR', 'QVAL', 'QXQ', 'QYLD', 'QYLE', 'QYLG', 'RAYS', 'RDVY', 'REAI', 'REIT', 'RFDI', 'RFEM', 'RFEU', 'RING', 'RNEM', 'RNEW', 'RNRG', 'RNSC', 'ROBT', 'ROE', 'RTH', 'RUNN', 'SARK', 'SCZ', 'SDG', 'SDSI', 'SDVY', 'SETM', 'SFLO', 'SHRY', 'SHV', 'SHY', 'SKOR', 'SKRE', 'SKYU', 'SKYY', 'SLQD', 'SMCF', 'SMCO', 'SMCP', 'SMH', 'SMRI', 'SNSR', 'SOCL', 'SOXQ', 'SOXX', 'SPAM', 'SPAQ', 'SPBC', 'SPC', 'SPCX', 'SPRX', 'SQLV', 'SQQQ', 'SRET', 'SUSB', 'SUSC', 'SUSL', 'TARK', 'TBIL', 'TCHI', 'TDI', 'TDIV', 'TDSB', 'TDSC', 'TLT', 'TMET', 'TQQQ', 'TRES', 'TSDD', 'TSL', 'TSLL', 'TSLQ', 'TSLR', 'TSLS', 'TSLT', 'TSLZ', 'TUG', 'TUGN', 'TUR', 'TXSS', 'UAE', 'UBND', 'UCRD', 'UCYB', 'UEVM', 'UFIV', 'UFO', 'UITB', 'UIVM', 'ULVM', 'UMMA', 'UNIY', 'UPGR', 'URNJ', 'USBF', 'USCF', 'USCL', 'USDX', 'USFI', 'USIG', 'USIN', 'USMC', 'USOY', 'USRD', 'USSH', 'USTB', 'USVM', 'USVN', 'USXF', 'UTEN', 'UTHY', 'UTRE', 'UTWO', 'UTWY', 'VCIT', 'VCLT', 'VCRB', 'VCSH', 'VFLO', 'VGIT', 'VGLT', 'VGSH', 'VGSR', 'VIGI', 'VMBS', 'VMOT', 'VNQI', 'VONE', 'VONG', 'VONV', 'VPLS', 'VRIG', 'VSDA', 'VSMV', 'VTC', 'VTHR', 'VTIP', 'VTWG', 'VTWO', 'VTWV', 'VWOB', 'VXUS', 'VYMI', 'WABF', 'WBND', 'WCBR', 'WCLD', 'WEEI', 'WGMI', 'WINC', 'WISE', 'WNDY', 'WOOD', 'WRND', 'WTBN', 'XBIL', 'XFIX', 'XT', 'YLDE', 'ZZZ']\n"
     ]
    }
   ],
   "source": [
    "import yfinance as yf  # Import the yfinance library for financial data\n",
    "import polars as pl    # Import the Polars library for DataFrame operations\n",
    "import pandas as pd    # Import the pandas library for data manipulation\n",
    "\n",
    "# Variable to determine whether to load existing data or fetch new data\n",
    "load_existing = True\n",
    "\n",
    "# Function to fetch NASDAQ symbols\n",
    "def get_nasdaq_symbols():\n",
    "    # URL of the NASDAQ listed symbols file\n",
    "    url = 'ftp://ftp.nasdaqtrader.com/SymbolDirectory/nasdaqlisted.txt'\n",
    "    # Read the symbols data from the URL using pandas\n",
    "    symbols = pd.read_csv(url, sep='|')\n",
    "    # Drop rows with any missing values\n",
    "    symbols = symbols.dropna()\n",
    "    # Set the 'Symbol' column as the index of the DataFrame\n",
    "    symbols.set_index('Symbol', inplace=True)\n",
    "    # Return the DataFrame containing the symbols\n",
    "    return symbols\n",
    "\n",
    "# Function to load existing symbols from a file\n",
    "def load_existing_symbols(file_path):\n",
    "    # Read the symbols from a CSV file\n",
    "    existing_symbols = pd.read_csv(file_path)\n",
    "    # Set the 'Symbol' column as the index of the DataFrame\n",
    "    existing_symbols.set_index('Symbol', inplace=True)\n",
    "    # Return the DataFrame containing the existing symbols\n",
    "    return existing_symbols\n",
    "\n",
    "# Path to the file where existing symbols are stored\n",
    "existing_symbols_file = 'data/existing_symbols.csv'\n",
    "\n",
    "# Check if we should load existing data or fetch new data\n",
    "if load_existing:\n",
    "    # Load existing symbols from the file\n",
    "    existing_symbols = load_existing_symbols(existing_symbols_file)\n",
    "else:\n",
    "    # Fetch the NASDAQ symbols using the defined function\n",
    "    symbols = get_nasdaq_symbols()\n",
    "    # Filter the symbols to include only those that are ETFs (ETF == 'Y') and belong to the NASDAQ Global Market (Market Category == 'G')\n",
    "    symbols = symbols[(symbols['ETF'] == 'Y') & (symbols['Market Category'] == 'G')]\n",
    "    # Convert the filtered symbols DataFrame index to a list of symbol strings\n",
    "    new_symbols = list(symbols.index.values)\n",
    "\n",
    "    # Compare new symbols with existing symbols (if they exist)\n",
    "    try:\n",
    "        existing_symbols = load_existing_symbols(existing_symbols_file)\n",
    "        existing_symbols_list = list(existing_symbols.index.values)\n",
    "\n",
    "        if new_symbols != existing_symbols_list:\n",
    "            # If there are new or updated symbols, replace the existing symbols\n",
    "            symbols.to_csv(existing_symbols_file)\n",
    "            print(\"Symbols updated.\")\n",
    "        else:\n",
    "            print(\"No new symbols.\")\n",
    "    except FileNotFoundError:\n",
    "        # If the existing symbols file does not exist, save the new symbols\n",
    "        symbols.to_csv(existing_symbols_file)\n",
    "        print(\"Symbols saved.\")\n",
    "\n",
    "    # Print the list of new symbols\n",
    "    print(new_symbols)\n"
   ]
  },
  {
   "cell_type": "code",
   "execution_count": 4,
   "id": "0fb56131-84a3-458a-8b4f-dc8c0e1cc5ce",
   "metadata": {},
   "outputs": [
    {
     "name": "stdout",
     "output_type": "stream",
     "text": [
      "644\n"
     ]
    }
   ],
   "source": [
    "print(len(symbols))"
   ]
  },
  {
   "cell_type": "code",
   "execution_count": 5,
   "id": "623c62b0-7980-4627-981b-3aac9911e787",
   "metadata": {},
   "outputs": [
    {
     "name": "stdout",
     "output_type": "stream",
     "text": [
      "[*********************100%%**********************]  644 of 644 completed"
     ]
    },
    {
     "name": "stderr",
     "output_type": "stream",
     "text": [
      "\n",
      "19 Failed downloads:\n",
      "['AIPI', 'TMET', 'BSCY', 'QBUF', 'BRHY', 'BGRO', 'METU', 'METD', 'BELT', 'BSJW', 'FCTE', 'IBTP', 'BMDL', 'EVSD', 'QXQ', 'IBGK', 'IBGA', 'GLOW', 'QQQT']: Exception(\"%ticker%: Data doesn't exist for startDate = 1546318800, endDate = 1717214400\")\n"
     ]
    },
    {
     "name": "stdout",
     "output_type": "stream",
     "text": [
      "\n",
      "Data saved to data/raw_data_etf.csv\n"
     ]
    }
   ],
   "source": [
    "import yfinance as yf  \n",
    "import pandas as pd   \n",
    "\n",
    "# Ensure symbols is a list of strings, somehow errored because it was not in string format\n",
    "if isinstance(symbols, pd.DataFrame):\n",
    "    symbols = symbols.index.tolist()\n",
    "\n",
    "# Fetch adjusted close prices for the symbols from Yahoo Finance\n",
    "data = yf.download(symbols, start=start_date, end=end_date)['Adj Close']\n",
    "\n",
    "# Save the data to a CSV file\n",
    "data.to_csv(file_name)\n",
    "\n",
    "print(f\"Data saved to {file_name}\")\n"
   ]
  },
  {
   "cell_type": "code",
   "execution_count": 33,
   "id": "8794ad46-1501-44a9-ba41-53ff0d60f39f",
   "metadata": {},
   "outputs": [
    {
     "name": "stdout",
     "output_type": "stream",
     "text": [
      "Shape: (1363, 645)\n",
      "Null Values: False\n"
     ]
    },
    {
     "data": {
      "text/html": [
       "<div><style>\n",
       ".dataframe > thead > tr,\n",
       ".dataframe > tbody > tr {\n",
       "  text-align: right;\n",
       "  white-space: pre-wrap;\n",
       "}\n",
       "</style>\n",
       "<small>shape: (1_363, 645)</small><table border=\"1\" class=\"dataframe\"><thead><tr><th>Date</th><th>AADR</th><th>AAPB</th><th>AAPD</th><th>AAPU</th><th>AAXJ</th><th>ABCS</th><th>ACWI</th><th>ACWX</th><th>AGMI</th><th>AGNG</th><th>AGZD</th><th>AIA</th><th>AIPI</th><th>AIQ</th><th>AIRL</th><th>AIRR</th><th>ALTY</th><th>AMDL</th><th>AMDS</th><th>AMID</th><th>AMZD</th><th>AMZU</th><th>AMZZ</th><th>ANGL</th><th>AOTG</th><th>AQWA</th><th>ARVR</th><th>ASET</th><th>AUMI</th><th>AVXC</th><th>BABX</th><th>BBH</th><th>BDGS</th><th>BEEZ</th><th>BELT</th><th>BGRN</th><th>&hellip;</th><th>VIGI</th><th>VMBS</th><th>VMOT</th><th>VNQI</th><th>VONE</th><th>VONG</th><th>VONV</th><th>VPLS</th><th>VRIG</th><th>VSDA</th><th>VSMV</th><th>VTC</th><th>VTHR</th><th>VTIP</th><th>VTWG</th><th>VTWO</th><th>VTWV</th><th>VWOB</th><th>VXUS</th><th>VYMI</th><th>WABF</th><th>WBND</th><th>WCBR</th><th>WCLD</th><th>WEEI</th><th>WGMI</th><th>WINC</th><th>WISE</th><th>WNDY</th><th>WOOD</th><th>WRND</th><th>WTBN</th><th>XBIL</th><th>XFIX</th><th>XT</th><th>YLDE</th><th>ZZZ</th></tr><tr><td>str</td><td>f64</td><td>str</td><td>str</td><td>str</td><td>f64</td><td>str</td><td>f64</td><td>f64</td><td>str</td><td>f64</td><td>f64</td><td>f64</td><td>str</td><td>f64</td><td>str</td><td>f64</td><td>f64</td><td>str</td><td>str</td><td>str</td><td>str</td><td>str</td><td>str</td><td>f64</td><td>str</td><td>str</td><td>str</td><td>f64</td><td>str</td><td>str</td><td>str</td><td>f64</td><td>str</td><td>str</td><td>str</td><td>f64</td><td>&hellip;</td><td>f64</td><td>f64</td><td>f64</td><td>f64</td><td>f64</td><td>f64</td><td>f64</td><td>str</td><td>f64</td><td>f64</td><td>f64</td><td>f64</td><td>f64</td><td>f64</td><td>f64</td><td>f64</td><td>f64</td><td>f64</td><td>f64</td><td>f64</td><td>str</td><td>f64</td><td>str</td><td>str</td><td>str</td><td>str</td><td>f64</td><td>str</td><td>str</td><td>f64</td><td>str</td><td>str</td><td>str</td><td>str</td><td>f64</td><td>f64</td><td>str</td></tr></thead><tbody><tr><td>&quot;2019-01-02 00:00:00&quot;</td><td>37.611729</td><td>&quot;0&quot;</td><td>&quot;0&quot;</td><td>&quot;0&quot;</td><td>57.365273</td><td>&quot;0&quot;</td><td>57.852909</td><td>35.929523</td><td>&quot;0&quot;</td><td>18.078403</td><td>18.813509</td><td>49.29137</td><td>&quot;0&quot;</td><td>12.734489</td><td>&quot;0&quot;</td><td>21.639997</td><td>8.677715</td><td>&quot;0&quot;</td><td>&quot;0&quot;</td><td>&quot;0&quot;</td><td>&quot;0&quot;</td><td>&quot;0&quot;</td><td>&quot;0&quot;</td><td>20.298042</td><td>&quot;0&quot;</td><td>&quot;0&quot;</td><td>&quot;0&quot;</td><td>22.040138</td><td>&quot;0&quot;</td><td>&quot;0&quot;</td><td>&quot;0&quot;</td><td>109.191833</td><td>&quot;0&quot;</td><td>&quot;0&quot;</td><td>&quot;0&quot;</td><td>43.900219</td><td>&hellip;</td><td>49.100071</td><td>45.093952</td><td>22.233305</td><td>42.919491</td><td>104.99736</td><td>31.997368</td><td>43.003792</td><td>&quot;0&quot;</td><td>20.791592</td><td>25.126347</td><td>23.901342</td><td>67.175781</td><td>104.828293</td><td>39.93549</td><td>117.246986</td><td>50.260658</td><td>84.56337</td><td>57.170979</td><td>40.046909</td><td>44.070271</td><td>&quot;0&quot;</td><td>70.805153</td><td>&quot;0&quot;</td><td>&quot;0&quot;</td><td>&quot;0&quot;</td><td>&quot;0&quot;</td><td>0.0</td><td>&quot;0&quot;</td><td>&quot;0&quot;</td><td>51.86504</td><td>&quot;0&quot;</td><td>&quot;0&quot;</td><td>&quot;0&quot;</td><td>&quot;0&quot;</td><td>31.699692</td><td>23.761585</td><td>&quot;0&quot;</td></tr><tr><td>&quot;2019-01-03 00:00:00&quot;</td><td>37.192055</td><td>&quot;0&quot;</td><td>&quot;0&quot;</td><td>&quot;0&quot;</td><td>56.01046</td><td>&quot;0&quot;</td><td>56.869751</td><td>35.594364</td><td>&quot;0&quot;</td><td>18.043737</td><td>18.773779</td><td>47.861725</td><td>&quot;0&quot;</td><td>12.401689</td><td>&quot;0&quot;</td><td>21.451567</td><td>8.691301</td><td>&quot;0&quot;</td><td>&quot;0&quot;</td><td>&quot;0&quot;</td><td>&quot;0&quot;</td><td>&quot;0&quot;</td><td>&quot;0&quot;</td><td>20.320822</td><td>&quot;0&quot;</td><td>&quot;0&quot;</td><td>&quot;0&quot;</td><td>21.988029</td><td>&quot;0&quot;</td><td>&quot;0&quot;</td><td>&quot;0&quot;</td><td>109.97773</td><td>&quot;0&quot;</td><td>&quot;0&quot;</td><td>&quot;0&quot;</td><td>43.900219</td><td>&hellip;</td><td>48.399132</td><td>45.277599</td><td>22.203083</td><td>42.98547</td><td>102.711037</td><td>31.044077</td><td>42.305412</td><td>&quot;0&quot;</td><td>20.80003</td><td>24.629292</td><td>23.610014</td><td>67.293098</td><td>102.631538</td><td>40.043842</td><td>115.129013</td><td>49.30814</td><td>84.382973</td><td>57.323936</td><td>39.596573</td><td>43.921253</td><td>&quot;0&quot;</td><td>70.721504</td><td>&quot;0&quot;</td><td>&quot;0&quot;</td><td>&quot;0&quot;</td><td>&quot;0&quot;</td><td>0.0</td><td>&quot;0&quot;</td><td>&quot;0&quot;</td><td>51.638756</td><td>&quot;0&quot;</td><td>&quot;0&quot;</td><td>&quot;0&quot;</td><td>&quot;0&quot;</td><td>30.861727</td><td>23.422525</td><td>&quot;0&quot;</td></tr><tr><td>&quot;2019-01-04 00:00:00&quot;</td><td>38.637589</td><td>&quot;0&quot;</td><td>&quot;0&quot;</td><td>&quot;0&quot;</td><td>57.856274</td><td>&quot;0&quot;</td><td>58.682728</td><td>36.69434</td><td>&quot;0&quot;</td><td>18.670582</td><td>18.869139</td><td>49.552124</td><td>&quot;0&quot;</td><td>12.900888</td><td>&quot;0&quot;</td><td>22.145788</td><td>8.808433</td><td>&quot;0&quot;</td><td>&quot;0&quot;</td><td>&quot;0&quot;</td><td>&quot;0&quot;</td><td>&quot;0&quot;</td><td>&quot;0&quot;</td><td>20.632038</td><td>&quot;0&quot;</td><td>&quot;0&quot;</td><td>&quot;0&quot;</td><td>22.378817</td><td>&quot;0&quot;</td><td>&quot;0&quot;</td><td>&quot;0&quot;</td><td>115.390663</td><td>&quot;0&quot;</td><td>&quot;0&quot;</td><td>&quot;0&quot;</td><td>43.982483</td><td>&hellip;</td><td>49.963421</td><td>45.120186</td><td>22.258947</td><td>43.925667</td><td>106.126755</td><td>32.250004</td><td>43.498848</td><td>&quot;0&quot;</td><td>20.816893</td><td>25.235594</td><td>24.027611</td><td>67.1548</td><td>105.912865</td><td>40.027172</td><td>119.461166</td><td>51.134197</td><td>86.574875</td><td>57.469265</td><td>40.888126</td><td>45.160469</td><td>&quot;0&quot;</td><td>70.554161</td><td>&quot;0&quot;</td><td>&quot;0&quot;</td><td>&quot;0&quot;</td><td>&quot;0&quot;</td><td>0.0</td><td>&quot;0&quot;</td><td>&quot;0&quot;</td><td>53.449051</td><td>&quot;0&quot;</td><td>&quot;0&quot;</td><td>&quot;0&quot;</td><td>&quot;0&quot;</td><td>31.918703</td><td>23.999844</td><td>&quot;0&quot;</td></tr><tr><td>&quot;2019-01-07 00:00:00&quot;</td><td>39.094551</td><td>&quot;0&quot;</td><td>&quot;0&quot;</td><td>&quot;0&quot;</td><td>58.20179</td><td>&quot;0&quot;</td><td>59.043526</td><td>36.745903</td><td>&quot;0&quot;</td><td>19.003744</td><td>18.809532</td><td>49.857834</td><td>&quot;0&quot;</td><td>13.145596</td><td>&quot;0&quot;</td><td>22.502817</td><td>8.988332</td><td>&quot;0&quot;</td><td>&quot;0&quot;</td><td>&quot;0&quot;</td><td>&quot;0&quot;</td><td>&quot;0&quot;</td><td>&quot;0&quot;</td><td>20.912901</td><td>&quot;0&quot;</td><td>&quot;0&quot;</td><td>&quot;0&quot;</td><td>22.569866</td><td>&quot;0&quot;</td><td>&quot;0&quot;</td><td>&quot;0&quot;</td><td>118.102043</td><td>&quot;0&quot;</td><td>&quot;0&quot;</td><td>&quot;0&quot;</td><td>43.982483</td><td>&hellip;</td><td>50.006161</td><td>45.067719</td><td>22.428373</td><td>44.181339</td><td>107.054153</td><td>32.566971</td><td>43.737545</td><td>&quot;0&quot;</td><td>20.804247</td><td>25.426773</td><td>24.244078</td><td>67.191704</td><td>106.79525</td><td>40.010506</td><td>122.378151</td><td>52.096012</td><td>87.702393</td><td>57.668129</td><td>41.015583</td><td>45.199677</td><td>&quot;0&quot;</td><td>70.91671</td><td>&quot;0&quot;</td><td>&quot;0&quot;</td><td>&quot;0&quot;</td><td>&quot;0&quot;</td><td>0.0</td><td>&quot;0&quot;</td><td>&quot;0&quot;</td><td>53.783951</td><td>&quot;0&quot;</td><td>&quot;0&quot;</td><td>&quot;0&quot;</td><td>&quot;0&quot;</td><td>32.404335</td><td>24.228937</td><td>&quot;0&quot;</td></tr><tr><td>&quot;2019-01-08 00:00:00&quot;</td><td>39.364998</td><td>&quot;0&quot;</td><td>&quot;0&quot;</td><td>&quot;0&quot;</td><td>58.356358</td><td>&quot;0&quot;</td><td>59.476475</td><td>36.986523</td><td>&quot;0&quot;</td><td>19.028782</td><td>18.908867</td><td>49.722958</td><td>&quot;0&quot;</td><td>13.27284</td><td>&quot;0&quot;</td><td>22.790428</td><td>9.078924</td><td>&quot;0&quot;</td><td>&quot;0&quot;</td><td>&quot;0&quot;</td><td>&quot;0&quot;</td><td>&quot;0&quot;</td><td>&quot;0&quot;</td><td>21.049534</td><td>&quot;0&quot;</td><td>&quot;0&quot;</td><td>&quot;0&quot;</td><td>22.84602</td><td>&quot;0&quot;</td><td>&quot;0&quot;</td><td>&quot;0&quot;</td><td>119.781929</td><td>&quot;0&quot;</td><td>&quot;0&quot;</td><td>&quot;0&quot;</td><td>43.956512</td><td>&hellip;</td><td>50.373737</td><td>45.05896</td><td>22.501638</td><td>44.527733</td><td>108.027466</td><td>32.984043</td><td>44.055805</td><td>&quot;0&quot;</td><td>20.816893</td><td>25.426773</td><td>24.402824</td><td>67.234398</td><td>107.925812</td><td>40.002159</td><td>124.361267</td><td>52.890549</td><td>89.100479</td><td>57.668129</td><td>41.312984</td><td>45.411434</td><td>&quot;0&quot;</td><td>71.056122</td><td>&quot;0&quot;</td><td>&quot;0&quot;</td><td>&quot;0&quot;</td><td>&quot;0&quot;</td><td>0.0</td><td>&quot;0&quot;</td><td>&quot;0&quot;</td><td>54.290844</td><td>&quot;0&quot;</td><td>&quot;0&quot;</td><td>&quot;0&quot;</td><td>&quot;0&quot;</td><td>32.58527</td><td>24.250925</td><td>&quot;0&quot;</td></tr><tr><td>&hellip;</td><td>&hellip;</td><td>&hellip;</td><td>&hellip;</td><td>&hellip;</td><td>&hellip;</td><td>&hellip;</td><td>&hellip;</td><td>&hellip;</td><td>&hellip;</td><td>&hellip;</td><td>&hellip;</td><td>&hellip;</td><td>&hellip;</td><td>&hellip;</td><td>&hellip;</td><td>&hellip;</td><td>&hellip;</td><td>&hellip;</td><td>&hellip;</td><td>&hellip;</td><td>&hellip;</td><td>&hellip;</td><td>&hellip;</td><td>&hellip;</td><td>&hellip;</td><td>&hellip;</td><td>&hellip;</td><td>&hellip;</td><td>&hellip;</td><td>&hellip;</td><td>&hellip;</td><td>&hellip;</td><td>&hellip;</td><td>&hellip;</td><td>&hellip;</td><td>&hellip;</td><td>&hellip;</td><td>&hellip;</td><td>&hellip;</td><td>&hellip;</td><td>&hellip;</td><td>&hellip;</td><td>&hellip;</td><td>&hellip;</td><td>&hellip;</td><td>&hellip;</td><td>&hellip;</td><td>&hellip;</td><td>&hellip;</td><td>&hellip;</td><td>&hellip;</td><td>&hellip;</td><td>&hellip;</td><td>&hellip;</td><td>&hellip;</td><td>&hellip;</td><td>&hellip;</td><td>&hellip;</td><td>&hellip;</td><td>&hellip;</td><td>&hellip;</td><td>&hellip;</td><td>&hellip;</td><td>&hellip;</td><td>&hellip;</td><td>&hellip;</td><td>&hellip;</td><td>&hellip;</td><td>&hellip;</td><td>&hellip;</td><td>&hellip;</td><td>&hellip;</td><td>&hellip;</td><td>&hellip;</td></tr><tr><td>&quot;2024-05-24 00:00:00&quot;</td><td>63.126698</td><td>&quot;20.989999771118164&quot;</td><td>&quot;20.237186431884766&quot;</td><td>&quot;26.952613830566406&quot;</td><td>71.892708</td><td>&quot;26.473419189453125&quot;</td><td>110.770073</td><td>53.762825</td><td>&quot;28.229999542236328&quot;</td><td>29.647701</td><td>22.070314</td><td>66.198334</td><td>&quot;0&quot;</td><td>34.358345</td><td>&quot;25.25&quot;</td><td>73.17453</td><td>11.20698</td><td>&quot;17.65999984741211&quot;</td><td>&quot;12.517600059509277&quot;</td><td>&quot;32.98400115966797&quot;</td><td>&quot;14.392091751098633&quot;</td><td>&quot;33.04756164550781&quot;</td><td>&quot;26.097999572753906&quot;</td><td>28.301798</td><td>&quot;38.11000061035156&quot;</td><td>&quot;17.668235778808594&quot;</td><td>&quot;36.51853942871094&quot;</td><td>30.676825</td><td>&quot;31.799999237060547&quot;</td><td>&quot;51.826969146728516&quot;</td><td>&quot;16.190000534057617&quot;</td><td>168.050003</td><td>&quot;27.989999771118164&quot;</td><td>&quot;29.85300064086914&quot;</td><td>&quot;0&quot;</td><td>46.1031</td><td>&hellip;</td><td>80.55307</td><td>44.700729</td><td>25.639999</td><td>41.759998</td><td>239.539413</td><td>88.926918</td><td>77.127655</td><td>&quot;75.0330581665039&quot;</td><td>25.006441</td><td>48.683243</td><td>44.657619</td><td>74.986801</td><td>233.913132</td><td>47.709568</td><td>192.210449</td><td>82.763855</td><td>135.939209</td><td>62.685833</td><td>61.15012</td><td>69.752563</td><td>&quot;24.990909576416016&quot;</td><td>19.690783</td><td>&quot;24.3799991607666&quot;</td><td>&quot;32.09000015258789&quot;</td><td>&quot;23.62512969970703&quot;</td><td>&quot;17.110000610351562&quot;</td><td>23.655672</td><td>&quot;28.329999923706055&quot;</td><td>&quot;12.916607856750488&quot;</td><td>82.913925</td><td>&quot;28.813793182373047&quot;</td><td>&quot;24.4611873626709&quot;</td><td>&quot;49.62916564941406&quot;</td><td>&quot;50.85038375854492&quot;</td><td>59.230984</td><td>46.30584</td><td>&quot;24.38761329650879&quot;</td></tr><tr><td>&quot;2024-05-28 00:00:00&quot;</td><td>63.562946</td><td>&quot;21.030000686645508&quot;</td><td>&quot;20.237186431884766&quot;</td><td>&quot;27.00230598449707&quot;</td><td>71.902664</td><td>&quot;26.29389190673828&quot;</td><td>110.799835</td><td>53.7234</td><td>&quot;29.22170066833496&quot;</td><td>29.438425</td><td>22.110189</td><td>66.367355</td><td>&quot;0&quot;</td><td>34.528137</td><td>&quot;25.062999725341797&quot;</td><td>72.624802</td><td>11.187213</td><td>&quot;18.729999542236328&quot;</td><td>&quot;12.140000343322754&quot;</td><td>&quot;32.582000732421875&quot;</td><td>&quot;14.283435821533203&quot;</td><td>&quot;33.61341094970703&quot;</td><td>&quot;26.452999114990234&quot;</td><td>28.173199</td><td>&quot;38.4640007019043&quot;</td><td>&quot;17.295068740844727&quot;</td><td>&quot;36.56250762939453&quot;</td><td>30.669895</td><td>&quot;32.54199981689453&quot;</td><td>&quot;51.7772331237793&quot;</td><td>&quot;15.880000114440918&quot;</td><td>164.440002</td><td>&quot;28.01099967956543&quot;</td><td>&quot;29.62700080871582&quot;</td><td>&quot;0&quot;</td><td>45.973957</td><td>&hellip;</td><td>80.175591</td><td>44.412659</td><td>25.620001</td><td>41.610001</td><td>239.509521</td><td>89.346298</td><td>76.630188</td><td>&quot;74.81471252441406&quot;</td><td>24.996492</td><td>48.19968</td><td>44.307343</td><td>74.629486</td><td>233.843353</td><td>47.719475</td><td>192.450119</td><td>82.674187</td><td>135.700272</td><td>62.339336</td><td>61.130276</td><td>69.851112</td><td>&quot;24.86711883544922&quot;</td><td>19.571743</td><td>&quot;23.979999542236328&quot;</td><td>&quot;31.829999923706055&quot;</td><td>&quot;23.859655380249023&quot;</td><td>&quot;17.25&quot;</td><td>23.665588</td><td>&quot;28.43000030517578&quot;</td><td>&quot;13.165963172912598&quot;</td><td>82.431526</td><td>&quot;28.861526489257812&quot;</td><td>&quot;24.32659339904785&quot;</td><td>&quot;49.63412857055664&quot;</td><td>&quot;50.65788650512695&quot;</td><td>59.320744</td><td>46.065861</td><td>&quot;24.31945037841797&quot;</td></tr><tr><td>&quot;2024-05-29 00:00:00&quot;</td><td>63.414223</td><td>&quot;21.110000610351562&quot;</td><td>&quot;20.227298736572266&quot;</td><td>&quot;27.042057037353516&quot;</td><td>70.776848</td><td>&quot;25.95079231262207&quot;</td><td>109.679237</td><td>52.875813</td><td>&quot;28.619800567626953&quot;</td><td>29.219181</td><td>22.10022</td><td>64.915726</td><td>&quot;0&quot;</td><td>34.19854</td><td>&quot;24.540000915527344&quot;</td><td>72.165016</td><td>11.098269</td><td>&quot;17.34000015258789&quot;</td><td>&quot;12.59000015258789&quot;</td><td>&quot;32.11000061035156&quot;</td><td>&quot;14.308130264282227&quot;</td><td>&quot;33.56377410888672&quot;</td><td>&quot;26.530000686645508&quot;</td><td>28.064384</td><td>&quot;37.92100143432617&quot;</td><td>&quot;17.115949630737305&quot;</td><td>&quot;36.20274353027344&quot;</td><td>30.215534</td><td>&quot;31.73699951171875&quot;</td><td>&quot;50.947601318359375&quot;</td><td>&quot;15.279999732971191&quot;</td><td>162.360001</td><td>&quot;28.0&quot;</td><td>&quot;29.299999237060547&quot;</td><td>&quot;0&quot;</td><td>45.894493</td><td>&hellip;</td><td>79.072937</td><td>44.293457</td><td>25.424999</td><td>41.07</td><td>237.845016</td><td>88.896965</td><td>75.774544</td><td>&quot;74.54673767089844&quot;</td><td>25.006441</td><td>47.743038</td><td>44.017944</td><td>74.321793</td><td>232.168762</td><td>47.669933</td><td>189.614105</td><td>81.458679</td><td>133.370743</td><td>62.111641</td><td>60.108463</td><td>68.806503</td><td>&quot;24.765111923217773&quot;</td><td>19.482466</td><td>&quot;23.8799991607666&quot;</td><td>&quot;31.68000030517578&quot;</td><td>&quot;23.476957321166992&quot;</td><td>&quot;16.90999984741211&quot;</td><td>23.640797</td><td>&quot;28.1299991607666&quot;</td><td>&quot;12.981440544128418&quot;</td><td>80.96463</td><td>&quot;28.539318084716797&quot;</td><td>&quot;24.251821517944336&quot;</td><td>&quot;49.63908386230469&quot;</td><td>&quot;50.49054718017578&quot;</td><td>58.433125</td><td>45.606804</td><td>&quot;24.150156021118164&quot;</td></tr><tr><td>&quot;2024-05-30 00:00:00&quot;</td><td>64.256973</td><td>&quot;21.31999969482422&quot;</td><td>&quot;20.123493194580078&quot;</td><td>&quot;27.300453186035156&quot;</td><td>70.607483</td><td>&quot;26.158246994018555&quot;</td><td>109.401566</td><td>53.161625</td><td>&quot;28.55699920654297&quot;</td><td>29.348734</td><td>22.090252</td><td>64.806358</td><td>&quot;0&quot;</td><td>33.389519</td><td>&quot;24.739999771118164&quot;</td><td>73.074585</td><td>11.177331</td><td>&quot;17.6200008392334&quot;</td><td>&quot;12.479999542236328&quot;</td><td>&quot;32.17100143432617&quot;</td><td>&quot;14.513589859008789&quot;</td><td>&quot;32.51149368286133&quot;</td><td>&quot;25.68000030517578&quot;</td><td>28.113846</td><td>&quot;37.17100143432617&quot;</td><td>&quot;17.262229919433594&quot;</td><td>&quot;36.12978744506836&quot;</td><td>30.509533</td><td>&quot;32.12799835205078&quot;</td><td>&quot;50.792423248291016&quot;</td><td>&quot;15.529999732971191&quot;</td><td>163.820007</td><td>&quot;27.989999771118164&quot;</td><td>&quot;29.152000427246094&quot;</td><td>&quot;0&quot;</td><td>46.053432</td><td>&hellip;</td><td>79.529892</td><td>44.50206</td><td>25.530001</td><td>41.470001</td><td>236.339966</td><td>87.678787</td><td>76.14267</td><td>&quot;74.75614929199219&quot;</td><td>25.016394</td><td>48.036167</td><td>44.038902</td><td>74.679108</td><td>231.132126</td><td>47.749199</td><td>190.79245</td><td>82.215874</td><td>135.122864</td><td>62.438332</td><td>60.485447</td><td>69.387939</td><td>&quot;24.87801170349121&quot;</td><td>19.591585</td><td>&quot;23.030000686645508&quot;</td><td>&quot;30.559999465942383&quot;</td><td>&quot;23.490825653076172&quot;</td><td>&quot;16.6200008392334&quot;</td><td>23.645756</td><td>&quot;27.545000076293945&quot;</td><td>&quot;13.265705108642578&quot;</td><td>81.525787</td><td>&quot;28.471694946289062&quot;</td><td>&quot;24.344539642333984&quot;</td><td>&quot;49.63908386230469&quot;</td><td>&quot;50.710391998291016&quot;</td><td>58.094036</td><td>45.859734</td><td>&quot;24.16814613342285&quot;</td></tr><tr><td>&quot;2024-05-31 00:00:00&quot;</td><td>64.237144</td><td>&quot;21.489999771118164&quot;</td><td>&quot;20.02957534790039&quot;</td><td>&quot;27.598602294921875&quot;</td><td>69.890152</td><td>&quot;26.490375518798828&quot;</td><td>110.155243</td><td>53.368599</td><td>&quot;28.469499588012695&quot;</td><td>29.607838</td><td>22.150063</td><td>63.682838</td><td>&quot;0&quot;</td><td>33.319603</td><td>&quot;25.191999435424805&quot;</td><td>72.684769</td><td>11.236628</td><td>&quot;17.729999542236328&quot;</td><td>&quot;12.430000305175781&quot;</td><td>&quot;32.33000183105469&quot;</td><td>&quot;14.757574081420898&quot;</td><td>&quot;31.44928550720215&quot;</td><td>&quot;24.743999481201172&quot;</td><td>28.232553</td><td>&quot;37.095001220703125&quot;</td><td>&quot;17.469215393066406&quot;</td><td>&quot;36.12978744506836&quot;</td><td>30.957956</td><td>&quot;31.860000610351562&quot;</td><td>&quot;50.65315246582031&quot;</td><td>&quot;15.020000457763672&quot;</td><td>164.589996</td><td>&quot;28.010000228881836&quot;</td><td>&quot;29.35099983215332&quot;</td><td>&quot;0&quot;</td><td>46.152771</td><td>&hellip;</td><td>80.563004</td><td>44.670933</td><td>25.719999</td><td>41.700001</td><td>238.433075</td><td>87.928413</td><td>77.336601</td><td>&quot;75.05291748046875&quot;</td><td>25.036295</td><td>48.883648</td><td>44.747437</td><td>75.036423</td><td>232.597397</td><td>47.838375</td><td>191.621292</td><td>82.853523</td><td>136.715714</td><td>62.745232</td><td>60.783062</td><td>69.949669</td><td>&quot;24.98001480102539&quot;</td><td>19.690783</td><td>&quot;23.110000610351562&quot;</td><td>&quot;30.440000534057617&quot;</td><td>&quot;24.030696868896484&quot;</td><td>&quot;16.450000762939453&quot;</td><td>23.704262</td><td>&quot;27.850000381469727&quot;</td><td>&quot;13.275679588317871&quot;</td><td>81.771912</td><td>&quot;28.523406982421875&quot;</td><td>&quot;24.436264038085938&quot;</td><td>&quot;49.66386032104492&quot;</td><td>&quot;50.95530319213867&quot;</td><td>57.934464</td><td>46.511967</td><td>&quot;24.192455291748047&quot;</td></tr></tbody></table></div>"
      ],
      "text/plain": [
       "shape: (1_363, 645)\n",
       "┌───────────┬───────────┬───────────┬───────────┬───┬───────────┬───────────┬───────────┬──────────┐\n",
       "│ Date      ┆ AADR      ┆ AAPB      ┆ AAPD      ┆ … ┆ XFIX      ┆ XT        ┆ YLDE      ┆ ZZZ      │\n",
       "│ ---       ┆ ---       ┆ ---       ┆ ---       ┆   ┆ ---       ┆ ---       ┆ ---       ┆ ---      │\n",
       "│ str       ┆ f64       ┆ str       ┆ str       ┆   ┆ str       ┆ f64       ┆ f64       ┆ str      │\n",
       "╞═══════════╪═══════════╪═══════════╪═══════════╪═══╪═══════════╪═══════════╪═══════════╪══════════╡\n",
       "│ 2019-01-0 ┆ 37.611729 ┆ 0         ┆ 0         ┆ … ┆ 0         ┆ 31.699692 ┆ 23.761585 ┆ 0        │\n",
       "│ 2         ┆           ┆           ┆           ┆   ┆           ┆           ┆           ┆          │\n",
       "│ 00:00:00  ┆           ┆           ┆           ┆   ┆           ┆           ┆           ┆          │\n",
       "│ 2019-01-0 ┆ 37.192055 ┆ 0         ┆ 0         ┆ … ┆ 0         ┆ 30.861727 ┆ 23.422525 ┆ 0        │\n",
       "│ 3         ┆           ┆           ┆           ┆   ┆           ┆           ┆           ┆          │\n",
       "│ 00:00:00  ┆           ┆           ┆           ┆   ┆           ┆           ┆           ┆          │\n",
       "│ 2019-01-0 ┆ 38.637589 ┆ 0         ┆ 0         ┆ … ┆ 0         ┆ 31.918703 ┆ 23.999844 ┆ 0        │\n",
       "│ 4         ┆           ┆           ┆           ┆   ┆           ┆           ┆           ┆          │\n",
       "│ 00:00:00  ┆           ┆           ┆           ┆   ┆           ┆           ┆           ┆          │\n",
       "│ 2019-01-0 ┆ 39.094551 ┆ 0         ┆ 0         ┆ … ┆ 0         ┆ 32.404335 ┆ 24.228937 ┆ 0        │\n",
       "│ 7         ┆           ┆           ┆           ┆   ┆           ┆           ┆           ┆          │\n",
       "│ 00:00:00  ┆           ┆           ┆           ┆   ┆           ┆           ┆           ┆          │\n",
       "│ 2019-01-0 ┆ 39.364998 ┆ 0         ┆ 0         ┆ … ┆ 0         ┆ 32.58527  ┆ 24.250925 ┆ 0        │\n",
       "│ 8         ┆           ┆           ┆           ┆   ┆           ┆           ┆           ┆          │\n",
       "│ 00:00:00  ┆           ┆           ┆           ┆   ┆           ┆           ┆           ┆          │\n",
       "│ …         ┆ …         ┆ …         ┆ …         ┆ … ┆ …         ┆ …         ┆ …         ┆ …        │\n",
       "│ 2024-05-2 ┆ 63.126698 ┆ 20.989999 ┆ 20.237186 ┆ … ┆ 50.850383 ┆ 59.230984 ┆ 46.30584  ┆ 24.38761 │\n",
       "│ 4         ┆           ┆ 771118164 ┆ 431884766 ┆   ┆ 75854492  ┆           ┆           ┆ 32965087 │\n",
       "│ 00:00:00  ┆           ┆           ┆           ┆   ┆           ┆           ┆           ┆ 9        │\n",
       "│ 2024-05-2 ┆ 63.562946 ┆ 21.030000 ┆ 20.237186 ┆ … ┆ 50.657886 ┆ 59.320744 ┆ 46.065861 ┆ 24.31945 │\n",
       "│ 8         ┆           ┆ 686645508 ┆ 431884766 ┆   ┆ 50512695  ┆           ┆           ┆ 03784179 │\n",
       "│ 00:00:00  ┆           ┆           ┆           ┆   ┆           ┆           ┆           ┆ 7        │\n",
       "│ 2024-05-2 ┆ 63.414223 ┆ 21.110000 ┆ 20.227298 ┆ … ┆ 50.490547 ┆ 58.433125 ┆ 45.606804 ┆ 24.15015 │\n",
       "│ 9         ┆           ┆ 610351562 ┆ 736572266 ┆   ┆ 18017578  ┆           ┆           ┆ 60211181 │\n",
       "│ 00:00:00  ┆           ┆           ┆           ┆   ┆           ┆           ┆           ┆ 64       │\n",
       "│ 2024-05-3 ┆ 64.256973 ┆ 21.319999 ┆ 20.123493 ┆ … ┆ 50.710391 ┆ 58.094036 ┆ 45.859734 ┆ 24.16814 │\n",
       "│ 0         ┆           ┆ 69482422  ┆ 194580078 ┆   ┆ 998291016 ┆           ┆           ┆ 61334228 │\n",
       "│ 00:00:00  ┆           ┆           ┆           ┆   ┆           ┆           ┆           ┆ 5        │\n",
       "│ 2024-05-3 ┆ 64.237144 ┆ 21.489999 ┆ 20.029575 ┆ … ┆ 50.955303 ┆ 57.934464 ┆ 46.511967 ┆ 24.19245 │\n",
       "│ 1         ┆           ┆ 771118164 ┆ 34790039  ┆   ┆ 19213867  ┆           ┆           ┆ 52917480 │\n",
       "│ 00:00:00  ┆           ┆           ┆           ┆   ┆           ┆           ┆           ┆ 47       │\n",
       "└───────────┴───────────┴───────────┴───────────┴───┴───────────┴───────────┴───────────┴──────────┘"
      ]
     },
     "execution_count": 33,
     "metadata": {},
     "output_type": "execute_result"
    }
   ],
   "source": [
    "import polars as pl\n",
    "\n",
    "# Load (or re-load for consistency) Data and remove features with NaN's\n",
    "data = pl.read_csv(file_name)\n",
    "\n",
    "# Filter columns that have all null values\n",
    "data = data.filter(~pl.all_horizontal(pl.all().is_null()))\n",
    "\n",
    "# Replace null values with zero for each column explicitly\n",
    "data = data.with_columns(\n",
    "    [pl.col(column).fill_null(0) for column in data.columns]\n",
    ")\n",
    "\n",
    "# Print the shape of the dataset\n",
    "print(\"Shape:\", data.shape)\n",
    "\n",
    "# Check for any null values and print a boolean\n",
    "has_null_values = data.null_count().sum_horizontal().sum() > 0\n",
    "print(\"Null Values:\", has_null_values)\n",
    "\n",
    "# Display the first 50 rows to verify\n",
    "data\n"
   ]
  },
  {
   "cell_type": "code",
   "execution_count": null,
   "id": "b04a5621-2e4d-48dc-96c7-dbc7a72f151f",
   "metadata": {},
   "outputs": [],
   "source": []
  },
  {
   "cell_type": "code",
   "execution_count": null,
   "id": "ce408167-59fb-4d10-a7bf-33226f0ce520",
   "metadata": {},
   "outputs": [],
   "source": []
  },
  {
   "cell_type": "code",
   "execution_count": null,
   "id": "45a32da9-da79-475b-8294-50e18fa977a9",
   "metadata": {},
   "outputs": [],
   "source": []
  }
 ],
 "metadata": {
  "kernelspec": {
   "display_name": "Python 3 (ipykernel)",
   "language": "python",
   "name": "python3"
  },
  "language_info": {
   "codemirror_mode": {
    "name": "ipython",
    "version": 3
   },
   "file_extension": ".py",
   "mimetype": "text/x-python",
   "name": "python",
   "nbconvert_exporter": "python",
   "pygments_lexer": "ipython3",
   "version": "3.12.0"
  }
 },
 "nbformat": 4,
 "nbformat_minor": 5
}
