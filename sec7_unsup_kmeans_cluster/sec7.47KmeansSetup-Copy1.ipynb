{
 "cells": [
  {
   "cell_type": "markdown",
   "id": "5c787478-5455-4a98-9079-fcba162be367",
   "metadata": {},
   "source": [
    "### Imports"
   ]
  },
  {
   "cell_type": "code",
   "execution_count": 1,
   "id": "ee6925d3-d6b5-46d2-b213-4977f0ca2630",
   "metadata": {},
   "outputs": [],
   "source": [
    "# Remove unwanted warnings\n",
    "import warnings\n",
    "warnings.simplefilter(action='ignore', category=FutureWarning)\n",
    "\n",
    "# Data extraction and management\n",
    "import polars as pl\n",
    "import numpy as np\n",
    "import yfinance as yf\n",
    "\n",
    "# Feature Engineering\n",
    "from sklearn.preprocessing import StandardScaler\n",
    "\n",
    "# Machine Learning\n",
    "from sklearn.cluster import KMeans\n",
    "from sklearn import metrics\n",
    "from kneed import KneeLocator\n",
    "\n",
    "# Cointegration and Statistics\n",
    "from statsmodels.tsa.stattools import coint\n",
    "import statsmodels.api as sm\n",
    "\n",
    "# Reporting visualization\n",
    "from sklearn.manifold import TSNE\n",
    "import matplotlib.pyplot as plt\n",
    "import matplotlib.cm as cm\n",
    "%matplotlib inline"
   ]
  },
  {
   "cell_type": "markdown",
   "id": "bfc243ec-4df7-4d5f-b39a-1ace6924e1b1",
   "metadata": {},
   "source": [
    "## Data Extraction "
   ]
  },
  {
   "cell_type": "code",
   "execution_count": 2,
   "id": "0954ce35-8f5d-4807-aa71-aa6ca0ba0300",
   "metadata": {},
   "outputs": [],
   "source": [
    "# Set Data Extraction parameters\n",
    "start_date = \"2017-01-01\"\n",
    "end_date = \"2022-06-01\"\n",
    "file_name = \"data/raw_data_etf.csv\" # creating local files so that we are not having to run 30 mins in the cloud\n",
    "file_name_coint = \"data/raw_data_coint_pairs.csv\"\n",
    "load_existing = False\n",
    "load_coint_pairs = False\n"
   ]
  },
  {
   "cell_type": "code",
   "execution_count": null,
   "id": "150826df-4f2b-42d7-8ce0-81543b4b2def",
   "metadata": {},
   "outputs": [],
   "source": []
  }
 ],
 "metadata": {
  "kernelspec": {
   "display_name": "Python 3 (ipykernel)",
   "language": "python",
   "name": "python3"
  },
  "language_info": {
   "codemirror_mode": {
    "name": "ipython",
    "version": 3
   },
   "file_extension": ".py",
   "mimetype": "text/x-python",
   "name": "python",
   "nbconvert_exporter": "python",
   "pygments_lexer": "ipython3",
   "version": "3.12.0"
  }
 },
 "nbformat": 4,
 "nbformat_minor": 5
}
