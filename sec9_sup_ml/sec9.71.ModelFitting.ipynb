{
 "cells": [
  {
   "cell_type": "markdown",
   "id": "b5d41e3f-5284-4a37-a92d-f34b4278eb30",
   "metadata": {},
   "source": [
    "### Imports"
   ]
  },
  {
   "cell_type": "code",
   "execution_count": 1,
   "id": "0cab7b5e-d18c-48e6-b7ed-141b96d78540",
   "metadata": {},
   "outputs": [],
   "source": [
    "# Importing necessary libraries and modules\n",
    "\n",
    "# General\n",
    "import numpy as np  # Importing numpy for numerical operations\n",
    "\n",
    "# Data Management\n",
    "import pandas as pd  # Importing pandas for data manipulation and analysis\n",
    "import polars as pl\n",
    "from sklearn.model_selection import train_test_split  # Importing train_test_split for splitting data into training and testing sets\n",
    "\n",
    "# Machine Learning\n",
    "from xgboost import XGBClassifier  # Importing XGBClassifier for extreme gradient boosting classification\n",
    "from sklearn.model_selection import RandomizedSearchCV, cross_val_score  # Importing RandomizedSearchCV for hyperparameter tuning, cross_val_score for cross-validation\n",
    "from sklearn.model_selection import RepeatedStratifiedKFold  # Importing RepeatedStratifiedKFold for repeated stratified k-fold cross-validation\n",
    "\n",
    "# Binary Classification Specific Metrics\n",
    "# Alternative method for plotting the ROC curve\n",
    "from sklearn.metrics import roc_curve, auc  # Importing roc_curve and auc for ROC curve and AUC calculation\n",
    "\n",
    "# General Metrics\n",
    "from sklearn.metrics import accuracy_score, classification_report  # Importing accuracy_score and classification_report for model evaluation\n",
    "from sklearn.metrics import precision_score, confusion_matrix  # Importing precision_score and confusion_matrix for precision and confusion matrix\n",
    "from sklearn.metrics import ConfusionMatrixDisplay  # Importing ConfusionMatrixDisplay for displaying confusion matrix\n",
    "\n",
    "# Reporting\n",
    "import matplotlib.pyplot as plt  # Importing pyplot from matplotlib for plotting\n",
    "from matplotlib.pylab import rcParams  # Importing rcParams from matplotlib for setting plot parameters\n",
    "from xgboost import plot_tree  # Importing plot_tree from xgboost for visualizing decision trees\n",
    "\n",
    "# Function to plot ROC curve\n",
    "def plot_roc(model, X_test, y_test):\n",
    "    y_pred_prob = model.predict_proba(X_test)[:, 1]\n",
    "    fpr, tpr, _ = roc_curve(y_test, y_pred_prob)\n",
    "    roc_auc = auc(fpr, tpr)\n",
    "    \n",
    "    plt.figure()\n",
    "    plt.plot(fpr, tpr, color='darkorange', lw=2, label='ROC curve (area = %0.2f)' % roc_auc)\n",
    "    plt.plot([0, 1], [0, 1], color='navy', lw=2, linestyle='--')\n",
    "    plt.xlim([0.0, 1.0])\n",
    "    plt.ylim([0.0, 1.05])\n",
    "    plt.xlabel('False Positive Rate')\n",
    "    plt.ylabel('True Positive Rate')\n",
    "    plt.title('Receiver Operating Characteristic (ROC) Curve')\n",
    "    plt.legend(loc=\"lower right\")\n",
    "    plt.show()"
   ]
  },
  {
   "cell_type": "markdown",
   "id": "f2b3e76f-21e1-432c-b305-8a75a976a62d",
   "metadata": {},
   "source": [
    "### Data Management"
   ]
  },
  {
   "cell_type": "code",
   "execution_count": 2,
   "id": "417bb4f0-2062-4493-9a85-a75d8d2fd2a0",
   "metadata": {},
   "outputs": [],
   "source": [
    "# Data Extraction\n",
    "\n",
    "df = pl.read_csv(\"data/BTC-USD.csv\") # Read the CSV file into a polars df\n",
    "\n",
    "\n",
    "df = df.with_columns(pl.col(\"date\").cast(pl.Datetime)) # now will have datetime dtype\n",
    "\n",
    "# Sort the DataFrame by the 'date' column in ascending order, argument ensures oldest dates come first.\n",
    "df = df.sort(\"date\", descending=False)"
   ]
  },
  {
   "cell_type": "markdown",
   "id": "f5ccf203-911e-4fca-93fb-fe4347d5cbf6",
   "metadata": {},
   "source": [
    "### Add Target"
   ]
  },
  {
   "cell_type": "code",
   "execution_count": 3,
   "id": "3e005e43-2d05-481a-aae9-8c98f1e91d40",
   "metadata": {},
   "outputs": [],
   "source": [
    "# Specify Target\n",
    "df = df.with_columns([\n",
    "    (pl.when(pl.col('range').shift(-1) > pl.col('average range'))  # Compare the 'range' shift less one column with 'average range'\n",
    "        .then(1)  # If the condition is true, set 'TARGET' to 1\n",
    "        .otherwise(0))  # If the condition is false, set 'TARGET' to 0\n",
    "        .alias('TARGET')  # Name the new column 'TARGET'\n",
    "])\n",
    "# This allows you to create a target variable based on whether the 'range' of the next day is greater than or less than\n",
    "# the 'average range' of the current day."
   ]
  },
  {
   "cell_type": "code",
   "execution_count": 4,
   "id": "df099479-38f4-49ac-9e55-994968b884aa",
   "metadata": {},
   "outputs": [
    {
     "data": {
      "text/plain": [
       "(array([], dtype=int64), array([], dtype=int64))"
      ]
     },
     "execution_count": 4,
     "metadata": {},
     "output_type": "execute_result"
    }
   ],
   "source": [
    "# Check for NaNs\n",
    "nan_location = df.select(pl.all().is_null()).to_numpy().nonzero()\n",
    "# pl.all().is_null(): Creates a boolean mask for NaNs.\n",
    "# .to_numpy(): Converts the mask to a NumPy array.\n",
    "# .nonzero(): Retrieves the indices of the True values in the boolean mask, indicating the positions of NaNs.\n",
    "\n",
    "nan_location"
   ]
  },
  {
   "cell_type": "code",
   "execution_count": 5,
   "id": "bafd274f-0771-400e-b04c-90b863de9cdc",
   "metadata": {},
   "outputs": [
    {
     "data": {
      "text/html": [
       "<div><style>\n",
       ".dataframe > thead > tr,\n",
       ".dataframe > tbody > tr {\n",
       "  text-align: right;\n",
       "  white-space: pre-wrap;\n",
       "}\n",
       "</style>\n",
       "<small>shape: (5, 39)</small><table border=\"1\" class=\"dataframe\"><thead><tr><th>date</th><th>DOW</th><th>open</th><th>high</th><th>low</th><th>close</th><th>adj_close</th><th>volume</th><th>returns</th><th>range</th><th>Bench_C_Rets</th><th>RSI</th><th>RSI_Ret</th><th>MA_12</th><th>MA_21</th><th>rolling returns</th><th>average range</th><th>returns_1</th><th>range_1</th><th>RSI_Ret_1</th><th>returns_2</th><th>range_2</th><th>RSI_Ret_2</th><th>returns_3</th><th>range_3</th><th>RSI_Ret_3</th><th>returns_4</th><th>range_4</th><th>RSI_Ret_4</th><th>returns_5</th><th>range_5</th><th>RSI_Ret_5</th><th>returns_6</th><th>range_6</th><th>RSI_Ret_6</th><th>returns_7</th><th>range_7</th><th>RSI_Ret_7</th><th>TARGET</th></tr><tr><td>datetime[μs]</td><td>i64</td><td>f64</td><td>f64</td><td>f64</td><td>f64</td><td>f64</td><td>f64</td><td>f64</td><td>f64</td><td>f64</td><td>f64</td><td>f64</td><td>f64</td><td>f64</td><td>f64</td><td>f64</td><td>f64</td><td>f64</td><td>f64</td><td>f64</td><td>f64</td><td>f64</td><td>f64</td><td>f64</td><td>f64</td><td>f64</td><td>f64</td><td>f64</td><td>f64</td><td>f64</td><td>f64</td><td>f64</td><td>f64</td><td>f64</td><td>f64</td><td>f64</td><td>f64</td><td>i32</td></tr></thead><tbody><tr><td>2024-07-14 00:00:00</td><td>6</td><td>0.022734</td><td>0.025799</td><td>0.024721</td><td>60787.792969</td><td>60787.792969</td><td>0.301132</td><td>0.026267</td><td>0.03553</td><td>0.163694</td><td>44.348685</td><td>0.982906</td><td>57973.966146</td><td>59473.93006</td><td>-0.075268</td><td>0.034931</td><td>0.023014</td><td>0.034442</td><td>1.060974</td><td>0.00967</td><td>0.034324</td><td>1.136591</td><td>-0.006885</td><td>0.038148</td><td>0.909442</td><td>-0.004598</td><td>0.038144</td><td>1.041948</td><td>0.022998</td><td>0.034134</td><td>0.981631</td><td>0.015327</td><td>0.070144</td><td>1.25864</td><td>-0.042097</td><td>0.046203</td><td>0.931954</td><td>1</td></tr><tr><td>2024-07-15 00:00:00</td><td>0</td><td>0.02685</td><td>0.057731</td><td>0.024984</td><td>64870.152344</td><td>64870.152344</td><td>0.714162</td><td>0.067158</td><td>0.068614</td><td>0.162156</td><td>54.890198</td><td>1.237696</td><td>58365.318685</td><td>59692.631882</td><td>-0.010836</td><td>0.03695</td><td>0.026267</td><td>0.03553</td><td>0.982906</td><td>0.023014</td><td>0.034442</td><td>1.060974</td><td>0.00967</td><td>0.034324</td><td>1.136591</td><td>-0.006885</td><td>0.038148</td><td>0.909442</td><td>-0.004598</td><td>0.038144</td><td>1.041948</td><td>0.022998</td><td>0.034134</td><td>0.981631</td><td>0.015327</td><td>0.070144</td><td>1.25864</td><td>1</td></tr><tr><td>2024-07-16 00:00:00</td><td>1</td><td>0.065262</td><td>0.007464</td><td>0.029372</td><td>65097.148438</td><td>65097.148438</td><td>0.092476</td><td>0.003499</td><td>0.045871</td><td>0.162061</td><td>57.655443</td><td>1.050378</td><td>59041.939128</td><td>59849.417969</td><td>-0.014105</td><td>0.038036</td><td>0.067158</td><td>0.068614</td><td>1.237696</td><td>0.026267</td><td>0.03553</td><td>0.982906</td><td>0.023014</td><td>0.034442</td><td>1.060974</td><td>0.00967</td><td>0.034324</td><td>1.136591</td><td>-0.006885</td><td>0.038148</td><td>0.909442</td><td>-0.004598</td><td>0.038144</td><td>1.041948</td><td>0.022998</td><td>0.034134</td><td>0.981631</td><td>0</td></tr><tr><td>2024-07-17 00:00:00</td><td>2</td><td>0.004745</td><td>0.0109</td><td>0.022534</td><td>64118.792969</td><td>64118.792969</td><td>-0.218473</td><td>-0.015029</td><td>0.033972</td><td>0.161807</td><td>60.293388</td><td>1.045754</td><td>59663.307292</td><td>60006.918713</td><td>-0.026902</td><td>0.038097</td><td>0.003499</td><td>0.045871</td><td>1.050378</td><td>0.067158</td><td>0.068614</td><td>1.237696</td><td>0.026267</td><td>0.03553</td><td>0.982906</td><td>0.023014</td><td>0.034442</td><td>1.060974</td><td>0.00967</td><td>0.034324</td><td>1.136591</td><td>-0.006885</td><td>0.038148</td><td>0.909442</td><td>-0.004598</td><td>0.038144</td><td>1.041948</td><td>0</td></tr><tr><td>2024-07-18 00:00:00</td><td>3</td><td>-0.015165</td><td>-0.014562</td><td>-0.010172</td><td>63974.066406</td><td>63974.066406</td><td>-0.162514</td><td>-0.002257</td><td>0.029385</td><td>0.161775</td><td>71.713449</td><td>1.189408</td><td>60135.851237</td><td>60119.740885</td><td>-0.008863</td><td>0.037781</td><td>-0.015029</td><td>0.033972</td><td>1.045754</td><td>0.003499</td><td>0.045871</td><td>1.050378</td><td>0.067158</td><td>0.068614</td><td>1.237696</td><td>0.026267</td><td>0.03553</td><td>0.982906</td><td>0.023014</td><td>0.034442</td><td>1.060974</td><td>0.00967</td><td>0.034324</td><td>1.136591</td><td>-0.006885</td><td>0.038148</td><td>0.909442</td><td>0</td></tr></tbody></table></div>"
      ],
      "text/plain": [
       "shape: (5, 39)\n",
       "┌──────────────┬─────┬───────────┬───────────┬───┬───────────┬──────────┬───────────┬────────┐\n",
       "│ date         ┆ DOW ┆ open      ┆ high      ┆ … ┆ returns_7 ┆ range_7  ┆ RSI_Ret_7 ┆ TARGET │\n",
       "│ ---          ┆ --- ┆ ---       ┆ ---       ┆   ┆ ---       ┆ ---      ┆ ---       ┆ ---    │\n",
       "│ datetime[μs] ┆ i64 ┆ f64       ┆ f64       ┆   ┆ f64       ┆ f64      ┆ f64       ┆ i32    │\n",
       "╞══════════════╪═════╪═══════════╪═══════════╪═══╪═══════════╪══════════╪═══════════╪════════╡\n",
       "│ 2024-07-14   ┆ 6   ┆ 0.022734  ┆ 0.025799  ┆ … ┆ -0.042097 ┆ 0.046203 ┆ 0.931954  ┆ 1      │\n",
       "│ 00:00:00     ┆     ┆           ┆           ┆   ┆           ┆          ┆           ┆        │\n",
       "│ 2024-07-15   ┆ 0   ┆ 0.02685   ┆ 0.057731  ┆ … ┆ 0.015327  ┆ 0.070144 ┆ 1.25864   ┆ 1      │\n",
       "│ 00:00:00     ┆     ┆           ┆           ┆   ┆           ┆          ┆           ┆        │\n",
       "│ 2024-07-16   ┆ 1   ┆ 0.065262  ┆ 0.007464  ┆ … ┆ 0.022998  ┆ 0.034134 ┆ 0.981631  ┆ 0      │\n",
       "│ 00:00:00     ┆     ┆           ┆           ┆   ┆           ┆          ┆           ┆        │\n",
       "│ 2024-07-17   ┆ 2   ┆ 0.004745  ┆ 0.0109    ┆ … ┆ -0.004598 ┆ 0.038144 ┆ 1.041948  ┆ 0      │\n",
       "│ 00:00:00     ┆     ┆           ┆           ┆   ┆           ┆          ┆           ┆        │\n",
       "│ 2024-07-18   ┆ 3   ┆ -0.015165 ┆ -0.014562 ┆ … ┆ -0.006885 ┆ 0.038148 ┆ 0.909442  ┆ 0      │\n",
       "│ 00:00:00     ┆     ┆           ┆           ┆   ┆           ┆          ┆           ┆        │\n",
       "└──────────────┴─────┴───────────┴───────────┴───┴───────────┴──────────┴───────────┴────────┘"
      ]
     },
     "execution_count": 5,
     "metadata": {},
     "output_type": "execute_result"
    }
   ],
   "source": [
    "# Fill NA if needed\n",
    "df = df.with_columns(pl.col(\"TARGET\").fill_nan(0))\n",
    "df.tail()"
   ]
  },
  {
   "cell_type": "markdown",
   "id": "4509075f-f1f8-4b07-bd16-66fe2ec11cdb",
   "metadata": {},
   "source": [
    "### Train Test Split"
   ]
  },
  {
   "cell_type": "code",
   "execution_count": 6,
   "id": "9115c34d-769b-4e61-8117-ab6c8547c0b3",
   "metadata": {},
   "outputs": [
    {
     "data": {
      "text/html": [
       "<div><style>\n",
       ".dataframe > thead > tr,\n",
       ".dataframe > tbody > tr {\n",
       "  text-align: right;\n",
       "  white-space: pre-wrap;\n",
       "}\n",
       "</style>\n",
       "<small>shape: (5, 12)</small><table border=\"1\" class=\"dataframe\"><thead><tr><th>DOW</th><th>volume</th><th>returns</th><th>range</th><th>RSI</th><th>average range</th><th>range_1</th><th>range_2</th><th>RSI_Ret_2</th><th>range_4</th><th>range_6</th><th>TARGET</th></tr><tr><td>i64</td><td>f64</td><td>f64</td><td>f64</td><td>f64</td><td>f64</td><td>f64</td><td>f64</td><td>f64</td><td>f64</td><td>f64</td><td>i32</td></tr></thead><tbody><tr><td>6</td><td>0.301132</td><td>0.026267</td><td>0.03553</td><td>44.348685</td><td>0.034931</td><td>0.034442</td><td>0.034324</td><td>1.136591</td><td>0.038144</td><td>0.070144</td><td>1</td></tr><tr><td>0</td><td>0.714162</td><td>0.067158</td><td>0.068614</td><td>54.890198</td><td>0.03695</td><td>0.03553</td><td>0.034442</td><td>1.060974</td><td>0.038148</td><td>0.034134</td><td>1</td></tr><tr><td>1</td><td>0.092476</td><td>0.003499</td><td>0.045871</td><td>57.655443</td><td>0.038036</td><td>0.068614</td><td>0.03553</td><td>0.982906</td><td>0.034324</td><td>0.038144</td><td>0</td></tr><tr><td>2</td><td>-0.218473</td><td>-0.015029</td><td>0.033972</td><td>60.293388</td><td>0.038097</td><td>0.045871</td><td>0.068614</td><td>1.237696</td><td>0.034442</td><td>0.038148</td><td>0</td></tr><tr><td>3</td><td>-0.162514</td><td>-0.002257</td><td>0.029385</td><td>71.713449</td><td>0.037781</td><td>0.033972</td><td>0.045871</td><td>1.050378</td><td>0.03553</td><td>0.034324</td><td>0</td></tr></tbody></table></div>"
      ],
      "text/plain": [
       "shape: (5, 12)\n",
       "┌─────┬───────────┬───────────┬──────────┬───┬───────────┬──────────┬──────────┬────────┐\n",
       "│ DOW ┆ volume    ┆ returns   ┆ range    ┆ … ┆ RSI_Ret_2 ┆ range_4  ┆ range_6  ┆ TARGET │\n",
       "│ --- ┆ ---       ┆ ---       ┆ ---      ┆   ┆ ---       ┆ ---      ┆ ---      ┆ ---    │\n",
       "│ i64 ┆ f64       ┆ f64       ┆ f64      ┆   ┆ f64       ┆ f64      ┆ f64      ┆ i32    │\n",
       "╞═════╪═══════════╪═══════════╪══════════╪═══╪═══════════╪══════════╪══════════╪════════╡\n",
       "│ 6   ┆ 0.301132  ┆ 0.026267  ┆ 0.03553  ┆ … ┆ 1.136591  ┆ 0.038144 ┆ 0.070144 ┆ 1      │\n",
       "│ 0   ┆ 0.714162  ┆ 0.067158  ┆ 0.068614 ┆ … ┆ 1.060974  ┆ 0.038148 ┆ 0.034134 ┆ 1      │\n",
       "│ 1   ┆ 0.092476  ┆ 0.003499  ┆ 0.045871 ┆ … ┆ 0.982906  ┆ 0.034324 ┆ 0.038144 ┆ 0      │\n",
       "│ 2   ┆ -0.218473 ┆ -0.015029 ┆ 0.033972 ┆ … ┆ 1.237696  ┆ 0.034442 ┆ 0.038148 ┆ 0      │\n",
       "│ 3   ┆ -0.162514 ┆ -0.002257 ┆ 0.029385 ┆ … ┆ 1.050378  ┆ 0.03553  ┆ 0.034324 ┆ 0      │\n",
       "└─────┴───────────┴───────────┴──────────┴───┴───────────┴──────────┴──────────┴────────┘"
      ]
     },
     "execution_count": 6,
     "metadata": {},
     "output_type": "execute_result"
    }
   ],
   "source": [
    "# Feature Selection. We are using the features identified as the top\n",
    "df_tts = df.clone()\n",
    "\n",
    "# Select the specified columns\n",
    "df_tts = df_tts.select([\n",
    "    \"DOW\", \n",
    "    \"volume\", \n",
    "    \"returns\", \n",
    "    \"range\", \n",
    "    \"RSI\", \n",
    "    \"average range\", \n",
    "    \"range_1\",\n",
    "    \"range_2\", \n",
    "    \"RSI_Ret_2\", \n",
    "    \"range_4\", \n",
    "    \"range_6\",\n",
    "    \"TARGET\"\n",
    "])\n",
    "\n",
    "# Display the first few rows of the new DataFrame\n",
    "df_tts.tail(5)\n"
   ]
  },
  {
   "cell_type": "code",
   "execution_count": 7,
   "id": "e70cd40b-b2ef-4882-b29a-a9a0b4a09dda",
   "metadata": {},
   "outputs": [
    {
     "name": "stdout",
     "output_type": "stream",
     "text": [
      "First 3 rows of X:\n",
      "[[ 1.00000000e+00  1.10389478e+00  5.43480805e-02  5.54422058e-02\n",
      "   6.72213683e+01  5.79102306e-02  3.88697735e-03  4.64562778e-03\n",
      "   9.84746588e-01  8.05486304e-03  1.29698003e-02]\n",
      " [ 2.00000000e+00 -8.79318516e-02  1.91878991e-02  1.89257384e-02\n",
      "   7.86593444e+01  5.73809963e-02  5.54422058e-02  3.88697735e-03\n",
      "   9.83884377e-01  4.45747739e-03  1.89553700e-02]\n",
      " [ 3.00000000e+00 -2.85724335e-02  2.30297751e-02  3.08160739e-02\n",
      "   7.98249504e+01  5.76747094e-02  1.89257384e-02  5.54422058e-02\n",
      "   9.41683925e-01  4.64562778e-03  8.05486304e-03]]\n",
      " \n",
      "First 3 elements of y:\n",
      "[0 0 0]\n"
     ]
    }
   ],
   "source": [
    "# Split into Learning (X) and Target (y) Data\n",
    "\n",
    "# Last column is the target column\n",
    "target_column = \"TARGET\"\n",
    "\n",
    "# Select feature columns and target column\n",
    "feature_columns = [\n",
    "    \"DOW\", \n",
    "    \"volume\", \n",
    "    \"returns\", \n",
    "    \"range\", \n",
    "    \"RSI\", \n",
    "    \"average range\", \n",
    "    \"range_1\",\n",
    "    \"range_2\", \n",
    "    \"RSI_Ret_2\", \n",
    "    \"range_4\", \n",
    "    \"range_6\"\n",
    "]\n",
    "\n",
    "# Create X (features) and y (target), needs to be in numpy since sklearn uses numpy or pandas\n",
    "X = df_tts.select(feature_columns).to_numpy()\n",
    "y = df_tts.select([target_column]).to_numpy().ravel()  # Ensure y is a 1D array\n",
    "\n",
    "\n",
    "# Display the first 3 rows of the numpy arrays X and y\n",
    "print(\"First 3 rows of X:\")\n",
    "print(X[:3])\n",
    "\n",
    "print(\" \")\n",
    "\n",
    "# Display the first 3 elements of the numpy array y_train\n",
    "print(\"First 3 elements of y:\")\n",
    "print(y[:3])"
   ]
  },
  {
   "cell_type": "code",
   "execution_count": 8,
   "id": "0ed50f33-4540-45fd-a27a-e7f257a69ba7",
   "metadata": {},
   "outputs": [
    {
     "name": "stdout",
     "output_type": "stream",
     "text": [
      "Shape of X_train:  (2180, 11)\n",
      "Shape of y_train:  (2180,)\n",
      "Shape of X_test:  (546, 11)\n",
      "Shape of y_test:  (546,)\n"
     ]
    }
   ],
   "source": [
    "# Perform Train Test Split\n",
    "X_train, X_test, y_train, y_test = train_test_split(X, y, test_size=0.2, random_state=42)\n",
    "\n",
    "# Print shapes of the train and test sets\n",
    "print(\"Shape of X_train: \", X_train.shape)\n",
    "print(\"Shape of y_train: \", y_train.shape)\n",
    "print(\"Shape of X_test: \", X_test.shape)\n",
    "print(\"Shape of y_test: \", y_test.shape)"
   ]
  },
  {
   "cell_type": "code",
   "execution_count": 9,
   "id": "d748daab-6762-42c3-8500-7c6a1273b835",
   "metadata": {},
   "outputs": [
    {
     "name": "stdout",
     "output_type": "stream",
     "text": [
      "Shape of X_train:  (1908, 11)\n",
      "Shape of y_train:  (1908,)\n",
      "Shape of X_test:  (818, 11)\n",
      "Shape of y_test:  (818,)\n",
      "Size Matches:  True\n"
     ]
    }
   ],
   "source": [
    "# Perform Train Test Split (Timeseries based method)\n",
    "# Define the training size rate\n",
    "train_size_rate = 0.7\n",
    "\n",
    "# Calculate the number of training samples\n",
    "train_size = int(len(X) * train_size_rate)\n",
    "\n",
    "# Calculate the number of testing samples\n",
    "test_size = len(X) - train_size\n",
    "\n",
    "# Split the features (X) and target (y) into training and testing sets\n",
    "# The first 'train_size' rows for training and the remaining rows for testing\n",
    "X_train = X[:train_size]\n",
    "y_train = y[:train_size]\n",
    "X_test = X[train_size:]\n",
    "y_test = y[train_size:]\n",
    "\n",
    "# Validate that the sizes match\n",
    "size_check = (len(y_test) + len(y_train)) == len(y)\n",
    "\n",
    "# Print shapes of the training and testing sets\n",
    "print(\"Shape of X_train: \", X_train.shape)\n",
    "print(\"Shape of y_train: \", y_train.shape)\n",
    "print(\"Shape of X_test: \", X_test.shape)\n",
    "print(\"Shape of y_test: \", y_test.shape)\n",
    "print(\"Size Matches: \", size_check)\n",
    "\n"
   ]
  },
  {
   "cell_type": "code",
   "execution_count": null,
   "id": "a967281c-7978-483b-a9f4-65f115832b52",
   "metadata": {},
   "outputs": [],
   "source": []
  },
  {
   "cell_type": "markdown",
   "id": "a3ac9828-439f-4468-b72f-ee95798107f9",
   "metadata": {},
   "source": [
    "### Build Model"
   ]
  },
  {
   "cell_type": "code",
   "execution_count": 10,
   "id": "ab035087-b65f-4676-a812-fb33ae101fda",
   "metadata": {},
   "outputs": [],
   "source": [
    "# Select type of model to optimize for\n",
    "is_binary = True\n",
    "is_optimise_for_precision = True\n",
    "\n",
    "# Purpose:\n",
    "# is_binary: \n",
    "#   - True: We're building a binary classification model\n",
    "#   - False: We're building a multi-class classification model\n",
    "# This flag determines the objective function and evaluation metrics we use."
   ]
  },
  {
   "cell_type": "code",
   "execution_count": 11,
   "id": "be82f890-5b33-4ba8-8393-e5d5d9db0f1e",
   "metadata": {},
   "outputs": [],
   "source": [
    "# Determine Objective and Evaluation Metrics\n",
    "if is_binary:\n",
    "    objective = \"binary:logistic\"\n",
    "    eval_metric = \"logloss\"\n",
    "    eval_metric_list = [\"error\", \"logloss\", eval_metric]\n",
    "else:\n",
    "    objective = \"multi:softmax\"\n",
    "    eval_metric = \"mlogloss\"\n",
    "    eval_metric_list = [\"merror\", \"mlogloss\", eval_metric]"
   ]
  },
  {
   "cell_type": "code",
   "execution_count": 12,
   "id": "3e8875ba-5751-4e92-96b7-53db5e4bda14",
   "metadata": {},
   "outputs": [],
   "source": [
    "# Refine Evaluation Metric\n",
    "if is_binary and is_optimise_for_precision:\n",
    "    eval_metric = \"aucpr\"  # Area Under the Precision-Recall Curve\n",
    "    scoring = \"precision\"\n",
    "elif is_binary and not is_optimise_for_precision:\n",
    "    eval_metric = \"auc\"  # Area Under the ROC Curve\n",
    "    scoring = \"f1\"  # F1 Score balances precision and recall\n",
    "else:\n",
    "    scoring = \"accuracy\"\n"
   ]
  },
  {
   "cell_type": "code",
   "execution_count": 13,
   "id": "9f1f3cd6-55e4-43e9-9ea8-6373e1a279de",
   "metadata": {},
   "outputs": [],
   "source": [
    "# Copied from sec9.69 Feature Selection. There we algorithmically came up with the Hyperparams\n",
    "# Hyperparams: ne: 100, lr: 0.1 md: 3 gm: 6\n",
    "ne = 100 # number of estimators\n",
    "lr = 0.1 # learning rate\n",
    "md = 3 # max depth\n",
    "gm = 6 # gamma"
   ]
  },
  {
   "cell_type": "code",
   "execution_count": 19,
   "id": "0618dd2c-76a4-42b3-84f3-a30ca1b1a960",
   "metadata": {},
   "outputs": [],
   "source": [
    "# XGBOOST Classifier\n",
    "from xgboost import XGBClassifier\n",
    "\n",
    "import warnings\n",
    "\n",
    "# Suppress all warnings\n",
    "warnings.filterwarnings('ignore')\n",
    "\n",
    "#This is proper way to do it I am loading config used by the instructor\n",
    "# classifier = XGBClassifier(\n",
    "#     objective=objective,  \n",
    "#     booster=\"gbtree\",  \n",
    "#     eval_metric=eval_metric_list,  \n",
    "#     n_estimators=ne,  \n",
    "#     learning_rate=lr,  \n",
    "#     max_depth=md,  \n",
    "#     gamma=gm,  \n",
    "#     subsample=0.8,  \n",
    "#     colsample_bytree=1,  # All features considered for each tree\n",
    "#     random_state=1,  # Ensures reproducibility\n",
    "#     use_label_encoder=False  # Prevents auto-encoding of string labels (avoids warnings)\n",
    "# )\n",
    "\n",
    "# Instructor config\n",
    "classifier = XGBClassifier(\n",
    "    base_score=0.5, booster='gbtree', colsample_bylevel=1,\n",
    "    colsample_bynode=1, colsample_bytree=1, enable_categorical=False,\n",
    "    eval_metric='aucpr', gamma=6, gpu_id=-1, importance_type=None,\n",
    "    interaction_constraints='', learning_rate=0.01, max_delta_step=0,\n",
    "    max_depth=3, min_child_weight=1, missing=float('nan'),\n",
    "    monotone_constraints='()', n_estimators=80, n_jobs=8,\n",
    "    num_parallel_tree=1, predictor='auto', random_state=1,\n",
    "    reg_alpha=0, reg_lambda=1, scale_pos_weight=1, subsample=0.8,\n",
    "    tree_method='exact', use_label_encoder=False,\n",
    "    validate_parameters=1, verbosity=None\n",
    ")\n",
    "    "
   ]
  },
  {
   "cell_type": "code",
   "execution_count": 20,
   "id": "0586236e-8110-4b7b-a1d9-74b3091bbcfb",
   "metadata": {},
   "outputs": [
    {
     "name": "stdout",
     "output_type": "stream",
     "text": [
      "XGBClassifier(base_score=0.5, booster='gbtree', callbacks=None,\n",
      "              colsample_bylevel=1, colsample_bynode=1, colsample_bytree=1,\n",
      "              device=None, early_stopping_rounds=None, enable_categorical=False,\n",
      "              eval_metric='aucpr', feature_types=None, gamma=6, gpu_id=-1,\n",
      "              grow_policy=None, importance_type=None,\n",
      "              interaction_constraints='', learning_rate=0.01, max_bin=None,\n",
      "              max_cat_threshold=None, max_cat_to_onehot=None, max_delta_step=0,\n",
      "              max_depth=3, max_leaves=None, min_child_weight=1, missing=nan,\n",
      "              monotone_constraints='()', multi_strategy=None, n_estimators=80,\n",
      "              n_jobs=8, num_parallel_tree=1, ...)\n"
     ]
    }
   ],
   "source": [
    "# Prepare evaluation set\n",
    "eval_set = [(X_train, y_train), (X_test, y_test)]\n",
    "\n",
    "# Fit the classifier\n",
    "classifier.fit(\n",
    "    X_train,\n",
    "    y_train,\n",
    "    eval_set=eval_set,\n",
    "    verbose=False\n",
    ")\n",
    "\n",
    "print(classifier)"
   ]
  },
  {
   "cell_type": "markdown",
   "id": "2bbe3730-5a86-44a3-b229-c0230b3641c3",
   "metadata": {},
   "source": [
    "### Make Predictions"
   ]
  },
  {
   "cell_type": "code",
   "execution_count": 24,
   "id": "d5b4f54f-3aca-4bb9-b295-a1472588a54e",
   "metadata": {},
   "outputs": [
    {
     "name": "stdout",
     "output_type": "stream",
     "text": [
      "Predictions Training Data: \n",
      " [0 0 0 0 0 0 0 1 1 1]\n",
      " \n",
      "Predictions Probabilities Training Data: \n",
      " [[0.62420166 0.37579837]\n",
      " [0.59812    0.40188003]\n",
      " [0.6014463  0.39855373]]\n"
     ]
    }
   ],
   "source": [
    "# Get Predictions Training\n",
    "train_yhat = classifier.predict(X_train)\n",
    "train_yhat_proba = classifier.predict_proba(X_train)\n",
    "print(\"Predictions Training Data: \\n\", train_yhat[:10])\n",
    "print(\" \")\n",
    "print(\"Predictions Probabilities Training Data: \\n\", train_yhat_proba[:3])\n"
   ]
  },
  {
   "cell_type": "code",
   "execution_count": 25,
   "id": "cc5ac359-17cd-40c6-bbfc-656bf4448f15",
   "metadata": {},
   "outputs": [
    {
     "name": "stdout",
     "output_type": "stream",
     "text": [
      "Predictions Test Data: \n",
      " [0 0 0 0 0 0 0 0 0 0]\n",
      " \n",
      "Predictions Probabilities Test Data: \n",
      " [[0.61762846 0.38237152]\n",
      " [0.60351044 0.39648956]\n",
      " [0.60882807 0.3911719 ]]\n"
     ]
    }
   ],
   "source": [
    "# Get Predictions Test\n",
    "test_yhat = classifier.predict(X_test)\n",
    "test_yhat_proba = classifier.predict_proba(X_test)\n",
    "print(\"Predictions Test Data: \\n\", test_yhat[:10])\n",
    "print(\" \")\n",
    "print(\"Predictions Probabilities Test Data: \\n\", test_yhat_proba[:3])\n"
   ]
  },
  {
   "cell_type": "markdown",
   "id": "9b1b0d9c-89b7-4247-81b1-8e73db1ab4a9",
   "metadata": {},
   "source": [
    "## Adjusting Trade Size Based on Prediction Probabilities\n",
    "\n",
    "The prediction probabilities from our XGBoost model can be leveraged to dynamically adjust trade sizes, potentially improving our strategy's Sharpe ratio. Here's how:\n",
    "\n",
    "1. **Probability Threshold**: Set a minimum probability threshold (e.g., 0.6) for taking trades.\n",
    "\n",
    "2. **Scaling Factor**: Use the probability as a scaling factor for trade size.\n",
    "\n",
    "3. **Base Position Size**: Determine a base position size for your strategy.\n",
    "\n",
    "4. **Adjusted Position Size**: Calculate the adjusted position size as:\n",
    "   adjusted_size = base_size * (probability / threshold)"
   ]
  },
  {
   "cell_type": "markdown",
   "id": "23100703-c4d7-4dcf-8b54-5a57b8e47712",
   "metadata": {},
   "source": [
    "5. **Capping**: Implement a maximum position size to manage risk.\n",
    "\n",
    "Example implementation:\n",
    "```python\n",
    "def adjust_trade_size(probability, base_size, threshold=0.6, max_size=2.0):\n",
    " if probability < threshold:\n",
    "     return 0  # Don't trade\n",
    " \n",
    " scaling_factor = min(probability / threshold, max_size)\n",
    " return base_size * scaling_factor"
   ]
  },
  {
   "cell_type": "code",
   "execution_count": 30,
   "id": "cf1b77b3-4011-4991-8452-eafab019dc53",
   "metadata": {},
   "outputs": [],
   "source": [
    "# Set K-fold Cross Validation Levels\n",
    "cv = RepeatedStratifiedKFold(\n",
    "    n_splits=5,\n",
    "    n_repeats=1,\n",
    "    random_state=1\n",
    ")"
   ]
  },
  {
   "cell_type": "code",
   "execution_count": 32,
   "id": "85d6172f-1491-4b49-b163-586955b392f5",
   "metadata": {},
   "outputs": [],
   "source": [
    "# Training Results\n",
    "train_results = cross_val_score(\n",
    "    classifier, \n",
    "    X_train,\n",
    "    y_train,\n",
    "    scoring=scoring, # list of metrics to evaluate the model's performance from cell 12\n",
    "    cv=cv, #cross-validation splitting strategy\n",
    "    n_jobs=1 # computation will use 1 CPU core. You could increase this for parallel processing if your system allows.\n",
    ")"
   ]
  },
  {
   "cell_type": "code",
   "execution_count": null,
   "id": "d89f9589-8b93-4561-aa9f-fa31790d1af0",
   "metadata": {},
   "outputs": [],
   "source": []
  },
  {
   "cell_type": "markdown",
   "id": "b246ae3c-575f-4852-9800-572ff57c5f5c",
   "metadata": {},
   "source": [
    "### Evaluation Metrics"
   ]
  },
  {
   "cell_type": "code",
   "execution_count": null,
   "id": "e4acded8-344a-472d-868c-872c0c52745d",
   "metadata": {},
   "outputs": [],
   "source": []
  }
 ],
 "metadata": {
  "kernelspec": {
   "display_name": "Python 3 (ipykernel)",
   "language": "python",
   "name": "python3"
  },
  "language_info": {
   "codemirror_mode": {
    "name": "ipython",
    "version": 3
   },
   "file_extension": ".py",
   "mimetype": "text/x-python",
   "name": "python",
   "nbconvert_exporter": "python",
   "pygments_lexer": "ipython3",
   "version": "3.12.0"
  }
 },
 "nbformat": 4,
 "nbformat_minor": 5
}
