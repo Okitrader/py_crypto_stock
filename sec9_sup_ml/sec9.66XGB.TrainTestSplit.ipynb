{
 "cells": [
  {
   "cell_type": "markdown",
   "id": "b6e94316-379b-4161-b168-db9d8be43119",
   "metadata": {},
   "source": [
    "### Imports"
   ]
  },
  {
   "cell_type": "code",
   "execution_count": 1,
   "id": "feb7661d-0b37-426b-8ecf-8997fcf7ee31",
   "metadata": {},
   "outputs": [],
   "source": [
    "# Remove Future Warnings\n",
    "import warnings\n",
    "warnings.simplefilter(action='ignore', category=FutureWarning)\n",
    "\n",
    "# General numerical operations\n",
    "import numpy as np\n",
    "\n",
    "# Data Management libraries\n",
    "import polars as pl  # For data manipulation using Polars DataFrame\n",
    "import pandas as pd  # For data manipulation using Pandas DataFrame (if needed)\n",
    "from sklearn.model_selection import train_test_split  # For splitting the dataset into training and testing sets\n",
    "\n",
    "# Machine Learning libraries\n",
    "from xgboost import XGBClassifier  # For using the XGBoost classifier\n",
    "from sklearn.model_selection import RandomizedSearchCV, cross_val_score  # For hyperparameter tuning and cross-validation\n",
    "from sklearn.model_selection import RepeatedStratifiedKFold  # For creating repeated stratified K-Folds\n",
    "\n",
    "# Evaluation metrics\n",
    "from sklearn.metrics import precision_score  # For calculating precision score\n",
    "\n",
    "# Reporting and visualization\n",
    "import matplotlib.pyplot as plt  # For creating plots and visualizations\n"
   ]
  },
  {
   "cell_type": "markdown",
   "id": "e5922df2-40e3-4a5c-ba8c-a393f77b5a23",
   "metadata": {},
   "source": [
    "### Resolving Errors on Mac OSX\n",
    "\n",
    "1. **ModuleNotFoundError: No module named 'xgboost'**\n",
    "    - **Solution**: Install the `xgboost` library using `pip`.\n",
    "        ```python\n",
    "        !pip install xgboost\n",
    "        ```\n",
    "\n",
    "2. **XGBoostError: XGBoost Library (libxgboost.dylib) could not be loaded**\n",
    "    - **Solution**: Install the OpenMP runtime required by XGBoost.\n",
    "        - Use Homebrew to install `libomp`:\n",
    "            ```sh\n",
    "            brew install libomp\n",
    "            ```\n",
    "        - If you don't have Homebrew installed, you can install it by running:\n",
    "            ```sh\n",
    "            /bin/bash -c \"$(curl -fsSL https://raw.githubusercontent.com/Homebrew/install/HEAD/install.sh)\"\n",
    "            ```\n"
   ]
  },
  {
   "cell_type": "markdown",
   "id": "ed6ea442-9fac-45fd-98cd-2c47501d6501",
   "metadata": {},
   "source": [
    "### Import Preprocessed Data"
   ]
  },
  {
   "cell_type": "code",
   "execution_count": 4,
   "id": "90314f7e-24dc-443c-9a8b-c9dd588ddd21",
   "metadata": {},
   "outputs": [
    {
     "name": "stdout",
     "output_type": "stream",
     "text": [
      "shape: (2, 38)\n",
      "┌──────────────┬─────┬──────────┬──────────┬───┬───────────┬───────────┬──────────┬───────────┐\n",
      "│ date         ┆ DOW ┆ open     ┆ high     ┆ … ┆ RSI_Ret_6 ┆ returns_7 ┆ range_7  ┆ RSI_Ret_7 │\n",
      "│ ---          ┆ --- ┆ ---      ┆ ---      ┆   ┆ ---       ┆ ---       ┆ ---      ┆ ---       │\n",
      "│ datetime[μs] ┆ i64 ┆ f64      ┆ f64      ┆   ┆ f64       ┆ f64       ┆ f64      ┆ f64       │\n",
      "╞══════════════╪═════╪══════════╪══════════╪═══╪═══════════╪═══════════╪══════════╪═══════════╡\n",
      "│ 2017-01-31   ┆ 1   ┆ 0.000878 ┆ 0.053054 ┆ … ┆ 1.55891   ┆ -0.030754 ┆ 0.035705 ┆ 0.911807  │\n",
      "│ 00:00:00     ┆     ┆          ┆          ┆   ┆           ┆           ┆          ┆           │\n",
      "│ 2017-02-01   ┆ 2   ┆ 0.054272 ┆ 0.017587 ┆ … ┆ 0.984416  ┆ 0.009919  ┆ 0.01297  ┆ 1.55891   │\n",
      "│ 00:00:00     ┆     ┆          ┆          ┆   ┆           ┆           ┆          ┆           │\n",
      "└──────────────┴─────┴──────────┴──────────┴───┴───────────┴───────────┴──────────┴───────────┘\n"
     ]
    }
   ],
   "source": [
    "# Read the CSV file\n",
    "df = pl.read_csv(\"data/BTC-USD.csv\")\n",
    "# We start by reading the CSV file into a Polars DataFrame. \n",
    "\n",
    "\n",
    "df = df.with_columns(pl.col(\"date\").cast(pl.Datetime)) # now will be a datetime dtype\n",
    "# We convert the 'date' column to Datetime type. This is crucial for proper date-based operations and sorting.\n",
    "# Even if the column is already in Datetime format, this step ensures consistency and can handle string-to-date conversion if needed.\n",
    "\n",
    "# Sort the DataFrame by the 'date' column in ascending order\n",
    "df = df.sort(\"date\", descending=False)\n",
    "# We sort the DataFrame by the 'date' column. This organizes our data chronologically, which is typically \n",
    "# desired for time series data like stock prices. The 'descending=False' argument ensures oldest dates come first.\n",
    "\n",
    "print(df.head(2))\n"
   ]
  },
  {
   "cell_type": "markdown",
   "id": "8d89ec7c-ab55-45d4-8111-c6ffc3c66f23",
   "metadata": {},
   "source": [
    "### Add Prediction Target\n",
    "\n",
    "## For Bitcoin Price Prediction\n",
    "- Targets: next-day price, weekly return, price direction\n",
    "- Influences feature engineering and model interpretation\n",
    "- Aligns with specific trading strategies"
   ]
  },
  {
   "cell_type": "code",
   "execution_count": 7,
   "id": "4b5da04e-870f-4041-a56b-51ca2b483216",
   "metadata": {},
   "outputs": [
    {
     "data": {
      "text/plain": [
       "['date',\n",
       " 'DOW',\n",
       " 'open',\n",
       " 'high',\n",
       " 'low',\n",
       " 'close',\n",
       " 'adj_close',\n",
       " 'volume',\n",
       " 'returns',\n",
       " 'range',\n",
       " 'Bench_C_Rets',\n",
       " 'RSI',\n",
       " 'RSI_Ret',\n",
       " 'MA_12',\n",
       " 'MA_21',\n",
       " 'rolling returns',\n",
       " 'average range',\n",
       " 'returns_1',\n",
       " 'range_1',\n",
       " 'RSI_Ret_1',\n",
       " 'returns_2',\n",
       " 'range_2',\n",
       " 'RSI_Ret_2',\n",
       " 'returns_3',\n",
       " 'range_3',\n",
       " 'RSI_Ret_3',\n",
       " 'returns_4',\n",
       " 'range_4',\n",
       " 'RSI_Ret_4',\n",
       " 'returns_5',\n",
       " 'range_5',\n",
       " 'RSI_Ret_5',\n",
       " 'returns_6',\n",
       " 'range_6',\n",
       " 'RSI_Ret_6',\n",
       " 'returns_7',\n",
       " 'range_7',\n",
       " 'RSI_Ret_7']"
      ]
     },
     "execution_count": 7,
     "metadata": {},
     "output_type": "execute_result"
    }
   ],
   "source": [
    "df.columns"
   ]
  },
  {
   "cell_type": "code",
   "execution_count": 9,
   "id": "6071aff2-f29b-4093-b5c1-90695ee446ba",
   "metadata": {},
   "outputs": [
    {
     "name": "stdout",
     "output_type": "stream",
     "text": [
      "shape: (2, 39)\n",
      "┌─────────────────────┬─────┬──────────┬──────────┬───┬───────────┬──────────┬───────────┬────────┐\n",
      "│ date                ┆ DOW ┆ open     ┆ high     ┆ … ┆ returns_7 ┆ range_7  ┆ RSI_Ret_7 ┆ TARGET │\n",
      "│ ---                 ┆ --- ┆ ---      ┆ ---      ┆   ┆ ---       ┆ ---      ┆ ---       ┆ ---    │\n",
      "│ datetime[μs]        ┆ i64 ┆ f64      ┆ f64      ┆   ┆ f64       ┆ f64      ┆ f64       ┆ i32    │\n",
      "╞═════════════════════╪═════╪══════════╪══════════╪═══╪═══════════╪══════════╪═══════════╪════════╡\n",
      "│ 2017-01-31 00:00:00 ┆ 1   ┆ 0.000878 ┆ 0.053054 ┆ … ┆ -0.030754 ┆ 0.035705 ┆ 0.911807  ┆ 0      │\n",
      "│ 2017-02-01 00:00:00 ┆ 2   ┆ 0.054272 ┆ 0.017587 ┆ … ┆ 0.009919  ┆ 0.01297  ┆ 1.55891   ┆ 0      │\n",
      "└─────────────────────┴─────┴──────────┴──────────┴───┴───────────┴──────────┴───────────┴────────┘\n"
     ]
    }
   ],
   "source": [
    "# Specify Target\n",
    "# Create a new column 'TARGET' based on the condition where the next day's 'range' is greater than 'average range'\n",
    "df = df.with_columns([\n",
    "    (pl.when(pl.col('range').shift(-1) > pl.col('average range'))  # Compare the shifted 'range' column with 'average range'\n",
    "        .then(1)  # If the condition is true, set 'TARGET' to 1\n",
    "        .otherwise(0))  # If the condition is false, set 'TARGET' to 0\n",
    "        .alias('TARGET')  # Name the new column 'TARGET'\n",
    "])\n",
    "\n",
    "# Display the first 2 rows with the new 'TARGET' column\n",
    "print(df.head(2))"
   ]
  },
  {
   "cell_type": "code",
   "execution_count": 15,
   "id": "59b004c9-fd08-432f-a467-a1af498b354c",
   "metadata": {},
   "outputs": [
    {
     "data": {
      "text/plain": [
       "(array([], dtype=int64), array([], dtype=int64))"
      ]
     },
     "execution_count": 15,
     "metadata": {},
     "output_type": "execute_result"
    }
   ],
   "source": [
    "# Check for NaNs\n",
    "nan_location = df.select(pl.all().is_null()).to_numpy().nonzero()\n",
    "# pl.all().is_null(): Creates a boolean mask for NaNs.\n",
    "# .to_numpy(): Converts the mask to a NumPy array.\n",
    "# .nonzero(): Retrieves the indices of the True values in the boolean mask, indicating the positions of NaNs.\n",
    "\n",
    "nan_location"
   ]
  },
  {
   "cell_type": "code",
   "execution_count": 16,
   "id": "b157393e-3b01-4580-a05a-f2e43d5f747f",
   "metadata": {},
   "outputs": [
    {
     "name": "stdout",
     "output_type": "stream",
     "text": [
      "shape: (5, 39)\n",
      "┌──────────────┬─────┬───────────┬───────────┬───┬───────────┬──────────┬───────────┬────────┐\n",
      "│ date         ┆ DOW ┆ open      ┆ high      ┆ … ┆ returns_7 ┆ range_7  ┆ RSI_Ret_7 ┆ TARGET │\n",
      "│ ---          ┆ --- ┆ ---       ┆ ---       ┆   ┆ ---       ┆ ---      ┆ ---       ┆ ---    │\n",
      "│ datetime[μs] ┆ i64 ┆ f64       ┆ f64       ┆   ┆ f64       ┆ f64      ┆ f64       ┆ i32    │\n",
      "╞══════════════╪═════╪═══════════╪═══════════╪═══╪═══════════╪══════════╪═══════════╪════════╡\n",
      "│ 2024-07-14   ┆ 6   ┆ 0.022734  ┆ 0.025799  ┆ … ┆ -0.042097 ┆ 0.046203 ┆ 0.931954  ┆ 1      │\n",
      "│ 00:00:00     ┆     ┆           ┆           ┆   ┆           ┆          ┆           ┆        │\n",
      "│ 2024-07-15   ┆ 0   ┆ 0.02685   ┆ 0.057731  ┆ … ┆ 0.015327  ┆ 0.070144 ┆ 1.25864   ┆ 1      │\n",
      "│ 00:00:00     ┆     ┆           ┆           ┆   ┆           ┆          ┆           ┆        │\n",
      "│ 2024-07-16   ┆ 1   ┆ 0.065262  ┆ 0.007464  ┆ … ┆ 0.022998  ┆ 0.034134 ┆ 0.981631  ┆ 0      │\n",
      "│ 00:00:00     ┆     ┆           ┆           ┆   ┆           ┆          ┆           ┆        │\n",
      "│ 2024-07-17   ┆ 2   ┆ 0.004745  ┆ 0.0109    ┆ … ┆ -0.004598 ┆ 0.038144 ┆ 1.041948  ┆ 0      │\n",
      "│ 00:00:00     ┆     ┆           ┆           ┆   ┆           ┆          ┆           ┆        │\n",
      "│ 2024-07-18   ┆ 3   ┆ -0.015165 ┆ -0.014562 ┆ … ┆ -0.006885 ┆ 0.038148 ┆ 0.909442  ┆ 0      │\n",
      "│ 00:00:00     ┆     ┆           ┆           ┆   ┆           ┆          ┆           ┆        │\n",
      "└──────────────┴─────┴───────────┴───────────┴───┴───────────┴──────────┴───────────┴────────┘\n"
     ]
    }
   ],
   "source": [
    "# Fill NA if needed\n",
    "# Assuming 'df' is a Polars DataFrame\n",
    "df = df.with_columns(pl.col(\"TARGET\").fill_nan(0))\n",
    "print(df.tail())"
   ]
  },
  {
   "cell_type": "code",
   "execution_count": 17,
   "id": "239e358c-2430-4fa8-8042-b66eb18e5000",
   "metadata": {},
   "outputs": [
    {
     "name": "stdout",
     "output_type": "stream",
     "text": [
      "shape: (2, 34)\n",
      "┌──────────────┬─────┬────────────┬───────────┬───┬───────────┬──────────┬───────────┬────────┐\n",
      "│ date         ┆ DOW ┆ adj_close  ┆ volume    ┆ … ┆ returns_7 ┆ range_7  ┆ RSI_Ret_7 ┆ TARGET │\n",
      "│ ---          ┆ --- ┆ ---        ┆ ---       ┆   ┆ ---       ┆ ---      ┆ ---       ┆ ---    │\n",
      "│ datetime[μs] ┆ i64 ┆ f64        ┆ f64       ┆   ┆ f64       ┆ f64      ┆ f64       ┆ i32    │\n",
      "╞══════════════╪═════╪════════════╪═══════════╪═══╪═══════════╪══════════╪═══════════╪════════╡\n",
      "│ 2017-01-31   ┆ 1   ┆ 970.403015 ┆ 1.103895  ┆ … ┆ -0.030754 ┆ 0.035705 ┆ 0.911807  ┆ 0      │\n",
      "│ 00:00:00     ┆     ┆            ┆           ┆   ┆           ┆          ┆           ┆        │\n",
      "│ 2017-02-01   ┆ 2   ┆ 989.02301  ┆ -0.087932 ┆ … ┆ 0.009919  ┆ 0.01297  ┆ 1.55891   ┆ 0      │\n",
      "│ 00:00:00     ┆     ┆            ┆           ┆   ┆           ┆          ┆           ┆        │\n",
      "└──────────────┴─────┴────────────┴───────────┴───┴───────────┴──────────┴───────────┴────────┘\n"
     ]
    }
   ],
   "source": [
    "# Remove unwanted columns\n",
    "df_tts = df.drop(['close', 'Bench_C_Rets', 'open', 'high', 'low'])\n",
    "\n",
    "# Display the resulting DataFrame to verify\n",
    "print(df_tts.head(2))"
   ]
  },
  {
   "cell_type": "code",
   "execution_count": 20,
   "id": "9969d932-af22-4c1a-bc5c-701d72f2acbf",
   "metadata": {},
   "outputs": [],
   "source": [
    "# Split into Learning (X) and Target (y) Data\n",
    "X = df_tts[:, :-1].to_numpy()  # Convert to numpy array and select all columns except the last one\n",
    "y = df_tts[:, -1].to_numpy()   # Convert to numpy array and select the last column\n",
    "\n"
   ]
  },
  {
   "cell_type": "code",
   "execution_count": 23,
   "id": "043ed394-16cd-40de-9b5c-91b1882cfe3f",
   "metadata": {},
   "outputs": [
    {
     "name": "stdout",
     "output_type": "stream",
     "text": [
      "Shape of X_train:  (2180, 33)\n",
      "Shape of y_train:  (2180,)\n"
     ]
    }
   ],
   "source": [
    "# Perform Train-Test Split\n",
    "X_train, X_test, y_train, y_test = train_test_split(X, y, test_size=0.2, random_state=42)\n",
    "\n",
    "# Display the shapes of the resulting splits\n",
    "print(\"Shape of X_train: \", X_train.shape)\n",
    "print(\"Shape of y_train: \", y_train.shape)"
   ]
  },
  {
   "cell_type": "code",
   "execution_count": null,
   "id": "2db3c158-6cef-49a3-be1b-cd24279a5768",
   "metadata": {},
   "outputs": [],
   "source": []
  }
 ],
 "metadata": {
  "kernelspec": {
   "display_name": "Python 3 (ipykernel)",
   "language": "python",
   "name": "python3"
  },
  "language_info": {
   "codemirror_mode": {
    "name": "ipython",
    "version": 3
   },
   "file_extension": ".py",
   "mimetype": "text/x-python",
   "name": "python",
   "nbconvert_exporter": "python",
   "pygments_lexer": "ipython3",
   "version": "3.12.0"
  }
 },
 "nbformat": 4,
 "nbformat_minor": 5
}
