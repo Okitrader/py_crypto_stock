{
 "cells": [
  {
   "cell_type": "markdown",
   "id": "b6e94316-379b-4161-b168-db9d8be43119",
   "metadata": {},
   "source": [
    "### Imports"
   ]
  },
  {
   "cell_type": "code",
   "execution_count": 1,
   "id": "feb7661d-0b37-426b-8ecf-8997fcf7ee31",
   "metadata": {},
   "outputs": [],
   "source": [
    "# Remove Future Warnings\n",
    "import warnings\n",
    "warnings.simplefilter(action='ignore', category=FutureWarning)\n",
    "\n",
    "# General numerical operations\n",
    "import numpy as np\n",
    "\n",
    "# Data Management libraries\n",
    "import polars as pl  # For data manipulation using Polars DataFrame\n",
    "import pandas as pd  # For data manipulation using Pandas DataFrame (if needed)\n",
    "from sklearn.model_selection import train_test_split  # For splitting the dataset into training and testing sets\n",
    "\n",
    "# Machine Learning libraries\n",
    "from xgboost import XGBClassifier  # For using the XGBoost classifier\n",
    "from sklearn.model_selection import RandomizedSearchCV, cross_val_score  # For hyperparameter tuning and cross-validation\n",
    "from sklearn.model_selection import RepeatedStratifiedKFold  # For creating repeated stratified K-Folds\n",
    "\n",
    "# Evaluation metrics\n",
    "from sklearn.metrics import precision_score  # For calculating precision score\n",
    "\n",
    "# Reporting and visualization\n",
    "import matplotlib.pyplot as plt  # For creating plots and visualizations\n"
   ]
  },
  {
   "cell_type": "markdown",
   "id": "e5922df2-40e3-4a5c-ba8c-a393f77b5a23",
   "metadata": {},
   "source": [
    "### Resolving Errors on Mac OSX\n",
    "\n",
    "1. **ModuleNotFoundError: No module named 'xgboost'**\n",
    "    - **Solution**: Install the `xgboost` library using `pip`.\n",
    "        ```python\n",
    "        !pip install xgboost\n",
    "        ```\n",
    "\n",
    "2. **XGBoostError: XGBoost Library (libxgboost.dylib) could not be loaded**\n",
    "    - **Solution**: Install the OpenMP runtime required by XGBoost.\n",
    "        - Use Homebrew to install `libomp`:\n",
    "            ```sh\n",
    "            brew install libomp\n",
    "            ```\n",
    "        - If you don't have Homebrew installed, you can install it by running:\n",
    "            ```sh\n",
    "            /bin/bash -c \"$(curl -fsSL https://raw.githubusercontent.com/Homebrew/install/HEAD/install.sh)\"\n",
    "            ```\n"
   ]
  },
  {
   "cell_type": "markdown",
   "id": "ed6ea442-9fac-45fd-98cd-2c47501d6501",
   "metadata": {},
   "source": [
    "### Import Preprocessed Data"
   ]
  },
  {
   "cell_type": "code",
   "execution_count": 2,
   "id": "90314f7e-24dc-443c-9a8b-c9dd588ddd21",
   "metadata": {},
   "outputs": [
    {
     "name": "stdout",
     "output_type": "stream",
     "text": [
      "shape: (2, 38)\n",
      "┌──────────────┬─────┬──────────┬──────────┬───┬───────────┬───────────┬──────────┬───────────┐\n",
      "│ date         ┆ DOW ┆ open     ┆ high     ┆ … ┆ RSI_Ret_6 ┆ returns_7 ┆ range_7  ┆ RSI_Ret_7 │\n",
      "│ ---          ┆ --- ┆ ---      ┆ ---      ┆   ┆ ---       ┆ ---       ┆ ---      ┆ ---       │\n",
      "│ datetime[μs] ┆ i64 ┆ f64      ┆ f64      ┆   ┆ f64       ┆ f64       ┆ f64      ┆ f64       │\n",
      "╞══════════════╪═════╪══════════╪══════════╪═══╪═══════════╪═══════════╪══════════╪═══════════╡\n",
      "│ 2017-01-31   ┆ 1   ┆ 0.000878 ┆ 0.053054 ┆ … ┆ 1.55891   ┆ -0.030754 ┆ 0.035705 ┆ 0.911807  │\n",
      "│ 00:00:00     ┆     ┆          ┆          ┆   ┆           ┆           ┆          ┆           │\n",
      "│ 2017-02-01   ┆ 2   ┆ 0.054272 ┆ 0.017587 ┆ … ┆ 0.984416  ┆ 0.009919  ┆ 0.01297  ┆ 1.55891   │\n",
      "│ 00:00:00     ┆     ┆          ┆          ┆   ┆           ┆           ┆          ┆           │\n",
      "└──────────────┴─────┴──────────┴──────────┴───┴───────────┴───────────┴──────────┴───────────┘\n"
     ]
    }
   ],
   "source": [
    "# Read the CSV file\n",
    "df = pl.read_csv(\"data/BTC-USD.csv\")\n",
    "# We start by reading the CSV file into a Polars DataFrame. \n",
    "\n",
    "\n",
    "df = df.with_columns(pl.col(\"date\").cast(pl.Datetime)) # now will be a datetime dtype\n",
    "# We convert the 'date' column to Datetime type. This is crucial for proper date-based operations and sorting.\n",
    "# Even if the column is already in Datetime format, this step ensures consistency and can handle string-to-date conversion if needed.\n",
    "\n",
    "# Sort the DataFrame by the 'date' column in ascending order\n",
    "df = df.sort(\"date\", descending=False)\n",
    "# We sort the DataFrame by the 'date' column. This organizes our data chronologically, which is typically \n",
    "# desired for time series data like stock prices. The 'descending=False' argument ensures oldest dates come first.\n",
    "\n",
    "print(df.head(2))\n"
   ]
  },
  {
   "cell_type": "markdown",
   "id": "8d89ec7c-ab55-45d4-8111-c6ffc3c66f23",
   "metadata": {},
   "source": [
    "### Add Prediction Target\n",
    "\n",
    "## For Bitcoin Price Prediction\n",
    "- Targets: next-day price, weekly return, price direction\n",
    "- Influences feature engineering and model interpretation\n",
    "- Aligns with specific trading strategies"
   ]
  },
  {
   "cell_type": "code",
   "execution_count": 3,
   "id": "4b5da04e-870f-4041-a56b-51ca2b483216",
   "metadata": {},
   "outputs": [
    {
     "data": {
      "text/plain": [
       "['date',\n",
       " 'DOW',\n",
       " 'open',\n",
       " 'high',\n",
       " 'low',\n",
       " 'close',\n",
       " 'adj_close',\n",
       " 'volume',\n",
       " 'returns',\n",
       " 'range',\n",
       " 'Bench_C_Rets',\n",
       " 'RSI',\n",
       " 'RSI_Ret',\n",
       " 'MA_12',\n",
       " 'MA_21',\n",
       " 'rolling returns',\n",
       " 'average range',\n",
       " 'returns_1',\n",
       " 'range_1',\n",
       " 'RSI_Ret_1',\n",
       " 'returns_2',\n",
       " 'range_2',\n",
       " 'RSI_Ret_2',\n",
       " 'returns_3',\n",
       " 'range_3',\n",
       " 'RSI_Ret_3',\n",
       " 'returns_4',\n",
       " 'range_4',\n",
       " 'RSI_Ret_4',\n",
       " 'returns_5',\n",
       " 'range_5',\n",
       " 'RSI_Ret_5',\n",
       " 'returns_6',\n",
       " 'range_6',\n",
       " 'RSI_Ret_6',\n",
       " 'returns_7',\n",
       " 'range_7',\n",
       " 'RSI_Ret_7']"
      ]
     },
     "execution_count": 3,
     "metadata": {},
     "output_type": "execute_result"
    }
   ],
   "source": [
    "df.columns"
   ]
  },
  {
   "cell_type": "code",
   "execution_count": 4,
   "id": "6071aff2-f29b-4093-b5c1-90695ee446ba",
   "metadata": {},
   "outputs": [
    {
     "name": "stdout",
     "output_type": "stream",
     "text": [
      "shape: (2, 39)\n",
      "┌─────────────────────┬─────┬──────────┬──────────┬───┬───────────┬──────────┬───────────┬────────┐\n",
      "│ date                ┆ DOW ┆ open     ┆ high     ┆ … ┆ returns_7 ┆ range_7  ┆ RSI_Ret_7 ┆ TARGET │\n",
      "│ ---                 ┆ --- ┆ ---      ┆ ---      ┆   ┆ ---       ┆ ---      ┆ ---       ┆ ---    │\n",
      "│ datetime[μs]        ┆ i64 ┆ f64      ┆ f64      ┆   ┆ f64       ┆ f64      ┆ f64       ┆ i32    │\n",
      "╞═════════════════════╪═════╪══════════╪══════════╪═══╪═══════════╪══════════╪═══════════╪════════╡\n",
      "│ 2017-01-31 00:00:00 ┆ 1   ┆ 0.000878 ┆ 0.053054 ┆ … ┆ -0.030754 ┆ 0.035705 ┆ 0.911807  ┆ 0      │\n",
      "│ 2017-02-01 00:00:00 ┆ 2   ┆ 0.054272 ┆ 0.017587 ┆ … ┆ 0.009919  ┆ 0.01297  ┆ 1.55891   ┆ 0      │\n",
      "└─────────────────────┴─────┴──────────┴──────────┴───┴───────────┴──────────┴───────────┴────────┘\n"
     ]
    }
   ],
   "source": [
    "# Specify Target\n",
    "# Create a new column 'TARGET' based on the condition where the next day's 'range' is greater than 'average range'\n",
    "df = df.with_columns([\n",
    "    (pl.when(pl.col('range').shift(-1) > pl.col('average range'))  # Compare the shifted 'range' column with 'average range'\n",
    "        .then(1)  # If the condition is true, set 'TARGET' to 1\n",
    "        .otherwise(0))  # If the condition is false, set 'TARGET' to 0\n",
    "        .alias('TARGET')  # Name the new column 'TARGET'\n",
    "])\n",
    "\n",
    "# Display the first 2 rows with the new 'TARGET' column\n",
    "print(df.head(2))"
   ]
  },
  {
   "cell_type": "code",
   "execution_count": 5,
   "id": "59b004c9-fd08-432f-a467-a1af498b354c",
   "metadata": {},
   "outputs": [
    {
     "data": {
      "text/plain": [
       "(array([], dtype=int64), array([], dtype=int64))"
      ]
     },
     "execution_count": 5,
     "metadata": {},
     "output_type": "execute_result"
    }
   ],
   "source": [
    "# Check for NaNs\n",
    "nan_location = df.select(pl.all().is_null()).to_numpy().nonzero()\n",
    "# pl.all().is_null(): Creates a boolean mask for NaNs.\n",
    "# .to_numpy(): Converts the mask to a NumPy array.\n",
    "# .nonzero(): Retrieves the indices of the True values in the boolean mask, indicating the positions of NaNs.\n",
    "\n",
    "nan_location"
   ]
  },
  {
   "cell_type": "code",
   "execution_count": 6,
   "id": "b157393e-3b01-4580-a05a-f2e43d5f747f",
   "metadata": {},
   "outputs": [
    {
     "name": "stdout",
     "output_type": "stream",
     "text": [
      "shape: (5, 39)\n",
      "┌──────────────┬─────┬───────────┬───────────┬───┬───────────┬──────────┬───────────┬────────┐\n",
      "│ date         ┆ DOW ┆ open      ┆ high      ┆ … ┆ returns_7 ┆ range_7  ┆ RSI_Ret_7 ┆ TARGET │\n",
      "│ ---          ┆ --- ┆ ---       ┆ ---       ┆   ┆ ---       ┆ ---      ┆ ---       ┆ ---    │\n",
      "│ datetime[μs] ┆ i64 ┆ f64       ┆ f64       ┆   ┆ f64       ┆ f64      ┆ f64       ┆ i32    │\n",
      "╞══════════════╪═════╪═══════════╪═══════════╪═══╪═══════════╪══════════╪═══════════╪════════╡\n",
      "│ 2024-07-14   ┆ 6   ┆ 0.022734  ┆ 0.025799  ┆ … ┆ -0.042097 ┆ 0.046203 ┆ 0.931954  ┆ 1      │\n",
      "│ 00:00:00     ┆     ┆           ┆           ┆   ┆           ┆          ┆           ┆        │\n",
      "│ 2024-07-15   ┆ 0   ┆ 0.02685   ┆ 0.057731  ┆ … ┆ 0.015327  ┆ 0.070144 ┆ 1.25864   ┆ 1      │\n",
      "│ 00:00:00     ┆     ┆           ┆           ┆   ┆           ┆          ┆           ┆        │\n",
      "│ 2024-07-16   ┆ 1   ┆ 0.065262  ┆ 0.007464  ┆ … ┆ 0.022998  ┆ 0.034134 ┆ 0.981631  ┆ 0      │\n",
      "│ 00:00:00     ┆     ┆           ┆           ┆   ┆           ┆          ┆           ┆        │\n",
      "│ 2024-07-17   ┆ 2   ┆ 0.004745  ┆ 0.0109    ┆ … ┆ -0.004598 ┆ 0.038144 ┆ 1.041948  ┆ 0      │\n",
      "│ 00:00:00     ┆     ┆           ┆           ┆   ┆           ┆          ┆           ┆        │\n",
      "│ 2024-07-18   ┆ 3   ┆ -0.015165 ┆ -0.014562 ┆ … ┆ -0.006885 ┆ 0.038148 ┆ 0.909442  ┆ 0      │\n",
      "│ 00:00:00     ┆     ┆           ┆           ┆   ┆           ┆          ┆           ┆        │\n",
      "└──────────────┴─────┴───────────┴───────────┴───┴───────────┴──────────┴───────────┴────────┘\n"
     ]
    }
   ],
   "source": [
    "# Fill NA if needed\n",
    "# Assuming 'df' is a Polars DataFrame\n",
    "df = df.with_columns(pl.col(\"TARGET\").fill_nan(0))\n",
    "print(df.tail())"
   ]
  },
  {
   "cell_type": "code",
   "execution_count": 7,
   "id": "239e358c-2430-4fa8-8042-b66eb18e5000",
   "metadata": {},
   "outputs": [
    {
     "name": "stdout",
     "output_type": "stream",
     "text": [
      "shape: (2, 34)\n",
      "┌──────────────┬─────┬────────────┬───────────┬───┬───────────┬──────────┬───────────┬────────┐\n",
      "│ date         ┆ DOW ┆ adj_close  ┆ volume    ┆ … ┆ returns_7 ┆ range_7  ┆ RSI_Ret_7 ┆ TARGET │\n",
      "│ ---          ┆ --- ┆ ---        ┆ ---       ┆   ┆ ---       ┆ ---      ┆ ---       ┆ ---    │\n",
      "│ datetime[μs] ┆ i64 ┆ f64        ┆ f64       ┆   ┆ f64       ┆ f64      ┆ f64       ┆ i32    │\n",
      "╞══════════════╪═════╪════════════╪═══════════╪═══╪═══════════╪══════════╪═══════════╪════════╡\n",
      "│ 2017-01-31   ┆ 1   ┆ 970.403015 ┆ 1.103895  ┆ … ┆ -0.030754 ┆ 0.035705 ┆ 0.911807  ┆ 0      │\n",
      "│ 00:00:00     ┆     ┆            ┆           ┆   ┆           ┆          ┆           ┆        │\n",
      "│ 2017-02-01   ┆ 2   ┆ 989.02301  ┆ -0.087932 ┆ … ┆ 0.009919  ┆ 0.01297  ┆ 1.55891   ┆ 0      │\n",
      "│ 00:00:00     ┆     ┆            ┆           ┆   ┆           ┆          ┆           ┆        │\n",
      "└──────────────┴─────┴────────────┴───────────┴───┴───────────┴──────────┴───────────┴────────┘\n"
     ]
    }
   ],
   "source": [
    "# Remove unwanted columns\n",
    "df_tts = df.drop(['close', 'Bench_C_Rets', 'open', 'high', 'low'])\n",
    "\n",
    "# Display the resulting DataFrame to verify\n",
    "print(df_tts.head(2))"
   ]
  },
  {
   "cell_type": "code",
   "execution_count": 8,
   "id": "9969d932-af22-4c1a-bc5c-701d72f2acbf",
   "metadata": {},
   "outputs": [],
   "source": [
    "# Split into Learning (X) and Target (y) Data\n",
    "X = df_tts[:, :-1].to_numpy()  # Convert to numpy array and select all columns except the last one\n",
    "y = df_tts[:, -1].to_numpy()   # Convert to numpy array and select the last column\n",
    "\n"
   ]
  },
  {
   "cell_type": "code",
   "execution_count": 9,
   "id": "043ed394-16cd-40de-9b5c-91b1882cfe3f",
   "metadata": {},
   "outputs": [
    {
     "name": "stdout",
     "output_type": "stream",
     "text": [
      "Shape of X_train:  (2180, 33)\n",
      "Shape of y_train:  (2180,)\n"
     ]
    }
   ],
   "source": [
    "# Perform Train-Test Split\n",
    "X_train, X_test, y_train, y_test = train_test_split(X, y, test_size=0.2, random_state=42)\n",
    "\n",
    "# Display the shapes of the resulting splits\n",
    "print(\"Shape of X_train: \", X_train.shape)\n",
    "print(\"Shape of y_train: \", y_train.shape)"
   ]
  },
  {
   "cell_type": "markdown",
   "id": "4659a8b8-daf9-461e-926e-62d7cbad05f8",
   "metadata": {},
   "source": [
    "### Build Initial Model"
   ]
  },
  {
   "cell_type": "code",
   "execution_count": 10,
   "id": "d11e8fcb-7e46-4bc9-a135-c4480f79e0f1",
   "metadata": {},
   "outputs": [],
   "source": [
    "# Select type of model to optimize for\n",
    "is_binary = True\n",
    "is_optimise_for_precision = True"
   ]
  },
  {
   "cell_type": "code",
   "execution_count": 11,
   "id": "24dc6856-4ca8-4b9b-97ef-68fa9d67e6a3",
   "metadata": {},
   "outputs": [],
   "source": [
    "# Determine Objective and Eval Metrics\n",
    "if is_binary:\n",
    "    # Setting the objective for binary classification\n",
    "    # As per the lecture, binary classification is preferred for simplicity and effectiveness in trading\n",
    "    objective = \"binary:logistic\"\n",
    "    eval_metric = \"logloss\"\n",
    "    # Evaluation metrics list for binary classification\n",
    "    eval_metric_list = [\"error\", \"logloss\", eval_metric]\n",
    "else:\n",
    "    # Setting the objective for multi-class classification\n",
    "    objective = \"multi:softmax\"\n",
    "    eval_metric = \"mlogloss\"\n",
    "    # Evaluation metrics list for multi-class classification\n",
    "    eval_metric_list = [\"merror\", \"mlogloss\", eval_metric]\n"
   ]
  },
  {
   "cell_type": "code",
   "execution_count": 12,
   "id": "057c7b15-a4a6-42a6-881f-13918f24e164",
   "metadata": {},
   "outputs": [],
   "source": [
    "# Refine Eval Metric\n",
    "if is_binary and is_optimise_for_precision:\n",
    "    # Binary and Precision: The lecture notes emphasize the importance of precision in trading scenarios. \n",
    "    # \"aucpr\" (Area Under the Precision-Recall Curve) and \"precision\" as the scoring metric are used.\n",
    "    eval_metric = \"aucpr\"\n",
    "    scoring = \"precision\"\n",
    "elif is_binary and not is_optimise_for_precision:\n",
    "    # Binary but not Precision: When not optimizing for precision, \n",
    "    # \"auc\" (Area Under the Curve) and \"f1\" (F1 Score) are used to balance precision and recall.\n",
    "    eval_metric = \"auc\"\n",
    "    scoring = \"f1\"\n",
    "else:\n",
    "    # Else Case: Defaulting to \"accuracy\" for other types of classification, \n",
    "    # which is common in balanced class distributions.\n",
    "    scoring = \"accuracy\"\n"
   ]
  },
  {
   "cell_type": "code",
   "execution_count": 13,
   "id": "7034dc95-4740-44fb-b847-8529464d68c8",
   "metadata": {},
   "outputs": [],
   "source": [
    "# Build First Classifier Model 0\n",
    "classifier_0 = XGBClassifier(\n",
    "    objective=objective,  # Defined based on whether the classification is binary or multi-class.\n",
    "    booster=\"gbtree\",  # \"gbtree\" is used for tree-based models, suitable for classification tasks.\n",
    "    eval_metric=eval_metric,  # Set based on precision or other evaluation criteria from previous cells.\n",
    "    subsample=0.8,  # 0.8 means 80% of the data will be used for training to prevent overfitting.\n",
    "    colsample_bytree=1,  # Using all features for each tree.\n",
    "    random_state=1,  # Ensures reproducibility by setting the seed.\n",
    "    use_label_encoder=False  # False to avoid unnecessary warnings from XGBoost.\n",
    ")"
   ]
  },
  {
   "cell_type": "markdown",
   "id": "46e38719-0fe0-46a7-8508-dd9c7adcdf37",
   "metadata": {},
   "source": [
    "### Find Hyperparameters\n",
    "\n",
    "Notes on Hyperparameters\n",
    "\n",
    "- **Objective**: Defined based on whether the classification is binary or multi-class.\n",
    "  - Binary classification: `binary:logistic`\n",
    "  - Multi-class classification: `multi:softmax`\n",
    "\n",
    "- **Booster**: \n",
    "  - \"gbtree\" is used for tree-based models, suitable for classification tasks.\n",
    "  - Other types of boosters include \"gblinear\" and \"dart\".\n",
    "\n",
    "- **Eval Metric**: \n",
    "  - Set based on precision or other evaluation criteria from previous cells.\n",
    "  - Binary classification: `\"logloss\"` or `\"aucpr\"`\n",
    "  - Multi-class classification: `\"mlogloss\"` or `\"merror\"`\n",
    "\n",
    "- **Subsample**: \n",
    "  - Value: `0.8` means 80% of the data will be used for training to prevent overfitting.\n",
    "  - A lower value can help prevent overfitting but might reduce the model's performance.\n"
   ]
  },
  {
   "cell_type": "code",
   "execution_count": 14,
   "id": "82f45c3d-9d65-49af-9730-66b4c30bae7c",
   "metadata": {},
   "outputs": [],
   "source": [
    "# Provide Grid for Hyperparams\n",
    "param_grid = {\n",
    "    \"gamma\": [0, 0.1, 0.2, 0.5, 1, 1.5, 2, 3, 6, 12, 20],  # Gamma is a regularization parameter to control overfitting.\n",
    "    # Higher values of gamma result in more conservative models. We use a wide range to explore its impact.\n",
    "    \"learning_rate\": [0.01, 0.02, 0.03, 0.05, 0.1, 0.2, 0.3, 0.5, 0.7, 0.8],  # Learning rate controls the step size during optimization.\n",
    "    # Smaller values make the training process more stable but slower. We include higher values for potential quicker convergence.\n",
    "    \"max_depth\": [1, 2, 3, 4, 5, 6, 8, 12],  # Max depth of the trees. Controls how complex the model can get.\n",
    "    # Higher depth can capture more patterns but may lead to overfitting. We test a variety of depths.\n",
    "    \"n_estimators\": [25, 50, 65, 80, 100, 115, 200]  # Number of trees in the model.\n",
    "    # More estimators can improve performance but also increase training time. We include both low and high values for exploration.\n",
    "}"
   ]
  },
  {
   "cell_type": "markdown",
   "id": "5151133f-13be-45d3-83a6-d80519179d4e",
   "metadata": {},
   "source": [
    "### Detailed Comments:\n",
    "- **gamma**: This is a regularization parameter to control overfitting. Higher values make the algorithm more conservative. We use a wide range to understand its effect on our model's performance.\n",
    "- **learning_rate**: This parameter controls the step size during each iteration of optimization. Smaller values ensure stable training but can be slower. We include a range of values to find the optimal balance between speed and stability.\n",
    "- **max_depth**: This parameter sets the maximum depth of the individual trees in the model. Deeper trees can model more complex patterns but are more prone to overfitting. We test various depths to find the best model complexity.\n",
    "- **n_estimators**: This is the number of trees in the model. More trees generally improve the model but also increase computational cost. We include a mix of lower and higher values to balance performance and training time.\n"
   ]
  },
  {
   "cell_type": "code",
   "execution_count": 18,
   "id": "d4e11581-f288-4143-b4d6-16323f1dcc6b",
   "metadata": {},
   "outputs": [
    {
     "name": "stderr",
     "output_type": "stream",
     "text": [
      "/Library/Frameworks/Python.framework/Versions/3.12/lib/python3.12/site-packages/xgboost/core.py:158: UserWarning: [16:19:00] WARNING: /Users/runner/work/xgboost/xgboost/src/learner.cc:740: \n",
      "Parameters: { \"use_label_encoder\" } are not used.\n",
      "\n",
      "  warnings.warn(smsg, UserWarning)\n",
      "/Library/Frameworks/Python.framework/Versions/3.12/lib/python3.12/site-packages/xgboost/core.py:158: UserWarning: [16:19:00] WARNING: /Users/runner/work/xgboost/xgboost/src/learner.cc:740: \n",
      "Parameters: { \"use_label_encoder\" } are not used.\n",
      "\n",
      "  warnings.warn(smsg, UserWarning)\n",
      "/Library/Frameworks/Python.framework/Versions/3.12/lib/python3.12/site-packages/xgboost/core.py:158: UserWarning: [16:19:00] WARNING: /Users/runner/work/xgboost/xgboost/src/learner.cc:740: \n",
      "Parameters: { \"use_label_encoder\" } are not used.\n",
      "\n",
      "  warnings.warn(smsg, UserWarning)\n",
      "/Library/Frameworks/Python.framework/Versions/3.12/lib/python3.12/site-packages/xgboost/core.py:158: UserWarning: [16:19:00] WARNING: /Users/runner/work/xgboost/xgboost/src/learner.cc:740: \n",
      "Parameters: { \"use_label_encoder\" } are not used.\n",
      "\n",
      "  warnings.warn(smsg, UserWarning)\n",
      "/Library/Frameworks/Python.framework/Versions/3.12/lib/python3.12/site-packages/xgboost/core.py:158: UserWarning: [16:19:00] WARNING: /Users/runner/work/xgboost/xgboost/src/learner.cc:740: \n",
      "Parameters: { \"use_label_encoder\" } are not used.\n",
      "\n",
      "  warnings.warn(smsg, UserWarning)\n",
      "/Library/Frameworks/Python.framework/Versions/3.12/lib/python3.12/site-packages/xgboost/core.py:158: UserWarning: [16:19:00] WARNING: /Users/runner/work/xgboost/xgboost/src/learner.cc:740: \n",
      "Parameters: { \"use_label_encoder\" } are not used.\n",
      "\n",
      "  warnings.warn(smsg, UserWarning)\n",
      "/Library/Frameworks/Python.framework/Versions/3.12/lib/python3.12/site-packages/xgboost/core.py:158: UserWarning: [16:19:00] WARNING: /Users/runner/work/xgboost/xgboost/src/learner.cc:740: \n",
      "Parameters: { \"use_label_encoder\" } are not used.\n",
      "\n",
      "  warnings.warn(smsg, UserWarning)\n",
      "/Library/Frameworks/Python.framework/Versions/3.12/lib/python3.12/site-packages/xgboost/core.py:158: UserWarning: [16:19:00] WARNING: /Users/runner/work/xgboost/xgboost/src/learner.cc:740: \n",
      "Parameters: { \"use_label_encoder\" } are not used.\n",
      "\n",
      "  warnings.warn(smsg, UserWarning)\n",
      "/Library/Frameworks/Python.framework/Versions/3.12/lib/python3.12/site-packages/xgboost/core.py:158: UserWarning: [16:19:00] WARNING: /Users/runner/work/xgboost/xgboost/src/learner.cc:740: \n",
      "Parameters: { \"use_label_encoder\" } are not used.\n",
      "\n",
      "  warnings.warn(smsg, UserWarning)\n",
      "/Library/Frameworks/Python.framework/Versions/3.12/lib/python3.12/site-packages/xgboost/core.py:158: UserWarning: [16:19:00] WARNING: /Users/runner/work/xgboost/xgboost/src/learner.cc:740: \n",
      "Parameters: { \"use_label_encoder\" } are not used.\n",
      "\n",
      "  warnings.warn(smsg, UserWarning)\n",
      "/Library/Frameworks/Python.framework/Versions/3.12/lib/python3.12/site-packages/xgboost/core.py:158: UserWarning: [16:19:00] WARNING: /Users/runner/work/xgboost/xgboost/src/learner.cc:740: \n",
      "Parameters: { \"use_label_encoder\" } are not used.\n",
      "\n",
      "  warnings.warn(smsg, UserWarning)\n",
      "/Library/Frameworks/Python.framework/Versions/3.12/lib/python3.12/site-packages/xgboost/core.py:158: UserWarning: [16:19:00] WARNING: /Users/runner/work/xgboost/xgboost/src/learner.cc:740: \n",
      "Parameters: { \"use_label_encoder\" } are not used.\n",
      "\n",
      "  warnings.warn(smsg, UserWarning)\n",
      "/Library/Frameworks/Python.framework/Versions/3.12/lib/python3.12/site-packages/xgboost/core.py:158: UserWarning: [16:19:00] WARNING: /Users/runner/work/xgboost/xgboost/src/learner.cc:740: \n",
      "Parameters: { \"use_label_encoder\" } are not used.\n",
      "\n",
      "  warnings.warn(smsg, UserWarning)\n",
      "/Library/Frameworks/Python.framework/Versions/3.12/lib/python3.12/site-packages/xgboost/core.py:158: UserWarning: [16:19:01] WARNING: /Users/runner/work/xgboost/xgboost/src/learner.cc:740: \n",
      "Parameters: { \"use_label_encoder\" } are not used.\n",
      "\n",
      "  warnings.warn(smsg, UserWarning)\n",
      "/Library/Frameworks/Python.framework/Versions/3.12/lib/python3.12/site-packages/xgboost/core.py:158: UserWarning: [16:19:01] WARNING: /Users/runner/work/xgboost/xgboost/src/learner.cc:740: \n",
      "Parameters: { \"use_label_encoder\" } are not used.\n",
      "\n",
      "  warnings.warn(smsg, UserWarning)\n",
      "/Library/Frameworks/Python.framework/Versions/3.12/lib/python3.12/site-packages/xgboost/core.py:158: UserWarning: [16:19:01] WARNING: /Users/runner/work/xgboost/xgboost/src/learner.cc:740: \n",
      "Parameters: { \"use_label_encoder\" } are not used.\n",
      "\n",
      "  warnings.warn(smsg, UserWarning)\n",
      "/Library/Frameworks/Python.framework/Versions/3.12/lib/python3.12/site-packages/xgboost/core.py:158: UserWarning: [16:19:01] WARNING: /Users/runner/work/xgboost/xgboost/src/learner.cc:740: \n",
      "Parameters: { \"use_label_encoder\" } are not used.\n",
      "\n",
      "  warnings.warn(smsg, UserWarning)\n",
      "/Library/Frameworks/Python.framework/Versions/3.12/lib/python3.12/site-packages/xgboost/core.py:158: UserWarning: [16:19:01] WARNING: /Users/runner/work/xgboost/xgboost/src/learner.cc:740: \n",
      "Parameters: { \"use_label_encoder\" } are not used.\n",
      "\n",
      "  warnings.warn(smsg, UserWarning)\n",
      "/Library/Frameworks/Python.framework/Versions/3.12/lib/python3.12/site-packages/xgboost/core.py:158: UserWarning: [16:19:01] WARNING: /Users/runner/work/xgboost/xgboost/src/learner.cc:740: \n",
      "Parameters: { \"use_label_encoder\" } are not used.\n",
      "\n",
      "  warnings.warn(smsg, UserWarning)\n",
      "/Library/Frameworks/Python.framework/Versions/3.12/lib/python3.12/site-packages/xgboost/core.py:158: UserWarning: [16:19:01] WARNING: /Users/runner/work/xgboost/xgboost/src/learner.cc:740: \n",
      "Parameters: { \"use_label_encoder\" } are not used.\n",
      "\n",
      "  warnings.warn(smsg, UserWarning)\n",
      "/Library/Frameworks/Python.framework/Versions/3.12/lib/python3.12/site-packages/xgboost/core.py:158: UserWarning: [16:19:01] WARNING: /Users/runner/work/xgboost/xgboost/src/learner.cc:740: \n",
      "Parameters: { \"use_label_encoder\" } are not used.\n",
      "\n",
      "  warnings.warn(smsg, UserWarning)\n",
      "/Library/Frameworks/Python.framework/Versions/3.12/lib/python3.12/site-packages/xgboost/core.py:158: UserWarning: [16:19:01] WARNING: /Users/runner/work/xgboost/xgboost/src/learner.cc:740: \n",
      "Parameters: { \"use_label_encoder\" } are not used.\n",
      "\n",
      "  warnings.warn(smsg, UserWarning)\n",
      "/Library/Frameworks/Python.framework/Versions/3.12/lib/python3.12/site-packages/xgboost/core.py:158: UserWarning: [16:19:01] WARNING: /Users/runner/work/xgboost/xgboost/src/learner.cc:740: \n",
      "Parameters: { \"use_label_encoder\" } are not used.\n",
      "\n",
      "  warnings.warn(smsg, UserWarning)\n",
      "/Library/Frameworks/Python.framework/Versions/3.12/lib/python3.12/site-packages/xgboost/core.py:158: UserWarning: [16:19:01] WARNING: /Users/runner/work/xgboost/xgboost/src/learner.cc:740: \n",
      "Parameters: { \"use_label_encoder\" } are not used.\n",
      "\n",
      "  warnings.warn(smsg, UserWarning)\n",
      "/Library/Frameworks/Python.framework/Versions/3.12/lib/python3.12/site-packages/xgboost/core.py:158: UserWarning: [16:19:02] WARNING: /Users/runner/work/xgboost/xgboost/src/learner.cc:740: \n",
      "Parameters: { \"use_label_encoder\" } are not used.\n",
      "\n",
      "  warnings.warn(smsg, UserWarning)\n",
      "/Library/Frameworks/Python.framework/Versions/3.12/lib/python3.12/site-packages/xgboost/core.py:158: UserWarning: [16:19:02] WARNING: /Users/runner/work/xgboost/xgboost/src/learner.cc:740: \n",
      "Parameters: { \"use_label_encoder\" } are not used.\n",
      "\n",
      "  warnings.warn(smsg, UserWarning)\n",
      "/Library/Frameworks/Python.framework/Versions/3.12/lib/python3.12/site-packages/xgboost/core.py:158: UserWarning: [16:19:02] WARNING: /Users/runner/work/xgboost/xgboost/src/learner.cc:740: \n",
      "Parameters: { \"use_label_encoder\" } are not used.\n",
      "\n",
      "  warnings.warn(smsg, UserWarning)\n",
      "/Library/Frameworks/Python.framework/Versions/3.12/lib/python3.12/site-packages/xgboost/core.py:158: UserWarning: [16:19:03] WARNING: /Users/runner/work/xgboost/xgboost/src/learner.cc:740: \n",
      "Parameters: { \"use_label_encoder\" } are not used.\n",
      "\n",
      "  warnings.warn(smsg, UserWarning)\n",
      "/Library/Frameworks/Python.framework/Versions/3.12/lib/python3.12/site-packages/xgboost/core.py:158: UserWarning: [16:19:03] WARNING: /Users/runner/work/xgboost/xgboost/src/learner.cc:740: \n",
      "Parameters: { \"use_label_encoder\" } are not used.\n",
      "\n",
      "  warnings.warn(smsg, UserWarning)\n",
      "/Library/Frameworks/Python.framework/Versions/3.12/lib/python3.12/site-packages/xgboost/core.py:158: UserWarning: [16:19:04] WARNING: /Users/runner/work/xgboost/xgboost/src/learner.cc:740: \n",
      "Parameters: { \"use_label_encoder\" } are not used.\n",
      "\n",
      "  warnings.warn(smsg, UserWarning)\n",
      "/Library/Frameworks/Python.framework/Versions/3.12/lib/python3.12/site-packages/xgboost/core.py:158: UserWarning: [16:19:04] WARNING: /Users/runner/work/xgboost/xgboost/src/learner.cc:740: \n",
      "Parameters: { \"use_label_encoder\" } are not used.\n",
      "\n",
      "  warnings.warn(smsg, UserWarning)\n",
      "/Library/Frameworks/Python.framework/Versions/3.12/lib/python3.12/site-packages/xgboost/core.py:158: UserWarning: [16:19:05] WARNING: /Users/runner/work/xgboost/xgboost/src/learner.cc:740: \n",
      "Parameters: { \"use_label_encoder\" } are not used.\n",
      "\n",
      "  warnings.warn(smsg, UserWarning)\n",
      "/Library/Frameworks/Python.framework/Versions/3.12/lib/python3.12/site-packages/xgboost/core.py:158: UserWarning: [16:19:05] WARNING: /Users/runner/work/xgboost/xgboost/src/learner.cc:740: \n",
      "Parameters: { \"use_label_encoder\" } are not used.\n",
      "\n",
      "  warnings.warn(smsg, UserWarning)\n",
      "/Library/Frameworks/Python.framework/Versions/3.12/lib/python3.12/site-packages/xgboost/core.py:158: UserWarning: [16:19:05] WARNING: /Users/runner/work/xgboost/xgboost/src/learner.cc:740: \n",
      "Parameters: { \"use_label_encoder\" } are not used.\n",
      "\n",
      "  warnings.warn(smsg, UserWarning)\n",
      "/Library/Frameworks/Python.framework/Versions/3.12/lib/python3.12/site-packages/xgboost/core.py:158: UserWarning: [16:19:05] WARNING: /Users/runner/work/xgboost/xgboost/src/learner.cc:740: \n",
      "Parameters: { \"use_label_encoder\" } are not used.\n",
      "\n",
      "  warnings.warn(smsg, UserWarning)\n",
      "/Library/Frameworks/Python.framework/Versions/3.12/lib/python3.12/site-packages/xgboost/core.py:158: UserWarning: [16:19:05] WARNING: /Users/runner/work/xgboost/xgboost/src/learner.cc:740: \n",
      "Parameters: { \"use_label_encoder\" } are not used.\n",
      "\n",
      "  warnings.warn(smsg, UserWarning)\n",
      "/Library/Frameworks/Python.framework/Versions/3.12/lib/python3.12/site-packages/xgboost/core.py:158: UserWarning: [16:19:05] WARNING: /Users/runner/work/xgboost/xgboost/src/learner.cc:740: \n",
      "Parameters: { \"use_label_encoder\" } are not used.\n",
      "\n",
      "  warnings.warn(smsg, UserWarning)\n",
      "/Library/Frameworks/Python.framework/Versions/3.12/lib/python3.12/site-packages/xgboost/core.py:158: UserWarning: [16:19:05] WARNING: /Users/runner/work/xgboost/xgboost/src/learner.cc:740: \n",
      "Parameters: { \"use_label_encoder\" } are not used.\n",
      "\n",
      "  warnings.warn(smsg, UserWarning)\n",
      "/Library/Frameworks/Python.framework/Versions/3.12/lib/python3.12/site-packages/xgboost/core.py:158: UserWarning: [16:19:06] WARNING: /Users/runner/work/xgboost/xgboost/src/learner.cc:740: \n",
      "Parameters: { \"use_label_encoder\" } are not used.\n",
      "\n",
      "  warnings.warn(smsg, UserWarning)\n",
      "/Library/Frameworks/Python.framework/Versions/3.12/lib/python3.12/site-packages/xgboost/core.py:158: UserWarning: [16:19:06] WARNING: /Users/runner/work/xgboost/xgboost/src/learner.cc:740: \n",
      "Parameters: { \"use_label_encoder\" } are not used.\n",
      "\n",
      "  warnings.warn(smsg, UserWarning)\n",
      "/Library/Frameworks/Python.framework/Versions/3.12/lib/python3.12/site-packages/xgboost/core.py:158: UserWarning: [16:19:06] WARNING: /Users/runner/work/xgboost/xgboost/src/learner.cc:740: \n",
      "Parameters: { \"use_label_encoder\" } are not used.\n",
      "\n",
      "  warnings.warn(smsg, UserWarning)\n",
      "/Library/Frameworks/Python.framework/Versions/3.12/lib/python3.12/site-packages/xgboost/core.py:158: UserWarning: [16:19:06] WARNING: /Users/runner/work/xgboost/xgboost/src/learner.cc:740: \n",
      "Parameters: { \"use_label_encoder\" } are not used.\n",
      "\n",
      "  warnings.warn(smsg, UserWarning)\n",
      "/Library/Frameworks/Python.framework/Versions/3.12/lib/python3.12/site-packages/xgboost/core.py:158: UserWarning: [16:19:06] WARNING: /Users/runner/work/xgboost/xgboost/src/learner.cc:740: \n",
      "Parameters: { \"use_label_encoder\" } are not used.\n",
      "\n",
      "  warnings.warn(smsg, UserWarning)\n",
      "/Library/Frameworks/Python.framework/Versions/3.12/lib/python3.12/site-packages/xgboost/core.py:158: UserWarning: [16:19:06] WARNING: /Users/runner/work/xgboost/xgboost/src/learner.cc:740: \n",
      "Parameters: { \"use_label_encoder\" } are not used.\n",
      "\n",
      "  warnings.warn(smsg, UserWarning)\n"
     ]
    },
    {
     "name": "stdout",
     "output_type": "stream",
     "text": [
      "Recommended Params >> ne: 65, lr: 0.3 md: 1 gm: 2\n"
     ]
    },
    {
     "name": "stderr",
     "output_type": "stream",
     "text": [
      "/Library/Frameworks/Python.framework/Versions/3.12/lib/python3.12/site-packages/xgboost/core.py:158: UserWarning: [16:19:07] WARNING: /Users/runner/work/xgboost/xgboost/src/learner.cc:740: \n",
      "Parameters: { \"use_label_encoder\" } are not used.\n",
      "\n",
      "  warnings.warn(smsg, UserWarning)\n",
      "/Library/Frameworks/Python.framework/Versions/3.12/lib/python3.12/site-packages/xgboost/core.py:158: UserWarning: [16:19:07] WARNING: /Users/runner/work/xgboost/xgboost/src/learner.cc:740: \n",
      "Parameters: { \"use_label_encoder\" } are not used.\n",
      "\n",
      "  warnings.warn(smsg, UserWarning)\n",
      "/Library/Frameworks/Python.framework/Versions/3.12/lib/python3.12/site-packages/xgboost/core.py:158: UserWarning: [16:19:07] WARNING: /Users/runner/work/xgboost/xgboost/src/learner.cc:740: \n",
      "Parameters: { \"use_label_encoder\" } are not used.\n",
      "\n",
      "  warnings.warn(smsg, UserWarning)\n",
      "/Library/Frameworks/Python.framework/Versions/3.12/lib/python3.12/site-packages/xgboost/core.py:158: UserWarning: [16:19:07] WARNING: /Users/runner/work/xgboost/xgboost/src/learner.cc:740: \n",
      "Parameters: { \"use_label_encoder\" } are not used.\n",
      "\n",
      "  warnings.warn(smsg, UserWarning)\n",
      "/Library/Frameworks/Python.framework/Versions/3.12/lib/python3.12/site-packages/xgboost/core.py:158: UserWarning: [16:19:07] WARNING: /Users/runner/work/xgboost/xgboost/src/learner.cc:740: \n",
      "Parameters: { \"use_label_encoder\" } are not used.\n",
      "\n",
      "  warnings.warn(smsg, UserWarning)\n",
      "/Library/Frameworks/Python.framework/Versions/3.12/lib/python3.12/site-packages/xgboost/core.py:158: UserWarning: [16:19:07] WARNING: /Users/runner/work/xgboost/xgboost/src/learner.cc:740: \n",
      "Parameters: { \"use_label_encoder\" } are not used.\n",
      "\n",
      "  warnings.warn(smsg, UserWarning)\n",
      "/Library/Frameworks/Python.framework/Versions/3.12/lib/python3.12/site-packages/xgboost/core.py:158: UserWarning: [16:19:07] WARNING: /Users/runner/work/xgboost/xgboost/src/learner.cc:740: \n",
      "Parameters: { \"use_label_encoder\" } are not used.\n",
      "\n",
      "  warnings.warn(smsg, UserWarning)\n"
     ]
    }
   ],
   "source": [
    "import warnings\n",
    "\n",
    "# Suppress specific warnings from XGBoost\n",
    "warnings.filterwarnings(action='ignore', category=UserWarning, message=r\".*use_label_encoder.*\")\n",
    "\n",
    "# Perform Random Search for Best Hyperparams\n",
    "grid_search = RandomizedSearchCV(estimator=classifier_0, param_distributions=param_grid, scoring=scoring)\n",
    "\n",
    "# Fitting the model to find the best parameters\n",
    "best_model = grid_search.fit(X_train, y_train)\n",
    "\n",
    "# Extracting the best hyperparameters\n",
    "hyperparams = best_model.best_params_\n",
    "\n",
    "# Extracting individual best hyperparameters for clarity\n",
    "ne = hyperparams[\"n_estimators\"]  # Best number of trees for the model\n",
    "lr = hyperparams[\"learning_rate\"]  # Best learning rate for model training\n",
    "md = hyperparams[\"max_depth\"]  # Best maximum depth of the trees\n",
    "gm = hyperparams[\"gamma\"]  # Best gamma value for regularization\n",
    "\n",
    "# Display the recommended parameters\n",
    "print(f\"Recommended Params >> ne: {ne}, lr: {lr} md: {md} gm: {gm}\")\n"
   ]
  },
  {
   "cell_type": "code",
   "execution_count": null,
   "id": "f313bbc5-d69c-4124-b842-5c65d12d34a2",
   "metadata": {},
   "outputs": [],
   "source": []
  },
  {
   "cell_type": "code",
   "execution_count": null,
   "id": "6ddcd575-33cd-4b25-8592-5fae695ebc31",
   "metadata": {},
   "outputs": [],
   "source": []
  }
 ],
 "metadata": {
  "kernelspec": {
   "display_name": "Python 3 (ipykernel)",
   "language": "python",
   "name": "python3"
  },
  "language_info": {
   "codemirror_mode": {
    "name": "ipython",
    "version": 3
   },
   "file_extension": ".py",
   "mimetype": "text/x-python",
   "name": "python",
   "nbconvert_exporter": "python",
   "pygments_lexer": "ipython3",
   "version": "3.12.0"
  }
 },
 "nbformat": 4,
 "nbformat_minor": 5
}
