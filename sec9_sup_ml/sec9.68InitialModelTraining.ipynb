{
 "cells": [
  {
   "cell_type": "markdown",
   "id": "94a09b82-4470-49d9-a733-3c03f03619b0",
   "metadata": {},
   "source": [
    "### Imports"
   ]
  },
  {
   "cell_type": "code",
   "execution_count": 4,
   "id": "feb7661d-0b37-426b-8ecf-8997fcf7ee31",
   "metadata": {},
   "outputs": [],
   "source": [
    "# Remove Future Warnings\n",
    "import warnings\n",
    "warnings.simplefilter(action='ignore', category=FutureWarning)\n",
    "\n",
    "# General numerical operations\n",
    "import numpy as np\n",
    "\n",
    "# Data Management libraries\n",
    "import polars as pl  # For data manipulation using Polars DataFrame\n",
    "import pandas as pd  # For data manipulation using Pandas DataFrame (if needed)\n",
    "from sklearn.model_selection import train_test_split  # For splitting the dataset into training and testing sets\n",
    "\n",
    "# Machine Learning libraries\n",
    "from xgboost import XGBClassifier  # For using the XGBoost classifier\n",
    "from sklearn.model_selection import RandomizedSearchCV, cross_val_score  # For hyperparameter tuning and cross-validation\n",
    "from sklearn.model_selection import RepeatedStratifiedKFold  # For creating repeated stratified K-Folds\n",
    "\n",
    "# Evaluation metrics\n",
    "from sklearn.metrics import precision_score  # For calculating precision score\n",
    "\n",
    "# Reporting and visualization\n",
    "import matplotlib.pyplot as plt  # For creating plots and visualizations\n"
   ]
  },
  {
   "cell_type": "markdown",
   "id": "e541a5f6-aab8-4938-bd4d-805b4dc0b0fd",
   "metadata": {},
   "source": [
    "### Resolving Errors on Mac OSX\n",
    "\n",
    "1. **ModuleNotFoundError: No module named 'xgboost'**\n",
    "    - **Solution**: Install the `xgboost` library using `pip`.\n",
    "        ```python\n",
    "        !pip install xgboost\n",
    "        ```\n",
    "\n",
    "2. **XGBoostError: XGBoost Library (libxgboost.dylib) could not be loaded**\n",
    "    - **Solution**: Install the OpenMP runtime required by XGBoost.\n",
    "        - Use Homebrew to install `libomp`:\n",
    "            ```sh\n",
    "            brew install libomp\n",
    "            ```\n",
    "        - If you don't have Homebrew installed, you can install it by running:\n",
    "            ```sh\n",
    "            /bin/bash -c \"$(curl -fsSL https://raw.githubusercontent.com/Homebrew/install/HEAD/install.sh)\"\n",
    "            ```\n"
   ]
  },
  {
   "cell_type": "markdown",
   "id": "1f2dcafa-8578-4110-8db4-88bc6c620172",
   "metadata": {},
   "source": [
    "### Import Preprocessed Data"
   ]
  },
  {
   "cell_type": "code",
   "execution_count": 6,
   "id": "90314f7e-24dc-443c-9a8b-c9dd588ddd21",
   "metadata": {},
   "outputs": [
    {
     "name": "stdout",
     "output_type": "stream",
     "text": [
      "shape: (2, 38)\n",
      "┌──────────────┬─────┬──────────┬──────────┬───┬───────────┬───────────┬──────────┬───────────┐\n",
      "│ date         ┆ DOW ┆ open     ┆ high     ┆ … ┆ RSI_Ret_6 ┆ returns_7 ┆ range_7  ┆ RSI_Ret_7 │\n",
      "│ ---          ┆ --- ┆ ---      ┆ ---      ┆   ┆ ---       ┆ ---       ┆ ---      ┆ ---       │\n",
      "│ datetime[μs] ┆ i64 ┆ f64      ┆ f64      ┆   ┆ f64       ┆ f64       ┆ f64      ┆ f64       │\n",
      "╞══════════════╪═════╪══════════╪══════════╪═══╪═══════════╪═══════════╪══════════╪═══════════╡\n",
      "│ 2017-01-31   ┆ 1   ┆ 0.000878 ┆ 0.053054 ┆ … ┆ 1.55891   ┆ -0.030754 ┆ 0.035705 ┆ 0.911807  │\n",
      "│ 00:00:00     ┆     ┆          ┆          ┆   ┆           ┆           ┆          ┆           │\n",
      "│ 2017-02-01   ┆ 2   ┆ 0.054272 ┆ 0.017587 ┆ … ┆ 0.984416  ┆ 0.009919  ┆ 0.01297  ┆ 1.55891   │\n",
      "│ 00:00:00     ┆     ┆          ┆          ┆   ┆           ┆           ┆          ┆           │\n",
      "└──────────────┴─────┴──────────┴──────────┴───┴───────────┴───────────┴──────────┴───────────┘\n"
     ]
    }
   ],
   "source": [
    "# Read the CSV file\n",
    "df = pl.read_csv(\"data/BTC-USD.csv\")\n",
    "# We start by reading the CSV file into a Polars DataFrame. \n",
    "\n",
    "\n",
    "df = df.with_columns(pl.col(\"date\").cast(pl.Datetime)) # now will be a datetime dtype\n",
    "# We convert the 'date' column to Datetime type. This is crucial for proper date-based operations and sorting.\n",
    "# Even if the column is already in Datetime format, this step ensures consistency and can handle string-to-date conversion if needed.\n",
    "\n",
    "# Sort the DataFrame by the 'date' column in ascending order\n",
    "df = df.sort(\"date\", descending=False)\n",
    "# We sort the DataFrame by the 'date' column. This organizes our data chronologically, which is typically \n",
    "# desired for time series data like stock prices. The 'descending=False' argument ensures oldest dates come first.\n",
    "\n",
    "print(df.head(2))\n"
   ]
  },
  {
   "cell_type": "markdown",
   "id": "32b070ec-2092-424f-81bc-e470d0633357",
   "metadata": {},
   "source": [
    "### Add Prediction Target\n",
    "\n",
    "## For Bitcoin Price Prediction\n",
    "- Targets: next-day price, weekly return, price direction\n",
    "- Influences feature engineering and model interpretation\n",
    "- Aligns with specific trading strategies"
   ]
  },
  {
   "cell_type": "code",
   "execution_count": 7,
   "id": "4b5da04e-870f-4041-a56b-51ca2b483216",
   "metadata": {},
   "outputs": [
    {
     "data": {
      "text/plain": [
       "['date',\n",
       " 'DOW',\n",
       " 'open',\n",
       " 'high',\n",
       " 'low',\n",
       " 'close',\n",
       " 'adj_close',\n",
       " 'volume',\n",
       " 'returns',\n",
       " 'range',\n",
       " 'Bench_C_Rets',\n",
       " 'RSI',\n",
       " 'RSI_Ret',\n",
       " 'MA_12',\n",
       " 'MA_21',\n",
       " 'rolling returns',\n",
       " 'average range',\n",
       " 'returns_1',\n",
       " 'range_1',\n",
       " 'RSI_Ret_1',\n",
       " 'returns_2',\n",
       " 'range_2',\n",
       " 'RSI_Ret_2',\n",
       " 'returns_3',\n",
       " 'range_3',\n",
       " 'RSI_Ret_3',\n",
       " 'returns_4',\n",
       " 'range_4',\n",
       " 'RSI_Ret_4',\n",
       " 'returns_5',\n",
       " 'range_5',\n",
       " 'RSI_Ret_5',\n",
       " 'returns_6',\n",
       " 'range_6',\n",
       " 'RSI_Ret_6',\n",
       " 'returns_7',\n",
       " 'range_7',\n",
       " 'RSI_Ret_7']"
      ]
     },
     "execution_count": 7,
     "metadata": {},
     "output_type": "execute_result"
    }
   ],
   "source": [
    "df.columns"
   ]
  },
  {
   "cell_type": "code",
   "execution_count": 8,
   "id": "6071aff2-f29b-4093-b5c1-90695ee446ba",
   "metadata": {},
   "outputs": [
    {
     "name": "stdout",
     "output_type": "stream",
     "text": [
      "shape: (2, 39)\n",
      "┌─────────────────────┬─────┬──────────┬──────────┬───┬───────────┬──────────┬───────────┬────────┐\n",
      "│ date                ┆ DOW ┆ open     ┆ high     ┆ … ┆ returns_7 ┆ range_7  ┆ RSI_Ret_7 ┆ TARGET │\n",
      "│ ---                 ┆ --- ┆ ---      ┆ ---      ┆   ┆ ---       ┆ ---      ┆ ---       ┆ ---    │\n",
      "│ datetime[μs]        ┆ i64 ┆ f64      ┆ f64      ┆   ┆ f64       ┆ f64      ┆ f64       ┆ i32    │\n",
      "╞═════════════════════╪═════╪══════════╪══════════╪═══╪═══════════╪══════════╪═══════════╪════════╡\n",
      "│ 2017-01-31 00:00:00 ┆ 1   ┆ 0.000878 ┆ 0.053054 ┆ … ┆ -0.030754 ┆ 0.035705 ┆ 0.911807  ┆ 0      │\n",
      "│ 2017-02-01 00:00:00 ┆ 2   ┆ 0.054272 ┆ 0.017587 ┆ … ┆ 0.009919  ┆ 0.01297  ┆ 1.55891   ┆ 0      │\n",
      "└─────────────────────┴─────┴──────────┴──────────┴───┴───────────┴──────────┴───────────┴────────┘\n"
     ]
    }
   ],
   "source": [
    "# Specify Target\n",
    "# Create a new column 'TARGET' based on the condition where the next day's 'range' is greater than 'average range'\n",
    "df = df.with_columns([\n",
    "    (pl.when(pl.col('range').shift(-1) > pl.col('average range'))  # Compare the shifted 'range' column with 'average range'\n",
    "        .then(1)  # If the condition is true, set 'TARGET' to 1\n",
    "        .otherwise(0))  # If the condition is false, set 'TARGET' to 0\n",
    "        .alias('TARGET')  # Name the new column 'TARGET'\n",
    "])\n",
    "\n",
    "# Display the first 2 rows with the new 'TARGET' column\n",
    "print(df.head(2))"
   ]
  },
  {
   "cell_type": "code",
   "execution_count": 9,
   "id": "59b004c9-fd08-432f-a467-a1af498b354c",
   "metadata": {},
   "outputs": [
    {
     "data": {
      "text/plain": [
       "(array([], dtype=int64), array([], dtype=int64))"
      ]
     },
     "execution_count": 9,
     "metadata": {},
     "output_type": "execute_result"
    }
   ],
   "source": [
    "# Check for NaNs\n",
    "nan_location = df.select(pl.all().is_null()).to_numpy().nonzero()\n",
    "# pl.all().is_null(): Creates a boolean mask for NaNs.\n",
    "# .to_numpy(): Converts the mask to a NumPy array.\n",
    "# .nonzero(): Retrieves the indices of the True values in the boolean mask, indicating the positions of NaNs.\n",
    "\n",
    "nan_location"
   ]
  },
  {
   "cell_type": "code",
   "execution_count": 10,
   "id": "b157393e-3b01-4580-a05a-f2e43d5f747f",
   "metadata": {},
   "outputs": [
    {
     "name": "stdout",
     "output_type": "stream",
     "text": [
      "shape: (5, 39)\n",
      "┌──────────────┬─────┬───────────┬───────────┬───┬───────────┬──────────┬───────────┬────────┐\n",
      "│ date         ┆ DOW ┆ open      ┆ high      ┆ … ┆ returns_7 ┆ range_7  ┆ RSI_Ret_7 ┆ TARGET │\n",
      "│ ---          ┆ --- ┆ ---       ┆ ---       ┆   ┆ ---       ┆ ---      ┆ ---       ┆ ---    │\n",
      "│ datetime[μs] ┆ i64 ┆ f64       ┆ f64       ┆   ┆ f64       ┆ f64      ┆ f64       ┆ i32    │\n",
      "╞══════════════╪═════╪═══════════╪═══════════╪═══╪═══════════╪══════════╪═══════════╪════════╡\n",
      "│ 2024-07-14   ┆ 6   ┆ 0.022734  ┆ 0.025799  ┆ … ┆ -0.042097 ┆ 0.046203 ┆ 0.931954  ┆ 1      │\n",
      "│ 00:00:00     ┆     ┆           ┆           ┆   ┆           ┆          ┆           ┆        │\n",
      "│ 2024-07-15   ┆ 0   ┆ 0.02685   ┆ 0.057731  ┆ … ┆ 0.015327  ┆ 0.070144 ┆ 1.25864   ┆ 1      │\n",
      "│ 00:00:00     ┆     ┆           ┆           ┆   ┆           ┆          ┆           ┆        │\n",
      "│ 2024-07-16   ┆ 1   ┆ 0.065262  ┆ 0.007464  ┆ … ┆ 0.022998  ┆ 0.034134 ┆ 0.981631  ┆ 0      │\n",
      "│ 00:00:00     ┆     ┆           ┆           ┆   ┆           ┆          ┆           ┆        │\n",
      "│ 2024-07-17   ┆ 2   ┆ 0.004745  ┆ 0.0109    ┆ … ┆ -0.004598 ┆ 0.038144 ┆ 1.041948  ┆ 0      │\n",
      "│ 00:00:00     ┆     ┆           ┆           ┆   ┆           ┆          ┆           ┆        │\n",
      "│ 2024-07-18   ┆ 3   ┆ -0.015165 ┆ -0.014562 ┆ … ┆ -0.006885 ┆ 0.038148 ┆ 0.909442  ┆ 0      │\n",
      "│ 00:00:00     ┆     ┆           ┆           ┆   ┆           ┆          ┆           ┆        │\n",
      "└──────────────┴─────┴───────────┴───────────┴───┴───────────┴──────────┴───────────┴────────┘\n"
     ]
    }
   ],
   "source": [
    "# Fill NA if needed\n",
    "# Assuming 'df' is a Polars DataFrame\n",
    "df = df.with_columns(pl.col(\"TARGET\").fill_nan(0))\n",
    "print(df.tail())"
   ]
  },
  {
   "cell_type": "code",
   "execution_count": 11,
   "id": "239e358c-2430-4fa8-8042-b66eb18e5000",
   "metadata": {},
   "outputs": [
    {
     "name": "stdout",
     "output_type": "stream",
     "text": [
      "shape: (2, 34)\n",
      "┌──────────────┬─────┬────────────┬───────────┬───┬───────────┬──────────┬───────────┬────────┐\n",
      "│ date         ┆ DOW ┆ adj_close  ┆ volume    ┆ … ┆ returns_7 ┆ range_7  ┆ RSI_Ret_7 ┆ TARGET │\n",
      "│ ---          ┆ --- ┆ ---        ┆ ---       ┆   ┆ ---       ┆ ---      ┆ ---       ┆ ---    │\n",
      "│ datetime[μs] ┆ i64 ┆ f64        ┆ f64       ┆   ┆ f64       ┆ f64      ┆ f64       ┆ i32    │\n",
      "╞══════════════╪═════╪════════════╪═══════════╪═══╪═══════════╪══════════╪═══════════╪════════╡\n",
      "│ 2017-01-31   ┆ 1   ┆ 970.403015 ┆ 1.103895  ┆ … ┆ -0.030754 ┆ 0.035705 ┆ 0.911807  ┆ 0      │\n",
      "│ 00:00:00     ┆     ┆            ┆           ┆   ┆           ┆          ┆           ┆        │\n",
      "│ 2017-02-01   ┆ 2   ┆ 989.02301  ┆ -0.087932 ┆ … ┆ 0.009919  ┆ 0.01297  ┆ 1.55891   ┆ 0      │\n",
      "│ 00:00:00     ┆     ┆            ┆           ┆   ┆           ┆          ┆           ┆        │\n",
      "└──────────────┴─────┴────────────┴───────────┴───┴───────────┴──────────┴───────────┴────────┘\n"
     ]
    }
   ],
   "source": [
    "# Remove unwanted columns\n",
    "df_tts = df.drop(['close', 'Bench_C_Rets', 'open', 'high', 'low'])\n",
    "\n",
    "# Display the resulting DataFrame to verify\n",
    "print(df_tts.head(2))"
   ]
  },
  {
   "cell_type": "code",
   "execution_count": 12,
   "id": "9969d932-af22-4c1a-bc5c-701d72f2acbf",
   "metadata": {},
   "outputs": [],
   "source": [
    "# Split into Learning (X) and Target (y) Data\n",
    "X = df_tts[:, :-1].to_numpy()  # Convert to numpy array and select all columns except the last one\n",
    "y = df_tts[:, -1].to_numpy()   # Convert to numpy array and select the last column\n",
    "\n"
   ]
  },
  {
   "cell_type": "code",
   "execution_count": 13,
   "id": "043ed394-16cd-40de-9b5c-91b1882cfe3f",
   "metadata": {},
   "outputs": [
    {
     "name": "stdout",
     "output_type": "stream",
     "text": [
      "Shape of X_train:  (2180, 33)\n",
      "Shape of y_train:  (2180,)\n"
     ]
    }
   ],
   "source": [
    "# Perform Train-Test Split\n",
    "X_train, X_test, y_train, y_test = train_test_split(X, y, test_size=0.2, random_state=42)\n",
    "\n",
    "# Display the shapes of the resulting splits\n",
    "print(\"Shape of X_train: \", X_train.shape)\n",
    "print(\"Shape of y_train: \", y_train.shape)"
   ]
  },
  {
   "cell_type": "markdown",
   "id": "d98b7e65-c4cb-43ee-9785-21a1709cffeb",
   "metadata": {},
   "source": [
    "### Build Initial Model"
   ]
  },
  {
   "cell_type": "code",
   "execution_count": 15,
   "id": "a3d3febb-1508-4f36-a006-4ad53aa83373",
   "metadata": {},
   "outputs": [],
   "source": [
    "# Select type of model to optimize for\n",
    "is_binary = True\n",
    "is_optimise_for_precision = True\n",
    "\n",
    "# Purpose:\n",
    "# is_binary: \n",
    "#   - True: We're building a binary classification model\n",
    "#   - False: We'd be building a multi-class classification model\n",
    "# This flag determines how we set up our objective function and evaluation metrics\n",
    "\n",
    "# is_optimise_for_precision:\n",
    "#   - True: We prioritize precision in our model optimization\n",
    "#   - False: We might prioritize other metrics like recall or F1-score\n",
    "# In trading scenarios, precision is often crucial to minimize false positives,\n",
    "# which could lead to costly incorrect trades"
   ]
  },
  {
   "cell_type": "code",
   "execution_count": 16,
   "id": "24dc6856-4ca8-4b9b-97ef-68fa9d67e6a3",
   "metadata": {},
   "outputs": [],
   "source": [
    "# Determine Objective and Eval Metrics\n",
    "if is_binary:\n",
    "    # Setting the objective for binary classification\n",
    "    # As per the lecture, binary classification is preferred for simplicity and effectiveness in trading\n",
    "    objective = \"binary:logistic\"\n",
    "    eval_metric = \"logloss\"\n",
    "    # Evaluation metrics list for binary classification\n",
    "    eval_metric_list = [\"error\", \"logloss\", eval_metric]\n",
    "else:\n",
    "    # Setting the objective for multi-class classification\n",
    "    objective = \"multi:softmax\"\n",
    "    eval_metric = \"mlogloss\"\n",
    "    # Evaluation metrics list for multi-class classification\n",
    "    eval_metric_list = [\"merror\", \"mlogloss\", eval_metric]\n"
   ]
  },
  {
   "cell_type": "code",
   "execution_count": 17,
   "id": "057c7b15-a4a6-42a6-881f-13918f24e164",
   "metadata": {},
   "outputs": [],
   "source": [
    "# Refine Eval Metric\n",
    "if is_binary and is_optimise_for_precision:\n",
    "    # Binary classification optimizing for precision\n",
    "    # This is crucial in trading scenarios to minimize false positives\n",
    "    eval_metric = \"aucpr\"  # Area Under the Precision-Recall Curve\n",
    "    scoring = \"precision\"\n",
    "elif is_binary and not is_optimise_for_precision:\n",
    "    # Binary classification not specifically optimizing for precision\n",
    "    # This balances precision and recall\n",
    "    eval_metric = \"auc\"  # Area Under the ROC Curve\n",
    "    scoring = \"f1\"  # F1 Score\n",
    "else:\n",
    "    # Multi-class classification or when precision is not the focus\n",
    "    # We default to accuracy for balanced class distributions\n",
    "    eval_metric = \"mlogloss\"  # Keep the multi-class log loss from previous cell\n",
    "    scoring = \"accuracy\"\n",
    "\n",
    "# Update eval_metric_list to include the refined eval_metric\n",
    "eval_metric_list = [\"error\", \"logloss\", eval_metric] if is_binary else [\"merror\", \"mlogloss\", eval_metric]\n",
    "\n",
    "# Comments explaining the purpose:\n",
    "# This cell refines our evaluation metrics based on our classification type and optimization goals\n",
    "\n",
    "# For binary classification optimizing for precision (is_binary = True, is_optimise_for_precision = True):\n",
    "# - eval_metric: \"aucpr\" (Area Under the Precision-Recall Curve) is used\n",
    "# - scoring: \"precision\" is used for model selection\n",
    "\n",
    "# For binary classification not optimizing for precision (is_binary = True, is_optimise_for_precision = False):\n",
    "# - eval_metric: \"auc\" (Area Under the ROC Curve) is used\n",
    "# - scoring: \"f1\" (F1 Score) is used to balance precision and recall\n",
    "\n",
    "# For multi-class or when precision is not the focus:\n",
    "# - eval_metric: We keep \"mlogloss\" from the previous cell for consistency\n",
    "# - scoring: \"accuracy\" is used, which is common for balanced class distributions\n",
    "\n",
    "# The eval_metric_list is updated to include the refined eval_metric\n",
    "# This ensures consistency between our refined metric and the list used for model evaluation"
   ]
  },
  {
   "cell_type": "code",
   "execution_count": 18,
   "id": "7034dc95-4740-44fb-b847-8529464d68c8",
   "metadata": {},
   "outputs": [],
   "source": [
    "# Build First Classifier Model (classifier_0)\n",
    "# objective: Determined in previous cell. \"binary:logistic\" for binary classification or \"multi:softmax\" for multi-class classification.\n",
    "classifier_0 = XGBClassifier(\n",
    "    objective=objective,\n",
    "    booster=\"gbtree\", # booster: \"gbtree\" specifies tree-based models. Alternative is \"gblinear\" for linear models.\n",
    "    eval_metric=eval_metric, # eval_metric: Set based on our classification type and optimization goals (e.g., \n",
    "                             # \"aucpr\" for precision-focused binary classification).\n",
    "    subsample=0.8, # subsample: 0.8 means each tree will use a random 80% sample of the training data.\n",
    "                   # This helps prevent overfitting by introducing randomness.\n",
    "    colsample_bytree=1, # colsample_bytree: 1 means all features are considered for each tree.\n",
    "                        # Can be < 1 to randomly select a subset of features for each tree, further preventing overfitting.\n",
    "    random_state=1, # random_state: Set to 1 for reproducibility. Ensures we get the same results each time we run the model.\n",
    "    use_label_encoder=False # use_label_encoder: False prevents XGBoost from automatically encoding string labels, avoiding warnings.\n",
    ")\n",
    "# This initial model serves as a starting point. We'll refine its hyperparameters later using techniques like RandomizedSearchCV."
   ]
  },
  {
   "cell_type": "markdown",
   "id": "892e601e-8b14-4ace-86d1-ff9f79e3e0ba",
   "metadata": {},
   "source": [
    "### Find Hyperparameters\n",
    "\n",
    "Notes on Hyperparameters\n",
    "\n",
    "- **Objective**: Defined based on whether the classification is binary or multi-class.\n",
    "  - Binary classification: `binary:logistic`\n",
    "  - Multi-class classification: `multi:softmax`\n",
    "\n",
    "- **Booster**: \n",
    "  - \"gbtree\" is used for tree-based models, suitable for classification tasks.\n",
    "  - Other types of boosters include \"gblinear\" and \"dart\".\n",
    "\n",
    "- **Eval Metric**: \n",
    "  - Set based on precision or other evaluation criteria from previous cells.\n",
    "  - Binary classification: `\"logloss\"` or `\"aucpr\"`\n",
    "  - Multi-class classification: `\"mlogloss\"` or `\"merror\"`\n",
    "\n",
    "- **Subsample**: \n",
    "  - Value: `0.8` means 80% of the data will be used for training to prevent overfitting.\n",
    "  - A lower value can help prevent overfitting but might reduce the model's performance.\n"
   ]
  },
  {
   "cell_type": "code",
   "execution_count": 19,
   "id": "82f45c3d-9d65-49af-9730-66b4c30bae7c",
   "metadata": {},
   "outputs": [],
   "source": [
    "# Provide Grid for Hyperparams\n",
    "param_grid = {\n",
    "    \"gamma\": [0, 0.1, 0.2, 0.5, 1, 1.5, 2, 3, 6, 12, 20],  # gamma: Regularization parameter to control overfitting.\n",
    "                                                          # Higher values result in more conservative models.\n",
    "                                                          # Wide range used to explore its impact.\n",
    "\n",
    "    \"learning_rate\": [0.01, 0.02, 0.03, 0.05, 0.1, 0.2, 0.3, 0.5, 0.7, 0.8],  # learning_rate: Controls step size during optimization.\n",
    "                                                                              # Smaller values: more stable but slower training.\n",
    "                                                                              # Larger values: potential for quicker convergence.\n",
    "\n",
    "    \"max_depth\": [1, 2, 3, 4, 5, 6, 8, 12],  # max_depth: Maximum depth of the trees. Controls model complexity.\n",
    "                                             # Higher depth can capture more patterns but may lead to overfitting.\n",
    "                                             # We test a variety of depths to find the optimal complexity.\n",
    "\n",
    "    \"n_estimators\": [25, 50, 65, 80, 100, 115, 200]  # n_estimators: Number of trees in the model.\n",
    "                                                     # More estimators can improve performance but increase training time.\n",
    "                                                     # We include both low and high values for thorough exploration.\n",
    "}\n",
    "# This grid will be used in RandomizedSearchCV to find the optimal combination of hyperparameters."
   ]
  },
  {
   "cell_type": "markdown",
   "id": "798cb7dc-d1cc-4853-8019-98f431eed940",
   "metadata": {},
   "source": [
    "### Detailed Comments:\n",
    "- **gamma**: This is a regularization parameter to control overfitting. Higher values make the algorithm more conservative. We use a wide range to understand its effect on our model's performance.\n",
    "- **learning_rate**: This parameter controls the step size during each iteration of optimization. Smaller values ensure stable training but can be slower. We include a range of values to find the optimal balance between speed and stability.\n",
    "- **max_depth**: This parameter sets the maximum depth of the individual trees in the model. Deeper trees can model more complex patterns but are more prone to overfitting. We test various depths to find the best model complexity.\n",
    "- **n_estimators**: This is the number of trees in the model. More trees generally improve the model but also increase computational cost. We include a mix of lower and higher values to balance performance and training time.\n"
   ]
  },
  {
   "cell_type": "code",
   "execution_count": 20,
   "id": "d4e11581-f288-4143-b4d6-16323f1dcc6b",
   "metadata": {},
   "outputs": [
    {
     "name": "stdout",
     "output_type": "stream",
     "text": [
      "Best hyperparameters: n_estimators=200, learning_rate=0.05, max_depth=4, gamma=6\n"
     ]
    }
   ],
   "source": [
    "import warnings\n",
    "from sklearn.model_selection import RandomizedSearchCV\n",
    "from xgboost import XGBClassifier\n",
    "import warnings\n",
    "\n",
    "# Suppress all warnings\n",
    "warnings.filterwarnings('ignore')\n",
    "\n",
    "# # Suppress specific warnings from XGBoost\n",
    "# warnings.filterwarnings(action='ignore', category=UserWarning, message=r\".*use_label_encoder.*\")\n",
    "\n",
    "classifier_0 = XGBClassifier(\n",
    "    objective=objective,  # Make sure 'objective' is defined or replace with appropriate value\n",
    "    booster=\"gbtree\",\n",
    "    eval_metric=eval_metric,  # Make sure 'eval_metric' is defined or replace with appropriate value\n",
    "    subsample=0.8,\n",
    "    colsample_bytree=1,\n",
    "    random_state=1,\n",
    "    use_label_encoder=False\n",
    ")\n",
    "\n",
    "# Define param_grid (assuming this was created in a previous cell)\n",
    "param_grid = {\n",
    "    \"gamma\": [0, 0.1, 0.2, 0.5, 1, 1.5, 2, 3, 6, 12, 20],\n",
    "    \"learning_rate\": [0.01, 0.02, 0.03, 0.05, 0.1, 0.2, 0.3, 0.5, 0.7, 0.8],\n",
    "    \"max_depth\": [1, 2, 3, 4, 5, 6, 8, 12],\n",
    "    \"n_estimators\": [25, 50, 65, 80, 100, 115, 200]\n",
    "}\n",
    "\n",
    "# Make sure 'scoring' is defined or replace with appropriate value\n",
    "scoring = 'accuracy'  # or 'precision', 'recall', etc., depending on your needs\n",
    "\n",
    "# Perform Random Search for Best Hyperparams\n",
    "grid_search = RandomizedSearchCV(estimator=classifier_0, param_distributions=param_grid, scoring=scoring)\n",
    "\n",
    "# Fitting the model to find the best parameters\n",
    "# Note: X_train and y_train should be defined or imported from your data preparation step\n",
    "best_model = grid_search.fit(X_train, y_train)\n",
    "\n",
    "# Extracting the best hyperparameters\n",
    "hyperparams = best_model.best_params_\n",
    "\n",
    "# Extracting individual best hyperparameters for clarity\n",
    "ne = hyperparams[\"n_estimators\"]  # ne: Best number of trees for the model\n",
    "lr = hyperparams[\"learning_rate\"]  # lr: Best learning rate for model training\n",
    "md = hyperparams[\"max_depth\"]     # md: Best maximum depth of the trees\n",
    "gm = hyperparams[\"gamma\"]         # gm: Best gamma value for regularization\n",
    "\n",
    "print(f\"Best hyperparameters: n_estimators={ne}, learning_rate={lr}, max_depth={md}, gamma={gm}\")"
   ]
  },
  {
   "cell_type": "code",
   "execution_count": 21,
   "id": "f8605544-dcec-4a93-b34e-e7a36a0b2cb6",
   "metadata": {},
   "outputs": [
    {
     "name": "stdout",
     "output_type": "stream",
     "text": [
      "Recommended Params >> ne: 200, lr: 0.05 md: 4 gm: 6\n"
     ]
    }
   ],
   "source": [
    "# Display the recommended parameters\n",
    "\n",
    "print(f\"Recommended Params >> ne: {ne}, lr: {lr} md: {md} gm: {gm}\")"
   ]
  },
  {
   "cell_type": "code",
   "execution_count": null,
   "id": "f313bbc5-d69c-4124-b842-5c65d12d34a2",
   "metadata": {},
   "outputs": [],
   "source": []
  },
  {
   "cell_type": "markdown",
   "id": "55892994-ffd1-4984-b645-1de49b54f4ac",
   "metadata": {},
   "source": [
    "### Train Model"
   ]
  },
  {
   "cell_type": "code",
   "execution_count": 22,
   "id": "ec86b017-d2f0-4d8b-81a8-7354d3c509b4",
   "metadata": {},
   "outputs": [],
   "source": [
    "# Build Classification Model 1\n",
    "# This model incorporates the best hyperparameters found through RandomizedSearchCV\n",
    "classifier_1 = XGBClassifier(\n",
    "    objective=objective,  # objective: Determined earlier based on binary/multi-class classification\n",
    "    booster=\"gbtree\",  # booster: \"gbtree\" specifies tree-based models. Alternative is \"gblinear\" for linear models.\n",
    "    eval_metric=eval_metric,  # eval_metric: Set based on our classification type and optimization goals\n",
    "                              # (e.g., \"aucpr\" for precision-focused binary classification).\n",
    "    n_estimators=ne,  # n_estimators: Optimal number of trees found by hyperparameter tuning\n",
    "    learning_rate=lr,  # learning_rate: Optimal learning rate found by hyperparameter tuning\n",
    "    max_depth=md,  # max_depth: Optimal maximum tree depth found by hyperparameter tuning\n",
    "    gamma=gm,  # gamma: Optimal minimum loss reduction for further partition found by hyperparameter tuning\n",
    "    subsample=0.8,  # subsample: Each tree will use a random 80% sample of the training data. \n",
    "                    # Helps prevent overfitting by introducing randomness.\n",
    "    colsample_bytree=1,  # colsample_bytree: 1 means all features are considered for each tree.\n",
    "                         # Can be < 1 to randomly select a subset of features for each tree, further preventing overfitting.\n",
    "    random_state=1,  # random_state: Set to 1 for reproducibility. \n",
    "                     # Ensures we get the same results each time we run the model.\n",
    "    use_label_encoder=False  # use_label_encoder: False prevents XGBoost from automatically encoding string labels, \n",
    "                             # avoiding warnings in newer versions of XGBoost.\n",
    ")\n",
    "\n",
    "# This classifier (classifier_1) is now ready to be trained on our data\n",
    "# It incorporates both our initial setup choices and the optimal hyperparameters found through tuning"
   ]
  },
  {
   "cell_type": "code",
   "execution_count": 23,
   "id": "58aed57d-249f-41eb-8615-f37c6d43353b",
   "metadata": {},
   "outputs": [
    {
     "name": "stdout",
     "output_type": "stream",
     "text": [
      "XGBClassifier(base_score=None, booster='gbtree', callbacks=None,\n",
      "              colsample_bylevel=None, colsample_bynode=None, colsample_bytree=1,\n",
      "              device=None, early_stopping_rounds=None, enable_categorical=False,\n",
      "              eval_metric='aucpr', feature_types=None, gamma=6,\n",
      "              grow_policy=None, importance_type=None,\n",
      "              interaction_constraints=None, learning_rate=0.05, max_bin=None,\n",
      "              max_cat_threshold=None, max_cat_to_onehot=None,\n",
      "              max_delta_step=None, max_depth=4, max_leaves=None,\n",
      "              min_child_weight=None, missing=nan, monotone_constraints=None,\n",
      "              multi_strategy=None, n_estimators=200, n_jobs=None,\n",
      "              num_parallel_tree=None, random_state=1, ...)\n"
     ]
    }
   ],
   "source": [
    "from xgboost import XGBClassifier\n",
    "\n",
    "import warnings\n",
    "\n",
    "# Suppress all warnings\n",
    "warnings.filterwarnings('ignore')\n",
    "\n",
    "# Initialize the XGBoost classifier with optimized parameters\n",
    "classifier_1 = XGBClassifier(\n",
    "    objective=objective,  # Determined earlier based on binary/multi-class classification\n",
    "    booster=\"gbtree\",  # Specifies tree-based models. Alternative is \"gblinear\" for linear models\n",
    "    eval_metric=eval_metric,  # Set based on classification type and optimization goals\n",
    "    n_estimators=ne,  # Optimal number of trees found by hyperparameter tuning\n",
    "    learning_rate=lr,  # Optimal learning rate found by hyperparameter tuning\n",
    "    max_depth=md,  # Optimal maximum tree depth found by hyperparameter tuning\n",
    "    gamma=gm,  # Optimal minimum loss reduction for further partition\n",
    "    subsample=0.8,  # Each tree uses 80% random sample of training data (prevents overfitting)\n",
    "    colsample_bytree=1,  # All features considered for each tree\n",
    "    random_state=1,  # Ensures reproducibility\n",
    "    use_label_encoder=False  # Prevents auto-encoding of string labels (avoids warnings)\n",
    ")\n",
    "\n",
    "# Prepare evaluation set\n",
    "eval_set = [(X_train, y_train)]\n",
    "\n",
    "# Fit the classifier\n",
    "classifier_1.fit(\n",
    "    X_train,\n",
    "    y_train,\n",
    "    eval_set=eval_set,\n",
    "    verbose=False\n",
    ")\n",
    "\n",
    "# Print the classifier to see its parameters\n",
    "print(classifier_1)\n",
    "\n",
    "# The output shows the final settings used by the classifier after fitting the model.\n",
    "# It includes all parameters like learning rates, tree parameters etc., which confirm\n",
    "# the model configuration and any defaults used by XGBoost."
   ]
  },
  {
   "cell_type": "code",
   "execution_count": 24,
   "id": "60688413-ddb4-42e0-bef4-bc74f8ab40d8",
   "metadata": {},
   "outputs": [],
   "source": [
    "# Key observations:\n",
    "# 1. booster='gbtree': Confirms we're using a tree-based model as intended.\n",
    "# 2. colsample_bytree=1: All features are considered for each tree, as we set.\n",
    "# 3. eval_metric='aucpr': Our chosen evaluation metric is being used.\n",
    "# 4. gamma=0: The minimum loss reduction for further partition.\n",
    "# 5. learning_rate=0.05: The step size shrinkage used to prevent overfitting.\n",
    "# 6. max_depth=6: The maximum depth of the trees.\n",
    "# 7. n_estimators=80: The number of trees in the model.\n",
    "# 8. random_state=1: Set for reproducibility, as we intended.\n",
    "\n",
    "# Parameters showing as None are using XGBoost's default values.\n",
    "# This output confirms that our key hyperparameters (learning_rate, max_depth, n_estimators)\n",
    "# have been properly set based on our earlier optimization.\n",
    "\n",
    "# Next steps:\n",
    "# 1. Evaluate the model's performance on a validation set.\n",
    "# 2. If needed, fine-tune parameters that are currently set to None.\n",
    "# 3. Consider removing the 'use_label_encoder' parameter in future runs to avoid the warning."
   ]
  },
  {
   "cell_type": "markdown",
   "id": "488f72b4-03db-4596-97ac-0ece2173187d",
   "metadata": {},
   "source": [
    "### Performance Evaluation (Quick Overview)"
   ]
  },
  {
   "cell_type": "code",
   "execution_count": 25,
   "id": "b3e5ffc1-74e5-438c-9e83-62526f69f511",
   "metadata": {},
   "outputs": [
    {
     "name": "stdout",
     "output_type": "stream",
     "text": [
      "Training Predictions: \n",
      " [0 0 0 0 0]\n"
     ]
    }
   ],
   "source": [
    "# Get predictions for training data\n",
    "train_yhat = classifier_1.predict(X_train)\n",
    "# classifier_1.predict(): This method applies our trained model to make predictions\n",
    "# X_train: We're using the same features we used for training\n",
    "# train_yhat: This variable will store the predictions\n",
    "\n",
    "print(\"Training Predictions: \\n\", train_yhat[:5])\n",
    "# This prints the first 5 predictions for visualization\n",
    "\n",
    "# Output:\n",
    "# Training Predictions: \n",
    "# [0 0 1 0 0]\n",
    "\n",
    "# Explanation of output:\n",
    "# - Each number (0 or 1) represents a prediction for a single data point\n",
    "# - In binary classification: \n",
    "#   0 typically means the negative class (e.g., \"no\" or \"false\") e.g., \"no\", \"false\", or in your case, perhaps \"range will not exceed average\")\n",
    "#   1 typically means the positive class (e.g., \"yes\" or \"true\") e.g., \"yes\", \"true\", or \"range will exceed average\")\n",
    "# - We're only seeing the first 5 predictions here\n",
    "\n",
    "# Next steps:\n",
    "# 1. Compare these predictions with the actual y_train values to assess accuracy\n",
    "# 2. Calculate performance metrics (e.g., accuracy, precision, recall)\n",
    "# 3. Consider creating a confusion matrix for a more detailed view of model performance"
   ]
  },
  {
   "cell_type": "code",
   "execution_count": 28,
   "id": "e1f3ecba-0222-4cef-8818-49fa51212767",
   "metadata": {},
   "outputs": [],
   "source": [
    "from sklearn.model_selection import RepeatedStratifiedKFold  # For creating repeated stratified K-Folds\n",
    "\n",
    "# Set K-Fold Cross Validation Levels\n",
    "cv = RepeatedStratifiedKFold(n_splits=5, n_repeats=3, random_state=1)\n",
    "\n",
    "# Explanation:\n",
    "# 1. RepeatedStratifiedKFold: A variation of K-Fold that repeats K-Fold multiple times\n",
    "#    and ensures that the proportion of samples for each class is roughly the same \n",
    "#    in each fold.\n",
    "\n",
    "# 2. n_splits=5: The data will be split into 5 folds.\n",
    "#    This means 4/5 of the data will be used for training and 1/5 for validation in each iteration.\n",
    "\n",
    "# 3. n_repeats=3: The entire process of 5-fold cross-validation will be repeated 3 times.\n",
    "#    This helps to get a more robust estimate of model performance.\n",
    "\n",
    "# 4. random_state=1: Ensures reproducibility of the random splits.\n",
    "\n",
    "# Purpose:\n",
    "# - This setup helps in thoroughly evaluating the model's performance and consistency.\n",
    "# - It's particularly useful for smaller datasets or when you want a very robust performance estimate.\n",
    "# - The stratification ensures that each fold is representative of the whole dataset, \n",
    "#   which is important for imbalanced datasets.\n",
    "\n",
    "# Next steps:\n",
    "# - This 'cv' object will be used in functions like cross_val_score() or cross_validate()\n",
    "#   to perform the actual cross-validation process.\n",
    "# - The results from these cross-validations will give you a distribution of performance metrics,\n",
    "#   allowing you to assess both the mean performance and its variability."
   ]
  },
  {
   "cell_type": "code",
   "execution_count": 29,
   "id": "0a783b15-5be1-4b78-a890-e567426d6c1c",
   "metadata": {},
   "outputs": [],
   "source": [
    "# Training Results\n",
    "import warnings\n",
    "\n",
    "# Suppress all warnings\n",
    "warnings.filterwarnings('ignore')\n",
    "\n",
    "train_results = cross_val_score(classifier_1, X_train, y_train, scoring=scoring, cv=cv, n_jobs=1)\n",
    "\n",
    "# Explanation:\n",
    "# 1. cross_val_score: A function from scikit-learn that performs cross-validation and returns a list of scores.\n",
    "\n",
    "# 2. classifier_1: The XGBoost model we've trained earlier.\n",
    "\n",
    "# 3. X_train, y_train: Our training features and target variables.\n",
    "\n",
    "# 4. scoring: The metric used to evaluate the model's performance.\n",
    "#    This was defined earlier and could be 'accuracy', 'precision', 'recall', etc.\n",
    "\n",
    "# 5. cv: The cross-validation strategy we defined earlier (RepeatedStratifiedKFold).\n",
    "\n",
    "# 6. n_jobs=1: Specifies that only one CPU core should be used for computation.\n",
    "#    Can be increased for parallel processing if more cores are available.\n",
    "\n",
    "# Purpose:\n",
    "# - This function applies our cross-validation strategy to the classifier.\n",
    "# - It trains and evaluates the model multiple times based on our CV setup.\n",
    "# - The result (train_results) is a list of scores, one for each CV split.\n",
    "\n",
    "# Next steps:\n",
    "# 1. Analyze the distribution of scores in train_results.\n",
    "# 2. Calculate mean and standard deviation of the scores to get an overall performance metric.\n",
    "# 3. Compare these results with performance on a separate test set to check for overfitting."
   ]
  },
  {
   "cell_type": "code",
   "execution_count": 32,
   "id": "4fd45aac-7cf9-43a0-bac1-7889a148d3c6",
   "metadata": {},
   "outputs": [
    {
     "name": "stdout",
     "output_type": "stream",
     "text": [
      "Average Accuracy K-Fold:  0.68\n"
     ]
    }
   ],
   "source": [
    "# Brief Review of Training Results\n",
    "print(\"Average Accuracy K-Fold: \", round(train_results.mean(), 2))\n",
    "\n",
    "# Output:\n",
    "# Average Accuracy K-Fold:  0.68\n",
    "\n",
    "# Explanation:\n",
    "# 1. train_results: This contains the scores from each fold of the cross-validation.\n",
    "# 2. train_results.mean(): Calculates the average of all these scores.\n",
    "# 3. round(..., 2): Rounds the result to 2 decimal places for readability.\n",
    "\n",
    "# Interpretation:\n",
    "# - 0.68 means the model achieved an average accuracy of 68% across all folds.\n",
    "# - This suggests the model correctly classifies about 68% of the samples on average.\n",
    "\n",
    "# Considerations:\n",
    "# 1. Context: Is 68% good? This depends on your specific problem and baseline.\n",
    "# 2. Consistency: Check the standard deviation of scores to assess performance stability.\n",
    "# 3. Baseline comparison: Compare to a simple majority class predictor or other baselines.\n",
    "# 4. Potential for improvement: Consider if there's room for model tuning or feature engineering.\n",
    "\n",
    "# Next steps:\n",
    "# 1. Calculate and print the standard deviation of scores.\n",
    "# 2. Compare performance with a test set to check for overfitting.\n",
    "# 3. If accuracy is insufficient, consider model adjustments or feature selection."
   ]
  },
  {
   "cell_type": "code",
   "execution_count": 33,
   "id": "faed2f05-7a28-4476-905d-40b5370d6335",
   "metadata": {},
   "outputs": [
    {
     "name": "stdout",
     "output_type": "stream",
     "text": [
      "Average Accuracy: 0.68\n",
      "Standard Deviation of Accuracy: 0.02\n",
      "\n",
      "Interpretation:\n",
      "The model's accuracy is 0.68 ± 0.02\n"
     ]
    }
   ],
   "source": [
    "import numpy as np\n",
    "\n",
    "# Calculate mean and standard deviation of cross-validation scores\n",
    "mean_accuracy = np.mean(train_results)\n",
    "std_accuracy = np.std(train_results)\n",
    "\n",
    "# Print results\n",
    "print(f\"Average Accuracy: {mean_accuracy:.2f}\")\n",
    "print(f\"Standard Deviation of Accuracy: {std_accuracy:.2f}\")\n",
    "\n",
    "# Interpretation\n",
    "print(\"\\nInterpretation:\")\n",
    "print(f\"The model's accuracy is {mean_accuracy:.2f} ± {std_accuracy:.2f}\")\n",
    "\n",
    "# Example output:\n",
    "# Average Accuracy: 0.68\n",
    "# Standard Deviation of Accuracy: 0.03\n",
    "#\n",
    "# Interpretation:\n",
    "# The model's accuracy is 0.68 ± 0.03\n",
    "\n",
    "# Explanation:\n",
    "# 1. Mean accuracy: The average performance across all CV folds.\n",
    "# 2. Standard deviation: Measures the spread of accuracy scores.\n",
    "#    - Lower values indicate more consistent performance across folds.\n",
    "#    - Higher values suggest performance varies more between different data subsets.\n",
    "\n",
    "# Assessing stability:\n",
    "# - A small std dev (e.g., < 0.05) suggests stable performance across different data subsets.\n",
    "# - A larger std dev might indicate that the model's performance is sensitive to the specific data it's trained on.\n",
    "\n",
    "# Next steps based on results:\n",
    "# 1. If std dev is high: Consider why the model might be inconsistent. Possible reasons:\n",
    "#    - Not enough data\n",
    "#    - High variance (overfitting)\n",
    "#    - Presence of outliers\n",
    "# 2. If std dev is low: This is generally good, indicating stable performance.\n",
    "# 3. Always consider the std dev in context of the mean accuracy and your specific problem requirements."
   ]
  },
  {
   "cell_type": "code",
   "execution_count": 34,
   "id": "fc2cc50e-b1d3-4bea-83d7-5f640da8e154",
   "metadata": {},
   "outputs": [],
   "source": [
    "# Results:\n",
    "# Average Accuracy: 0.68\n",
    "# Standard Deviation of Accuracy: 0.02\n",
    "#\n",
    "# Interpretation:\n",
    "# The model's accuracy is 0.68 ± 0.02\n",
    "\n",
    "# Detailed Analysis:\n",
    "\n",
    "# 1. Average Accuracy (0.68):\n",
    "#    - The model correctly classifies about 68% of the samples on average.\n",
    "#    - This is better than random guessing (50% for binary classification) but may or may not be \n",
    "#      satisfactory depending on the specific problem and domain requirements.\n",
    "\n",
    "# 2. Standard Deviation (0.02):\n",
    "#    - This indicates a relatively low variability in the model's performance across different data subsets.\n",
    "#    - The model's accuracy typically varies by about 2 percentage points above or below the average.\n",
    "\n",
    "# 3. Performance Stability:\n",
    "#    - A standard deviation of 0.02 suggests good stability in the model's performance.\n",
    "#    - We can be reasonably confident that the model's accuracy on new, unseen data will be close to 68%.\n",
    "\n",
    "# 4. Interpretation of \"0.68 ± 0.02\":\n",
    "#    - We can expect the model's accuracy to typically fall between 66% and 70% (0.68 - 0.02 to 0.68 + 0.02).\n",
    "#    - This range represents a reasonable estimate of the model's true performance on the population.\n",
    "\n",
    "# 5. Considerations:\n",
    "#    - While stable, the accuracy might need improvement depending on the problem requirements.\n",
    "#    - The low variability suggests that efforts to improve performance should focus on increasing \n",
    "#      overall accuracy rather than reducing variability.\n",
    "\n",
    "# Next Steps:\n",
    "# 1. Compare this performance to a baseline model or industry standards for your specific problem.\n",
    "# 2. If higher accuracy is needed, consider feature engineering, trying different algorithms, or \n",
    "#    collecting more data.\n",
    "# 3. Evaluate other relevant metrics (e.g., precision, recall, F1-score) especially if dealing with \n",
    "#    imbalanced classes.\n",
    "# 4. Test the model on a completely held-out test set to confirm these results generalize well."
   ]
  },
  {
   "cell_type": "code",
   "execution_count": 35,
   "id": "6935aad0-f433-4aa6-84dc-2c0f7eb004d8",
   "metadata": {},
   "outputs": [
    {
     "data": {
      "image/png": "[encoded data removed]",
      "text/plain": [
       "<Figure size 1200x500 with 2 Axes>"
      ]
     },
     "metadata": {},
     "output_type": "display_data"
    }
   ],
   "source": [
    "import matplotlib.pyplot as plt\n",
    "import numpy as np\n",
    "\n",
    "# Ensure you have these variables from previous cells:\n",
    "# train_results: numpy array of cross-validation scores\n",
    "# mean_accuracy: mean of cross-validation scores\n",
    "# std_accuracy: standard deviation of cross-validation scores\n",
    "\n",
    "# Create a figure with two subplots\n",
    "fig, (ax1, ax2) = plt.subplots(1, 2, figsize=(12, 5))\n",
    "\n",
    "# Box plot\n",
    "ax1.boxplot(train_results)\n",
    "ax1.set_title('Distribution of CV Scores')\n",
    "ax1.set_ylabel('Accuracy')\n",
    "ax1.set_xticklabels(['CV Scores'])\n",
    "\n",
    "# Histogram\n",
    "ax2.hist(train_results, bins=10, edgecolor='black')\n",
    "ax2.axvline(mean_accuracy, color='r', linestyle='dashed', linewidth=2, label=f'Mean: {mean_accuracy:.2f}')\n",
    "ax2.axvline(mean_accuracy - std_accuracy, color='g', linestyle='dashed', linewidth=2, label=f'-1 SD: {mean_accuracy-std_accuracy:.2f}')\n",
    "ax2.axvline(mean_accuracy + std_accuracy, color='g', linestyle='dashed', linewidth=2, label=f'+1 SD: {mean_accuracy+std_accuracy:.2f}')\n",
    "ax2.set_title('Histogram of CV Scores')\n",
    "ax2.set_xlabel('Accuracy')\n",
    "ax2.set_ylabel('Frequency')\n",
    "ax2.legend()\n",
    "\n",
    "plt.tight_layout()\n",
    "plt.show()\n",
    "\n",
    "# Interpretation guide:\n",
    "# 1. Box Plot:\n",
    "#    - The box shows the interquartile range (IQR) containing the middle 50% of scores\n",
    "#    - The line in the box is the median\n",
    "#    - Whiskers extend to show the rest of the distribution\n",
    "#    - Outliers, if any, are plotted as individual points\n",
    "#\n",
    "# 2. Histogram:\n",
    "#    - Shows the distribution of accuracy scores\n",
    "#    - Red dashed line represents the mean accuracy\n",
    "#    - Green dashed lines represent ±1 standard deviation from the mean\n",
    "#\n",
    "# What to look for:\n",
    "# - Symmetry in the box plot and histogram (indicates a normal distribution)\n",
    "# - Presence of outliers in the box plot\n",
    "# - How spread out the scores are in both plots\n",
    "# - How many scores fall within one standard deviation of the mean"
   ]
  },
  {
   "cell_type": "code",
   "execution_count": 36,
   "id": "073e7a70-2175-48d6-99a9-3e8cc4a16165",
   "metadata": {},
   "outputs": [
    {
     "name": "stdout",
     "output_type": "stream",
     "text": [
      "Average Accuracy K-Fold:  0.68\n",
      "Std Deviation K-Fold:  0.02\n",
      "Precision Score 0:  0.778\n",
      "Precision Score 1:  0.868\n",
      "\n",
      "Just for reference. Right now, we are only focused on getting some initial features.\n",
      "If the results look too good to be true, they probably are.\n"
     ]
    }
   ],
   "source": [
    "# Brief Review of Training Results\n",
    "\n",
    "# Calculate and print average accuracy from cross-validation\n",
    "print(\"Average Accuracy K-Fold: \", round(train_results.mean(), 2))\n",
    "\n",
    "# Calculate and print standard deviation of accuracy from cross-validation\n",
    "print(\"Std Deviation K-Fold: \", round(train_results.std(), 2))\n",
    "\n",
    "# Calculate and print precision score for class 0 (negative class)\n",
    "print(\"Precision Score 0: \", round(precision_score(y_train, train_yhat, average=None)[0], 3))\n",
    "\n",
    "# Calculate and print precision score for class 1 (positive class)\n",
    "print(\"Precision Score 1: \", round(precision_score(y_train, train_yhat, average=None)[1], 3))\n",
    "\n",
    "print(\"\")  # Print an empty line for better readability\n",
    "\n",
    "# Print a note about the current focus of the analysis\n",
    "print(\"Just for reference. Right now, we are only focused on getting some initial features.\")\n",
    "\n",
    "# Print a cautionary note about interpreting results\n",
    "print(\"If the results look too good to be true, they probably are.\")\n",
    "\n",
    "# Output explanation:\n",
    "# Average Accuracy K-Fold: Mean accuracy across all cross-validation folds\n",
    "# Std Deviation K-Fold: Measure of consistency in accuracy across folds\n",
    "# Precision Score 0: Proportion of correct negative predictions out of all negative predictions\n",
    "# Precision Score 1: Proportion of correct positive predictions out of all positive predictions\n",
    "\n",
    "# Note: \n",
    "# - High precision scores indicate low false positive rates\n",
    "# - The cautionary note reminds us to be skeptical of unexpectedly good results,\n",
    "#   which could indicate issues like data leakage or overfitting"
   ]
  },
  {
   "cell_type": "code",
   "execution_count": null,
   "id": "b3f4e068-2c15-41d2-bf27-3a330364ea2d",
   "metadata": {},
   "outputs": [],
   "source": []
  },
  {
   "cell_type": "code",
   "execution_count": null,
   "id": "59fee308-d42d-4a7e-a3e7-f33d52a7c42b",
   "metadata": {},
   "outputs": [],
   "source": []
  },
  {
   "cell_type": "code",
   "execution_count": null,
   "id": "4cbffc95-ecd4-4908-8642-b8b2c09580ff",
   "metadata": {},
   "outputs": [],
   "source": []
  }
 ],
 "metadata": {
  "kernelspec": {
   "display_name": "Python 3 (ipykernel)",
   "language": "python",
   "name": "python3"
  },
  "language_info": {
   "codemirror_mode": {
    "name": "ipython",
    "version": 3
   },
   "file_extension": ".py",
   "mimetype": "text/x-python",
   "name": "python",
   "nbconvert_exporter": "python",
   "pygments_lexer": "ipython3",
   "version": "3.12.0"
  }
 },
 "nbformat": 4,
 "nbformat_minor": 5
}
