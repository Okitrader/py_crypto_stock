{
 "cells": [
  {
   "cell_type": "code",
   "execution_count": 1,
   "id": "40037227-eb64-4491-8b54-b52108123527",
   "metadata": {},
   "outputs": [],
   "source": [
    "# Imports\n",
    "from random import random\n",
    "import numpy as np\n",
    "import torch\n",
    "import polars as pl\n"
   ]
  },
  {
   "cell_type": "code",
   "execution_count": 2,
   "id": "934fcf25-73af-4698-98ee-e89750236088",
   "metadata": {},
   "outputs": [
    {
     "data": {
      "text/plain": [
       "'\\nThis is a docstring.\\nAs such, we can use this for many things, including multiple lines.\\nAs such.\\n'"
      ]
     },
     "execution_count": 2,
     "metadata": {},
     "output_type": "execute_result"
    }
   ],
   "source": [
    "# Comments\n",
    "# This is a comment\n",
    "\n",
    "\"\"\"\n",
    "This is a docstring.\n",
    "As such, we can use this for many things, including multiple lines.\n",
    "As such.\n",
    "\"\"\""
   ]
  },
  {
   "cell_type": "code",
   "execution_count": 3,
   "id": "a0ba6a90-8eb4-4979-a4ef-a1517da7da8d",
   "metadata": {},
   "outputs": [
    {
     "name": "stdout",
     "output_type": "stream",
     "text": [
      "Here is a docstring inside a function, for example.\n"
     ]
    }
   ],
   "source": [
    "def my_function():\n",
    "    \"\"\"Here is a docstring inside a function, for example.\"\"\"\n",
    "    pass\n",
    "\n",
    "print(my_function.__doc__)\n"
   ]
  },
  {
   "cell_type": "code",
   "execution_count": 4,
   "id": "815eaed0-dd80-43b3-a7b5-1e29c192022a",
   "metadata": {},
   "outputs": [],
   "source": [
    "# Variables\n",
    "a = 50  # integer\n",
    "b = 1.39  # float\n",
    "ticker = \"BTC\"  # string\n",
    "is_profit = True  # boolean\n"
   ]
  },
  {
   "cell_type": "code",
   "execution_count": 5,
   "id": "71a32123-06e9-4b26-94ff-543741290dd2",
   "metadata": {},
   "outputs": [
    {
     "name": "stdout",
     "output_type": "stream",
     "text": [
      "51.39\n",
      "48.61\n",
      "69.5\n",
      "35.97122302158274\n",
      "1.3500000000000034\n"
     ]
    }
   ],
   "source": [
    "# Operators and Expressions\n",
    "c = a + b\n",
    "print(c)\n",
    "\n",
    "c = a - b\n",
    "print(c)\n",
    "\n",
    "c = a * b\n",
    "print(c)\n",
    "\n",
    "c = a / b\n",
    "print(c)\n",
    "\n",
    "c = a % b\n",
    "print(c)"
   ]
  },
  {
   "cell_type": "code",
   "execution_count": 6,
   "id": "fb3b8991-73fa-4cf6-8119-6f444a7d8449",
   "metadata": {},
   "outputs": [
    {
     "name": "stdout",
     "output_type": "stream",
     "text": [
      "[2.34, 1.21, 7.98, 3.98, 'BTC']\n",
      "[2.34 1.21 7.98 3.98]\n",
      "tensor([2.3400, 1.2100, 7.9800, 3.9800], dtype=torch.float64)\n"
     ]
    }
   ],
   "source": [
    "# Lists and Arrays\n",
    "prices_list = [2.34, 1.21, 7.98, 3.98, \"BTC\"]\n",
    "print(prices_list)\n",
    "\n",
    "prices_array = np.array([2.34, 1.21, 7.98, 3.98])\n",
    "print(prices_array)\n",
    "\n",
    "prices_tensor = torch.tensor(prices_array)\n",
    "print(prices_tensor)"
   ]
  },
  {
   "cell_type": "code",
   "execution_count": 7,
   "id": "4df377fc-1929-4011-8598-e5279adcd8bf",
   "metadata": {},
   "outputs": [
    {
     "name": "stdout",
     "output_type": "stream",
     "text": [
      "[2.34, 1.21, 7.98, 3.98, 'BTC', 5.92]\n"
     ]
    }
   ],
   "source": [
    "# Appending to list\n",
    "prices_list.append(5.92)\n",
    "print(prices_list)\n"
   ]
  },
  {
   "cell_type": "code",
   "execution_count": 9,
   "id": "fc45d6d6-3a4a-4efb-bb90-7af5dc7251ae",
   "metadata": {},
   "outputs": [
    {
     "name": "stdout",
     "output_type": "stream",
     "text": [
      "First item: 2.34\n",
      "Last item: 5.92\n",
      "First two items: [2.34, 1.21]\n",
      "All but last: [2.34, 1.21, 7.98, 3.98, 'BTC']\n"
     ]
    }
   ],
   "source": [
    "# Accessing list elements\n",
    "first_item = prices_list[0]\n",
    "last_item = prices_list[-1]\n",
    "first_two_items = prices_list[:2]\n",
    "all_but_last = prices_list[:-1]\n",
    "print(\"First item:\", first_item)\n",
    "print(\"Last item:\", last_item)\n",
    "print(\"First two items:\", first_two_items)\n",
    "print(\"All but last:\", all_but_last)\n"
   ]
  },
  {
   "cell_type": "code",
   "execution_count": 10,
   "id": "22d2a4a8-6d60-4ee7-8a62-1e65e1912b42",
   "metadata": {},
   "outputs": [
    {
     "name": "stdout",
     "output_type": "stream",
     "text": [
      "List length: 6\n",
      "Array length: 4\n",
      "Tensor length: 4\n"
     ]
    }
   ],
   "source": [
    "# Length of list, array, and tensor\n",
    "list_length = len(prices_list)\n",
    "array_length = len(prices_array)\n",
    "tensor_length = len(prices_tensor)\n",
    "\n",
    "print(f\"List length: {list_length}\")\n",
    "print(f\"Array length: {array_length}\")\n",
    "print(f\"Tensor length: {tensor_length}\")"
   ]
  },
  {
   "cell_type": "code",
   "execution_count": 12,
   "id": "1f9fa1fb-393f-4064-9c07-6ac75ca12a99",
   "metadata": {},
   "outputs": [
    {
     "name": "stdout",
     "output_type": "stream",
     "text": [
      "[[2.34 1.2  1.19 2.31]\n",
      " [2.37 2.   1.17 2.22]]\n",
      "Shape: (2, 4)\n",
      "[[2.34 1.2 ]\n",
      " [1.19 2.31]\n",
      " [2.37 2.  ]\n",
      " [1.17 2.22]]\n",
      "[2.34 1.2  1.19 2.31 2.37 2.   1.17 2.22]\n"
     ]
    }
   ],
   "source": [
    "# Shapes and reshaping\n",
    "open_prices = [2.34, 1.2, 1.19, 2.31]\n",
    "close_prices = [2.37, 2.0, 1.17, 2.22]\n",
    "\n",
    "prices_array = np.array([open_prices, close_prices])\n",
    "print(prices_array)\n",
    "print(f\"Shape: {prices_array.shape}\")\n",
    "\n",
    "reshaped = prices_array.reshape(4, 2)\n",
    "print(reshaped)\n",
    "\n",
    "flattened = prices_array.reshape(1, 8)[0]\n",
    "print(flattened)"
   ]
  },
  {
   "cell_type": "code",
   "execution_count": 13,
   "id": "1de136bb-f4d2-47d7-804b-1b777245f96c",
   "metadata": {},
   "outputs": [
    {
     "data": {
      "text/plain": [
       "\" This code covers the main concepts discussed in the lecture, including:\\n\\nImporting libraries\\nComments and docstrings\\nVariables (integers, floats, strings, booleans)\\nBasic operators and expressions\\nLists, arrays, and tensors\\nList operations (appending, accessing elements)\\nGetting lengths of lists, arrays, and tensors\\nArray shapes and reshaping\\n\\nNote that Polars wasn't directly used in this part of the lecture, \\nbut it's imported as pl for potential future use. The code uses NumPy arrays and PyTorch tensors\\nas discussed in the lecture.\\n\""
      ]
     },
     "execution_count": 13,
     "metadata": {},
     "output_type": "execute_result"
    }
   ],
   "source": [
    "\"\"\" This code covers the main concepts discussed in the lecture, including:\n",
    "\n",
    "Importing libraries\n",
    "Comments and docstrings\n",
    "Variables (integers, floats, strings, booleans)\n",
    "Basic operators and expressions\n",
    "Lists, arrays, and tensors\n",
    "List operations (appending, accessing elements)\n",
    "Getting lengths of lists, arrays, and tensors\n",
    "Array shapes and reshaping\n",
    "\n",
    "Note that Polars wasn't directly used in this part of the lecture, \n",
    "but it's imported as pl for potential future use. The code uses NumPy arrays and PyTorch tensors\n",
    "as discussed in the lecture.\n",
    "\"\"\""
   ]
  },
  {
   "cell_type": "code",
   "execution_count": null,
   "id": "a30e0928-b824-47df-a873-bd72cd0159f9",
   "metadata": {},
   "outputs": [],
   "source": []
  }
 ],
 "metadata": {
  "kernelspec": {
   "display_name": "Python 3 (ipykernel)",
   "language": "python",
   "name": "python3"
  },
  "language_info": {
   "codemirror_mode": {
    "name": "ipython",
    "version": 3
   },
   "file_extension": ".py",
   "mimetype": "text/x-python",
   "name": "python",
   "nbconvert_exporter": "python",
   "pygments_lexer": "ipython3",
   "version": "3.12.0"
  }
 },
 "nbformat": 4,
 "nbformat_minor": 5
}
