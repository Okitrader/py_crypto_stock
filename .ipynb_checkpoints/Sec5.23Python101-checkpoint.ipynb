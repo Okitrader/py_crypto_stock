{
 "cells": [
  {
   "cell_type": "code",
   "execution_count": 1,
   "id": "cfc5efe5-7d8c-4539-9e0d-bf8e7cea57cf",
   "metadata": {},
   "outputs": [],
   "source": [
    "# Dictionaries\n"
   ]
  },
  {
   "cell_type": "code",
   "execution_count": 3,
   "id": "beed3563-7e2f-4cf5-8d42-557e29cc5b84",
   "metadata": {},
   "outputs": [
    {
     "name": "stdout",
     "output_type": "stream",
     "text": [
      "{'ticker': 'AAPL', 'name': 'Apple', 'current_price': 400}\n",
      "{'ticker': 'TSLA', 'name': 'Tesla', 'current_price': 550}\n"
     ]
    }
   ],
   "source": [
    "# Setting a dictionary\n",
    "stock_dict1 = {\n",
    "    \"ticker\": \"AAPL\",\n",
    "    \"name\": \"Apple\",\n",
    "    \"current_price\": 400\n",
    "}\n",
    "\n",
    "print(stock_dict1)\n",
    "\n",
    "stock_dict2 = {\n",
    "    \"ticker\": \"TSLA\",\n",
    "    \"name\": \"Tesla\",\n",
    "    \"current_price\": 550\n",
    "}\n",
    "\n",
    "print(stock_dict2)\n"
   ]
  },
  {
   "cell_type": "code",
   "execution_count": 4,
   "id": "09c1d237-fb4c-459d-a2d8-9c0de8b2135e",
   "metadata": {},
   "outputs": [
    {
     "name": "stdout",
     "output_type": "stream",
     "text": [
      "Apple's stock price is 400\n"
     ]
    }
   ],
   "source": [
    "# Accessing dictionary values\n",
    "print(f\"Apple's stock price is {stock_dict1['current_price']}\")\n"
   ]
  },
  {
   "cell_type": "code",
   "execution_count": 5,
   "id": "37a07dc0-4c1a-4777-b419-90991e96c08c",
   "metadata": {},
   "outputs": [
    {
     "name": "stdout",
     "output_type": "stream",
     "text": [
      "[{'ticker': 'AAPL', 'name': 'Apple', 'current_price': 400}, {'ticker': 'TSLA', 'name': 'Tesla', 'current_price': 550}]\n",
      "\n",
      "The first stock ticker is: AAPL\n"
     ]
    }
   ],
   "source": [
    "# Dictionaries in a list\n",
    "my_stocks = [stock_dict1, stock_dict2]\n",
    "\n",
    "print(my_stocks)\n",
    "print()  # Print nothing to create some space\n",
    "print(\"The first stock ticker is:\", my_stocks[0]['ticker'])"
   ]
  },
  {
   "cell_type": "code",
   "execution_count": 6,
   "id": "b6c5e903-dcaf-49e3-a972-3dc5f568bc66",
   "metadata": {},
   "outputs": [
    {
     "name": "stdout",
     "output_type": "stream",
     "text": [
      "{'opens': [2.34, 1.2, 1.19, 2.31], 'closes': [2.37, 2.0, 1.17, 2.22]}\n",
      "The last open price is 2.31\n"
     ]
    }
   ],
   "source": [
    "# Storing lists in a dictionary\n",
    "open_prices = [2.34, 1.2, 1.19, 2.31]  # Assuming these were defined earlier\n",
    "close_prices = [2.37, 2.0, 1.17, 2.22]  # Assuming these were defined earlier\n",
    "\n",
    "prices_dict = {\n",
    "    \"opens\": open_prices,\n",
    "    \"closes\": close_prices\n",
    "}\n",
    "\n",
    "print(prices_dict)\n",
    "print(f\"The last open price is {prices_dict['opens'][-1]}\")"
   ]
  },
  {
   "cell_type": "code",
   "execution_count": null,
   "id": "0501a04c-a887-4096-b545-932bc8841a3e",
   "metadata": {},
   "outputs": [],
   "source": []
  }
 ],
 "metadata": {
  "kernelspec": {
   "display_name": "Python 3 (ipykernel)",
   "language": "python",
   "name": "python3"
  },
  "language_info": {
   "codemirror_mode": {
    "name": "ipython",
    "version": 3
   },
   "file_extension": ".py",
   "mimetype": "text/x-python",
   "name": "python",
   "nbconvert_exporter": "python",
   "pygments_lexer": "ipython3",
   "version": "3.12.0"
  }
 },
 "nbformat": 4,
 "nbformat_minor": 5
}
