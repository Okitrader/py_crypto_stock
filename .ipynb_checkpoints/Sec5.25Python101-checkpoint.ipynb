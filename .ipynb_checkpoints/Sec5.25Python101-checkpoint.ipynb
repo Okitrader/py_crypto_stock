{
 "cells": [
  {
   "cell_type": "markdown",
   "id": "58a3d5ff-ce7b-4932-8802-2bc8a22af345",
   "metadata": {},
   "source": [
    "# Functions"
   ]
  },
  {
   "cell_type": "code",
   "execution_count": null,
   "id": "feeb882e-9818-48e3-b22e-364352c8e488",
   "metadata": {},
   "outputs": [],
   "source": [
    "def add_prices(price_one, price_two):\n",
    "    prices_sum = price_one + price_two\n",
    "    return prices_sum\n"
   ]
  },
  {
   "cell_type": "code",
   "execution_count": null,
   "id": "40801036-046d-4811-b64e-52182e5a5267",
   "metadata": {},
   "outputs": [],
   "source": [
    "# Using the function\n",
    "apple_price = 400\n",
    "tesla_price = 550\n",
    "added_prices = add_prices(apple_price, tesla_price)\n",
    "print(added_prices)\n"
   ]
  },
  {
   "cell_type": "markdown",
   "id": "c834089b-e858-4b14-8ec8-b89afebf58b0",
   "metadata": {},
   "source": [
    "# Classes"
   ]
  },
  {
   "cell_type": "code",
   "execution_count": 15,
   "id": "c164f10e-7680-4fc4-bb2b-eeb45b8bfa16",
   "metadata": {},
   "outputs": [],
   "source": [
    "import random  # This imports the entire random module\n",
    "\n",
    "class StockTracker:\n",
    "    def __init__(self, name, price): #initializes the first instance\n",
    "        self.name = name # now python knows to use the variables in the following usages \n",
    "        self.price = price\n",
    "    \n",
    "    def _random_generator(self):\n",
    "        return random.random()\n",
    "    # The underscore before the method name (_random_generator) suggests it's intended to be a private  \n",
    "    # method, used internally by the class but not typically called directly from outside the class.\n",
    "    \n",
    "    def multiply_by_random(self):  # Removed 'x' parameter as it's not used\n",
    "        return self.price * self._random_generator()"
   ]
  },
  {
   "cell_type": "code",
   "execution_count": 16,
   "id": "ead09346-b920-4990-80a2-ef2bd2c414e8",
   "metadata": {},
   "outputs": [],
   "source": [
    "# Creating class instances\n",
    "strader_AAPL = StockTracker(\"Apple\", 400) # def __init__(self, name, price)\n",
    "strader_GOOG = StockTracker(\"Google\", 1000) # def __init__(self, name, price)"
   ]
  },
  {
   "cell_type": "code",
   "execution_count": 17,
   "id": "481de702-520f-4ad9-bf98-0661ed96df51",
   "metadata": {},
   "outputs": [
    {
     "name": "stdout",
     "output_type": "stream",
     "text": [
      "Apple\n",
      "1000\n"
     ]
    }
   ],
   "source": [
    "# Calling class instance attributes\n",
    "print(strader_AAPL.name)\n",
    "print(strader_GOOG.price)"
   ]
  },
  {
   "cell_type": "code",
   "execution_count": 18,
   "id": "94b45364-bb74-425d-bfb8-d771850a23b5",
   "metadata": {},
   "outputs": [
    {
     "name": "stdout",
     "output_type": "stream",
     "text": [
      "215.92572971379\n"
     ]
    }
   ],
   "source": [
    "print(strader_GOOG.multiply_by_random())"
   ]
  },
  {
   "cell_type": "code",
   "execution_count": null,
   "id": "a35b6005-b30a-4692-b4b4-e71f063a62cf",
   "metadata": {},
   "outputs": [],
   "source": []
  },
  {
   "cell_type": "code",
   "execution_count": null,
   "id": "ec989613-4d49-49ff-9dd6-034719952790",
   "metadata": {},
   "outputs": [],
   "source": []
  },
  {
   "cell_type": "code",
   "execution_count": null,
   "id": "353343eb-ab07-4a38-ba26-492b2a359d33",
   "metadata": {},
   "outputs": [],
   "source": []
  }
 ],
 "metadata": {
  "kernelspec": {
   "display_name": "Python 3 (ipykernel)",
   "language": "python",
   "name": "python3"
  },
  "language_info": {
   "codemirror_mode": {
    "name": "ipython",
    "version": 3
   },
   "file_extension": ".py",
   "mimetype": "text/x-python",
   "name": "python",
   "nbconvert_exporter": "python",
   "pygments_lexer": "ipython3",
   "version": "3.12.0"
  }
 },
 "nbformat": 4,
 "nbformat_minor": 5
}
