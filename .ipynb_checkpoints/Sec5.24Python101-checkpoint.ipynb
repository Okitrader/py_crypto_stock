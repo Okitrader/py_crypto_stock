{
 "cells": [
  {
   "cell_type": "code",
   "execution_count": 1,
   "id": "9bbdcf2c-15ce-43b3-b531-346e24622de8",
   "metadata": {},
   "outputs": [],
   "source": [
    "# If statements"
   ]
  },
  {
   "cell_type": "code",
   "execution_count": 2,
   "id": "ca7fff22-3e9c-4d42-8568-2bde014bf05c",
   "metadata": {},
   "outputs": [
    {
     "name": "stdout",
     "output_type": "stream",
     "text": [
      "It's true\n"
     ]
    }
   ],
   "source": [
    "# Simple if\n",
    "if 1 == 1:\n",
    "    print(\"It's true\")"
   ]
  },
  {
   "cell_type": "code",
   "execution_count": 4,
   "id": "87a8e9e4-8804-4d51-865e-aeb5e8d60b2f",
   "metadata": {},
   "outputs": [
    {
     "name": "stdout",
     "output_type": "stream",
     "text": [
      "No, 1 does equal 1\n"
     ]
    }
   ],
   "source": [
    " #If-else\n",
    "if 1 != 1:\n",
    "    print(\"It's not true!\")\n",
    "else:\n",
    "    print(\"No, 1 does equal 1\")"
   ]
  },
  {
   "cell_type": "code",
   "execution_count": 5,
   "id": "2f455d48-565f-469f-9797-837a2338540d",
   "metadata": {},
   "outputs": [
    {
     "name": "stdout",
     "output_type": "stream",
     "text": [
      "Yes, it is greater than zero\n"
     ]
    }
   ],
   "source": [
    "# If-elif-else\n",
    "if 1 != 1:\n",
    "    print(\"It's true\")\n",
    "elif 1 > 0:\n",
    "    print(\"Yes, it is greater than zero\")\n",
    "else:\n",
    "    print(\"What just happened?\")"
   ]
  },
  {
   "cell_type": "code",
   "execution_count": 6,
   "id": "d726af60-b0c0-4a49-a812-fe55d07077d3",
   "metadata": {},
   "outputs": [
    {
     "name": "stdout",
     "output_type": "stream",
     "text": [
      "Hello, Apple\n",
      "CAT and AAPL are indeed two different stocks\n",
      "Yes, Tesla and Google are here\n",
      "Either Microsoft or Amazon was here\n"
     ]
    }
   ],
   "source": [
    "# and, or, in, not\n",
    "tech_stocks = [\"AAPL\", \"GOOGL\", \"TSLA\", \"MSFT\"]\n",
    "\n",
    "if \"AAPL\" in tech_stocks:\n",
    "    print(\"Hello, Apple\")\n",
    "\n",
    "if not \"CAT\" == \"AAPL\":\n",
    "    print(\"CAT and AAPL are indeed two different stocks\")\n",
    "\n",
    "if \"TSLA\" in tech_stocks and \"GOOGL\" in tech_stocks:\n",
    "    print(\"Yes, Tesla and Google are here\")\n",
    "\n",
    "if \"MSFT\" in tech_stocks or \"AMZN\" in tech_stocks:\n",
    "    print(\"Either Microsoft or Amazon was here\")"
   ]
  },
  {
   "cell_type": "code",
   "execution_count": 11,
   "id": "0fc439a5-dcf4-4e95-bad0-069f4e82f51f",
   "metadata": {},
   "outputs": [
    {
     "name": "stdout",
     "output_type": "stream",
     "text": [
      "{'ticker': 'AAPL', 'name': 'Apple', 'current_price': 400}\n",
      "{'ticker': 'TSLA', 'name': 'Tesla', 'current_price': 550}\n"
     ]
    }
   ],
   "source": [
    "# Setting a dictionary\n",
    "stock_dict1 = {\n",
    "    \"ticker\": \"AAPL\",\n",
    "    \"name\": \"Apple\",\n",
    "    \"current_price\": 400\n",
    "}\n",
    "\n",
    "print(stock_dict1)\n",
    "\n",
    "stock_dict2 = {\n",
    "    \"ticker\": \"TSLA\",\n",
    "    \"name\": \"Tesla\",\n",
    "    \"current_price\": 550\n",
    "}\n",
    "\n",
    "print(stock_dict2)\n"
   ]
  },
  {
   "cell_type": "code",
   "execution_count": 12,
   "id": "8b550d18-1d55-4e51-b1b9-bc330fe182cf",
   "metadata": {},
   "outputs": [
    {
     "name": "stdout",
     "output_type": "stream",
     "text": [
      "[{'ticker': 'AAPL', 'name': 'Apple', 'current_price': 400}, {'ticker': 'TSLA', 'name': 'Tesla', 'current_price': 550}]\n",
      "\n",
      "The first stock ticker is: AAPL\n"
     ]
    }
   ],
   "source": [
    "# Dictionaries in a list\n",
    "my_stocks = [stock_dict1, stock_dict2]\n",
    "\n",
    "print(my_stocks)\n",
    "print()  # Print nothing to create some space\n",
    "print(\"The first stock ticker is:\", my_stocks[0]['ticker'])"
   ]
  },
  {
   "cell_type": "code",
   "execution_count": 13,
   "id": "75758c7e-1e47-4f73-8ae4-4340081ca1dd",
   "metadata": {},
   "outputs": [
    {
     "name": "stdout",
     "output_type": "stream",
     "text": [
      "Signal is buy\n"
     ]
    }
   ],
   "source": [
    "# Ternary if condition\n",
    "buy_signal = \"buy\"\n",
    "signal = \"buy\" if my_stocks[0]['ticker'] == \"AAPL\" else \"hold\"\n",
    "print(f\"Signal is {signal}\")"
   ]
  },
  {
   "cell_type": "code",
   "execution_count": 14,
   "id": "8d99348c-1e76-4128-9588-2192bd3aff7b",
   "metadata": {},
   "outputs": [],
   "source": [
    "#Loops"
   ]
  },
  {
   "cell_type": "code",
   "execution_count": 15,
   "id": "775f02bf-fb2b-4523-9d45-e99a3246cb6d",
   "metadata": {},
   "outputs": [
    {
     "name": "stdout",
     "output_type": "stream",
     "text": [
      "{'ticker': 'AAPL', 'name': 'Apple', 'current_price': 400}\n",
      "{'ticker': 'TSLA', 'name': 'Tesla', 'current_price': 550}\n",
      "AAPL\n",
      "TSLA\n"
     ]
    }
   ],
   "source": [
    "# For loop\n",
    "for stock in my_stocks:\n",
    "    print(stock)\n",
    "\n",
    "for stock in my_stocks:\n",
    "    print(stock['ticker'])"
   ]
  },
  {
   "cell_type": "code",
   "execution_count": 16,
   "id": "828c8fd1-4130-42cc-91ab-e7fdf45afe1c",
   "metadata": {},
   "outputs": [
    {
     "name": "stdout",
     "output_type": "stream",
     "text": [
      "Volume is equal to 800\n",
      "Volume is equal to 1100\n"
     ]
    }
   ],
   "source": [
    "# For loop with calculations\n",
    "for stock in my_stocks:\n",
    "    price = stock['current_price']\n",
    "    volume = price * 2\n",
    "    print(f\"Volume is equal to {volume}\")\n"
   ]
  },
  {
   "cell_type": "code",
   "execution_count": 17,
   "id": "3ef98402-7239-4973-b3bf-323e100898cb",
   "metadata": {},
   "outputs": [
    {
     "name": "stdout",
     "output_type": "stream",
     "text": [
      "0\n",
      "1\n",
      "2\n",
      "Length of my_stocks: 3\n",
      "Apple: 400\n",
      "Tesla: 550\n",
      "Google: 1000\n"
     ]
    }
   ],
   "source": [
    "# While loop\n",
    "new_stock = {\n",
    "    \"ticker\": \"GOOGL\",\n",
    "    \"name\": \"Google\",\n",
    "    \"current_price\": 1000\n",
    "}\n",
    "my_stocks.append(new_stock)\n",
    "\n",
    "i = 0\n",
    "while i < len(my_stocks):\n",
    "    print(i)\n",
    "    i += 1\n",
    "\n",
    "print(f\"Length of my_stocks: {len(my_stocks)}\")\n",
    "\n",
    "i = 0\n",
    "while i < len(my_stocks):\n",
    "    stock = my_stocks[i]\n",
    "    name = stock['name']\n",
    "    price = stock['current_price']\n",
    "    print(f\"{name}: {price}\")\n",
    "    i += 1"
   ]
  },
  {
   "cell_type": "code",
   "execution_count": 18,
   "id": "e53bd78c-1e79-434d-8f0b-04b8ace42b43",
   "metadata": {},
   "outputs": [
    {
     "name": "stdout",
     "output_type": "stream",
     "text": [
      "AAPL, 400\n",
      "TSLA, 550\n"
     ]
    }
   ],
   "source": [
    "# Break statement\n",
    "for stock in my_stocks:\n",
    "    ticker = stock['ticker']\n",
    "    price = stock['current_price']\n",
    "    if price > 700:\n",
    "        break\n",
    "    print(f\"{ticker}, {price}\")\n"
   ]
  },
  {
   "cell_type": "code",
   "execution_count": 19,
   "id": "680f029f-8190-4dfe-a079-5b7de42a3687",
   "metadata": {},
   "outputs": [
    {
     "name": "stdout",
     "output_type": "stream",
     "text": [
      "TSLA, 550\n",
      "GOOGL, 1000\n"
     ]
    }
   ],
   "source": [
    "# Continue statement\n",
    "for stock in my_stocks:\n",
    "    ticker = stock['ticker']\n",
    "    price = stock['current_price']\n",
    "    if price < 500:\n",
    "        continue\n",
    "    print(f\"{ticker}, {price}\")"
   ]
  },
  {
   "cell_type": "code",
   "execution_count": null,
   "id": "226dffbb-bb93-4b7c-8548-d718270b43ca",
   "metadata": {},
   "outputs": [],
   "source": []
  }
 ],
 "metadata": {
  "kernelspec": {
   "display_name": "Python 3 (ipykernel)",
   "language": "python",
   "name": "python3"
  },
  "language_info": {
   "codemirror_mode": {
    "name": "ipython",
    "version": 3
   },
   "file_extension": ".py",
   "mimetype": "text/x-python",
   "name": "python",
   "nbconvert_exporter": "python",
   "pygments_lexer": "ipython3",
   "version": "3.12.0"
  }
 },
 "nbformat": 4,
 "nbformat_minor": 5
}
