{
 "cells": [
  {
   "cell_type": "markdown",
   "id": "4603d578-2827-4121-bfaf-609a65471c0e",
   "metadata": {},
   "source": [
    "# Structure Changes"
   ]
  },
  {
   "cell_type": "code",
   "execution_count": 1,
   "id": "3fafe4f9-d2ec-4f62-bad8-63c4805e409c",
   "metadata": {},
   "outputs": [],
   "source": [
    "# Imports\n",
    "import polars as pl\n",
    "import numpy as np\n",
    "import matplotlib.pyplot as plt\n",
    "import yfinance as yf\n"
   ]
  },
  {
   "cell_type": "code",
   "execution_count": 2,
   "id": "513047f8-497b-4c8c-a3a1-464662dc4914",
   "metadata": {},
   "outputs": [
    {
     "name": "stdout",
     "output_type": "stream",
     "text": [
      "[*********************100%%**********************]  1 of 1 completed\n"
     ]
    },
    {
     "data": {
      "text/html": [
       "<div><style>\n",
       ".dataframe > thead > tr,\n",
       ".dataframe > tbody > tr {\n",
       "  text-align: right;\n",
       "  white-space: pre-wrap;\n",
       "}\n",
       "</style>\n",
       "<small>shape: (5, 7)</small><table border=\"1\" class=\"dataframe\"><thead><tr><th>Date</th><th>Open</th><th>High</th><th>Low</th><th>Close</th><th>Adj Close</th><th>Volume</th></tr><tr><td>datetime[ns]</td><td>f64</td><td>f64</td><td>f64</td><td>f64</td><td>f64</td><td>i64</td></tr></thead><tbody><tr><td>2023-01-01 00:00:00</td><td>0.000008</td><td>0.000008</td><td>0.000008</td><td>0.000008</td><td>0.000008</td><td>54630954</td></tr><tr><td>2023-01-02 00:00:00</td><td>0.000008</td><td>0.000008</td><td>0.000008</td><td>0.000008</td><td>0.000008</td><td>87586024</td></tr><tr><td>2023-01-03 00:00:00</td><td>0.000008</td><td>0.000008</td><td>0.000008</td><td>0.000008</td><td>0.000008</td><td>80033128</td></tr><tr><td>2023-01-04 00:00:00</td><td>0.000008</td><td>0.000008</td><td>0.000008</td><td>0.000008</td><td>0.000008</td><td>143577598</td></tr><tr><td>2023-01-05 00:00:00</td><td>0.000008</td><td>0.000009</td><td>0.000008</td><td>0.000008</td><td>0.000008</td><td>262459409</td></tr></tbody></table></div>"
      ],
      "text/plain": [
       "shape: (5, 7)\n",
       "┌─────────────────────┬──────────┬──────────┬──────────┬──────────┬───────────┬───────────┐\n",
       "│ Date                ┆ Open     ┆ High     ┆ Low      ┆ Close    ┆ Adj Close ┆ Volume    │\n",
       "│ ---                 ┆ ---      ┆ ---      ┆ ---      ┆ ---      ┆ ---       ┆ ---       │\n",
       "│ datetime[ns]        ┆ f64      ┆ f64      ┆ f64      ┆ f64      ┆ f64       ┆ i64       │\n",
       "╞═════════════════════╪══════════╪══════════╪══════════╪══════════╪═══════════╪═══════════╡\n",
       "│ 2023-01-01 00:00:00 ┆ 0.000008 ┆ 0.000008 ┆ 0.000008 ┆ 0.000008 ┆ 0.000008  ┆ 54630954  │\n",
       "│ 2023-01-02 00:00:00 ┆ 0.000008 ┆ 0.000008 ┆ 0.000008 ┆ 0.000008 ┆ 0.000008  ┆ 87586024  │\n",
       "│ 2023-01-03 00:00:00 ┆ 0.000008 ┆ 0.000008 ┆ 0.000008 ┆ 0.000008 ┆ 0.000008  ┆ 80033128  │\n",
       "│ 2023-01-04 00:00:00 ┆ 0.000008 ┆ 0.000008 ┆ 0.000008 ┆ 0.000008 ┆ 0.000008  ┆ 143577598 │\n",
       "│ 2023-01-05 00:00:00 ┆ 0.000008 ┆ 0.000009 ┆ 0.000008 ┆ 0.000008 ┆ 0.000008  ┆ 262459409 │\n",
       "└─────────────────────┴──────────┴──────────┴──────────┴──────────┴───────────┴───────────┘"
      ]
     },
     "execution_count": 2,
     "metadata": {},
     "output_type": "execute_result"
    }
   ],
   "source": [
    "# Extract and view data\n",
    "start_date = \"2023-01-01\"\n",
    "end_date = \"2024-06-01\"\n",
    "symbol = \"SHIB-USD\"\n",
    "\n",
    "# Fetch data using yfinance\n",
    "df_yf = yf.download(symbol, start=start_date, end=end_date)\n",
    "\n",
    "# Convert to Polars DataFrame\n",
    "df = pl.from_pandas(df_yf.reset_index())\n",
    "df.head(5)"
   ]
  },
  {
   "cell_type": "code",
   "execution_count": 3,
   "id": "2fc50986-d9f0-42d0-a4ec-cd43ad53c155",
   "metadata": {},
   "outputs": [
    {
     "name": "stdout",
     "output_type": "stream",
     "text": [
      "shape: (5, 7)\n",
      "┌─────────────────────┬──────────┬──────────┬──────────┬──────────┬───────────┬───────────┐\n",
      "│ Date                ┆ Open     ┆ High     ┆ Low      ┆ Close    ┆ Adj Close ┆ Volume    │\n",
      "│ ---                 ┆ ---      ┆ ---      ┆ ---      ┆ ---      ┆ ---       ┆ ---       │\n",
      "│ datetime[ns]        ┆ f64      ┆ f64      ┆ f64      ┆ f64      ┆ f64       ┆ i64       │\n",
      "╞═════════════════════╪══════════╪══════════╪══════════╪══════════╪═══════════╪═══════════╡\n",
      "│ 2023-01-01 00:00:00 ┆ 0.000008 ┆ 0.000008 ┆ 0.000008 ┆ 0.000008 ┆ 0.000008  ┆ 54630954  │\n",
      "│ 2023-01-02 00:00:00 ┆ 0.000008 ┆ 0.000008 ┆ 0.000008 ┆ 0.000008 ┆ 0.000008  ┆ 87586024  │\n",
      "│ 2023-01-03 00:00:00 ┆ 0.000008 ┆ 0.000008 ┆ 0.000008 ┆ 0.000008 ┆ 0.000008  ┆ 80033128  │\n",
      "│ 2023-01-04 00:00:00 ┆ 0.000008 ┆ 0.000008 ┆ 0.000008 ┆ 0.000008 ┆ 0.000008  ┆ 143577598 │\n",
      "│ 2023-01-05 00:00:00 ┆ 0.000008 ┆ 0.000009 ┆ 0.000008 ┆ 0.000008 ┆ 0.000008  ┆ 262459409 │\n",
      "└─────────────────────┴──────────┴──────────┴──────────┴──────────┴───────────┴───────────┘\n",
      "shape: (5, 7)\n",
      "┌─────────────────────┬──────────┬──────────┬──────────┬──────────┬───────────┬────────────┐\n",
      "│ Date                ┆ Open     ┆ High     ┆ Low      ┆ Close    ┆ Adj Close ┆ Volume     │\n",
      "│ ---                 ┆ ---      ┆ ---      ┆ ---      ┆ ---      ┆ ---       ┆ ---        │\n",
      "│ datetime[ns]        ┆ f64      ┆ f64      ┆ f64      ┆ f64      ┆ f64       ┆ i64        │\n",
      "╞═════════════════════╪══════════╪══════════╪══════════╪══════════╪═══════════╪════════════╡\n",
      "│ 2024-05-27 00:00:00 ┆ 0.000024 ┆ 0.000026 ┆ 0.000024 ┆ 0.000026 ┆ 0.000026  ┆ 896314681  │\n",
      "│ 2024-05-28 00:00:00 ┆ 0.000026 ┆ 0.000027 ┆ 0.000025 ┆ 0.000027 ┆ 0.000027  ┆ 1425220892 │\n",
      "│ 2024-05-29 00:00:00 ┆ 0.000027 ┆ 0.000029 ┆ 0.000027 ┆ 0.000028 ┆ 0.000028  ┆ 2117328124 │\n",
      "│ 2024-05-30 00:00:00 ┆ 0.000028 ┆ 0.000028 ┆ 0.000026 ┆ 0.000026 ┆ 0.000026  ┆ 1206206513 │\n",
      "│ 2024-05-31 00:00:00 ┆ 0.000026 ┆ 0.000026 ┆ 0.000025 ┆ 0.000025 ┆ 0.000025  ┆ 604242055  │\n",
      "└─────────────────────┴──────────┴──────────┴──────────┴──────────┴───────────┴────────────┘\n",
      "shape: (3, 7)\n",
      "┌─────────────────────┬──────────┬──────────┬──────────┬──────────┬───────────┬────────────┐\n",
      "│ Date                ┆ Open     ┆ High     ┆ Low      ┆ Close    ┆ Adj Close ┆ Volume     │\n",
      "│ ---                 ┆ ---      ┆ ---      ┆ ---      ┆ ---      ┆ ---       ┆ ---        │\n",
      "│ datetime[ns]        ┆ f64      ┆ f64      ┆ f64      ┆ f64      ┆ f64       ┆ i64        │\n",
      "╞═════════════════════╪══════════╪══════════╪══════════╪══════════╪═══════════╪════════════╡\n",
      "│ 2024-05-29 00:00:00 ┆ 0.000027 ┆ 0.000029 ┆ 0.000027 ┆ 0.000028 ┆ 0.000028  ┆ 2117328124 │\n",
      "│ 2024-05-30 00:00:00 ┆ 0.000028 ┆ 0.000028 ┆ 0.000026 ┆ 0.000026 ┆ 0.000026  ┆ 1206206513 │\n",
      "│ 2024-05-31 00:00:00 ┆ 0.000026 ┆ 0.000026 ┆ 0.000025 ┆ 0.000025 ┆ 0.000025  ┆ 604242055  │\n",
      "└─────────────────────┴──────────┴──────────┴──────────┴──────────┴───────────┴────────────┘\n"
     ]
    }
   ],
   "source": [
    "# View head and tail\n",
    "print(df.head())\n",
    "print(df.tail())\n",
    "print(df.tail(3))\n"
   ]
  },
  {
   "cell_type": "code",
   "execution_count": 4,
   "id": "91b30594-8306-4aac-b2a8-65a5b88ffe27",
   "metadata": {},
   "outputs": [
    {
     "name": "stdout",
     "output_type": "stream",
     "text": [
      "shape: (3, 8)\n",
      "┌─────────────────────┬──────────┬──────────┬──────────┬──────────┬───────────┬──────────┬─────────┐\n",
      "│ Date                ┆ Open     ┆ High     ┆ Low      ┆ Close    ┆ Adj Close ┆ Volume   ┆ Returns │\n",
      "│ ---                 ┆ ---      ┆ ---      ┆ ---      ┆ ---      ┆ ---       ┆ ---      ┆ ---     │\n",
      "│ datetime[ns]        ┆ f64      ┆ f64      ┆ f64      ┆ f64      ┆ f64       ┆ i64      ┆ f64     │\n",
      "╞═════════════════════╪══════════╪══════════╪══════════╪══════════╪═══════════╪══════════╪═════════╡\n",
      "│ 2023-01-01 00:00:00 ┆ 0.000008 ┆ 0.000008 ┆ 0.000008 ┆ 0.000008 ┆ 0.000008  ┆ 54630954 ┆ null    │\n",
      "│ 2023-01-02 00:00:00 ┆ 0.000008 ┆ 0.000008 ┆ 0.000008 ┆ 0.000008 ┆ 0.000008  ┆ 87586024 ┆ 0.0     │\n",
      "│ 2023-01-03 00:00:00 ┆ 0.000008 ┆ 0.000008 ┆ 0.000008 ┆ 0.000008 ┆ 0.000008  ┆ 80033128 ┆ 0.0     │\n",
      "└─────────────────────┴──────────┴──────────┴──────────┴──────────┴───────────┴──────────┴─────────┘\n"
     ]
    }
   ],
   "source": [
    "# Add a column for returns\n",
    "df = df.with_columns(\n",
    "    pl.col(\"Close\").pct_change().alias(\"Returns\")\n",
    ")\n",
    "print(df.head(3))"
   ]
  },
  {
   "cell_type": "code",
   "execution_count": 5,
   "id": "f9e59bf0-31cc-48ad-8fce-8067acaf7055",
   "metadata": {},
   "outputs": [
    {
     "name": "stdout",
     "output_type": "stream",
     "text": [
      "shape: (3, 9)\n",
      "┌──────────────┬──────────┬──────────┬──────────┬───┬───────────┬──────────┬─────────┬─────────────┐\n",
      "│ Date         ┆ Open     ┆ High     ┆ Low      ┆ … ┆ Adj Close ┆ Volume   ┆ Returns ┆ Log Returns │\n",
      "│ ---          ┆ ---      ┆ ---      ┆ ---      ┆   ┆ ---       ┆ ---      ┆ ---     ┆ ---         │\n",
      "│ datetime[ns] ┆ f64      ┆ f64      ┆ f64      ┆   ┆ f64       ┆ i64      ┆ f64     ┆ f64         │\n",
      "╞══════════════╪══════════╪══════════╪══════════╪═══╪═══════════╪══════════╪═════════╪═════════════╡\n",
      "│ 2023-01-01   ┆ 0.000008 ┆ 0.000008 ┆ 0.000008 ┆ … ┆ 0.000008  ┆ 54630954 ┆ null    ┆ null        │\n",
      "│ 00:00:00     ┆          ┆          ┆          ┆   ┆           ┆          ┆         ┆             │\n",
      "│ 2023-01-02   ┆ 0.000008 ┆ 0.000008 ┆ 0.000008 ┆ … ┆ 0.000008  ┆ 87586024 ┆ 0.0     ┆ 0.0         │\n",
      "│ 00:00:00     ┆          ┆          ┆          ┆   ┆           ┆          ┆         ┆             │\n",
      "│ 2023-01-03   ┆ 0.000008 ┆ 0.000008 ┆ 0.000008 ┆ … ┆ 0.000008  ┆ 80033128 ┆ 0.0     ┆ 0.0         │\n",
      "│ 00:00:00     ┆          ┆          ┆          ┆   ┆           ┆          ┆         ┆             │\n",
      "└──────────────┴──────────┴──────────┴──────────┴───┴───────────┴──────────┴─────────┴─────────────┘\n"
     ]
    }
   ],
   "source": [
    "import numpy as np\n",
    "\n",
    "# Calculate log returns\n",
    "df = df.with_columns(\n",
    "    (pl.col(\"Close\") / pl.col(\"Close\").shift(1)).map_batches(np.log).alias(\"Log Returns\")\n",
    ")\n",
    "print(df.head(3))"
   ]
  },
  {
   "cell_type": "code",
   "execution_count": 6,
   "id": "3c859c83-7462-4b9d-bd1c-813f29dfbe47",
   "metadata": {},
   "outputs": [
    {
     "name": "stdout",
     "output_type": "stream",
     "text": [
      "shape: (5, 10)\n",
      "┌────────────────┬──────────┬──────────┬──────────┬───┬───────────┬─────────┬─────────────┬────────┐\n",
      "│ Date           ┆ Open     ┆ High     ┆ Low      ┆ … ┆ Volume    ┆ Returns ┆ Log Returns ┆ CumSum │\n",
      "│ ---            ┆ ---      ┆ ---      ┆ ---      ┆   ┆ ---       ┆ ---     ┆ ---         ┆ ---    │\n",
      "│ datetime[ns]   ┆ f64      ┆ f64      ┆ f64      ┆   ┆ i64       ┆ f64     ┆ f64         ┆ f64    │\n",
      "╞════════════════╪══════════╪══════════╪══════════╪═══╪═══════════╪═════════╪═════════════╪════════╡\n",
      "│ 2023-01-01     ┆ 0.000008 ┆ 0.000008 ┆ 0.000008 ┆ … ┆ 54630954  ┆ null    ┆ null        ┆ null   │\n",
      "│ 00:00:00       ┆          ┆          ┆          ┆   ┆           ┆         ┆             ┆        │\n",
      "│ 2023-01-02     ┆ 0.000008 ┆ 0.000008 ┆ 0.000008 ┆ … ┆ 87586024  ┆ 0.0     ┆ 0.0         ┆ 0.0    │\n",
      "│ 00:00:00       ┆          ┆          ┆          ┆   ┆           ┆         ┆             ┆        │\n",
      "│ 2023-01-03     ┆ 0.000008 ┆ 0.000008 ┆ 0.000008 ┆ … ┆ 80033128  ┆ 0.0     ┆ 0.0         ┆ 0.0    │\n",
      "│ 00:00:00       ┆          ┆          ┆          ┆   ┆           ┆         ┆             ┆        │\n",
      "│ 2023-01-04     ┆ 0.000008 ┆ 0.000008 ┆ 0.000008 ┆ … ┆ 143577598 ┆ 0.0     ┆ 0.0         ┆ 0.0    │\n",
      "│ 00:00:00       ┆          ┆          ┆          ┆   ┆           ┆         ┆             ┆        │\n",
      "│ 2023-01-05     ┆ 0.000008 ┆ 0.000009 ┆ 0.000008 ┆ … ┆ 262459409 ┆ 0.0     ┆ 0.0         ┆ 0.0    │\n",
      "│ 00:00:00       ┆          ┆          ┆          ┆   ┆           ┆         ┆             ┆        │\n",
      "└────────────────┴──────────┴──────────┴──────────┴───┴───────────┴─────────┴─────────────┴────────┘\n"
     ]
    }
   ],
   "source": [
    "# Cumulative sum of log returns\n",
    "df = df.with_columns(\n",
    "    pl.col(\"Log Returns\").cum_sum().alias(\"CumSum\")\n",
    ")\n",
    "print(df.head())\n"
   ]
  },
  {
   "cell_type": "code",
   "execution_count": 7,
   "id": "69486ae7-0103-4b9c-8526-9e164f78710c",
   "metadata": {},
   "outputs": [
    {
     "name": "stdout",
     "output_type": "stream",
     "text": [
      "shape: (5, 11)\n",
      "┌────────────────┬──────────┬──────────┬──────────┬───┬─────────┬─────────────┬────────┬───────────┐\n",
      "│ Date           ┆ Open     ┆ High     ┆ Low      ┆ … ┆ Returns ┆ Log Returns ┆ CumSum ┆ RetNormal │\n",
      "│ ---            ┆ ---      ┆ ---      ┆ ---      ┆   ┆ ---     ┆ ---         ┆ ---    ┆ ---       │\n",
      "│ datetime[ns]   ┆ f64      ┆ f64      ┆ f64      ┆   ┆ f64     ┆ f64         ┆ f64    ┆ f64       │\n",
      "╞════════════════╪══════════╪══════════╪══════════╪═══╪═════════╪═════════════╪════════╪═══════════╡\n",
      "│ 2023-01-01     ┆ 0.000008 ┆ 0.000008 ┆ 0.000008 ┆ … ┆ null    ┆ null        ┆ null   ┆ null      │\n",
      "│ 00:00:00       ┆          ┆          ┆          ┆   ┆         ┆             ┆        ┆           │\n",
      "│ 2023-01-02     ┆ 0.000008 ┆ 0.000008 ┆ 0.000008 ┆ … ┆ 0.0     ┆ 0.0         ┆ 0.0    ┆ 0.0       │\n",
      "│ 00:00:00       ┆          ┆          ┆          ┆   ┆         ┆             ┆        ┆           │\n",
      "│ 2023-01-03     ┆ 0.000008 ┆ 0.000008 ┆ 0.000008 ┆ … ┆ 0.0     ┆ 0.0         ┆ 0.0    ┆ 0.0       │\n",
      "│ 00:00:00       ┆          ┆          ┆          ┆   ┆         ┆             ┆        ┆           │\n",
      "│ 2023-01-04     ┆ 0.000008 ┆ 0.000008 ┆ 0.000008 ┆ … ┆ 0.0     ┆ 0.0         ┆ 0.0    ┆ 0.0       │\n",
      "│ 00:00:00       ┆          ┆          ┆          ┆   ┆         ┆             ┆        ┆           │\n",
      "│ 2023-01-05     ┆ 0.000008 ┆ 0.000009 ┆ 0.000008 ┆ … ┆ 0.0     ┆ 0.0         ┆ 0.0    ┆ 0.0       │\n",
      "│ 00:00:00       ┆          ┆          ┆          ┆   ┆         ┆             ┆        ┆           │\n",
      "└────────────────┴──────────┴──────────┴──────────┴───┴─────────┴─────────────┴────────┴───────────┘\n"
     ]
    }
   ],
   "source": [
    "# Normalize log returns\n",
    "df = df.with_columns(\n",
    "    (np.exp(pl.col(\"CumSum\")) - 1).alias(\"RetNormal\")\n",
    ")\n",
    "print(df.head())"
   ]
  },
  {
   "cell_type": "code",
   "execution_count": 9,
   "id": "93f4364c-8ef0-48aa-b16d-e9010ea69cf7",
   "metadata": {},
   "outputs": [],
   "source": [
    "df_new = df.clone()"
   ]
  },
  {
   "cell_type": "code",
   "execution_count": 10,
   "id": "c4e4abff-8469-4863-97e5-6630ffaa3b90",
   "metadata": {},
   "outputs": [
    {
     "data": {
      "text/html": [
       "<div><style>\n",
       ".dataframe > thead > tr,\n",
       ".dataframe > tbody > tr {\n",
       "  text-align: right;\n",
       "  white-space: pre-wrap;\n",
       "}\n",
       "</style>\n",
       "<small>shape: (5, 11)</small><table border=\"1\" class=\"dataframe\"><thead><tr><th>Date</th><th>Open</th><th>High</th><th>Low</th><th>Close</th><th>Adj Close</th><th>Volume</th><th>Returns</th><th>Log Returns</th><th>CumSum</th><th>RetNormal</th></tr><tr><td>datetime[ns]</td><td>f64</td><td>f64</td><td>f64</td><td>f64</td><td>f64</td><td>i64</td><td>f64</td><td>f64</td><td>f64</td><td>f64</td></tr></thead><tbody><tr><td>2023-01-01 00:00:00</td><td>0.000008</td><td>0.000008</td><td>0.000008</td><td>0.000008</td><td>0.000008</td><td>54630954</td><td>null</td><td>null</td><td>null</td><td>null</td></tr><tr><td>2023-01-02 00:00:00</td><td>0.000008</td><td>0.000008</td><td>0.000008</td><td>0.000008</td><td>0.000008</td><td>87586024</td><td>0.0</td><td>0.0</td><td>0.0</td><td>0.0</td></tr><tr><td>2023-01-03 00:00:00</td><td>0.000008</td><td>0.000008</td><td>0.000008</td><td>0.000008</td><td>0.000008</td><td>80033128</td><td>0.0</td><td>0.0</td><td>0.0</td><td>0.0</td></tr><tr><td>2023-01-04 00:00:00</td><td>0.000008</td><td>0.000008</td><td>0.000008</td><td>0.000008</td><td>0.000008</td><td>143577598</td><td>0.0</td><td>0.0</td><td>0.0</td><td>0.0</td></tr><tr><td>2023-01-05 00:00:00</td><td>0.000008</td><td>0.000009</td><td>0.000008</td><td>0.000008</td><td>0.000008</td><td>262459409</td><td>0.0</td><td>0.0</td><td>0.0</td><td>0.0</td></tr></tbody></table></div>"
      ],
      "text/plain": [
       "shape: (5, 11)\n",
       "┌────────────────┬──────────┬──────────┬──────────┬───┬─────────┬─────────────┬────────┬───────────┐\n",
       "│ Date           ┆ Open     ┆ High     ┆ Low      ┆ … ┆ Returns ┆ Log Returns ┆ CumSum ┆ RetNormal │\n",
       "│ ---            ┆ ---      ┆ ---      ┆ ---      ┆   ┆ ---     ┆ ---         ┆ ---    ┆ ---       │\n",
       "│ datetime[ns]   ┆ f64      ┆ f64      ┆ f64      ┆   ┆ f64     ┆ f64         ┆ f64    ┆ f64       │\n",
       "╞════════════════╪══════════╪══════════╪══════════╪═══╪═════════╪═════════════╪════════╪═══════════╡\n",
       "│ 2023-01-01     ┆ 0.000008 ┆ 0.000008 ┆ 0.000008 ┆ … ┆ null    ┆ null        ┆ null   ┆ null      │\n",
       "│ 00:00:00       ┆          ┆          ┆          ┆   ┆         ┆             ┆        ┆           │\n",
       "│ 2023-01-02     ┆ 0.000008 ┆ 0.000008 ┆ 0.000008 ┆ … ┆ 0.0     ┆ 0.0         ┆ 0.0    ┆ 0.0       │\n",
       "│ 00:00:00       ┆          ┆          ┆          ┆   ┆         ┆             ┆        ┆           │\n",
       "│ 2023-01-03     ┆ 0.000008 ┆ 0.000008 ┆ 0.000008 ┆ … ┆ 0.0     ┆ 0.0         ┆ 0.0    ┆ 0.0       │\n",
       "│ 00:00:00       ┆          ┆          ┆          ┆   ┆         ┆             ┆        ┆           │\n",
       "│ 2023-01-04     ┆ 0.000008 ┆ 0.000008 ┆ 0.000008 ┆ … ┆ 0.0     ┆ 0.0         ┆ 0.0    ┆ 0.0       │\n",
       "│ 00:00:00       ┆          ┆          ┆          ┆   ┆         ┆             ┆        ┆           │\n",
       "│ 2023-01-05     ┆ 0.000008 ┆ 0.000009 ┆ 0.000008 ┆ … ┆ 0.0     ┆ 0.0         ┆ 0.0    ┆ 0.0       │\n",
       "│ 00:00:00       ┆          ┆          ┆          ┆   ┆         ┆             ┆        ┆           │\n",
       "└────────────────┴──────────┴──────────┴──────────┴───┴─────────┴─────────────┴────────┴───────────┘"
      ]
     },
     "execution_count": 10,
     "metadata": {},
     "output_type": "execute_result"
    }
   ],
   "source": [
    "df_new.head()"
   ]
  },
  {
   "cell_type": "code",
   "execution_count": 11,
   "id": "87f4785d-39f0-429a-9845-77347ef98764",
   "metadata": {},
   "outputs": [
    {
     "name": "stdout",
     "output_type": "stream",
     "text": [
      "shape: (5, 9)\n",
      "┌───────────────┬──────────┬──────────┬───────────┬───┬─────────┬─────────────┬────────┬───────────┐\n",
      "│ Date          ┆ Open     ┆ Close    ┆ Adj Close ┆ … ┆ Returns ┆ Log Returns ┆ CumSum ┆ RetNormal │\n",
      "│ ---           ┆ ---      ┆ ---      ┆ ---       ┆   ┆ ---     ┆ ---         ┆ ---    ┆ ---       │\n",
      "│ datetime[ns]  ┆ f64      ┆ f64      ┆ f64       ┆   ┆ f64     ┆ f64         ┆ f64    ┆ f64       │\n",
      "╞═══════════════╪══════════╪══════════╪═══════════╪═══╪═════════╪═════════════╪════════╪═══════════╡\n",
      "│ 2023-01-01    ┆ 0.000008 ┆ 0.000008 ┆ 0.000008  ┆ … ┆ null    ┆ null        ┆ null   ┆ null      │\n",
      "│ 00:00:00      ┆          ┆          ┆           ┆   ┆         ┆             ┆        ┆           │\n",
      "│ 2023-01-02    ┆ 0.000008 ┆ 0.000008 ┆ 0.000008  ┆ … ┆ 0.0     ┆ 0.0         ┆ 0.0    ┆ 0.0       │\n",
      "│ 00:00:00      ┆          ┆          ┆           ┆   ┆         ┆             ┆        ┆           │\n",
      "│ 2023-01-03    ┆ 0.000008 ┆ 0.000008 ┆ 0.000008  ┆ … ┆ 0.0     ┆ 0.0         ┆ 0.0    ┆ 0.0       │\n",
      "│ 00:00:00      ┆          ┆          ┆           ┆   ┆         ┆             ┆        ┆           │\n",
      "│ 2023-01-04    ┆ 0.000008 ┆ 0.000008 ┆ 0.000008  ┆ … ┆ 0.0     ┆ 0.0         ┆ 0.0    ┆ 0.0       │\n",
      "│ 00:00:00      ┆          ┆          ┆           ┆   ┆         ┆             ┆        ┆           │\n",
      "│ 2023-01-05    ┆ 0.000008 ┆ 0.000008 ┆ 0.000008  ┆ … ┆ 0.0     ┆ 0.0         ┆ 0.0    ┆ 0.0       │\n",
      "│ 00:00:00      ┆          ┆          ┆           ┆   ┆         ┆             ┆        ┆           │\n",
      "└───────────────┴──────────┴──────────┴───────────┴───┴─────────┴─────────────┴────────┴───────────┘\n"
     ]
    }
   ],
   "source": [
    "# Drop columns\n",
    "df_new = df_new.drop(['High', 'Low', 'Adjusted Close'])\n",
    "print(df_new.head())\n"
   ]
  },
  {
   "cell_type": "code",
   "execution_count": 12,
   "id": "a9146345-f166-4563-98ab-a4b3a9bf4996",
   "metadata": {},
   "outputs": [
    {
     "name": "stdout",
     "output_type": "stream",
     "text": [
      "shape: (3, 6)\n",
      "┌──────────┬───────────┬───────────┬─────────┬─────────────┬────────┐\n",
      "│ Close    ┆ Adj Close ┆ Volume    ┆ Returns ┆ Log Returns ┆ CumSum │\n",
      "│ ---      ┆ ---       ┆ ---       ┆ ---     ┆ ---         ┆ ---    │\n",
      "│ f64      ┆ f64       ┆ i64       ┆ f64     ┆ f64         ┆ f64    │\n",
      "╞══════════╪═══════════╪═══════════╪═════════╪═════════════╪════════╡\n",
      "│ 0.000008 ┆ 0.000008  ┆ 87586024  ┆ 0.0     ┆ 0.0         ┆ 0.0    │\n",
      "│ 0.000008 ┆ 0.000008  ┆ 80033128  ┆ 0.0     ┆ 0.0         ┆ 0.0    │\n",
      "│ 0.000008 ┆ 0.000008  ┆ 143577598 ┆ 0.0     ┆ 0.0         ┆ 0.0    │\n",
      "└──────────┴───────────┴───────────┴─────────┴─────────────┴────────┘\n"
     ]
    }
   ],
   "source": [
    "# Work with certain rows and columns (similar to iloc)\n",
    "print(df_new.slice(1, 3).select(df_new.columns[2:-1]))"
   ]
  },
  {
   "cell_type": "markdown",
   "id": "665ded99-cf62-4094-b422-435691f05b2c",
   "metadata": {},
   "source": [
    "# Conditionals "
   ]
  },
  {
   "cell_type": "code",
   "execution_count": 13,
   "id": "0b3f4a85-b39c-4232-9695-09fcf5c0e44e",
   "metadata": {},
   "outputs": [
    {
     "name": "stdout",
     "output_type": "stream",
     "text": [
      "shape: (5, 10)\n",
      "┌────────────────┬──────────┬──────────┬───────────┬───┬─────────────┬────────┬───────────┬────────┐\n",
      "│ Date           ┆ Open     ┆ Close    ┆ Adj Close ┆ … ┆ Log Returns ┆ CumSum ┆ RetNormal ┆ Target │\n",
      "│ ---            ┆ ---      ┆ ---      ┆ ---       ┆   ┆ ---         ┆ ---    ┆ ---       ┆ ---    │\n",
      "│ datetime[ns]   ┆ f64      ┆ f64      ┆ f64       ┆   ┆ f64         ┆ f64    ┆ f64       ┆ i32    │\n",
      "╞════════════════╪══════════╪══════════╪═══════════╪═══╪═════════════╪════════╪═══════════╪════════╡\n",
      "│ 2023-01-01     ┆ 0.000008 ┆ 0.000008 ┆ 0.000008  ┆ … ┆ null        ┆ null   ┆ null      ┆ -1     │\n",
      "│ 00:00:00       ┆          ┆          ┆           ┆   ┆             ┆        ┆           ┆        │\n",
      "│ 2023-01-02     ┆ 0.000008 ┆ 0.000008 ┆ 0.000008  ┆ … ┆ 0.0         ┆ 0.0    ┆ 0.0       ┆ -1     │\n",
      "│ 00:00:00       ┆          ┆          ┆           ┆   ┆             ┆        ┆           ┆        │\n",
      "│ 2023-01-03     ┆ 0.000008 ┆ 0.000008 ┆ 0.000008  ┆ … ┆ 0.0         ┆ 0.0    ┆ 0.0       ┆ -1     │\n",
      "│ 00:00:00       ┆          ┆          ┆           ┆   ┆             ┆        ┆           ┆        │\n",
      "│ 2023-01-04     ┆ 0.000008 ┆ 0.000008 ┆ 0.000008  ┆ … ┆ 0.0         ┆ 0.0    ┆ 0.0       ┆ -1     │\n",
      "│ 00:00:00       ┆          ┆          ┆           ┆   ┆             ┆        ┆           ┆        │\n",
      "│ 2023-01-05     ┆ 0.000008 ┆ 0.000008 ┆ 0.000008  ┆ … ┆ 0.0         ┆ 0.0    ┆ 0.0       ┆ -1     │\n",
      "│ 00:00:00       ┆          ┆          ┆           ┆   ┆             ┆        ┆           ┆        │\n",
      "└────────────────┴──────────┴──────────┴───────────┴───┴─────────────┴────────┴───────────┴────────┘\n"
     ]
    }
   ],
   "source": [
    "# Add conditional statements\n",
    "df_new = df_new.with_columns([\n",
    "    pl.when(pl.col('Close').shift(-1) > pl.col('Close'))\n",
    "    .then(1)\n",
    "    .otherwise(-1)\n",
    "    .alias('Target')\n",
    "])\n",
    "print(df_new.head())\n"
   ]
  },
  {
   "cell_type": "markdown",
   "id": "c6738dd3-00e0-4489-8d52-ca52498b5911",
   "metadata": {},
   "source": [
    "# Iterations "
   ]
  },
  {
   "cell_type": "code",
   "execution_count": 15,
   "id": "8b7c82bd-8eb7-4186-a015-33f6e04f2987",
   "metadata": {},
   "outputs": [
    {
     "name": "stdout",
     "output_type": "stream",
     "text": [
      "2023-01-01 00:00:00 7.999999979801942e-06 -1\n",
      "2023-01-02 00:00:00 7.999999979801942e-06 -1\n",
      "2023-01-03 00:00:00 7.999999979801942e-06 -1\n",
      "2023-01-04 00:00:00 7.999999979801942e-06 -1\n",
      "2023-01-05 00:00:00 7.999999979801942e-06 -1\n"
     ]
    }
   ],
   "source": [
    "# Iterations\n",
    "for i, row in enumerate(df_new.iter_rows(named=True)):\n",
    "    print(row['Date'], row['Close'], row['Target'])\n",
    "    if i >= 4:\n",
    "        break\n",
    "        '''df_new.iter_rows(named=True):\n",
    "\n",
    "This method iterates over the rows of the DataFrame.\n",
    "named=True means each row will be returned as a dictionary where the keys are column names.\n",
    "\n",
    "\n",
    "enumerate(...):\n",
    "\n",
    "This Python function adds a counter to an iterable.\n",
    "It allows us to keep track of the iteration count.\n",
    "\n",
    "\n",
    "for i, row in ...:\n",
    "\n",
    "i is the counter (starting from 0).\n",
    "row is the dictionary representing each row of the DataFrame.\n",
    "\n",
    "\n",
    "print(row['Date'], row['Close'], row['Target']):\n",
    "\n",
    "This prints the values of the 'Date', 'Close', and 'Target' columns for each row.\n",
    "We access these values using dictionary syntax because of named=True.\n",
    "\n",
    "\n",
    "if i >= 4: break:\n",
    "\n",
    "This condition checks if we've processed 5 rows (remember, i starts at 0).\n",
    "If so, it breaks out of the loop, limiting the output to the first 5 rows.\n",
    "\n",
    "\n",
    "\n",
    "This code effectively:\n",
    "\n",
    "Iterates through the DataFrame row by row.\n",
    "Prints specific column values for each row.\n",
    "Stops after processing 5 rows to avoid printing the entire DataFrame. '''"
   ]
  },
  {
   "cell_type": "markdown",
   "id": "4781b3e1-1350-4025-8156-f923375a0bb4",
   "metadata": {},
   "source": [
    "Key differences and notes:\n",
    "\n",
    "Copying a DataFrame: Use .clone() in Polars instead of .copy().\n",
    "Dropping columns: In Polars, drop() returns a new DataFrame, so we reassign it.\n",
    "Selecting rows and columns: Polars uses slice() for row selection and select() for column selection. The syntax is a bit different from Pandas' iloc.\n",
    "Conditional statements: Polars uses a different syntax for conditional operations. We use with_columns() to add or modify columns based on conditions.\n",
    "Iterations: Polars provides iter_rows() method which is similar to Pandas' iterrows(). We use named=True to get dictionary-like access to column values.\n",
    "\n",
    "Remember that Polars operations generally return new DataFrames instead of modifying in-place. This is why we often reassign the result back to the variable (e.g., df_new = df_new.drop(...)).\n",
    "Also, note that Polars doesn't have an exact equivalent to Pandas' inplace=True parameter. Instead, you typically reassign the result of operations back to the same variable if you want to update the DataFrame."
   ]
  },
  {
   "cell_type": "code",
   "execution_count": null,
   "id": "25a1cd9f-e40f-46fa-9365-d7d9bbbfdc1f",
   "metadata": {},
   "outputs": [],
   "source": []
  }
 ],
 "metadata": {
  "kernelspec": {
   "display_name": "Python 3 (ipykernel)",
   "language": "python",
   "name": "python3"
  },
  "language_info": {
   "codemirror_mode": {
    "name": "ipython",
    "version": 3
   },
   "file_extension": ".py",
   "mimetype": "text/x-python",
   "name": "python",
   "nbconvert_exporter": "python",
   "pygments_lexer": "ipython3",
   "version": "3.12.0"
  }
 },
 "nbformat": 4,
 "nbformat_minor": 5
}
