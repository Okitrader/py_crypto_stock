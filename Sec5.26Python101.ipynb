{
 "cells": [
  {
   "cell_type": "code",
   "execution_count": 4,
   "id": "c24f2e17-8f0d-4cf6-a2c2-7b42d429b04a",
   "metadata": {},
   "outputs": [],
   "source": [
    "# Imports\n",
    "import polars as pl\n",
    "import numpy as np\n",
    "import matplotlib.pyplot as plt\n",
    "import yfinance as yf\n"
   ]
  },
  {
   "cell_type": "code",
   "execution_count": 5,
   "id": "08cedb9e-42e5-41bb-9e4f-ef6f4c4a24f0",
   "metadata": {},
   "outputs": [
    {
     "name": "stdout",
     "output_type": "stream",
     "text": [
      "[*********************100%%**********************]  1 of 1 completed\n"
     ]
    }
   ],
   "source": [
    "# Extract and view data\n",
    "start_date = \"2017-01-01\"\n",
    "end_date = \"2022-06-01\"\n",
    "symbol = \"ETH-USD\"\n",
    "\n",
    "# Fetch data using yfinance\n",
    "df_yf = yf.download(symbol, start=start_date, end=end_date)\n",
    "\n",
    "# Convert to Polars DataFrame\n",
    "df = pl.from_pandas(df_yf.reset_index())\n"
   ]
  },
  {
   "cell_type": "code",
   "execution_count": 6,
   "id": "6e22e7cb-3aa3-4eba-9be9-8b50f4d78ca1",
   "metadata": {},
   "outputs": [
    {
     "data": {
      "text/html": [
       "<div><style>\n",
       ".dataframe > thead > tr,\n",
       ".dataframe > tbody > tr {\n",
       "  text-align: right;\n",
       "  white-space: pre-wrap;\n",
       "}\n",
       "</style>\n",
       "<small>shape: (5, 7)</small><table border=\"1\" class=\"dataframe\"><thead><tr><th>Date</th><th>Open</th><th>High</th><th>Low</th><th>Close</th><th>Adj Close</th><th>Volume</th></tr><tr><td>datetime[ns]</td><td>f64</td><td>f64</td><td>f64</td><td>f64</td><td>f64</td><td>i64</td></tr></thead><tbody><tr><td>2017-11-09 00:00:00</td><td>308.644989</td><td>329.451996</td><td>307.056</td><td>320.884003</td><td>320.884003</td><td>893249984</td></tr><tr><td>2017-11-10 00:00:00</td><td>320.67099</td><td>324.717987</td><td>294.541992</td><td>299.252991</td><td>299.252991</td><td>885985984</td></tr><tr><td>2017-11-11 00:00:00</td><td>298.585999</td><td>319.453003</td><td>298.191986</td><td>314.681</td><td>314.681</td><td>842300992</td></tr><tr><td>2017-11-12 00:00:00</td><td>314.690002</td><td>319.153015</td><td>298.513</td><td>307.90799</td><td>307.90799</td><td>1613479936</td></tr><tr><td>2017-11-13 00:00:00</td><td>307.024994</td><td>328.415009</td><td>307.024994</td><td>316.716003</td><td>316.716003</td><td>1041889984</td></tr></tbody></table></div>"
      ],
      "text/plain": [
       "shape: (5, 7)\n",
       "┌──────────────┬────────────┬────────────┬────────────┬────────────┬────────────┬────────────┐\n",
       "│ Date         ┆ Open       ┆ High       ┆ Low        ┆ Close      ┆ Adj Close  ┆ Volume     │\n",
       "│ ---          ┆ ---        ┆ ---        ┆ ---        ┆ ---        ┆ ---        ┆ ---        │\n",
       "│ datetime[ns] ┆ f64        ┆ f64        ┆ f64        ┆ f64        ┆ f64        ┆ i64        │\n",
       "╞══════════════╪════════════╪════════════╪════════════╪════════════╪════════════╪════════════╡\n",
       "│ 2017-11-09   ┆ 308.644989 ┆ 329.451996 ┆ 307.056    ┆ 320.884003 ┆ 320.884003 ┆ 893249984  │\n",
       "│ 00:00:00     ┆            ┆            ┆            ┆            ┆            ┆            │\n",
       "│ 2017-11-10   ┆ 320.67099  ┆ 324.717987 ┆ 294.541992 ┆ 299.252991 ┆ 299.252991 ┆ 885985984  │\n",
       "│ 00:00:00     ┆            ┆            ┆            ┆            ┆            ┆            │\n",
       "│ 2017-11-11   ┆ 298.585999 ┆ 319.453003 ┆ 298.191986 ┆ 314.681    ┆ 314.681    ┆ 842300992  │\n",
       "│ 00:00:00     ┆            ┆            ┆            ┆            ┆            ┆            │\n",
       "│ 2017-11-12   ┆ 314.690002 ┆ 319.153015 ┆ 298.513    ┆ 307.90799  ┆ 307.90799  ┆ 1613479936 │\n",
       "│ 00:00:00     ┆            ┆            ┆            ┆            ┆            ┆            │\n",
       "│ 2017-11-13   ┆ 307.024994 ┆ 328.415009 ┆ 307.024994 ┆ 316.716003 ┆ 316.716003 ┆ 1041889984 │\n",
       "│ 00:00:00     ┆            ┆            ┆            ┆            ┆            ┆            │\n",
       "└──────────────┴────────────┴────────────┴────────────┴────────────┴────────────┴────────────┘"
      ]
     },
     "execution_count": 6,
     "metadata": {},
     "output_type": "execute_result"
    }
   ],
   "source": [
    "df.head()"
   ]
  },
  {
   "cell_type": "code",
   "execution_count": 7,
   "id": "802e058b-2c60-4896-9d1c-0c6e79ea83d8",
   "metadata": {},
   "outputs": [
    {
     "name": "stdout",
     "output_type": "stream",
     "text": [
      "shape: (5, 7)\n",
      "┌──────────────┬────────────┬────────────┬────────────┬────────────┬────────────┬────────────┐\n",
      "│ Date         ┆ Open       ┆ High       ┆ Low        ┆ Close      ┆ Adj Close  ┆ Volume     │\n",
      "│ ---          ┆ ---        ┆ ---        ┆ ---        ┆ ---        ┆ ---        ┆ ---        │\n",
      "│ datetime[ns] ┆ f64        ┆ f64        ┆ f64        ┆ f64        ┆ f64        ┆ i64        │\n",
      "╞══════════════╪════════════╪════════════╪════════════╪════════════╪════════════╪════════════╡\n",
      "│ 2017-11-09   ┆ 308.644989 ┆ 329.451996 ┆ 307.056    ┆ 320.884003 ┆ 320.884003 ┆ 893249984  │\n",
      "│ 00:00:00     ┆            ┆            ┆            ┆            ┆            ┆            │\n",
      "│ 2017-11-10   ┆ 320.67099  ┆ 324.717987 ┆ 294.541992 ┆ 299.252991 ┆ 299.252991 ┆ 885985984  │\n",
      "│ 00:00:00     ┆            ┆            ┆            ┆            ┆            ┆            │\n",
      "│ 2017-11-11   ┆ 298.585999 ┆ 319.453003 ┆ 298.191986 ┆ 314.681    ┆ 314.681    ┆ 842300992  │\n",
      "│ 00:00:00     ┆            ┆            ┆            ┆            ┆            ┆            │\n",
      "│ 2017-11-12   ┆ 314.690002 ┆ 319.153015 ┆ 298.513    ┆ 307.90799  ┆ 307.90799  ┆ 1613479936 │\n",
      "│ 00:00:00     ┆            ┆            ┆            ┆            ┆            ┆            │\n",
      "│ 2017-11-13   ┆ 307.024994 ┆ 328.415009 ┆ 307.024994 ┆ 316.716003 ┆ 316.716003 ┆ 1041889984 │\n",
      "│ 00:00:00     ┆            ┆            ┆            ┆            ┆            ┆            │\n",
      "└──────────────┴────────────┴────────────┴────────────┴────────────┴────────────┴────────────┘\n",
      "shape: (5, 7)\n",
      "┌──────────────┬─────────────┬─────────────┬─────────────┬─────────────┬─────────────┬─────────────┐\n",
      "│ Date         ┆ Open        ┆ High        ┆ Low         ┆ Close       ┆ Adj Close   ┆ Volume      │\n",
      "│ ---          ┆ ---         ┆ ---         ┆ ---         ┆ ---         ┆ ---         ┆ ---         │\n",
      "│ datetime[ns] ┆ f64         ┆ f64         ┆ f64         ┆ f64         ┆ f64         ┆ i64         │\n",
      "╞══════════════╪═════════════╪═════════════╪═════════════╪═════════════╪═════════════╪═════════════╡\n",
      "│ 2022-05-27   ┆ 1802.543823 ┆ 1814.656494 ┆ 1721.264771 ┆ 1724.922852 ┆ 1724.922852 ┆ 25470760032 │\n",
      "│ 00:00:00     ┆             ┆             ┆             ┆             ┆             ┆             │\n",
      "│ 2022-05-28   ┆ 1724.635986 ┆ 1757.941772 ┆ 1724.635986 ┆ 1757.941772 ┆ 1757.941772 ┆ 23214777872 │\n",
      "│ 00:00:00     ┆             ┆             ┆             ┆             ┆             ┆             │\n",
      "│ 2022-05-29   ┆ 1792.184448 ┆ 1818.776611 ┆ 1765.937378 ┆ 1812.031006 ┆ 1812.031006 ┆ 10642556101 │\n",
      "│ 00:00:00     ┆             ┆             ┆             ┆             ┆             ┆             │\n",
      "│ 2022-05-30   ┆ 1811.885986 ┆ 2005.210815 ┆ 1804.456055 ┆ 1996.441284 ┆ 1996.441284 ┆ 19580808705 │\n",
      "│ 00:00:00     ┆             ┆             ┆             ┆             ┆             ┆             │\n",
      "│ 2022-05-31   ┆ 1996.408081 ┆ 2005.490967 ┆ 1932.352051 ┆ 1942.328003 ┆ 1942.328003 ┆ 18363115560 │\n",
      "│ 00:00:00     ┆             ┆             ┆             ┆             ┆             ┆             │\n",
      "└──────────────┴─────────────┴─────────────┴─────────────┴─────────────┴─────────────┴─────────────┘\n",
      "shape: (3, 7)\n",
      "┌──────────────┬─────────────┬─────────────┬─────────────┬─────────────┬─────────────┬─────────────┐\n",
      "│ Date         ┆ Open        ┆ High        ┆ Low         ┆ Close       ┆ Adj Close   ┆ Volume      │\n",
      "│ ---          ┆ ---         ┆ ---         ┆ ---         ┆ ---         ┆ ---         ┆ ---         │\n",
      "│ datetime[ns] ┆ f64         ┆ f64         ┆ f64         ┆ f64         ┆ f64         ┆ i64         │\n",
      "╞══════════════╪═════════════╪═════════════╪═════════════╪═════════════╪═════════════╪═════════════╡\n",
      "│ 2022-05-29   ┆ 1792.184448 ┆ 1818.776611 ┆ 1765.937378 ┆ 1812.031006 ┆ 1812.031006 ┆ 10642556101 │\n",
      "│ 00:00:00     ┆             ┆             ┆             ┆             ┆             ┆             │\n",
      "│ 2022-05-30   ┆ 1811.885986 ┆ 2005.210815 ┆ 1804.456055 ┆ 1996.441284 ┆ 1996.441284 ┆ 19580808705 │\n",
      "│ 00:00:00     ┆             ┆             ┆             ┆             ┆             ┆             │\n",
      "│ 2022-05-31   ┆ 1996.408081 ┆ 2005.490967 ┆ 1932.352051 ┆ 1942.328003 ┆ 1942.328003 ┆ 18363115560 │\n",
      "│ 00:00:00     ┆             ┆             ┆             ┆             ┆             ┆             │\n",
      "└──────────────┴─────────────┴─────────────┴─────────────┴─────────────┴─────────────┴─────────────┘\n"
     ]
    }
   ],
   "source": [
    "# View head and tail\n",
    "print(df.head())\n",
    "print(df.tail())\n",
    "print(df.tail(3))\n"
   ]
  },
  {
   "cell_type": "code",
   "execution_count": 8,
   "id": "8a47076c-f8aa-4233-8ff4-90edc52b9a2f",
   "metadata": {},
   "outputs": [
    {
     "name": "stdout",
     "output_type": "stream",
     "text": [
      "OrderedDict({'Date': Datetime(time_unit='ns', time_zone=None), 'Open': Float64, 'High': Float64, 'Low': Float64, 'Close': Float64, 'Adj Close': Float64, 'Volume': Int64})\n"
     ]
    }
   ],
   "source": [
    "# Info about the dataframe\n",
    "print(df.schema)\n"
   ]
  },
  {
   "cell_type": "code",
   "execution_count": 26,
   "id": "ff648bd0-4330-4c5e-b7e6-a7a22da77652",
   "metadata": {},
   "outputs": [
    {
     "name": "stdout",
     "output_type": "stream",
     "text": [
      "DataFrame Info:\n",
      "Shape: (1664, 11)\n",
      "\n",
      "Column Info:\n",
      "Date: Datetime(time_unit='ns', time_zone=None) | Non-Null Count: 1664 | Null Count: 0\n",
      "Open: Float64 | Non-Null Count: 1664 | Null Count: 0\n",
      "High: Float64 | Non-Null Count: 1664 | Null Count: 0\n",
      "Low: Float64 | Non-Null Count: 1664 | Null Count: 0\n",
      "Close: Float64 | Non-Null Count: 1664 | Null Count: 0\n",
      "Adj Close: Float64 | Non-Null Count: 1664 | Null Count: 0\n",
      "Volume: Int64 | Non-Null Count: 1664 | Null Count: 0\n",
      "Returns: Float64 | Non-Null Count: 1663 | Null Count: 1\n",
      "LRets: Float64 | Non-Null Count: 1664 | Null Count: 0\n",
      "CumSum: Float64 | Non-Null Count: 1664 | Null Count: 0\n",
      "RetNormal: Float64 | Non-Null Count: 1664 | Null Count: 0\n",
      "\n",
      "Memory Usage: 0.15 MB\n"
     ]
    }
   ],
   "source": [
    "# More comprehensive info about the dataframe\n",
    "print(\"DataFrame Info:\")\n",
    "print(f\"Shape: {df.shape}\")\n",
    "print(\"\\nColumn Info:\")\n",
    "for col in df.columns:\n",
    "    dtype = df.schema[col]\n",
    "    null_count = df[col].null_count()\n",
    "    non_null_count = df.height - null_count\n",
    "    print(f\"{col}: {dtype} | Non-Null Count: {non_null_count} | Null Count: {null_count}\")\n",
    "print(f\"\\nMemory Usage: {df.estimated_size() / 1e6:.2f} MB\")"
   ]
  },
  {
   "cell_type": "markdown",
   "id": "97f0c793-6bd9-420c-8609-394d39b3623e",
   "metadata": {},
   "source": [
    "# Working with returns"
   ]
  },
  {
   "cell_type": "code",
   "execution_count": 10,
   "id": "31b86a7f-9e89-4391-bc90-05a9b5044091",
   "metadata": {},
   "outputs": [
    {
     "name": "stdout",
     "output_type": "stream",
     "text": [
      "shape: (3, 8)\n",
      "┌────────────┬────────────┬────────────┬───────────┬───────────┬───────────┬───────────┬───────────┐\n",
      "│ Date       ┆ Open       ┆ High       ┆ Low       ┆ Close     ┆ Adj Close ┆ Volume    ┆ Returns   │\n",
      "│ ---        ┆ ---        ┆ ---        ┆ ---       ┆ ---       ┆ ---       ┆ ---       ┆ ---       │\n",
      "│ datetime[n ┆ f64        ┆ f64        ┆ f64       ┆ f64       ┆ f64       ┆ i64       ┆ f64       │\n",
      "│ s]         ┆            ┆            ┆           ┆           ┆           ┆           ┆           │\n",
      "╞════════════╪════════════╪════════════╪═══════════╪═══════════╪═══════════╪═══════════╪═══════════╡\n",
      "│ 2017-11-09 ┆ 308.644989 ┆ 329.451996 ┆ 307.056   ┆ 320.88400 ┆ 320.88400 ┆ 893249984 ┆ null      │\n",
      "│ 00:00:00   ┆            ┆            ┆           ┆ 3         ┆ 3         ┆           ┆           │\n",
      "│ 2017-11-10 ┆ 320.67099  ┆ 324.717987 ┆ 294.54199 ┆ 299.25299 ┆ 299.25299 ┆ 885985984 ┆ -0.067411 │\n",
      "│ 00:00:00   ┆            ┆            ┆ 2         ┆ 1         ┆ 1         ┆           ┆           │\n",
      "│ 2017-11-11 ┆ 298.585999 ┆ 319.453003 ┆ 298.19198 ┆ 314.681   ┆ 314.681   ┆ 842300992 ┆ 0.051555  │\n",
      "│ 00:00:00   ┆            ┆            ┆ 6         ┆           ┆           ┆           ┆           │\n",
      "└────────────┴────────────┴────────────┴───────────┴───────────┴───────────┴───────────┴───────────┘\n"
     ]
    }
   ],
   "source": [
    "# Add a column for returns\n",
    "df = df.with_columns(\n",
    "    pl.col(\"Close\").pct_change().alias(\"Returns\")\n",
    ")\n",
    "print(df.head(3))"
   ]
  },
  {
   "cell_type": "code",
   "execution_count": 25,
   "id": "4c1b5a55-7b4d-4db4-b186-5a7dc0919144",
   "metadata": {},
   "outputs": [
    {
     "name": "stdout",
     "output_type": "stream",
     "text": [
      "shape: (3, 11)\n",
      "┌───────────┬───────────┬───────────┬───────────┬───┬───────────┬───────────┬───────────┬──────────┐\n",
      "│ Date      ┆ Open      ┆ High      ┆ Low       ┆ … ┆ Returns   ┆ LRets     ┆ CumSum    ┆ RetNorma │\n",
      "│ ---       ┆ ---       ┆ ---       ┆ ---       ┆   ┆ ---       ┆ ---       ┆ ---       ┆ l        │\n",
      "│ datetime[ ┆ f64       ┆ f64       ┆ f64       ┆   ┆ f64       ┆ f64       ┆ f64       ┆ ---      │\n",
      "│ ns]       ┆           ┆           ┆           ┆   ┆           ┆           ┆           ┆ f64      │\n",
      "╞═══════════╪═══════════╪═══════════╪═══════════╪═══╪═══════════╪═══════════╪═══════════╪══════════╡\n",
      "│ 2017-11-1 ┆ 320.67099 ┆ 324.71798 ┆ 294.54199 ┆ … ┆ null      ┆ 0.0       ┆ 0.0       ┆ 0.0      │\n",
      "│ 0         ┆           ┆ 7         ┆ 2         ┆   ┆           ┆           ┆           ┆          │\n",
      "│ 00:00:00  ┆           ┆           ┆           ┆   ┆           ┆           ┆           ┆          │\n",
      "│ 2017-11-1 ┆ 298.58599 ┆ 319.45300 ┆ 298.19198 ┆ … ┆ inf       ┆ 0.0       ┆ 0.0       ┆ 0.0      │\n",
      "│ 1         ┆ 9         ┆ 3         ┆ 6         ┆   ┆           ┆           ┆           ┆          │\n",
      "│ 00:00:00  ┆           ┆           ┆           ┆   ┆           ┆           ┆           ┆          │\n",
      "│ 2017-11-1 ┆ 314.69000 ┆ 319.15301 ┆ 298.513   ┆ … ┆ -0.030076 ┆ -0.030537 ┆ -0.030537 ┆ -0.03007 │\n",
      "│ 2         ┆ 2         ┆ 5         ┆           ┆   ┆           ┆           ┆           ┆ 6        │\n",
      "│ 00:00:00  ┆           ┆           ┆           ┆   ┆           ┆           ┆           ┆          │\n",
      "└───────────┴───────────┴───────────┴───────────┴───┴───────────┴───────────┴───────────┴──────────┘\n"
     ]
    }
   ],
   "source": [
    "# Add a column for returns\n",
    "df = df.with_columns(\n",
    "    pl.col(\"Close\").pct_change().alias(\"Returns\")\n",
    ")\n",
    "# pl.col() is a Polars function used to reference columns in expressions.\n",
    "# This method calculates the percentage change between consecutive elements in the \"Close\" column.\n",
    "# It's equivalent to (current_value - previous_value) / previous_value.\n",
    "# This names the resulting column \"Returns\".\n",
    "# Without this, Polars would generate a default name for the new column.\n",
    "\n",
    "''' akes the \"Close\" price column\n",
    "Calculates the percentage change from one row to the next\n",
    "Names this new column of percentage changes \"Returns\"\n",
    "\n",
    "In financial terms, this is calculating the simple returns of the asset based on its closing prices.\n",
    "For example:\n",
    "\n",
    "If yesterday's close was 100 and today's close is 105, the return would be (105 - 100) / 100 = 0.05\n",
    "or 5%.\n",
    "If yesterday's close was 100 and today's close is 95, the return would be (95 - 100) / 100 = -0.05\n",
    "or -5%. '''\n",
    "print(df.head(3))"
   ]
  },
  {
   "cell_type": "code",
   "execution_count": 11,
   "id": "ae416e37-d599-4e7e-b252-989bc53b41e4",
   "metadata": {},
   "outputs": [
    {
     "name": "stdout",
     "output_type": "stream",
     "text": [
      "shape: (3, 8)\n",
      "┌────────────┬────────────┬────────────┬───────────┬───────────┬───────────┬───────────┬───────────┐\n",
      "│ Date       ┆ Open       ┆ High       ┆ Low       ┆ Close     ┆ Adj Close ┆ Volume    ┆ Returns   │\n",
      "│ ---        ┆ ---        ┆ ---        ┆ ---       ┆ ---       ┆ ---       ┆ ---       ┆ ---       │\n",
      "│ datetime[n ┆ f64        ┆ f64        ┆ f64       ┆ f64       ┆ f64       ┆ i64       ┆ f64       │\n",
      "│ s]         ┆            ┆            ┆           ┆           ┆           ┆           ┆           │\n",
      "╞════════════╪════════════╪════════════╪═══════════╪═══════════╪═══════════╪═══════════╪═══════════╡\n",
      "│ 2017-11-10 ┆ 320.67099  ┆ 324.717987 ┆ 294.54199 ┆ 299.25299 ┆ 299.25299 ┆ 885985984 ┆ -0.067411 │\n",
      "│ 00:00:00   ┆            ┆            ┆ 2         ┆ 1         ┆ 1         ┆           ┆           │\n",
      "│ 2017-11-11 ┆ 298.585999 ┆ 319.453003 ┆ 298.19198 ┆ 314.681   ┆ 314.681   ┆ 842300992 ┆ 0.051555  │\n",
      "│ 00:00:00   ┆            ┆            ┆ 6         ┆           ┆           ┆           ┆           │\n",
      "│ 2017-11-12 ┆ 314.690002 ┆ 319.153015 ┆ 298.513   ┆ 307.90799 ┆ 307.90799 ┆ 161347993 ┆ -0.021523 │\n",
      "│ 00:00:00   ┆            ┆            ┆           ┆           ┆           ┆ 6         ┆           │\n",
      "└────────────┴────────────┴────────────┴───────────┴───────────┴───────────┴───────────┴───────────┘\n"
     ]
    }
   ],
   "source": [
    "# Drop NA values\n",
    "df = df.drop_nulls()\n",
    "print(df.head(3))"
   ]
  },
  {
   "cell_type": "code",
   "execution_count": 12,
   "id": "2722eecd-30d3-47f6-a2ab-43e8fb082a9b",
   "metadata": {},
   "outputs": [
    {
     "name": "stdout",
     "output_type": "stream",
     "text": [
      "OrderedDict({'Date': Datetime(time_unit='ns', time_zone=None), 'Open': Float64, 'High': Float64, 'Low': Float64, 'Close': Float64, 'Adj Close': Float64, 'Volume': Int64, 'Returns': Float64})\n"
     ]
    }
   ],
   "source": [
    "\n",
    "# Info about the dataframe\n",
    "print(df.schema)\n"
   ]
  },
  {
   "cell_type": "code",
   "execution_count": 13,
   "id": "5ec1a256-5f84-4de5-9f0b-48658e071dc5",
   "metadata": {},
   "outputs": [
    {
     "name": "stdout",
     "output_type": "stream",
     "text": [
      "DataFrame Info:\n",
      "Shape: (1664, 8)\n",
      "\n",
      "Column Info:\n",
      "Date: Datetime(time_unit='ns', time_zone=None) | Non-Null Count: 1664\n",
      "Open: Float64 | Non-Null Count: 1664\n",
      "High: Float64 | Non-Null Count: 1664\n",
      "Low: Float64 | Non-Null Count: 1664\n",
      "Close: Float64 | Non-Null Count: 1664\n",
      "Adj Close: Float64 | Non-Null Count: 1664\n",
      "Volume: Int64 | Non-Null Count: 1664\n",
      "Returns: Float64 | Non-Null Count: 1664\n",
      "\n",
      "Memory Usage: 0.11 MB\n"
     ]
    }
   ],
   "source": [
    "# More comprehensive info about the dataframe\n",
    "print(\"DataFrame Info:\")\n",
    "print(f\"Shape: {df.shape}\")\n",
    "print(\"\\nColumn Info:\")\n",
    "for col in df.columns:\n",
    "    dtype = df.schema[col]\n",
    "    non_null_count = df[col].null_count()\n",
    "    print(f\"{col}: {dtype} | Non-Null Count: {df.height - non_null_count}\")\n",
    "print(f\"\\nMemory Usage: {df.estimated_size() / 1e6:.2f} MB\")"
   ]
  },
  {
   "cell_type": "code",
   "execution_count": 39,
   "id": "c9ccf342-f72a-4d37-a82f-e7a82b485203",
   "metadata": {},
   "outputs": [
    {
     "name": "stdout",
     "output_type": "stream",
     "text": [
      "shape: (3, 12)\n",
      "┌───────────┬───────────┬───────────┬───────────┬───┬───────────┬───────────┬───────────┬──────────┐\n",
      "│ Date      ┆ Open      ┆ High      ┆ Low       ┆ … ┆ LRets     ┆ CumSum    ┆ RetNormal ┆ Log      │\n",
      "│ ---       ┆ ---       ┆ ---       ┆ ---       ┆   ┆ ---       ┆ ---       ┆ ---       ┆ Returns  │\n",
      "│ datetime[ ┆ f64       ┆ f64       ┆ f64       ┆   ┆ f64       ┆ f64       ┆ f64       ┆ ---      │\n",
      "│ ns]       ┆           ┆           ┆           ┆   ┆           ┆           ┆           ┆ f64      │\n",
      "╞═══════════╪═══════════╪═══════════╪═══════════╪═══╪═══════════╪═══════════╪═══════════╪══════════╡\n",
      "│ 2017-11-1 ┆ 320.67099 ┆ 324.71798 ┆ 294.54199 ┆ … ┆ 0.0       ┆ 0.0       ┆ 0.0       ┆ null     │\n",
      "│ 0         ┆           ┆ 7         ┆ 2         ┆   ┆           ┆           ┆           ┆          │\n",
      "│ 00:00:00  ┆           ┆           ┆           ┆   ┆           ┆           ┆           ┆          │\n",
      "│ 2017-11-1 ┆ 298.58599 ┆ 319.45300 ┆ 298.19198 ┆ … ┆ 0.0       ┆ 0.0       ┆ 0.0       ┆ inf      │\n",
      "│ 1         ┆ 9         ┆ 3         ┆ 6         ┆   ┆           ┆           ┆           ┆          │\n",
      "│ 00:00:00  ┆           ┆           ┆           ┆   ┆           ┆           ┆           ┆          │\n",
      "│ 2017-11-1 ┆ 314.69000 ┆ 319.15301 ┆ 298.513   ┆ … ┆ -0.030537 ┆ -0.030537 ┆ -0.030076 ┆ -0.03053 │\n",
      "│ 2         ┆ 2         ┆ 5         ┆           ┆   ┆           ┆           ┆           ┆ 7        │\n",
      "│ 00:00:00  ┆           ┆           ┆           ┆   ┆           ┆           ┆           ┆          │\n",
      "└───────────┴───────────┴───────────┴───────────┴───┴───────────┴───────────┴───────────┴──────────┘\n"
     ]
    }
   ],
   "source": [
    "# Calculate log returns mathematical functions like log are accessed through the pl.expr\n",
    "# Calculate log returns\n",
    "df = df.with_columns(\n",
    "    (pl.col(\"Close\") / pl.col(\"Close\").shift(1)).log().alias(\"Log Returns\")\n",
    ")\n",
    "'''This is equivalent to the mathematical formula for log returns:\n",
    "log(P_t / P_{t-1})\n",
    "Where:\n",
    "\n",
    "P_t is the price at time t\n",
    "P_{t-1} is the price at the previous time step\n",
    "\n",
    "This formula for log returns is widely used in finance because:\n",
    "\n",
    "It's approximately equal to the percentage change for small changes.\n",
    "Log returns are additive over time, which is useful for multi-period returns.\n",
    "They're more likely to be normally distributed, which is an assumption in many financial models.\n",
    "Purpose: .shift(1) is used to access the previous day's closing price.\n",
    "Functionality:\n",
    "\n",
    "It shifts the entire \"Close\" column down by one row.\n",
    "This creates a new series where each price is matched with the previous day's price.\n",
    "\n",
    "In the context of log returns:\n",
    "\n",
    "We're calculating: ln(Close_t / Close_t-1)\n",
    "pl.col(\"Close\") gives us Close_t (current price)\n",
    "pl.col(\"Close\").shift(1) gives us Close_t-1 (previous price)\n",
    "'''\n",
    "print(df.head(3))"
   ]
  },
  {
   "cell_type": "code",
   "execution_count": 40,
   "id": "18281909-6ff3-4645-905c-be35ee74e75c",
   "metadata": {},
   "outputs": [
    {
     "name": "stdout",
     "output_type": "stream",
     "text": [
      "shape: (3, 12)\n",
      "┌───────────┬───────────┬───────────┬───────────┬───┬───────────┬───────────┬───────────┬──────────┐\n",
      "│ Date      ┆ Open      ┆ High      ┆ Low       ┆ … ┆ LRets     ┆ CumSum    ┆ RetNormal ┆ Log      │\n",
      "│ ---       ┆ ---       ┆ ---       ┆ ---       ┆   ┆ ---       ┆ ---       ┆ ---       ┆ Returns  │\n",
      "│ datetime[ ┆ f64       ┆ f64       ┆ f64       ┆   ┆ f64       ┆ f64       ┆ f64       ┆ ---      │\n",
      "│ ns]       ┆           ┆           ┆           ┆   ┆           ┆           ┆           ┆ f64      │\n",
      "╞═══════════╪═══════════╪═══════════╪═══════════╪═══╪═══════════╪═══════════╪═══════════╪══════════╡\n",
      "│ 2017-11-1 ┆ 320.67099 ┆ 324.71798 ┆ 294.54199 ┆ … ┆ 0.0       ┆ 0.0       ┆ 0.0       ┆ null     │\n",
      "│ 0         ┆           ┆ 7         ┆ 2         ┆   ┆           ┆           ┆           ┆          │\n",
      "│ 00:00:00  ┆           ┆           ┆           ┆   ┆           ┆           ┆           ┆          │\n",
      "│ 2017-11-1 ┆ 298.58599 ┆ 319.45300 ┆ 298.19198 ┆ … ┆ 0.0       ┆ 0.0       ┆ 0.0       ┆ inf      │\n",
      "│ 1         ┆ 9         ┆ 3         ┆ 6         ┆   ┆           ┆           ┆           ┆          │\n",
      "│ 00:00:00  ┆           ┆           ┆           ┆   ┆           ┆           ┆           ┆          │\n",
      "│ 2017-11-1 ┆ 314.69000 ┆ 319.15301 ┆ 298.513   ┆ … ┆ -0.030537 ┆ -0.030537 ┆ -0.030076 ┆ -0.03053 │\n",
      "│ 2         ┆ 2         ┆ 5         ┆           ┆   ┆           ┆           ┆           ┆ 7        │\n",
      "│ 00:00:00  ┆           ┆           ┆           ┆   ┆           ┆           ┆           ┆          │\n",
      "└───────────┴───────────┴───────────┴───────────┴───┴───────────┴───────────┴───────────┴──────────┘\n"
     ]
    }
   ],
   "source": [
    "import numpy as np\n",
    "\n",
    "# Calculate log returns\n",
    "df = df.with_columns(\n",
    "    (pl.col(\"Close\") / pl.col(\"Close\").shift(1)).map_batches(np.log).alias(\"Log Returns\")\n",
    ")\n",
    "print(df.head(3))"
   ]
  },
  {
   "cell_type": "code",
   "execution_count": 42,
   "id": "d6db7382-c948-4cde-adaf-b2802596079b",
   "metadata": {},
   "outputs": [
    {
     "name": "stdout",
     "output_type": "stream",
     "text": [
      "shape: (5, 12)\n",
      "┌────────────┬────────────┬───────────┬───────────┬───┬───────────┬────────┬───────────┬───────────┐\n",
      "│ Date       ┆ Open       ┆ High      ┆ Low       ┆ … ┆ LRets     ┆ CumSum ┆ RetNormal ┆ Log       │\n",
      "│ ---        ┆ ---        ┆ ---       ┆ ---       ┆   ┆ ---       ┆ ---    ┆ ---       ┆ Returns   │\n",
      "│ datetime[n ┆ f64        ┆ f64       ┆ f64       ┆   ┆ f64       ┆ f64    ┆ f64       ┆ ---       │\n",
      "│ s]         ┆            ┆           ┆           ┆   ┆           ┆        ┆           ┆ f64       │\n",
      "╞════════════╪════════════╪═══════════╪═══════════╪═══╪═══════════╪════════╪═══════════╪═══════════╡\n",
      "│ 2017-11-10 ┆ 320.67099  ┆ 324.71798 ┆ 294.54199 ┆ … ┆ 0.0       ┆ null   ┆ 0.0       ┆ null      │\n",
      "│ 00:00:00   ┆            ┆ 7         ┆ 2         ┆   ┆           ┆        ┆           ┆           │\n",
      "│ 2017-11-11 ┆ 298.585999 ┆ 319.45300 ┆ 298.19198 ┆ … ┆ 0.0       ┆ inf    ┆ 0.0       ┆ inf       │\n",
      "│ 00:00:00   ┆            ┆ 3         ┆ 6         ┆   ┆           ┆        ┆           ┆           │\n",
      "│ 2017-11-12 ┆ 314.690002 ┆ 319.15301 ┆ 298.513   ┆ … ┆ -0.030537 ┆ inf    ┆ -0.030076 ┆ -0.030537 │\n",
      "│ 00:00:00   ┆            ┆ 5         ┆           ┆   ┆           ┆        ┆           ┆           │\n",
      "│ 2017-11-13 ┆ 307.024994 ┆ 328.41500 ┆ 307.02499 ┆ … ┆ 0.031995  ┆ inf    ┆ 0.001459  ┆ 0.031995  │\n",
      "│ 00:00:00   ┆            ┆ 9         ┆ 4         ┆   ┆           ┆        ┆           ┆           │\n",
      "│ 2017-11-14 ┆ 316.763    ┆ 340.17700 ┆ 316.763   ┆ … ┆ 0.059038  ┆ inf    ┆ 0.062363  ┆ 0.059038  │\n",
      "│ 00:00:00   ┆            ┆ 2         ┆           ┆   ┆           ┆        ┆           ┆           │\n",
      "└────────────┴────────────┴───────────┴───────────┴───┴───────────┴────────┴───────────┴───────────┘\n"
     ]
    }
   ],
   "source": [
    "# Cumulative sum of log returns\n",
    "df = df.with_columns(\n",
    "    pl.col(\"Log Returns\").cum_sum().alias(\"CumSum\")\n",
    ")\n",
    "print(df.head())\n"
   ]
  },
  {
   "cell_type": "code",
   "execution_count": 46,
   "id": "fc8b77aa-db81-445e-85b8-0ea5012e6a3d",
   "metadata": {},
   "outputs": [
    {
     "name": "stdout",
     "output_type": "stream",
     "text": [
      "shape: (5, 12)\n",
      "┌────────────┬────────────┬───────────┬───────────┬───┬───────────┬────────┬───────────┬───────────┐\n",
      "│ Date       ┆ Open       ┆ High      ┆ Low       ┆ … ┆ LRets     ┆ CumSum ┆ RetNormal ┆ Log       │\n",
      "│ ---        ┆ ---        ┆ ---       ┆ ---       ┆   ┆ ---       ┆ ---    ┆ ---       ┆ Returns   │\n",
      "│ datetime[n ┆ f64        ┆ f64       ┆ f64       ┆   ┆ f64       ┆ f64    ┆ f64       ┆ ---       │\n",
      "│ s]         ┆            ┆           ┆           ┆   ┆           ┆        ┆           ┆ f64       │\n",
      "╞════════════╪════════════╪═══════════╪═══════════╪═══╪═══════════╪════════╪═══════════╪═══════════╡\n",
      "│ 2017-11-10 ┆ 320.67099  ┆ 324.71798 ┆ 294.54199 ┆ … ┆ 0.0       ┆ null   ┆ null      ┆ null      │\n",
      "│ 00:00:00   ┆            ┆ 7         ┆ 2         ┆   ┆           ┆        ┆           ┆           │\n",
      "│ 2017-11-11 ┆ 298.585999 ┆ 319.45300 ┆ 298.19198 ┆ … ┆ 0.0       ┆ inf    ┆ inf       ┆ inf       │\n",
      "│ 00:00:00   ┆            ┆ 3         ┆ 6         ┆   ┆           ┆        ┆           ┆           │\n",
      "│ 2017-11-12 ┆ 314.690002 ┆ 319.15301 ┆ 298.513   ┆ … ┆ -0.030537 ┆ inf    ┆ inf       ┆ -0.030537 │\n",
      "│ 00:00:00   ┆            ┆ 5         ┆           ┆   ┆           ┆        ┆           ┆           │\n",
      "│ 2017-11-13 ┆ 307.024994 ┆ 328.41500 ┆ 307.02499 ┆ … ┆ 0.031995  ┆ inf    ┆ inf       ┆ 0.031995  │\n",
      "│ 00:00:00   ┆            ┆ 9         ┆ 4         ┆   ┆           ┆        ┆           ┆           │\n",
      "│ 2017-11-14 ┆ 316.763    ┆ 340.17700 ┆ 316.763   ┆ … ┆ 0.059038  ┆ inf    ┆ inf       ┆ 0.059038  │\n",
      "│ 00:00:00   ┆            ┆ 2         ┆           ┆   ┆           ┆        ┆           ┆           │\n",
      "└────────────┴────────────┴───────────┴───────────┴───┴───────────┴────────┴───────────┴───────────┘\n"
     ]
    }
   ],
   "source": [
    "# Normalize log returns\n",
    "df = df.with_columns(\n",
    "    (np.exp(pl.col(\"CumSum\")) - 1).alias(\"RetNormal\")\n",
    ")\n",
    "print(df.head())"
   ]
  },
  {
   "cell_type": "code",
   "execution_count": 24,
   "id": "38911fa4-d49f-48ab-a1b4-0619bff71343",
   "metadata": {},
   "outputs": [
    {
     "name": "stdout",
     "output_type": "stream",
     "text": [
      "shape: (3, 11)\n",
      "┌───────────┬───────────┬───────────┬───────────┬───┬───────────┬───────────┬───────────┬──────────┐\n",
      "│ Date      ┆ Open      ┆ High      ┆ Low       ┆ … ┆ Returns   ┆ LRets     ┆ CumSum    ┆ RetNorma │\n",
      "│ ---       ┆ ---       ┆ ---       ┆ ---       ┆   ┆ ---       ┆ ---       ┆ ---       ┆ l        │\n",
      "│ datetime[ ┆ f64       ┆ f64       ┆ f64       ┆   ┆ f64       ┆ f64       ┆ f64       ┆ ---      │\n",
      "│ ns]       ┆           ┆           ┆           ┆   ┆           ┆           ┆           ┆ f64      │\n",
      "╞═══════════╪═══════════╪═══════════╪═══════════╪═══╪═══════════╪═══════════╪═══════════╪══════════╡\n",
      "│ 2017-11-1 ┆ 320.67099 ┆ 324.71798 ┆ 294.54199 ┆ … ┆ -0.067411 ┆ 0.0       ┆ 0.0       ┆ 0.0      │\n",
      "│ 0         ┆           ┆ 7         ┆ 2         ┆   ┆           ┆           ┆           ┆          │\n",
      "│ 00:00:00  ┆           ┆           ┆           ┆   ┆           ┆           ┆           ┆          │\n",
      "│ 2017-11-1 ┆ 298.58599 ┆ 319.45300 ┆ 298.19198 ┆ … ┆ 0.051555  ┆ 0.0       ┆ 0.0       ┆ 0.0      │\n",
      "│ 1         ┆ 9         ┆ 3         ┆ 6         ┆   ┆           ┆           ┆           ┆          │\n",
      "│ 00:00:00  ┆           ┆           ┆           ┆   ┆           ┆           ┆           ┆          │\n",
      "│ 2017-11-1 ┆ 314.69000 ┆ 319.15301 ┆ 298.513   ┆ … ┆ -0.021523 ┆ -0.030537 ┆ -0.030537 ┆ -0.03007 │\n",
      "│ 2         ┆ 2         ┆ 5         ┆           ┆   ┆           ┆           ┆           ┆ 6        │\n",
      "│ 00:00:00  ┆           ┆           ┆           ┆   ┆           ┆           ┆           ┆          │\n",
      "└───────────┴───────────┴───────────┴───────────┴───┴───────────┴───────────┴───────────┴──────────┘\n"
     ]
    }
   ],
   "source": [
    "# Fill NA with zero\n",
    "df = df.fill_null(0)\n",
    "print(df.head(3))"
   ]
  },
  {
   "cell_type": "code",
   "execution_count": 47,
   "id": "02aef354-d487-4bde-b463-0aae731881bc",
   "metadata": {},
   "outputs": [
    {
     "name": "stdout",
     "output_type": "stream",
     "text": [
      "shape: (3, 12)\n",
      "┌────────────┬────────────┬───────────┬───────────┬───┬───────────┬────────┬───────────┬───────────┐\n",
      "│ Date       ┆ Open       ┆ High      ┆ Low       ┆ … ┆ LRets     ┆ CumSum ┆ RetNormal ┆ Log       │\n",
      "│ ---        ┆ ---        ┆ ---       ┆ ---       ┆   ┆ ---       ┆ ---    ┆ ---       ┆ Returns   │\n",
      "│ datetime[n ┆ f64        ┆ f64       ┆ f64       ┆   ┆ f64       ┆ f64    ┆ f64       ┆ ---       │\n",
      "│ s]         ┆            ┆           ┆           ┆   ┆           ┆        ┆           ┆ f64       │\n",
      "╞════════════╪════════════╪═══════════╪═══════════╪═══╪═══════════╪════════╪═══════════╪═══════════╡\n",
      "│ 2022-05-29 ┆ 1792.18444 ┆ 1818.7766 ┆ 1765.9373 ┆ … ┆ 0.027764  ┆ inf    ┆ inf       ┆ 0.027764  │\n",
      "│ 00:00:00   ┆ 8          ┆ 11        ┆ 78        ┆   ┆           ┆        ┆           ┆           │\n",
      "│ 2022-05-30 ┆ 1811.88598 ┆ 2005.2108 ┆ 1804.4560 ┆ … ┆ 0.09287   ┆ inf    ┆ inf       ┆ 0.09287   │\n",
      "│ 00:00:00   ┆ 6          ┆ 15        ┆ 55        ┆   ┆           ┆        ┆           ┆           │\n",
      "│ 2022-05-31 ┆ 1996.40808 ┆ 2005.4909 ┆ 1932.3520 ┆ … ┆ -0.040315 ┆ inf    ┆ inf       ┆ -0.040315 │\n",
      "│ 00:00:00   ┆ 1          ┆ 67        ┆ 51        ┆   ┆           ┆        ┆           ┆           │\n",
      "└────────────┴────────────┴───────────┴───────────┴───┴───────────┴────────┴───────────┴───────────┘\n"
     ]
    }
   ],
   "source": [
    "print(df.tail(3))"
   ]
  },
  {
   "cell_type": "code",
   "execution_count": 27,
   "id": "0c4e7010-01cb-4d90-9d60-7dfe8104c5a7",
   "metadata": {},
   "outputs": [
    {
     "name": "stdout",
     "output_type": "stream",
     "text": [
      "shape: (9, 12)\n",
      "┌───────────┬───────────┬───────────┬───────────┬───┬───────────┬───────────┬───────────┬──────────┐\n",
      "│ statistic ┆ Date      ┆ Open      ┆ High      ┆ … ┆ Returns   ┆ LRets     ┆ CumSum    ┆ RetNorma │\n",
      "│ ---       ┆ ---       ┆ ---       ┆ ---       ┆   ┆ ---       ┆ ---       ┆ ---       ┆ l        │\n",
      "│ str       ┆ str       ┆ f64       ┆ f64       ┆   ┆ f64       ┆ f64       ┆ f64       ┆ ---      │\n",
      "│           ┆           ┆           ┆           ┆   ┆           ┆           ┆           ┆ f64      │\n",
      "╞═══════════╪═══════════╪═══════════╪═══════════╪═══╪═══════════╪═══════════╪═══════════╪══════════╡\n",
      "│ count     ┆ 1664      ┆ 1664.0    ┆ 1664.0    ┆ … ┆ 1663.0    ┆ 1664.0    ┆ 1664.0    ┆ 1664.0   │\n",
      "│ null_coun ┆ 0         ┆ 0.0       ┆ 0.0       ┆ … ┆ 1.0       ┆ 0.0       ┆ 0.0       ┆ 0.0      │\n",
      "│ t         ┆           ┆           ┆           ┆   ┆           ┆           ┆           ┆          │\n",
      "│ mean      ┆ 2020-02-1 ┆ 1094.3970 ┆ 1130.6296 ┆ … ┆ inf       ┆ 0.000921  ┆ 0.479003  ┆ 1.667857 │\n",
      "│           ┆ 9         ┆ 87        ┆ 78        ┆   ┆           ┆           ┆           ┆          │\n",
      "│           ┆ 12:00:00  ┆           ┆           ┆   ┆           ┆           ┆           ┆          │\n",
      "│ std       ┆ null      ┆ 1255.6907 ┆ 1294.3146 ┆ … ┆ NaN       ┆ 0.052888  ┆ 0.994981  ┆ 2.699601 │\n",
      "│           ┆           ┆ 46        ┆ 46        ┆   ┆           ┆           ┆           ┆          │\n",
      "│ min       ┆ 2017-11-1 ┆ 84.279694 ┆ 85.342743 ┆ … ┆ -0.420211 ┆ -0.545092 ┆ -1.07167  ┆ -0.65756 │\n",
      "│           ┆ 0         ┆           ┆           ┆   ┆           ┆           ┆           ┆ 4        │\n",
      "│           ┆ 00:00:00  ┆           ┆           ┆   ┆           ┆           ┆           ┆          │\n",
      "│ 25%       ┆ 2018-12-3 ┆ 199.69099 ┆ 205.15100 ┆ … ┆ -0.023422 ┆ -0.023701 ┆ -0.381237 ┆ -0.31698 │\n",
      "│           ┆ 1         ┆ 4         ┆ 1         ┆   ┆           ┆           ┆           ┆ 4        │\n",
      "│           ┆ 00:00:00  ┆           ┆           ┆   ┆           ┆           ┆           ┆          │\n",
      "│ 50%       ┆ 2020-02-2 ┆ 407.34600 ┆ 418.73443 ┆ … ┆ 0.00097   ┆ 0.000941  ┆ 0.208751  ┆ 0.232138 │\n",
      "│           ┆ 0         ┆ 8         ┆ 6         ┆   ┆           ┆           ┆           ┆          │\n",
      "│           ┆ 00:00:00  ┆           ┆           ┆   ┆           ┆           ┆           ┆          │\n",
      "│ 75%       ┆ 2021-04-1 ┆ 1916.5983 ┆ 1985.3959 ┆ … ┆ 0.030073  ┆ 0.029578  ┆ 1.523354  ┆ 3.587587 │\n",
      "│           ┆ 0         ┆ 89        ┆ 96        ┆   ┆           ┆           ┆           ┆          │\n",
      "│           ┆ 00:00:00  ┆           ┆           ┆   ┆           ┆           ┆           ┆          │\n",
      "│ max       ┆ 2022-05-3 ┆ 4810.0712 ┆ 4891.7045 ┆ … ┆ inf       ┆ 0.280597  ┆ 2.335242  ┆ 9.331958 │\n",
      "│           ┆ 1         ┆ 89        ┆ 9         ┆   ┆           ┆           ┆           ┆          │\n",
      "│           ┆ 00:00:00  ┆           ┆           ┆   ┆           ┆           ┆           ┆          │\n",
      "└───────────┴───────────┴───────────┴───────────┴───┴───────────┴───────────┴───────────┴──────────┘\n"
     ]
    }
   ],
   "source": [
    "# Get descriptive statistics\n",
    "description = df.describe()\n",
    "print(description)"
   ]
  },
  {
   "cell_type": "code",
   "execution_count": null,
   "id": "977f426a-d2ec-466a-b8e4-f882388b260d",
   "metadata": {},
   "outputs": [],
   "source": []
  },
  {
   "cell_type": "code",
   "execution_count": null,
   "id": "43b6371f-a092-4b91-922c-a4f3b0abea4d",
   "metadata": {},
   "outputs": [],
   "source": []
  }
 ],
 "metadata": {
  "kernelspec": {
   "display_name": "Python 3 (ipykernel)",
   "language": "python",
   "name": "python3"
  },
  "language_info": {
   "codemirror_mode": {
    "name": "ipython",
    "version": 3
   },
   "file_extension": ".py",
   "mimetype": "text/x-python",
   "name": "python",
   "nbconvert_exporter": "python",
   "pygments_lexer": "ipython3",
   "version": "3.12.0"
  }
 },
 "nbformat": 4,
 "nbformat_minor": 5
}
